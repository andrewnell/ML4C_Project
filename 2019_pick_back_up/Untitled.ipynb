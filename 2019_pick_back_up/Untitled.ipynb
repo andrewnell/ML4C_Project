{
 "cells": [
  {
   "cell_type": "markdown",
   "metadata": {},
   "source": [
    "Conduct Exploratory Data Analysis   \n",
    "- Compare class size and school size  \n",
    "- Identify different ways to view data (elementary vs middle vs HS)  \n"
   ]
  },
  {
   "cell_type": "code",
   "execution_count": 2,
   "metadata": {},
   "outputs": [
    {
     "name": "stdout",
     "output_type": "stream",
     "text": [
      "Populating the interactive namespace from numpy and matplotlib\n"
     ]
    },
    {
     "name": "stderr",
     "output_type": "stream",
     "text": [
      "/Users/baileygriswold/anaconda3/lib/python3.6/site-packages/IPython/core/magics/pylab.py:160: UserWarning: pylab import has clobbered these variables: ['plt']\n",
      "`%matplotlib` prevents importing * from pylab and numpy\n",
      "  \"\\n`%matplotlib` prevents importing * from pylab and numpy\"\n",
      "/Users/baileygriswold/anaconda3/lib/python3.6/site-packages/statsmodels/compat/pandas.py:56: FutureWarning: The pandas.core.datetools module is deprecated and will be removed in a future version. Please use the pandas.tseries module instead.\n",
      "  from pandas.core import datetools\n"
     ]
    }
   ],
   "source": [
    "import numpy as np\n",
    "import pandas as pd\n",
    "import matplotlib as plt\n",
    "import pylab as pl\n",
    "%pylab inline\n",
    "import seaborn as sns\n",
    "\n",
    "\n",
    "import statsmodels.api as sm\n",
    "import statsmodels.formula.api as smf\n",
    "from numpy import linalg\n",
    "from sklearn.model_selection import train_test_split\n",
    "from sklearn.ensemble import RandomForestClassifier\n",
    "from sklearn.model_selection import GridSearchCV \n",
    "from sklearn.tree import ExtraTreeClassifier\n",
    "from sklearn.tree import DecisionTreeClassifier\n",
    "\n",
    "colors = ['y', 'm', 'c', 'r', 'g', 'b', 'k', 'DeepPink',\\\n",
    "          'DodgerBlue', 'Aquamarine', 'MediumSpringGreen',\\\n",
    "         'MidnightBlue', 'Gold', 'DarkSlateGray', 'LimeGreen', \\\n",
    "         'LightSeaGreen', 'Salmon', 'Indigo', 'DarkMagenta', \\\n",
    "         'Thistle', 'DeepSkyBlue', 'CadetBlue', \\\n",
    "         'BlueViolet', 'Chocolate', 'SaddleBrown', 'Maroon', \\\n",
    "         'Peru', 'DarkOrange', 'Teal', 'DarkKhaki']"
   ]
  },
  {
   "cell_type": "code",
   "execution_count": 3,
   "metadata": {
    "collapsed": true
   },
   "outputs": [],
   "source": [
    "path = '/Users/baileygriswold/Documents/Jupyter_Notebooks/Spring 2018/Machine Learning/ML4C_Project'\n",
    "data =  pd.read_csv(path+'/Schmelt_bg.csv', index_col=0)"
   ]
  },
  {
   "cell_type": "code",
   "execution_count": 14,
   "metadata": {},
   "outputs": [
    {
     "data": {
      "text/html": [
       "<div>\n",
       "<style>\n",
       "    .dataframe thead tr:only-child th {\n",
       "        text-align: right;\n",
       "    }\n",
       "\n",
       "    .dataframe thead th {\n",
       "        text-align: left;\n",
       "    }\n",
       "\n",
       "    .dataframe tbody tr th {\n",
       "        vertical-align: top;\n",
       "    }\n",
       "</style>\n",
       "<table border=\"1\" class=\"dataframe\">\n",
       "  <thead>\n",
       "    <tr style=\"text-align: right;\">\n",
       "      <th></th>\n",
       "      <th>BNLONG</th>\n",
       "      <th>variable</th>\n",
       "      <th>1996</th>\n",
       "      <th>1997</th>\n",
       "      <th>1998</th>\n",
       "      <th>1999</th>\n",
       "      <th>2000</th>\n",
       "      <th>2001</th>\n",
       "      <th>2002</th>\n",
       "      <th>2003</th>\n",
       "      <th>...</th>\n",
       "      <th>2007</th>\n",
       "      <th>2008</th>\n",
       "      <th>2009</th>\n",
       "      <th>2010</th>\n",
       "      <th>2011</th>\n",
       "      <th>2012</th>\n",
       "      <th>2013</th>\n",
       "      <th>2014</th>\n",
       "      <th>2015</th>\n",
       "      <th>2016</th>\n",
       "    </tr>\n",
       "  </thead>\n",
       "  <tbody>\n",
       "    <tr>\n",
       "      <th>0</th>\n",
       "      <td>K001</td>\n",
       "      <td>ATTPCTG01</td>\n",
       "      <td>88.76</td>\n",
       "      <td>92.53</td>\n",
       "      <td>90.76</td>\n",
       "      <td>91.04</td>\n",
       "      <td>91.62</td>\n",
       "      <td>91.57</td>\n",
       "      <td>91.88</td>\n",
       "      <td>92.76</td>\n",
       "      <td>...</td>\n",
       "      <td>93.98</td>\n",
       "      <td>93.56</td>\n",
       "      <td>94.45</td>\n",
       "      <td>93.49</td>\n",
       "      <td>93.0</td>\n",
       "      <td>94.86</td>\n",
       "      <td>94.81</td>\n",
       "      <td>93.87</td>\n",
       "      <td>95.12</td>\n",
       "      <td>95.62</td>\n",
       "    </tr>\n",
       "    <tr>\n",
       "      <th>1</th>\n",
       "      <td>K001</td>\n",
       "      <td>ATTPCTG02</td>\n",
       "      <td>91.33</td>\n",
       "      <td>91.37</td>\n",
       "      <td>92.66</td>\n",
       "      <td>92.0</td>\n",
       "      <td>92.26</td>\n",
       "      <td>93.87</td>\n",
       "      <td>92.71</td>\n",
       "      <td>93.02</td>\n",
       "      <td>...</td>\n",
       "      <td>93.16</td>\n",
       "      <td>94.99</td>\n",
       "      <td>94.87</td>\n",
       "      <td>95.46</td>\n",
       "      <td>93.83</td>\n",
       "      <td>94.68</td>\n",
       "      <td>94.86</td>\n",
       "      <td>95.12</td>\n",
       "      <td>95.38</td>\n",
       "      <td>95.55</td>\n",
       "    </tr>\n",
       "    <tr>\n",
       "      <th>2</th>\n",
       "      <td>K001</td>\n",
       "      <td>ATTPCTG03</td>\n",
       "      <td>92.43</td>\n",
       "      <td>93.11</td>\n",
       "      <td>92.36</td>\n",
       "      <td>93.55</td>\n",
       "      <td>92.9</td>\n",
       "      <td>92.77</td>\n",
       "      <td>94.14</td>\n",
       "      <td>93.56</td>\n",
       "      <td>...</td>\n",
       "      <td>94.57</td>\n",
       "      <td>94.37</td>\n",
       "      <td>95.75</td>\n",
       "      <td>95.55</td>\n",
       "      <td>95.14</td>\n",
       "      <td>95.57</td>\n",
       "      <td>95.35</td>\n",
       "      <td>95.26</td>\n",
       "      <td>95.74</td>\n",
       "      <td>96.32</td>\n",
       "    </tr>\n",
       "    <tr>\n",
       "      <th>3</th>\n",
       "      <td>K001</td>\n",
       "      <td>ATTPCTG04</td>\n",
       "      <td>92.36</td>\n",
       "      <td>93.75</td>\n",
       "      <td>92.44</td>\n",
       "      <td>91.88</td>\n",
       "      <td>93.99</td>\n",
       "      <td>93.17</td>\n",
       "      <td>92.38</td>\n",
       "      <td>94.3</td>\n",
       "      <td>...</td>\n",
       "      <td>94.0</td>\n",
       "      <td>94.81</td>\n",
       "      <td>93.66</td>\n",
       "      <td>95.5</td>\n",
       "      <td>95.65</td>\n",
       "      <td>96.35</td>\n",
       "      <td>95.85</td>\n",
       "      <td>95.16</td>\n",
       "      <td>95.67</td>\n",
       "      <td>96.5</td>\n",
       "    </tr>\n",
       "    <tr>\n",
       "      <th>4</th>\n",
       "      <td>K001</td>\n",
       "      <td>ATTPCTG05</td>\n",
       "      <td>93.04</td>\n",
       "      <td>92.92</td>\n",
       "      <td>92.61</td>\n",
       "      <td>93.2</td>\n",
       "      <td>92.07</td>\n",
       "      <td>94.12</td>\n",
       "      <td>93.25</td>\n",
       "      <td>93.45</td>\n",
       "      <td>...</td>\n",
       "      <td>94.02</td>\n",
       "      <td>94.43</td>\n",
       "      <td>95.38</td>\n",
       "      <td>94.12</td>\n",
       "      <td>95.74</td>\n",
       "      <td>95.81</td>\n",
       "      <td>96.4</td>\n",
       "      <td>94.99</td>\n",
       "      <td>95.64</td>\n",
       "      <td>95.79</td>\n",
       "    </tr>\n",
       "  </tbody>\n",
       "</table>\n",
       "<p>5 rows × 23 columns</p>\n",
       "</div>"
      ],
      "text/plain": [
       "  BNLONG   variable   1996   1997   1998   1999   2000   2001   2002   2003  \\\n",
       "0   K001  ATTPCTG01  88.76  92.53  90.76  91.04  91.62  91.57  91.88  92.76   \n",
       "1   K001  ATTPCTG02  91.33  91.37  92.66   92.0  92.26  93.87  92.71  93.02   \n",
       "2   K001  ATTPCTG03  92.43  93.11  92.36  93.55   92.9  92.77  94.14  93.56   \n",
       "3   K001  ATTPCTG04  92.36  93.75  92.44  91.88  93.99  93.17  92.38   94.3   \n",
       "4   K001  ATTPCTG05  93.04  92.92  92.61   93.2  92.07  94.12  93.25  93.45   \n",
       "\n",
       "   ...     2007   2008   2009   2010   2011   2012   2013   2014   2015   2016  \n",
       "0  ...    93.98  93.56  94.45  93.49   93.0  94.86  94.81  93.87  95.12  95.62  \n",
       "1  ...    93.16  94.99  94.87  95.46  93.83  94.68  94.86  95.12  95.38  95.55  \n",
       "2  ...    94.57  94.37  95.75  95.55  95.14  95.57  95.35  95.26  95.74  96.32  \n",
       "3  ...     94.0  94.81  93.66   95.5  95.65  96.35  95.85  95.16  95.67   96.5  \n",
       "4  ...    94.02  94.43  95.38  94.12  95.74  95.81   96.4  94.99  95.64  95.79  \n",
       "\n",
       "[5 rows x 23 columns]"
      ]
     },
     "execution_count": 14,
     "metadata": {},
     "output_type": "execute_result"
    }
   ],
   "source": [
    "data.head()"
   ]
  },
  {
   "cell_type": "code",
   "execution_count": 100,
   "metadata": {},
   "outputs": [
    {
     "data": {
      "text/plain": [
       "array(['ATTPCTG01', 'ATTPCTG02', 'ATTPCTG03', 'ATTPCTG04', 'ATTPCTG05',\n",
       "       'ATTPCTKID', 'ATTPCTPRK', 'ATTPCTTOT', 'CBO', 'CLSAVGG01',\n",
       "       'CLSAVGG02', 'CLSAVGG03', 'CLSAVGG04', 'CLSAVGGEN', 'CLSAVGKID',\n",
       "       'CLSAVGOHS', 'CLSAVGPRK', 'CLSAVGSPD', 'CLSAVGTOT', 'CLSNUMG01',\n",
       "       'CLSNUMG02', 'CLSNUMG03', 'CLSNUMG04', 'CLSNUMGEN', 'CLSNUMKID',\n",
       "       'CLSNUMOHS', 'CLSNUMPRK', 'CLSNUMSPD', 'CLSNUMTOT', 'CTMSCH', 'DBN',\n",
       "       'DMGPCTELLTOT', 'ENRNUMAFM', 'ENRNUMAFMpct', 'ENRNUMAMI',\n",
       "       'ENRNUMAMIpct', 'ENRNUMASI', 'ENRNUMASIpct', 'ENRNUMELL',\n",
       "       'ENRNUMELLpct', 'ENRNUMFEM', 'ENRNUMFEMpct', 'ENRNUMG01',\n",
       "       'ENRNUMG01pct', 'ENRNUMG02', 'ENRNUMG02pct', 'ENRNUMG03',\n",
       "       'ENRNUMG03pct', 'ENRNUMG04', 'ENRNUMG04pct', 'ENRNUMG05',\n",
       "       'ENRNUMG05pct', 'ENRNUMG06', 'ENRNUMG06pct', 'ENRNUMG07',\n",
       "       'ENRNUMG07pct', 'ENRNUMG08', 'ENRNUMG08pct', 'ENRNUMG09',\n",
       "       'ENRNUMG09pct', 'ENRNUMG10', 'ENRNUMG10pct', 'ENRNUMG11',\n",
       "       'ENRNUMG11pct', 'ENRNUMG12', 'ENRNUMG12pct', 'ENRNUMGEN',\n",
       "       'ENRNUMGENpct', 'ENRNUMHIS', 'ENRNUMHISpct', 'ENRNUMKID',\n",
       "       'ENRNUMKIDpct', 'ENRNUMMAL', 'ENRNUMMALpct', 'ENRNUMOHS',\n",
       "       'ENRNUMOHSpct', 'ENRNUMOTH', 'ENRNUMOTHpct', 'ENRNUMPOV',\n",
       "       'ENRNUMPOVpct', 'ENRNUMPRK', 'ENRNUMPRKpct', 'ENRNUMSPD',\n",
       "       'ENRNUMSPDpct', 'ENRNUMTOT', 'ENRNUMWHT', 'ENRNUMWHTpct',\n",
       "       'LCGSCHCAT', 'LCGSCHTYP', 'LCGSTAT', 'PPEXPOTPS', 'PPEXPPERS',\n",
       "       'PPEXPTOTL', 'PPEXPTOTLFN100', 'PPEXPTOTLFN200', 'PPEXPTOTLFN300',\n",
       "       'PPEXPTOTLFN350', 'PPEXPTOTLFN400', 'PPEXPTOTLGR452',\n",
       "       'PPEXPTOTLSV100', 'PPEXPTOTLSV200', 'PPEXPTOTLSV400',\n",
       "       'PPEXPTOTLSV500', 'PPEXPTOTLSV600', 'PPEXPTOTLSV625',\n",
       "       'PPEXPTOTLSV700', 'PPEXPTOTLSV725', 'PPEXPTOTLSV735',\n",
       "       'PPEXPTOTLSV750', 'PPEXPTOTLSV800', 'PPEXPTOTLTY100',\n",
       "       'SCHGRDCONFIG', 'SCHHIGRD', 'SCHLEV', 'SCHLEV5', 'SCHLOGRD',\n",
       "       'SCHNAM', 'SPECHS', 'STCELAPCTL34G03', 'STCELAPCTL34G04',\n",
       "       'STCELAPCTL34G05', 'STCELAPCTL34TOT', 'STCMTHPCTL34G03',\n",
       "       'STCMTHPCTL34G04', 'STCMTHPCTL34G05', 'STCMTHPCTL34TOT',\n",
       "       'ATTPCTG06', 'ATTPCTG07', 'ATTPCTG08', 'ATTPCTG09', 'CLSAVGG05',\n",
       "       'CLSAVGG06', 'CLSAVGG07', 'CLSNUMG05', 'CLSNUMG06', 'CLSNUMG07',\n",
       "       'STCELAPCTL34G06', 'STCELAPCTL34G07', 'STCELAPCTL34G08',\n",
       "       'STCMTHPCTL34G06', 'STCMTHPCTL34G07', 'STCMTHPCTL34G08',\n",
       "       'ATTPCTG10', 'ATTPCTG11', 'CLSAVGG08', 'CLSAVGG09', 'CLSAVGG10',\n",
       "       'CLSNUMG08', 'CLSNUMG09', 'CLSNUMG10', 'HPGG08PROF',\n",
       "       'HPGGEN10CYR1AVG', 'HPGGEN10CYR2AVG', 'HPGGEN10CYR3AVG',\n",
       "       'HPGGENREGREMAVG', 'ATTPCTG12', 'CLSAVGG11', 'CLSNUMG11',\n",
       "       'HPGPERDIP4AVG', 'HPGPERDIP6AVG', 'HSOPCTDCHTOT', 'HSOPCTDRPNYC',\n",
       "       'HSOPCTDRPTOT', 'HSOPCTHSGNYC', 'HSOPCTHSGTOT', 'HSOPCTSENNYC',\n",
       "       'HSOPCTSENTOT', 'CCDENRNUMFRL', 'CCDENRNUMFRL_normd', 'CCDNUMFTE',\n",
       "       'CCDNUMFTE_normd', 'CLSAVGG12', 'CLSNUMG12'], dtype=object)"
      ]
     },
     "execution_count": 100,
     "metadata": {},
     "output_type": "execute_result"
    }
   ],
   "source": [
    "data.variable.unique()"
   ]
  },
  {
   "cell_type": "markdown",
   "metadata": {},
   "source": [
    "*subselect 2012*  \n",
    "*go back and look at just the regular schma*\n",
    "Features of interest:\n",
    "- 'CCDNUMFTE' - CCD: CLASSROOM TEACHERS (FTE), \\_normd' normed by students\n",
    "- 'ENRNUMAFM' -- ENROLLMENT: NUMBER BLACK 4804 'ENRNUMAFMpct'\n",
    "- 'ENRNUMASI' -- ENROLLMENT: NUMBER ASIAN 4804\n",
    "- 'ENRNUMHIS' -- ENROLLMENT: NUMBER HISPANIC('ENRNUMHISpct')\n",
    "- 'ENRNUMTOT' -- ENROLLMENT: TOTAL 0\n",
    "- 'ENRNUMWHT' - ENROLLMENT: NUMBER WHITE ('ENRNUMWHTpct')"
   ]
  },
  {
   "cell_type": "code",
   "execution_count": 4,
   "metadata": {
    "collapsed": true
   },
   "outputs": [],
   "source": [
    "#subset just 2012\n",
    "df = data[['BNLONG', 'variable', '2012']]\n",
    "#reshape data\n",
    "df_2 = df.pivot(index='BNLONG', columns='variable', values='2012')\n",
    "#impute nans\n",
    "df_2.fillna(10000, inplace=True)"
   ]
  },
  {
   "cell_type": "code",
   "execution_count": 5,
   "metadata": {
    "collapsed": true
   },
   "outputs": [],
   "source": [
    "df_2['CCDNUMFTE'] = pd.to_numeric(df_2['CCDNUMFTE'])"
   ]
  },
  {
   "cell_type": "code",
   "execution_count": 6,
   "metadata": {
    "scrolled": true
   },
   "outputs": [
    {
     "data": {
      "text/plain": [
       "<matplotlib.text.Text at 0x1039b7f60>"
      ]
     },
     "execution_count": 6,
     "metadata": {},
     "output_type": "execute_result"
    },
    {
     "data": {
      "image/png": "[encoded data removed]",
      "text/plain": [
       "<matplotlib.figure.Figure at 0x1c15286cf8>"
      ]
     },
     "metadata": {},
     "output_type": "display_data"
    }
   ],
   "source": [
    "#change data type to float \n",
    "df_2['CCDNUMFTE'] = pd.to_numeric(df_2['CCDNUMFTE'])\n",
    "#plot histogram\n",
    "df_2['CCDNUMFTE'].hist(bins=1000)\n",
    "plt.xlim(0,200)\n",
    "plt.ylim(0,300)\n",
    "plt.title('CCDNUMFTE: CCD: CLASSROOM TEACHERS (FTE), 2012')"
   ]
  },
  {
   "cell_type": "code",
   "execution_count": 7,
   "metadata": {
    "scrolled": true
   },
   "outputs": [
    {
     "data": {
      "text/plain": [
       "<matplotlib.text.Text at 0x1c0fad0748>"
      ]
     },
     "execution_count": 7,
     "metadata": {},
     "output_type": "execute_result"
    },
    {
     "data": {
      "image/png": "[encoded data removed]",
      "text/plain": [
       "<matplotlib.figure.Figure at 0x1c15286320>"
      ]
     },
     "metadata": {},
     "output_type": "display_data"
    }
   ],
   "source": [
    "df_2['CLSAVGTOT'] = pd.to_numeric(df_2['CLSAVGTOT'])\n",
    "df_2['CLSAVGTOT'].hist(bins=10000)\n",
    "plt.xlim(0,50)\n",
    "plt.ylim(0,120)\n",
    "plt.title('CLSAVGTOT: average number of students per class for each grade, 2012')"
   ]
  },
  {
   "cell_type": "code",
   "execution_count": 8,
   "metadata": {
    "scrolled": true
   },
   "outputs": [
    {
     "data": {
      "text/plain": [
       "<matplotlib.text.Text at 0x1c2a5b6208>"
      ]
     },
     "execution_count": 8,
     "metadata": {},
     "output_type": "execute_result"
    },
    {
     "data": {
      "image/png": "[encoded data removed]",
      "text/plain": [
       "<matplotlib.figure.Figure at 0x1c2a5b90f0>"
      ]
     },
     "metadata": {},
     "output_type": "display_data"
    }
   ],
   "source": [
    "df_2['CLSNUMTOT'] = pd.to_numeric(df_2['CLSNUMTOT'])\n",
    "df_2['CLSNUMTOT'].hist(bins=10000)\n",
    "plt.xlim(0,100)\n",
    "plt.ylim(0,60)\n",
    "plt.title('CLSNUMTOT: Number of classes per grade, 2012')"
   ]
  },
  {
   "cell_type": "code",
   "execution_count": 9,
   "metadata": {
    "scrolled": true
   },
   "outputs": [
    {
     "data": {
      "text/plain": [
       "<matplotlib.text.Text at 0x1c3611eef0>"
      ]
     },
     "execution_count": 9,
     "metadata": {},
     "output_type": "execute_result"
    },
    {
     "data": {
      "image/png": "[encoded data removed]",
      "text/plain": [
       "<matplotlib.figure.Figure at 0x1c2a9086a0>"
      ]
     },
     "metadata": {},
     "output_type": "display_data"
    }
   ],
   "source": [
    "df_2['ENRNUMTOT'] = pd.to_numeric(df_2['ENRNUMTOT'])\n",
    "df_2['ENRNUMTOT'].hist(bins=200)\n",
    "plt.xlim(0,2000)\n",
    "plt.ylim(0,150)\n",
    "plt.title('ENRNUMTOT: Total Enrollment, 2012')"
   ]
  },
  {
   "cell_type": "code",
   "execution_count": 10,
   "metadata": {},
   "outputs": [
    {
     "data": {
      "text/plain": [
       "<matplotlib.text.Text at 0x1c368514a8>"
      ]
     },
     "execution_count": 10,
     "metadata": {},
     "output_type": "execute_result"
    },
    {
     "data": {
      "image/png": "[encoded data removed]",
      "text/plain": [
       "<matplotlib.figure.Figure at 0x1043eb080>"
      ]
     },
     "metadata": {},
     "output_type": "display_data"
    }
   ],
   "source": [
    "df_2['ENRNUMAFMpct'] = pd.to_numeric(df_2['ENRNUMAFMpct'])\n",
    "df_2['ENRNUMAFMpct'].hist(bins=5000)\n",
    "plt.xlim(0,100)\n",
    "plt.ylim(0,150)\n",
    "plt.title('ENRNUMAFMpct: pct Black Studnets, 2012')"
   ]
  },
  {
   "cell_type": "markdown",
   "metadata": {},
   "source": [
    "Compare Class Size and Enrollment"
   ]
  },
  {
   "cell_type": "code",
   "execution_count": 11,
   "metadata": {},
   "outputs": [
    {
     "data": {
      "text/plain": [
       "<matplotlib.text.Text at 0x1c3696ebe0>"
      ]
     },
     "execution_count": 11,
     "metadata": {},
     "output_type": "execute_result"
    },
    {
     "data": {
      "image/png": "[encoded data removed]",
      "text/plain": [
       "<matplotlib.figure.Figure at 0x1c3c663c88>"
      ]
     },
     "metadata": {},
     "output_type": "display_data"
    }
   ],
   "source": [
    "plt.plot(df_2['ENRNUMTOT'], df_2['CLSAVGTOT'], 'o' ,alpha=.2)\n",
    "plt.ylim(0, 200)\n",
    "plt.xlim(0,4000)\n",
    "plt.ylabel('Average Class Size')\n",
    "plt.xlabel('Total Enrollment')"
   ]
  },
  {
   "cell_type": "markdown",
   "metadata": {},
   "source": [
    "Graph -- univariate of total enrollment, with average class size plotted along the bins"
   ]
  },
  {
   "cell_type": "code",
   "execution_count": 52,
   "metadata": {},
   "outputs": [],
   "source": [
    "enroll_bin_counts = np.bincount(df_2['ENRNUMTOT'])"
   ]
  },
  {
   "cell_type": "code",
   "execution_count": 34,
   "metadata": {
    "collapsed": true
   },
   "outputs": [],
   "source": [
    "enroll_bins = np.arange(10001)"
   ]
  },
  {
   "cell_type": "code",
   "execution_count": 37,
   "metadata": {},
   "outputs": [
    {
     "data": {
      "text/plain": [
       "10001"
      ]
     },
     "execution_count": 37,
     "metadata": {},
     "output_type": "execute_result"
    }
   ],
   "source": [
    "len(enroll_bin_counts)"
   ]
  },
  {
   "cell_type": "code",
   "execution_count": 38,
   "metadata": {},
   "outputs": [
    {
     "data": {
      "text/plain": [
       "10001"
      ]
     },
     "execution_count": 38,
     "metadata": {},
     "output_type": "execute_result"
    }
   ],
   "source": [
    "len(enroll_bins)"
   ]
  },
  {
   "cell_type": "code",
   "execution_count": 30,
   "metadata": {},
   "outputs": [
    {
     "data": {
      "text/plain": [
       "9958"
      ]
     },
     "execution_count": 30,
     "metadata": {},
     "output_type": "execute_result"
    }
   ],
   "source": [
    "len(enroll_bin_counts[enroll_bin_counts < 5])"
   ]
  },
  {
   "cell_type": "code",
   "execution_count": 33,
   "metadata": {},
   "outputs": [
    {
     "data": {
      "text/plain": [
       "863"
      ]
     },
     "execution_count": 33,
     "metadata": {},
     "output_type": "execute_result"
    }
   ],
   "source": [
    "len(enroll_bin_counts[enroll_bin_counts > 0])"
   ]
  },
  {
   "cell_type": "code",
   "execution_count": 32,
   "metadata": {},
   "outputs": [
    {
     "data": {
      "text/plain": [
       "43"
      ]
     },
     "execution_count": 32,
     "metadata": {},
     "output_type": "execute_result"
    }
   ],
   "source": [
    "len(enroll_bin_counts[enroll_bin_counts >= 5])"
   ]
  },
  {
   "cell_type": "code",
   "execution_count": 49,
   "metadata": {},
   "outputs": [
    {
     "data": {
      "text/plain": [
       "nan"
      ]
     },
     "execution_count": 49,
     "metadata": {},
     "output_type": "execute_result"
    }
   ],
   "source": [
    "df_2[df_2['ENRNUMTOT'] == enroll_bins[4]]['CLSAVGTOT'].mean()"
   ]
  },
  {
   "cell_type": "code",
   "execution_count": 50,
   "metadata": {
    "collapsed": true
   },
   "outputs": [],
   "source": [
    "#get average class size per bin\n",
    "avg_class_bin_mn = []\n",
    "for bin_val in enroll_bins:\n",
    "    avg_class_bin_mn.append(df_2[df_2['ENRNUMTOT'] == enroll_bins[bin_val]]['CLSAVGTOT'].mean())"
   ]
  },
  {
   "cell_type": "code",
   "execution_count": 71,
   "metadata": {},
   "outputs": [
    {
     "data": {
      "text/plain": [
       "[<matplotlib.lines.Line2D at 0x1c904b05c0>]"
      ]
     },
     "execution_count": 71,
     "metadata": {},
     "output_type": "execute_result"
    },
    {
     "data": {
      "image/png": "[encoded data removed]",
      "text/plain": [
       "<matplotlib.figure.Figure at 0x1c904ccf60>"
      ]
     },
     "metadata": {},
     "output_type": "display_data"
    }
   ],
   "source": [
    "fig, ax = plt.subplots()\n",
    "ax.bar(enroll_bins, enroll_bin_counts)\n",
    "ax2 = ax.twinx()\n",
    "ax2.plot(enroll_bins, avg_class_bin_mn, '.')"
   ]
  },
  {
   "cell_type": "code",
   "execution_count": null,
   "metadata": {
    "collapsed": true
   },
   "outputs": [],
   "source": []
  }
 ],
 "metadata": {
  "kernelspec": {
   "display_name": "Python 3",
   "language": "python",
   "name": "python3"
  },
  "language_info": {
   "codemirror_mode": {
    "name": "ipython",
    "version": 3
   },
   "file_extension": ".py",
   "mimetype": "text/x-python",
   "name": "python",
   "nbconvert_exporter": "python",
   "pygments_lexer": "ipython3",
   "version": "3.6.2"
  }
 },
 "nbformat": 4,
 "nbformat_minor": 2
}
