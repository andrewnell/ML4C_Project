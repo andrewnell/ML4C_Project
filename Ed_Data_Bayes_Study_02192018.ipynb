{
 "cells": [
  {
   "cell_type": "code",
   "execution_count": 2,
   "metadata": {},
   "outputs": [
    {
     "name": "stdout",
     "output_type": "stream",
     "text": [
      "Populating the interactive namespace from numpy and matplotlib\n"
     ]
    },
    {
     "name": "stderr",
     "output_type": "stream",
     "text": [
      "/Users/baileygriswold/anaconda3/lib/python3.6/site-packages/IPython/core/magics/pylab.py:160: UserWarning: pylab import has clobbered these variables: ['plt']\n",
      "`%matplotlib` prevents importing * from pylab and numpy\n",
      "  \"\\n`%matplotlib` prevents importing * from pylab and numpy\"\n"
     ]
    }
   ],
   "source": [
    "import pandas as pd\n",
    "import numpy as np\n",
    "import matplotlib as plt\n",
    "import pylab as pl\n",
    "%pylab inline"
   ]
  },
  {
   "cell_type": "markdown",
   "metadata": {},
   "source": [
    "*** Load Quality Review Data ***"
   ]
  },
  {
   "cell_type": "markdown",
   "metadata": {},
   "source": [
    "![Alt text](./QR_Ratings.png)"
   ]
  },
  {
   "cell_type": "code",
   "execution_count": 3,
   "metadata": {
    "collapsed": true
   },
   "outputs": [],
   "source": [
    "ratings = {'O':5, 'WD': 5, 'P':4, 'D':3, 'UPF': 2, 'U':1, 'UD':1}"
   ]
  },
  {
   "cell_type": "code",
   "execution_count": 4,
   "metadata": {},
   "outputs": [],
   "source": [
    "df_qr = pd.read_excel('./data/QualityReviewRatings_20052017.xlsx')\n",
    "df_qr.reset_index(inplace=True)\n",
    "df_qr.rename(columns=(df_qr.loc[6]), inplace = True)\n",
    "df_qr = df_qr[7:]\n",
    "df_qr.drop(['QS1_1', 'QS1_2', 'QS1_3',\n",
    "       'QS1_4', 'QS1_5', 'QS1_6', 'QS1_7', 'QS2_1', 'QS2_2',\n",
    "       'QS2_3', 'QS2_4', 'QS2_5', 'QS2_6', 'QS2_7', 'QS3_1',\n",
    "       'QS3_2', 'QS3_3', 'QS3_4', 'QS3_5', 'QS3_6', 'QS3_7', 'QS3_8',\n",
    "       'QS4_1', 'QS4_2', 'QS4_3', 'QS4_4', 'QS4_5', 'QS4_6',\n",
    "       'QS4_7',  'QS5_1', 'QS5_2', 'QS5_3', 'QS5_4', 'QS5_5',\n",
    "       'QS5_6', 'QS5_7'],axis=1, inplace=True)\n",
    "df_qr['Year'] = [int('20'+ x[-2:]) for x in df_qr['SchYR']]"
   ]
  },
  {
   "cell_type": "code",
   "execution_count": 5,
   "metadata": {
    "collapsed": true
   },
   "outputs": [],
   "source": [
    "df_qr_nu = pd.DataFrame(df_qr.BN.unique())\n",
    "df_qr_nu.rename(columns={0:'BN'}, inplace=True)\n",
    "\n",
    "for yr in df_qr['Year'].unique():\n",
    "    df_qr_nu = pd.merge(df_qr_nu, df_qr[(df_qr['Year'] == yr)][['BN','Overall']], on='BN', how='outer')\n",
    "    df_qr_nu.rename(columns={'Overall':'Overall'+str(yr)}, inplace=True)"
   ]
  },
  {
   "cell_type": "code",
   "execution_count": 6,
   "metadata": {},
   "outputs": [
    {
     "data": {
      "text/html": [
       "<div>\n",
       "<style>\n",
       "    .dataframe thead tr:only-child th {\n",
       "        text-align: right;\n",
       "    }\n",
       "\n",
       "    .dataframe thead th {\n",
       "        text-align: left;\n",
       "    }\n",
       "\n",
       "    .dataframe tbody tr th {\n",
       "        vertical-align: top;\n",
       "    }\n",
       "</style>\n",
       "<table border=\"1\" class=\"dataframe\">\n",
       "  <thead>\n",
       "    <tr style=\"text-align: right;\">\n",
       "      <th></th>\n",
       "      <th>BN</th>\n",
       "      <th>Overall2006</th>\n",
       "      <th>Overall2007</th>\n",
       "      <th>Overall2008</th>\n",
       "      <th>Overall2009</th>\n",
       "      <th>Overall2010</th>\n",
       "      <th>Overall2011</th>\n",
       "      <th>Overall2012</th>\n",
       "      <th>Overall2013</th>\n",
       "      <th>Overall2014</th>\n",
       "      <th>Overall2015</th>\n",
       "      <th>Overall2016</th>\n",
       "      <th>Overall2017</th>\n",
       "    </tr>\n",
       "  </thead>\n",
       "  <tbody>\n",
       "    <tr>\n",
       "      <th>0</th>\n",
       "      <td>M307</td>\n",
       "      <td>P</td>\n",
       "      <td>NaN</td>\n",
       "      <td>WD</td>\n",
       "      <td>NaN</td>\n",
       "      <td>P</td>\n",
       "      <td>NaN</td>\n",
       "      <td>NaN</td>\n",
       "      <td>NaN</td>\n",
       "      <td>P</td>\n",
       "      <td>NaN</td>\n",
       "      <td>NaN</td>\n",
       "      <td>NaN</td>\n",
       "    </tr>\n",
       "    <tr>\n",
       "      <th>1</th>\n",
       "      <td>M459</td>\n",
       "      <td>P</td>\n",
       "      <td>DYO</td>\n",
       "      <td>P</td>\n",
       "      <td>NaN</td>\n",
       "      <td>NaN</td>\n",
       "      <td>NaN</td>\n",
       "      <td>P</td>\n",
       "      <td>NaN</td>\n",
       "      <td>NaN</td>\n",
       "      <td>NaN</td>\n",
       "      <td>NaN</td>\n",
       "      <td>NaN</td>\n",
       "    </tr>\n",
       "    <tr>\n",
       "      <th>2</th>\n",
       "      <td>M560</td>\n",
       "      <td>WD</td>\n",
       "      <td>DYO</td>\n",
       "      <td>WD</td>\n",
       "      <td>NaN</td>\n",
       "      <td>WD</td>\n",
       "      <td>NaN</td>\n",
       "      <td>NaN</td>\n",
       "      <td>NaN</td>\n",
       "      <td>P</td>\n",
       "      <td>NaN</td>\n",
       "      <td>NaN</td>\n",
       "      <td>NaN</td>\n",
       "    </tr>\n",
       "    <tr>\n",
       "      <th>3</th>\n",
       "      <td>M294</td>\n",
       "      <td>WD</td>\n",
       "      <td>DYO</td>\n",
       "      <td>WD</td>\n",
       "      <td>NaN</td>\n",
       "      <td>NaN</td>\n",
       "      <td>NaN</td>\n",
       "      <td>NaN</td>\n",
       "      <td>NaN</td>\n",
       "      <td>P</td>\n",
       "      <td>NaN</td>\n",
       "      <td>NaN</td>\n",
       "      <td>NaN</td>\n",
       "    </tr>\n",
       "    <tr>\n",
       "      <th>4</th>\n",
       "      <td>M299</td>\n",
       "      <td>P</td>\n",
       "      <td>NaN</td>\n",
       "      <td>P</td>\n",
       "      <td>UPF</td>\n",
       "      <td>P</td>\n",
       "      <td>NaN</td>\n",
       "      <td>NaN</td>\n",
       "      <td>NaN</td>\n",
       "      <td>P</td>\n",
       "      <td>NaN</td>\n",
       "      <td>NaN</td>\n",
       "      <td>NaN</td>\n",
       "    </tr>\n",
       "  </tbody>\n",
       "</table>\n",
       "</div>"
      ],
      "text/plain": [
       "     BN Overall2006 Overall2007 Overall2008 Overall2009 Overall2010  \\\n",
       "0  M307           P         NaN          WD         NaN           P   \n",
       "1  M459           P         DYO           P         NaN         NaN   \n",
       "2  M560          WD         DYO          WD         NaN          WD   \n",
       "3  M294          WD         DYO          WD         NaN         NaN   \n",
       "4  M299           P         NaN           P         UPF           P   \n",
       "\n",
       "  Overall2011 Overall2012 Overall2013 Overall2014 Overall2015 Overall2016  \\\n",
       "0         NaN         NaN         NaN           P         NaN         NaN   \n",
       "1         NaN           P         NaN         NaN         NaN         NaN   \n",
       "2         NaN         NaN         NaN           P         NaN         NaN   \n",
       "3         NaN         NaN         NaN           P         NaN         NaN   \n",
       "4         NaN         NaN         NaN           P         NaN         NaN   \n",
       "\n",
       "  Overall2017  \n",
       "0         NaN  \n",
       "1         NaN  \n",
       "2         NaN  \n",
       "3         NaN  \n",
       "4         NaN  "
      ]
     },
     "execution_count": 6,
     "metadata": {},
     "output_type": "execute_result"
    }
   ],
   "source": [
    "df_qr_nu.head()"
   ]
  },
  {
   "cell_type": "code",
   "execution_count": 7,
   "metadata": {
    "collapsed": true
   },
   "outputs": [],
   "source": [
    "df_qr_nu['Avg_rating'] = df_qr_nu.replace(ratings).mean(axis=1)"
   ]
  },
  {
   "cell_type": "markdown",
   "metadata": {},
   "source": [
    "*** Load in School Quality Review Reports *** "
   ]
  },
  {
   "cell_type": "code",
   "execution_count": 8,
   "metadata": {},
   "outputs": [
    {
     "data": {
      "text/html": [
       "<div>\n",
       "<style>\n",
       "    .dataframe thead tr:only-child th {\n",
       "        text-align: right;\n",
       "    }\n",
       "\n",
       "    .dataframe thead th {\n",
       "        text-align: left;\n",
       "    }\n",
       "\n",
       "    .dataframe tbody tr th {\n",
       "        vertical-align: top;\n",
       "    }\n",
       "</style>\n",
       "<table border=\"1\" class=\"dataframe\">\n",
       "  <thead>\n",
       "    <tr style=\"text-align: right;\">\n",
       "      <th></th>\n",
       "      <th>DBN</th>\n",
       "      <th>School Name</th>\n",
       "      <th>School Type</th>\n",
       "      <th>Enrollment</th>\n",
       "      <th>Rigorous Instruction Rating</th>\n",
       "      <th>Collaborative Teachers Rating</th>\n",
       "      <th>Supportive Environment Rating</th>\n",
       "      <th>Effective School Leadership Rating</th>\n",
       "      <th>Strong Family-Community Ties Rating</th>\n",
       "      <th>Trust Rating</th>\n",
       "      <th>...</th>\n",
       "      <th>Percent Asian</th>\n",
       "      <th>Percent Black</th>\n",
       "      <th>Percent Hispanic</th>\n",
       "      <th>Percent White</th>\n",
       "      <th>Years of principal experience at this school</th>\n",
       "      <th>Percent of teachers with 3 or more years of experience</th>\n",
       "      <th>Student Attendance Rate</th>\n",
       "      <th>Percent of Students Chronically Absent</th>\n",
       "      <th>Teacher Attendance Rate</th>\n",
       "      <th>BN</th>\n",
       "    </tr>\n",
       "  </thead>\n",
       "  <tbody>\n",
       "    <tr>\n",
       "      <th>0</th>\n",
       "      <td>01M015</td>\n",
       "      <td>P.S. 015 Roberto Clemente</td>\n",
       "      <td>Elementary</td>\n",
       "      <td>161</td>\n",
       "      <td>Exceeding Target</td>\n",
       "      <td>Exceeding Target</td>\n",
       "      <td>Exceeding Target</td>\n",
       "      <td>Exceeding Target</td>\n",
       "      <td>Meeting Target</td>\n",
       "      <td>Exceeding Target</td>\n",
       "      <td>...</td>\n",
       "      <td>0.068</td>\n",
       "      <td>0.298</td>\n",
       "      <td>0.584</td>\n",
       "      <td>0.025</td>\n",
       "      <td>6.8</td>\n",
       "      <td>0.625</td>\n",
       "      <td>0.938</td>\n",
       "      <td>0.215</td>\n",
       "      <td>0.982</td>\n",
       "      <td>M015</td>\n",
       "    </tr>\n",
       "    <tr>\n",
       "      <th>1</th>\n",
       "      <td>01M019</td>\n",
       "      <td>P.S. 019 Asher Levy</td>\n",
       "      <td>Elementary</td>\n",
       "      <td>247</td>\n",
       "      <td>Exceeding Target</td>\n",
       "      <td>Exceeding Target</td>\n",
       "      <td>Meeting Target</td>\n",
       "      <td>Exceeding Target</td>\n",
       "      <td>Meeting Target</td>\n",
       "      <td>Meeting Target</td>\n",
       "      <td>...</td>\n",
       "      <td>0.077</td>\n",
       "      <td>0.202</td>\n",
       "      <td>0.664</td>\n",
       "      <td>0.053</td>\n",
       "      <td>7.8</td>\n",
       "      <td>0.805</td>\n",
       "      <td>0.910</td>\n",
       "      <td>0.324</td>\n",
       "      <td>0.972</td>\n",
       "      <td>M019</td>\n",
       "    </tr>\n",
       "    <tr>\n",
       "      <th>2</th>\n",
       "      <td>01M020</td>\n",
       "      <td>P.S. 020 Anna Silver</td>\n",
       "      <td>Elementary</td>\n",
       "      <td>499</td>\n",
       "      <td>Not Meeting Target</td>\n",
       "      <td>Approaching Target</td>\n",
       "      <td>Approaching Target</td>\n",
       "      <td>Meeting Target</td>\n",
       "      <td>Approaching Target</td>\n",
       "      <td>Approaching Target</td>\n",
       "      <td>...</td>\n",
       "      <td>0.329</td>\n",
       "      <td>0.098</td>\n",
       "      <td>0.491</td>\n",
       "      <td>0.042</td>\n",
       "      <td>0.8</td>\n",
       "      <td>0.600</td>\n",
       "      <td>0.929</td>\n",
       "      <td>0.256</td>\n",
       "      <td>0.962</td>\n",
       "      <td>M020</td>\n",
       "    </tr>\n",
       "    <tr>\n",
       "      <th>3</th>\n",
       "      <td>01M034</td>\n",
       "      <td>P.S. 034 Franklin D. Roosevelt</td>\n",
       "      <td>K-8</td>\n",
       "      <td>337</td>\n",
       "      <td>Approaching Target</td>\n",
       "      <td>Approaching Target</td>\n",
       "      <td>Approaching Target</td>\n",
       "      <td>Approaching Target</td>\n",
       "      <td>Approaching Target</td>\n",
       "      <td>Approaching Target</td>\n",
       "      <td>...</td>\n",
       "      <td>0.053</td>\n",
       "      <td>0.297</td>\n",
       "      <td>0.614</td>\n",
       "      <td>0.030</td>\n",
       "      <td>0.7</td>\n",
       "      <td>0.732</td>\n",
       "      <td>0.912</td>\n",
       "      <td>0.305</td>\n",
       "      <td>0.972</td>\n",
       "      <td>M034</td>\n",
       "    </tr>\n",
       "    <tr>\n",
       "      <th>4</th>\n",
       "      <td>01M063</td>\n",
       "      <td>The STAR Academy - P.S.63</td>\n",
       "      <td>Elementary</td>\n",
       "      <td>178</td>\n",
       "      <td>Exceeding Target</td>\n",
       "      <td>Exceeding Target</td>\n",
       "      <td>Meeting Target</td>\n",
       "      <td>Exceeding Target</td>\n",
       "      <td>Meeting Target</td>\n",
       "      <td>Meeting Target</td>\n",
       "      <td>...</td>\n",
       "      <td>0.039</td>\n",
       "      <td>0.191</td>\n",
       "      <td>0.646</td>\n",
       "      <td>0.101</td>\n",
       "      <td>9.9</td>\n",
       "      <td>0.500</td>\n",
       "      <td>0.931</td>\n",
       "      <td>0.251</td>\n",
       "      <td>0.973</td>\n",
       "      <td>M063</td>\n",
       "    </tr>\n",
       "  </tbody>\n",
       "</table>\n",
       "<p>5 rows × 46 columns</p>\n",
       "</div>"
      ],
      "text/plain": [
       "      DBN                     School Name School Type  Enrollment  \\\n",
       "0  01M015       P.S. 015 Roberto Clemente  Elementary         161   \n",
       "1  01M019             P.S. 019 Asher Levy  Elementary         247   \n",
       "2  01M020            P.S. 020 Anna Silver  Elementary         499   \n",
       "3  01M034  P.S. 034 Franklin D. Roosevelt         K-8         337   \n",
       "4  01M063       The STAR Academy - P.S.63  Elementary         178   \n",
       "\n",
       "  Rigorous Instruction Rating Collaborative Teachers Rating  \\\n",
       "0            Exceeding Target              Exceeding Target   \n",
       "1            Exceeding Target              Exceeding Target   \n",
       "2          Not Meeting Target            Approaching Target   \n",
       "3          Approaching Target            Approaching Target   \n",
       "4            Exceeding Target              Exceeding Target   \n",
       "\n",
       "  Supportive Environment Rating Effective School Leadership Rating  \\\n",
       "0              Exceeding Target                   Exceeding Target   \n",
       "1                Meeting Target                   Exceeding Target   \n",
       "2            Approaching Target                     Meeting Target   \n",
       "3            Approaching Target                 Approaching Target   \n",
       "4                Meeting Target                   Exceeding Target   \n",
       "\n",
       "  Strong Family-Community Ties Rating        Trust Rating  ...  Percent Asian  \\\n",
       "0                      Meeting Target    Exceeding Target  ...          0.068   \n",
       "1                      Meeting Target      Meeting Target  ...          0.077   \n",
       "2                  Approaching Target  Approaching Target  ...          0.329   \n",
       "3                  Approaching Target  Approaching Target  ...          0.053   \n",
       "4                      Meeting Target      Meeting Target  ...          0.039   \n",
       "\n",
       "   Percent Black  Percent Hispanic  Percent White  \\\n",
       "0          0.298             0.584          0.025   \n",
       "1          0.202             0.664          0.053   \n",
       "2          0.098             0.491          0.042   \n",
       "3          0.297             0.614          0.030   \n",
       "4          0.191             0.646          0.101   \n",
       "\n",
       "   Years of principal experience at this school  \\\n",
       "0                                           6.8   \n",
       "1                                           7.8   \n",
       "2                                           0.8   \n",
       "3                                           0.7   \n",
       "4                                           9.9   \n",
       "\n",
       "   Percent of teachers with 3 or more years of experience  \\\n",
       "0                                              0.625        \n",
       "1                                              0.805        \n",
       "2                                              0.600        \n",
       "3                                              0.732        \n",
       "4                                              0.500        \n",
       "\n",
       "   Student Attendance Rate Percent of Students Chronically Absent  \\\n",
       "0                    0.938                                  0.215   \n",
       "1                    0.910                                  0.324   \n",
       "2                    0.929                                  0.256   \n",
       "3                    0.912                                  0.305   \n",
       "4                    0.931                                  0.251   \n",
       "\n",
       "  Teacher Attendance Rate    BN  \n",
       "0                   0.982  M015  \n",
       "1                   0.972  M019  \n",
       "2                   0.962  M020  \n",
       "3                   0.972  M034  \n",
       "4                   0.973  M063  \n",
       "\n",
       "[5 rows x 46 columns]"
      ]
     },
     "execution_count": 8,
     "metadata": {},
     "output_type": "execute_result"
    }
   ],
   "source": [
    "df_sqr = pd.read_excel('./data/2016_2017_EMS_SQR_Results.xlsx')\n",
    "df_sqr['BN'] = [x[2:6] for x in df_sqr.DBN]\n",
    "df_sqr.head()"
   ]
  },
  {
   "cell_type": "code",
   "execution_count": 9,
   "metadata": {},
   "outputs": [
    {
     "data": {
      "text/plain": [
       "['DBN',\n",
       " 'School Name',\n",
       " 'School Type',\n",
       " 'Enrollment',\n",
       " 'Rigorous Instruction Rating',\n",
       " 'Collaborative Teachers Rating',\n",
       " 'Supportive Environment Rating',\n",
       " 'Effective School Leadership Rating',\n",
       " 'Strong Family-Community Ties Rating',\n",
       " 'Trust Rating',\n",
       " 'Student Achievement Rating',\n",
       " 'Rigorous Instruction - Percent Positive',\n",
       " 'Collaborative Teachers - Percent Positive',\n",
       " 'Supportive Environment - Percent Positive',\n",
       " 'Effective School Leadership - Percent Positive',\n",
       " 'Strong Family-Community Ties - Percent Positive',\n",
       " 'Trust - Percent Positive',\n",
       " 'Quality Review - How interesting and challenging is the curriculum?',\n",
       " 'Quality Review - How effective is the teaching and learning?',\n",
       " 'Quality Review - How well does the school assess what students are learning?',\n",
       " 'Quality Review - How clearly are high expectations communicated to students and staff?',\n",
       " 'Quality Review - How well do teachers work with each other?',\n",
       " 'Quality Review - How safe and inclusive is the school while supporting social-emotional growth?',\n",
       " 'Quality Review - How well does the school allocate and manage resources?',\n",
       " 'Quality Review - How well does the school identify, track, and meet its goals?',\n",
       " 'Quality Review - How thoughtful is the school’s approach to teacher development and evaluation?',\n",
       " 'Quality Review - How well are school decisions evaluated and adjusted?',\n",
       " 'Quality Review - Dates of Review',\n",
       " 'Average Incoming ELA Proficiency (Based on 4th Grade)',\n",
       " 'Average Incoming Math Proficiency (Based on 4th Grade)',\n",
       " 'Percent English Language Learners',\n",
       " 'Percent Students with Disabilities',\n",
       " 'Percent Self-Contained',\n",
       " 'Economic Need Index',\n",
       " 'Percent in Temp Housing',\n",
       " 'Percent HRA Eligible',\n",
       " 'Percent Asian',\n",
       " 'Percent Black',\n",
       " 'Percent Hispanic',\n",
       " 'Percent White',\n",
       " 'Years of principal experience at this school',\n",
       " 'Percent of teachers with 3 or more years of experience',\n",
       " 'Student Attendance Rate',\n",
       " 'Percent of Students Chronically Absent',\n",
       " 'Teacher Attendance Rate',\n",
       " 'BN']"
      ]
     },
     "execution_count": 9,
     "metadata": {},
     "output_type": "execute_result"
    }
   ],
   "source": [
    "list(df_sqr)"
   ]
  },
  {
   "cell_type": "markdown",
   "metadata": {},
   "source": [
    "*** Merge average rating onto QR data ***"
   ]
  },
  {
   "cell_type": "code",
   "execution_count": 10,
   "metadata": {
    "collapsed": true
   },
   "outputs": [],
   "source": [
    "inv_rat = {v: k for k, v in ratings.items()}"
   ]
  },
  {
   "cell_type": "code",
   "execution_count": 11,
   "metadata": {
    "collapsed": true
   },
   "outputs": [],
   "source": [
    "df_tmp = df_qr_nu[['BN','Avg_rating']].dropna()\n",
    "df_tmp['Avg_rating'] = [int(x) for x in df_tmp['Avg_rating']]\n",
    "df_tmp.replace(inv_rat, inplace=True)\n",
    "\n",
    "df_rat = pd.merge(df_tmp, df_sqr, on='BN', how='inner')"
   ]
  },
  {
   "cell_type": "code",
   "execution_count": 12,
   "metadata": {},
   "outputs": [
    {
     "data": {
      "text/plain": [
       "<matplotlib.axes._subplots.AxesSubplot at 0x10fbe4550>"
      ]
     },
     "execution_count": 12,
     "metadata": {},
     "output_type": "execute_result"
    },
    {
     "data": {
      "image/png": "[encoded data removed]",
      "text/plain": [
       "<matplotlib.figure.Figure at 0x10fbf5940>"
      ]
     },
     "metadata": {},
     "output_type": "display_data"
    }
   ],
   "source": [
    "df_rat.Avg_rating.value_counts().plot(kind='bar')"
   ]
  },
  {
   "cell_type": "code",
   "execution_count": 13,
   "metadata": {
    "collapsed": true
   },
   "outputs": [],
   "source": [
    "df_rat = df_rat[df_rat.Avg_rating != 'UPF']"
   ]
  },
  {
   "cell_type": "code",
   "execution_count": 14,
   "metadata": {},
   "outputs": [
    {
     "data": {
      "text/plain": [
       "P     615\n",
       "WD    230\n",
       "D     195\n",
       "Name: Avg_rating, dtype: int64"
      ]
     },
     "execution_count": 14,
     "metadata": {},
     "output_type": "execute_result"
    }
   ],
   "source": [
    "df_rat.Avg_rating.value_counts()"
   ]
  },
  {
   "cell_type": "code",
   "execution_count": 15,
   "metadata": {},
   "outputs": [
    {
     "data": {
      "text/plain": [
       "1040"
      ]
     },
     "execution_count": 15,
     "metadata": {},
     "output_type": "execute_result"
    }
   ],
   "source": [
    "df_rat.Avg_rating.value_counts().sum()"
   ]
  },
  {
   "cell_type": "code",
   "execution_count": 16,
   "metadata": {},
   "outputs": [
    {
     "name": "stdout",
     "output_type": "stream",
     "text": [
      "Proficient Prior:  0.591346153846\n",
      "Well Developed Prior:  0.221153846154\n",
      "Developing Prior:  0.1875\n"
     ]
    }
   ],
   "source": [
    "tot = df_rat.Avg_rating.value_counts().sum()\n",
    "p_P = df_rat.Avg_rating.value_counts()[0] / tot \n",
    "p_WD = df_rat.Avg_rating.value_counts()[1] / tot \n",
    "p_D = df_rat.Avg_rating.value_counts()[2] / tot \n",
    "\n",
    "print ('Proficient Prior: ', p_P)\n",
    "print ('Well Developed Prior: ', p_WD)\n",
    "print ('Developing Prior: ', p_D)"
   ]
  },
  {
   "cell_type": "markdown",
   "metadata": {
    "collapsed": true
   },
   "source": [
    "'Economic Need Index','Average Incoming ELA Proficiency (Based on 4th Grade)'"
   ]
  },
  {
   "cell_type": "code",
   "execution_count": 19,
   "metadata": {
    "collapsed": true
   },
   "outputs": [],
   "source": [
    "wd_eni_mn = df_rat[df_rat.Avg_rating == 'WD']['Economic Need Index'].mean()\n",
    "wd_eni_sig = df_rat[df_rat.Avg_rating == 'WD']['Economic Need Index'].std()\n",
    "\n",
    "d_eni_mn = df_rat[df_rat.Avg_rating == 'D']['Economic Need Index'].mean()\n",
    "d_eni_sig = df_rat[df_rat.Avg_rating == 'D']['Economic Need Index'].std()\n",
    "\n",
    "p_eni_mn = df_rat[df_rat.Avg_rating == 'P']['Economic Need Index'].mean()\n",
    "p_eni_sig = df_rat[df_rat.Avg_rating == 'P']['Economic Need Index'].std()"
   ]
  },
  {
   "cell_type": "code",
   "execution_count": 20,
   "metadata": {},
   "outputs": [
    {
     "name": "stdout",
     "output_type": "stream",
     "text": [
      "Mean Economic Need, Well Developed schools:  0.5436739130434781 +/-  0.24549981584210534\n",
      "Mean Economic Need, Developing schools :  0.7500102564102562 +/-  0.1741577371810882\n",
      "Mean Economic Need, Proficient schools :  0.6297430894308941 +/-  0.22246916635944824\n"
     ]
    }
   ],
   "source": [
    "print ('Mean Economic Need, Well Developed schools: ', wd_eni_mn, '+/- ', wd_eni_sig)\n",
    "print ('Mean Economic Need, Developing schools : ', d_eni_mn, '+/- ', d_eni_sig)\n",
    "print ('Mean Economic Need, Proficient schools : ', p_eni_mn, '+/- ', p_eni_sig)"
   ]
  },
  {
   "cell_type": "code",
   "execution_count": 21,
   "metadata": {},
   "outputs": [
    {
     "name": "stdout",
     "output_type": "stream",
     "text": [
      "Avg Incoming ELA Proficiency, Well Developed schools:  2.9445161290322575 +/-  0.5155601042042188\n",
      "Avg Incoming ELA Proficiency, Developing schools :  2.5330136986301364 +/-  0.34120979588772254\n",
      "Avg Incoming ELA Proficiency, Proficient schools :  2.6837142857142853 +/-  0.3964590810609149\n"
     ]
    }
   ],
   "source": [
    "wd_ela_mn = df_rat[df_rat.Avg_rating == 'WD']['Average Incoming ELA Proficiency (Based on 4th Grade)'].mean()\n",
    "wd_ela_sig = df_rat[df_rat.Avg_rating == 'WD']['Average Incoming ELA Proficiency (Based on 4th Grade)'].std()\n",
    "\n",
    "d_ela_mn = df_rat[df_rat.Avg_rating == 'D']['Average Incoming ELA Proficiency (Based on 4th Grade)'].mean()\n",
    "d_ela_sig = df_rat[df_rat.Avg_rating == 'D']['Average Incoming ELA Proficiency (Based on 4th Grade)'].std()\n",
    "\n",
    "p_ela_mn = df_rat[df_rat.Avg_rating == 'P']['Average Incoming ELA Proficiency (Based on 4th Grade)'].mean()\n",
    "p_ela_sig = df_rat[df_rat.Avg_rating == 'P']['Average Incoming ELA Proficiency (Based on 4th Grade)'].std()\n",
    "\n",
    "print ('Avg Incoming ELA Proficiency, Well Developed schools: ', wd_ela_mn, '+/- ', wd_ela_sig)\n",
    "print ('Avg Incoming ELA Proficiency, Developing schools : ', d_ela_mn, '+/- ', d_ela_sig)\n",
    "print ('Avg Incoming ELA Proficiency, Proficient schools : ', p_ela_mn, '+/- ', p_ela_sig)"
   ]
  },
  {
   "cell_type": "code",
   "execution_count": 37,
   "metadata": {},
   "outputs": [
    {
     "name": "stdout",
     "output_type": "stream",
     "text": [
      "Median Econ Need Index:  0.685\n",
      "Mean Econ Need Index:  0.6332586538461537\n",
      "\n",
      "\n",
      "Median ELA prof:  2.58\n",
      "Mean ELA prof:  2.700387096774194\n"
     ]
    }
   ],
   "source": [
    "#median, mean of the two variables\n",
    "print ('Median Econ Need Index: ', df_rat['Economic Need Index'].median())\n",
    "print ('Mean Econ Need Index: ', df_rat['Economic Need Index'].mean())\n",
    "print ('\\n')\n",
    "\n",
    "print ('Median ELA prof: ', df_rat['Average Incoming ELA Proficiency (Based on 4th Grade)'].median())\n",
    "print ('Mean ELA prof: ', df_rat['Average Incoming ELA Proficiency (Based on 4th Grade)'].mean())\n",
    "\n"
   ]
  },
  {
   "cell_type": "code",
   "execution_count": 23,
   "metadata": {
    "collapsed": true
   },
   "outputs": [],
   "source": [
    "eni_x = df_rat['Economic Need Index'].median()\n",
    "ela_x = df_rat['Average Incoming ELA Proficiency (Based on 4th Grade)'].median()"
   ]
  },
  {
   "cell_type": "code",
   "execution_count": 29,
   "metadata": {},
   "outputs": [],
   "source": [
    "def nb_prob_dens(x, mew, sig):\n",
    "    tmp = exp(-(((x-mew)/sig)**2)/2)\n",
    "    return (tmp / (sig * np.sqrt(2*math.pi)))"
   ]
  },
  {
   "cell_type": "code",
   "execution_count": 30,
   "metadata": {},
   "outputs": [
    {
     "name": "stdout",
     "output_type": "stream",
     "text": [
      "WD, Pr(ENI = .685 | C:  1.37688600523\n",
      "D, Pr(ENI = .685 | C:  2.1365340983\n",
      "P, Pr(ENI = .685 | C:  1.73877683648\n",
      "\n",
      "\n",
      "WD, Pr(ELA = 2.58 | C:  0.602671865235\n",
      "D, Pr(ELA = 2.58 | C:  1.15816619096\n",
      "P, Pr(ELA = 2.58 | C:  0.972413883579\n"
     ]
    }
   ],
   "source": [
    "print ('WD, Pr(ENI = .685 | C: ', nb_prob_dens(eni_x, wd_eni_mn, wd_eni_sig))\n",
    "print ('D, Pr(ENI = .685 | C: ', nb_prob_dens(eni_x, d_eni_mn, d_eni_sig))\n",
    "print ('P, Pr(ENI = .685 | C: ', nb_prob_dens(eni_x, p_eni_mn, p_eni_sig))\n",
    "print ('\\n')\n",
    "print ('WD, Pr(ELA = 2.58 | C: ', nb_prob_dens(ela_x, wd_ela_mn, wd_ela_sig))\n",
    "print ('D, Pr(ELA = 2.58 | C: ', nb_prob_dens(ela_x, d_ela_mn, d_ela_sig))\n",
    "print ('P, Pr(ELA = 2.58 | C: ', nb_prob_dens(ela_x, p_ela_mn, p_ela_sig))"
   ]
  },
  {
   "cell_type": "code",
   "execution_count": 34,
   "metadata": {},
   "outputs": [
    {
     "name": "stdout",
     "output_type": "stream",
     "text": [
      "WD, Unnormed Posterior:  0.183515774141\n",
      "D, Unnormed Posterior:  0.463961542216\n",
      "P, Unnormed Posterior:  0.999854425757\n"
     ]
    }
   ],
   "source": [
    "up_WD = nb_prob_dens(eni_x, wd_eni_mn, wd_eni_sig) * \\\n",
    "        nb_prob_dens(ela_x, wd_ela_mn, wd_ela_sig) * p_WD\n",
    "up_D = nb_prob_dens(eni_x, d_eni_mn, d_eni_sig) * \\\n",
    "        nb_prob_dens(ela_x, d_ela_mn, d_ela_sig) * p_D\n",
    "up_P = nb_prob_dens(eni_x, p_eni_mn, p_eni_sig) * \\\n",
    "        nb_prob_dens(ela_x, p_ela_mn, p_ela_sig) * p_P    \n",
    "\n",
    "\n",
    "print ('WD, Unnormed Posterior: ', up_WD)\n",
    "print ('D, Unnormed Posterior: ', up_D)\n",
    "print ('P, Unnormed Posterior: ', up_P)"
   ]
  },
  {
   "cell_type": "code",
   "execution_count": 36,
   "metadata": {},
   "outputs": [
    {
     "name": "stdout",
     "output_type": "stream",
     "text": [
      "WD, Posterior:  0.111401832096\n",
      "D, Posterior:  0.28164426773\n",
      "P, Posterior:  0.606953900174\n"
     ]
    }
   ],
   "source": [
    "print ('WD, Posterior: ', up_WD / sum([up_WD, up_D, up_P]))\n",
    "print ('D, Posterior: ', up_D / sum([up_WD, up_D, up_P]))\n",
    "print ('P, Posterior: ', up_P / sum([up_WD, up_D, up_P]))"
   ]
  },
  {
   "cell_type": "markdown",
   "metadata": {},
   "source": [
    "For a school with the median Economic Need Index value and the median ELA proficiency of incoming students, there is only a 11% chance that it is a Well Developed school.  There is a 60% probability that school has a rating of Proficient, and a 28% probability that it is a developing school. "
   ]
  },
  {
   "cell_type": "code",
   "execution_count": null,
   "metadata": {
    "collapsed": true
   },
   "outputs": [],
   "source": []
  }
 ],
 "metadata": {
  "kernelspec": {
   "display_name": "Python 3",
   "language": "python",
   "name": "python3"
  },
  "language_info": {
   "codemirror_mode": {
    "name": "ipython",
    "version": 3
   },
   "file_extension": ".py",
   "mimetype": "text/x-python",
   "name": "python",
   "nbconvert_exporter": "python",
   "pygments_lexer": "ipython3",
   "version": "3.6.2"
  }
 },
 "nbformat": 4,
 "nbformat_minor": 2
}
