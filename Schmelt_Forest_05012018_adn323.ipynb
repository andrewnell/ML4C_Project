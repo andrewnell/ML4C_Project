{
 "cells": [
  {
   "cell_type": "code",
   "execution_count": 342,
   "metadata": {},
   "outputs": [
    {
     "name": "stdout",
     "output_type": "stream",
     "text": [
      "Populating the interactive namespace from numpy and matplotlib\n"
     ]
    },
    {
     "name": "stderr",
     "output_type": "stream",
     "text": [
      "/opt/rh/anaconda/root/envs/PUI2016_Python2/lib/python2.7/site-packages/IPython/core/magics/pylab.py:161: UserWarning: pylab import has clobbered these variables: ['plt', 'colors']\n",
      "`%matplotlib` prevents importing * from pylab and numpy\n",
      "  \"\\n`%matplotlib` prevents importing * from pylab and numpy\"\n"
     ]
    }
   ],
   "source": [
    "import numpy as np\n",
    "import pandas as pd\n",
    "import matplotlib as plt\n",
    "import pylab as pl\n",
    "%pylab inline\n",
    "import seaborn as sns\n",
    "\n",
    "import statsmodels.formula.api as smf\n",
    "\n",
    "from mpl_toolkits.mplot3d import Axes3D  # for 3D plot\n",
    "\n",
    "from sklearn.mixture import GaussianMixture\n",
    "\n",
    "import statsmodels.api as sm\n",
    "import statsmodels.formula.api as smf\n",
    "from numpy import linalg\n",
    "from sklearn.model_selection import train_test_split\n",
    "from sklearn.ensemble import RandomForestClassifier\n",
    "from sklearn.model_selection import GridSearchCV \n",
    "from sklearn.tree import ExtraTreeClassifier\n",
    "from sklearn.tree import DecisionTreeClassifier\n",
    "from sklearn.metrics import roc_auc_score\n",
    "\n",
    "colors = ['y', 'm', 'c', 'r', 'g', 'b', 'k', 'DeepPink',\\\n",
    "          'DodgerBlue', 'Aquamarine', 'MediumSpringGreen',\\\n",
    "         'MidnightBlue', 'Gold', 'DarkSlateGray', 'LimeGreen', \\\n",
    "         'LightSeaGreen', 'Salmon', 'Indigo', 'DarkMagenta', \\\n",
    "         'Thistle', 'DeepSkyBlue', 'CadetBlue', \\\n",
    "         'BlueViolet', 'Chocolate', 'SaddleBrown', 'Maroon', \\\n",
    "         'Peru', 'DarkOrange', 'Teal', 'DarkKhaki']\n"
   ]
  },
  {
   "cell_type": "markdown",
   "metadata": {},
   "source": [
    "# Read in Data"
   ]
  },
  {
   "cell_type": "code",
   "execution_count": 181,
   "metadata": {},
   "outputs": [
    {
     "data": {
      "text/plain": [
       "ELEMENTARY              792\n",
       "HIGH SCHOOL             549\n",
       "JUNIOR HIGH-INTERMED    353\n",
       "NaN                     112\n",
       "K-12 ALL GRADES          41\n",
       "SECONDARY SCHOOL         38\n",
       "EARLY CHILDHOOD          37\n",
       "COLLABORATIVE OR MUL     24\n",
       "K-8                      24\n",
       "DISTRICT PRE-K CENTE     13\n",
       "UNGRADED                 12\n",
       "CENTRAL-HQ-CITYWIDE       1\n",
       "Name: LCGSCHCAT, dtype: int64"
      ]
     },
     "execution_count": 181,
     "metadata": {},
     "output_type": "execute_result"
    }
   ],
   "source": [
    "# Define different data sets\n",
    "schmelts = ['schmelt05-16.csv', 'schmelt09-16.csv', 'schmelt11-15.csv', \n",
    "            'schmelt13-16.csv', 'schmelt96-16.csv']\n",
    "\n",
    "# Choose which one to input \n",
    "df = pd.read_csv('data/{}'.format(schmelts[4]))\n",
    "\n",
    "# Visualise Schools Types\n",
    "df.LCGSCHCAT.value_counts(dropna=False)"
   ]
  },
  {
   "cell_type": "markdown",
   "metadata": {},
   "source": [
    "# Create School Type Data sets\n",
    "### High"
   ]
  },
  {
   "cell_type": "code",
   "execution_count": 252,
   "metadata": {},
   "outputs": [
    {
     "name": "stderr",
     "output_type": "stream",
     "text": [
      "/opt/rh/anaconda/root/envs/PUI2016_Python2/lib/python2.7/site-packages/ipykernel/__main__.py:5: SettingWithCopyWarning: \n",
      "A value is trying to be set on a copy of a slice from a DataFrame\n",
      "\n",
      "See the caveats in the documentation: http://pandas.pydata.org/pandas-docs/stable/indexing.html#indexing-view-versus-copy\n",
      "/opt/rh/anaconda/root/envs/PUI2016_Python2/lib/python2.7/site-packages/ipykernel/__main__.py:6: SettingWithCopyWarning: \n",
      "A value is trying to be set on a copy of a slice from a DataFrame\n",
      "\n",
      "See the caveats in the documentation: http://pandas.pydata.org/pandas-docs/stable/indexing.html#indexing-view-versus-copy\n"
     ]
    },
    {
     "name": "stdout",
     "output_type": "stream",
     "text": [
      "Original Size: 549\n",
      "Post Cleaning Size: 378\n",
      "Number of Renewal Schools 11.0\n",
      "Number of Community Schools 63.0\n",
      "Number of Closed Schools 51.0\n"
     ]
    },
    {
     "data": {
      "text/html": [
       "<div>\n",
       "<table border=\"1\" class=\"dataframe\">\n",
       "  <thead>\n",
       "    <tr style=\"text-align: right;\">\n",
       "      <th></th>\n",
       "      <th>BNLONG</th>\n",
       "      <th>ATTPCTG09 trend96_16</th>\n",
       "      <th>ATTPCTG10 trend96_16</th>\n",
       "      <th>ATTPCTG11 trend96_16</th>\n",
       "      <th>ATTPCTTOT trend96_16</th>\n",
       "      <th>CLSAVGG09 trend96_16</th>\n",
       "      <th>CLSAVGG10 trend96_16</th>\n",
       "      <th>CLSAVGTOT trend96_16</th>\n",
       "      <th>CLSNUMG09 trend96_16</th>\n",
       "      <th>CLSNUMG10 trend96_16</th>\n",
       "      <th>...</th>\n",
       "      <th>SPECHS std96_16</th>\n",
       "      <th>DBN</th>\n",
       "      <th>SCHNAM</th>\n",
       "      <th>BN</th>\n",
       "      <th>RenewlSchl</th>\n",
       "      <th>Community_Sch</th>\n",
       "      <th>Closed</th>\n",
       "      <th>LCGSCHCAT</th>\n",
       "      <th>LCGSCHTYP</th>\n",
       "      <th>HSSCHSAMP2</th>\n",
       "    </tr>\n",
       "  </thead>\n",
       "  <tbody>\n",
       "    <tr>\n",
       "      <th>292</th>\n",
       "      <td>K322</td>\n",
       "      <td>-2.765000</td>\n",
       "      <td>-1.334444</td>\n",
       "      <td>-1.881250</td>\n",
       "      <td>-1.306000</td>\n",
       "      <td>-1.333333</td>\n",
       "      <td>-1.653680</td>\n",
       "      <td>-1.107955</td>\n",
       "      <td>-0.444444</td>\n",
       "      <td>-0.357143</td>\n",
       "      <td>...</td>\n",
       "      <td>0.0</td>\n",
       "      <td>16K322</td>\n",
       "      <td>FOUNDATIONS ACADEMY</td>\n",
       "      <td>K322</td>\n",
       "      <td>0.0</td>\n",
       "      <td>0.0</td>\n",
       "      <td>0.0</td>\n",
       "      <td>HIGH SCHOOL</td>\n",
       "      <td>GENERAL ACADEMIC</td>\n",
       "      <td>1</td>\n",
       "    </tr>\n",
       "    <tr>\n",
       "      <th>308</th>\n",
       "      <td>K344</td>\n",
       "      <td>-0.036000</td>\n",
       "      <td>0.251111</td>\n",
       "      <td>-0.242500</td>\n",
       "      <td>0.095000</td>\n",
       "      <td>-1.292929</td>\n",
       "      <td>-0.205556</td>\n",
       "      <td>-1.575180</td>\n",
       "      <td>0.777778</td>\n",
       "      <td>0.500000</td>\n",
       "      <td>...</td>\n",
       "      <td>0.0</td>\n",
       "      <td>21K344</td>\n",
       "      <td>RACHEL CARSON HIGH SCHOOL FOR</td>\n",
       "      <td>K344</td>\n",
       "      <td>0.0</td>\n",
       "      <td>0.0</td>\n",
       "      <td>0.0</td>\n",
       "      <td>HIGH SCHOOL</td>\n",
       "      <td>GENERAL ACADEMIC</td>\n",
       "      <td>1</td>\n",
       "    </tr>\n",
       "    <tr>\n",
       "      <th>312</th>\n",
       "      <td>K348</td>\n",
       "      <td>0.012000</td>\n",
       "      <td>-1.142222</td>\n",
       "      <td>-1.780000</td>\n",
       "      <td>-0.573000</td>\n",
       "      <td>-3.680912</td>\n",
       "      <td>-3.267857</td>\n",
       "      <td>-0.732850</td>\n",
       "      <td>1.111111</td>\n",
       "      <td>2.250000</td>\n",
       "      <td>...</td>\n",
       "      <td>0.0</td>\n",
       "      <td>21K348</td>\n",
       "      <td>HIGH SCHOOL OF SPORTS MANAGEME</td>\n",
       "      <td>K348</td>\n",
       "      <td>0.0</td>\n",
       "      <td>0.0</td>\n",
       "      <td>0.0</td>\n",
       "      <td>HIGH SCHOOL</td>\n",
       "      <td>GENERAL ACADEMIC</td>\n",
       "      <td>1</td>\n",
       "    </tr>\n",
       "    <tr>\n",
       "      <th>314</th>\n",
       "      <td>K350</td>\n",
       "      <td>0.035000</td>\n",
       "      <td>0.015556</td>\n",
       "      <td>0.307500</td>\n",
       "      <td>-0.067000</td>\n",
       "      <td>3.592593</td>\n",
       "      <td>4.333333</td>\n",
       "      <td>-7.880000</td>\n",
       "      <td>-0.222222</td>\n",
       "      <td>-0.250000</td>\n",
       "      <td>...</td>\n",
       "      <td>0.0</td>\n",
       "      <td>13K350</td>\n",
       "      <td>URBAN ASSEMBLY SCHOOL OF MUSIC</td>\n",
       "      <td>K350</td>\n",
       "      <td>0.0</td>\n",
       "      <td>1.0</td>\n",
       "      <td>0.0</td>\n",
       "      <td>HIGH SCHOOL</td>\n",
       "      <td>GENERAL ACADEMIC</td>\n",
       "      <td>1</td>\n",
       "    </tr>\n",
       "    <tr>\n",
       "      <th>348</th>\n",
       "      <td>K400</td>\n",
       "      <td>-3.753571</td>\n",
       "      <td>-1.240714</td>\n",
       "      <td>-0.894286</td>\n",
       "      <td>-0.694286</td>\n",
       "      <td>-1.552124</td>\n",
       "      <td>-0.885135</td>\n",
       "      <td>-0.894336</td>\n",
       "      <td>-2.571429</td>\n",
       "      <td>-2.500000</td>\n",
       "      <td>...</td>\n",
       "      <td>0.0</td>\n",
       "      <td>21K400</td>\n",
       "      <td>LAFAYETTE HIGH SCHOOL</td>\n",
       "      <td>K400</td>\n",
       "      <td>0.0</td>\n",
       "      <td>0.0</td>\n",
       "      <td>1.0</td>\n",
       "      <td>HIGH SCHOOL</td>\n",
       "      <td>GENERAL ACADEMIC</td>\n",
       "      <td>1</td>\n",
       "    </tr>\n",
       "  </tbody>\n",
       "</table>\n",
       "<p>5 rows × 220 columns</p>\n",
       "</div>"
      ],
      "text/plain": [
       "    BNLONG  ATTPCTG09 trend96_16  ATTPCTG10 trend96_16  ATTPCTG11 trend96_16  \\\n",
       "292   K322             -2.765000             -1.334444             -1.881250   \n",
       "308   K344             -0.036000              0.251111             -0.242500   \n",
       "312   K348              0.012000             -1.142222             -1.780000   \n",
       "314   K350              0.035000              0.015556              0.307500   \n",
       "348   K400             -3.753571             -1.240714             -0.894286   \n",
       "\n",
       "     ATTPCTTOT trend96_16  CLSAVGG09 trend96_16  CLSAVGG10 trend96_16  \\\n",
       "292             -1.306000             -1.333333             -1.653680   \n",
       "308              0.095000             -1.292929             -0.205556   \n",
       "312             -0.573000             -3.680912             -3.267857   \n",
       "314             -0.067000              3.592593              4.333333   \n",
       "348             -0.694286             -1.552124             -0.885135   \n",
       "\n",
       "     CLSAVGTOT trend96_16  CLSNUMG09 trend96_16  CLSNUMG10 trend96_16  \\\n",
       "292             -1.107955             -0.444444             -0.357143   \n",
       "308             -1.575180              0.777778              0.500000   \n",
       "312             -0.732850              1.111111              2.250000   \n",
       "314             -7.880000             -0.222222             -0.250000   \n",
       "348             -0.894336             -2.571429             -2.500000   \n",
       "\n",
       "        ...      SPECHS std96_16     DBN                          SCHNAM  \\\n",
       "292     ...                  0.0  16K322             FOUNDATIONS ACADEMY   \n",
       "308     ...                  0.0  21K344   RACHEL CARSON HIGH SCHOOL FOR   \n",
       "312     ...                  0.0  21K348  HIGH SCHOOL OF SPORTS MANAGEME   \n",
       "314     ...                  0.0  13K350  URBAN ASSEMBLY SCHOOL OF MUSIC   \n",
       "348     ...                  0.0  21K400           LAFAYETTE HIGH SCHOOL   \n",
       "\n",
       "       BN  RenewlSchl  Community_Sch  Closed    LCGSCHCAT         LCGSCHTYP  \\\n",
       "292  K322         0.0            0.0     0.0  HIGH SCHOOL  GENERAL ACADEMIC   \n",
       "308  K344         0.0            0.0     0.0  HIGH SCHOOL  GENERAL ACADEMIC   \n",
       "312  K348         0.0            0.0     0.0  HIGH SCHOOL  GENERAL ACADEMIC   \n",
       "314  K350         0.0            1.0     0.0  HIGH SCHOOL  GENERAL ACADEMIC   \n",
       "348  K400         0.0            0.0     1.0  HIGH SCHOOL  GENERAL ACADEMIC   \n",
       "\n",
       "     HSSCHSAMP2  \n",
       "292           1  \n",
       "308           1  \n",
       "312           1  \n",
       "314           1  \n",
       "348           1  \n",
       "\n",
       "[5 rows x 220 columns]"
      ]
     },
     "execution_count": 252,
     "metadata": {},
     "output_type": "execute_result"
    }
   ],
   "source": [
    "# CReate School DF\n",
    "Highdf = df[df.LCGSCHCAT == 'HIGH SCHOOL']\n",
    "\n",
    "# Drop columns and rows with all Nulls\n",
    "Highdf.dropna(axis=1, how='all', inplace=True)\n",
    "Highdf.dropna(axis=0, how='all', inplace=True)\n",
    "\n",
    "# Drop columns from unnecessary data\n",
    "# Grades\n",
    "Grades = ['G01','G02','G03','G04','G05','G06','G07','G08','PRK','KID']\n",
    "for grd in Grades:\n",
    "    Highdf = Highdf[Highdf.columns[~Highdf.columns.str.contains(grd)]]\n",
    "\n",
    "# Other things\n",
    "Colsdrop = ['CBO']\n",
    "for cols in Colsdrop:\n",
    "    Highdf = Highdf[Highdf.columns[~Highdf.columns.str.contains(cols)]]\n",
    "    \n",
    "# Drop all values with more than 100 nulls\n",
    "for col in Highdf.columns:\n",
    "    if Highdf[col].isnull().sum() >= 100:\n",
    "        Highdf.drop([col], axis=1, inplace=True)\n",
    "        \n",
    "print('Original Size: ' + str(Highdf.shape[0]))\n",
    "        \n",
    "# Drop all Null values - does not reduce data set too much\n",
    "Highdf.dropna(inplace=True)\n",
    "\n",
    "# Drop rows with ranges below 2 in any remaining field and drop all range fields\n",
    "for i in Highdf.columns[Highdf.columns.str.contains('range')]:\n",
    "    Highdf = Highdf[~(Highdf[i] < 3)]\n",
    "    Highdf.drop([i], axis=1, inplace=True)\n",
    "\n",
    "print('Post Cleaning Size: ' + str(Highdf.shape[0]))\n",
    "print('Number of Renewal Schools ' + str(Highdf.RenewlSchl.sum()))\n",
    "print('Number of Community Schools ' + str(Highdf.Community_Sch.sum()))\n",
    "print('Number of Closed Schools ' + str(Highdf.Closed.sum()))\n",
    "\n",
    "# Preview\n",
    "Highdf.head()"
   ]
  },
  {
   "cell_type": "markdown",
   "metadata": {},
   "source": [
    "### Middle"
   ]
  },
  {
   "cell_type": "code",
   "execution_count": 253,
   "metadata": {},
   "outputs": [
    {
     "name": "stderr",
     "output_type": "stream",
     "text": [
      "/opt/rh/anaconda/root/envs/PUI2016_Python2/lib/python2.7/site-packages/ipykernel/__main__.py:5: SettingWithCopyWarning: \n",
      "A value is trying to be set on a copy of a slice from a DataFrame\n",
      "\n",
      "See the caveats in the documentation: http://pandas.pydata.org/pandas-docs/stable/indexing.html#indexing-view-versus-copy\n",
      "/opt/rh/anaconda/root/envs/PUI2016_Python2/lib/python2.7/site-packages/ipykernel/__main__.py:6: SettingWithCopyWarning: \n",
      "A value is trying to be set on a copy of a slice from a DataFrame\n",
      "\n",
      "See the caveats in the documentation: http://pandas.pydata.org/pandas-docs/stable/indexing.html#indexing-view-versus-copy\n"
     ]
    },
    {
     "name": "stdout",
     "output_type": "stream",
     "text": [
      "Original Size: 353\n",
      "Post Cleaning Size: 179\n",
      "Number of Renewal Schools 3.0\n",
      "Number of Community Schools 48.0\n",
      "Number of Closed Schools 0.0\n"
     ]
    },
    {
     "data": {
      "text/html": [
       "<div>\n",
       "<table border=\"1\" class=\"dataframe\">\n",
       "  <thead>\n",
       "    <tr style=\"text-align: right;\">\n",
       "      <th></th>\n",
       "      <th>BNLONG</th>\n",
       "      <th>ATTPCTG06 trend96_16</th>\n",
       "      <th>ATTPCTG07 trend96_16</th>\n",
       "      <th>ATTPCTG08 trend96_16</th>\n",
       "      <th>ATTPCTTOT trend96_16</th>\n",
       "      <th>CCDENRNUMFRL trend96_16</th>\n",
       "      <th>CCDENRNUMFRL_normd trend96_16</th>\n",
       "      <th>CCDNUMFTE trend96_16</th>\n",
       "      <th>CCDNUMFTE_normd trend96_16</th>\n",
       "      <th>CLSAVGG06 trend96_16</th>\n",
       "      <th>...</th>\n",
       "      <th>ela8_decile std96_16</th>\n",
       "      <th>DBN</th>\n",
       "      <th>SCHNAM</th>\n",
       "      <th>BN</th>\n",
       "      <th>RenewlSchl</th>\n",
       "      <th>Community_Sch</th>\n",
       "      <th>Closed</th>\n",
       "      <th>LCGSCHCAT</th>\n",
       "      <th>LCGSCHTYP</th>\n",
       "      <th>HSSCHSAMP2</th>\n",
       "    </tr>\n",
       "  </thead>\n",
       "  <tbody>\n",
       "    <tr>\n",
       "      <th>97</th>\n",
       "      <td>K113</td>\n",
       "      <td>-0.241667</td>\n",
       "      <td>0.0380</td>\n",
       "      <td>0.1820</td>\n",
       "      <td>0.1085</td>\n",
       "      <td>4.000000</td>\n",
       "      <td>0.000499</td>\n",
       "      <td>0.065385</td>\n",
       "      <td>-0.000271</td>\n",
       "      <td>0.607692</td>\n",
       "      <td>...</td>\n",
       "      <td>1.437136</td>\n",
       "      <td>13K113</td>\n",
       "      <td>RONALD EDMONDS - JHS #113</td>\n",
       "      <td>K113</td>\n",
       "      <td>0.0</td>\n",
       "      <td>0.0</td>\n",
       "      <td>0.0</td>\n",
       "      <td>JUNIOR HIGH-INTERMED</td>\n",
       "      <td>GENERAL ACADEMIC</td>\n",
       "      <td>7</td>\n",
       "    </tr>\n",
       "    <tr>\n",
       "      <th>109</th>\n",
       "      <td>K126</td>\n",
       "      <td>0.267273</td>\n",
       "      <td>0.2305</td>\n",
       "      <td>0.4550</td>\n",
       "      <td>0.4525</td>\n",
       "      <td>-40.230769</td>\n",
       "      <td>-0.008515</td>\n",
       "      <td>-1.616923</td>\n",
       "      <td>0.003847</td>\n",
       "      <td>1.188889</td>\n",
       "      <td>...</td>\n",
       "      <td>1.843554</td>\n",
       "      <td>14K126</td>\n",
       "      <td>JOHN ERICSSON_JUNIOR HIGH SCHO</td>\n",
       "      <td>K126</td>\n",
       "      <td>0.0</td>\n",
       "      <td>1.0</td>\n",
       "      <td>0.0</td>\n",
       "      <td>JUNIOR HIGH-INTERMED</td>\n",
       "      <td>GENERAL ACADEMIC</td>\n",
       "      <td>2</td>\n",
       "    </tr>\n",
       "    <tr>\n",
       "      <th>118</th>\n",
       "      <td>K136</td>\n",
       "      <td>0.263000</td>\n",
       "      <td>0.3475</td>\n",
       "      <td>0.4430</td>\n",
       "      <td>0.3585</td>\n",
       "      <td>-10.846154</td>\n",
       "      <td>0.006951</td>\n",
       "      <td>-1.216154</td>\n",
       "      <td>0.000166</td>\n",
       "      <td>0.140909</td>\n",
       "      <td>...</td>\n",
       "      <td>1.028992</td>\n",
       "      <td>15K136</td>\n",
       "      <td>CHARLES O. DEWEY MS136</td>\n",
       "      <td>K136</td>\n",
       "      <td>0.0</td>\n",
       "      <td>0.0</td>\n",
       "      <td>0.0</td>\n",
       "      <td>JUNIOR HIGH-INTERMED</td>\n",
       "      <td>GENERAL ACADEMIC</td>\n",
       "      <td>7</td>\n",
       "    </tr>\n",
       "    <tr>\n",
       "      <th>142</th>\n",
       "      <td>K162</td>\n",
       "      <td>0.294500</td>\n",
       "      <td>0.3405</td>\n",
       "      <td>0.5700</td>\n",
       "      <td>0.3930</td>\n",
       "      <td>-18.923077</td>\n",
       "      <td>-0.011299</td>\n",
       "      <td>-0.606923</td>\n",
       "      <td>0.000566</td>\n",
       "      <td>0.874405</td>\n",
       "      <td>...</td>\n",
       "      <td>1.074055</td>\n",
       "      <td>32K162</td>\n",
       "      <td>WILLOUGHBY - I.S. #162</td>\n",
       "      <td>K162</td>\n",
       "      <td>0.0</td>\n",
       "      <td>0.0</td>\n",
       "      <td>0.0</td>\n",
       "      <td>JUNIOR HIGH-INTERMED</td>\n",
       "      <td>GENERAL ACADEMIC</td>\n",
       "      <td>7</td>\n",
       "    </tr>\n",
       "    <tr>\n",
       "      <th>151</th>\n",
       "      <td>K171</td>\n",
       "      <td>0.296500</td>\n",
       "      <td>0.2950</td>\n",
       "      <td>0.4015</td>\n",
       "      <td>0.3335</td>\n",
       "      <td>10.615385</td>\n",
       "      <td>-0.001973</td>\n",
       "      <td>0.462308</td>\n",
       "      <td>-0.000496</td>\n",
       "      <td>0.527273</td>\n",
       "      <td>...</td>\n",
       "      <td>0.857493</td>\n",
       "      <td>19K171</td>\n",
       "      <td>ABRAHAM LINCOLN - I.S. #171</td>\n",
       "      <td>K171</td>\n",
       "      <td>0.0</td>\n",
       "      <td>0.0</td>\n",
       "      <td>0.0</td>\n",
       "      <td>JUNIOR HIGH-INTERMED</td>\n",
       "      <td>GENERAL ACADEMIC</td>\n",
       "      <td>7</td>\n",
       "    </tr>\n",
       "  </tbody>\n",
       "</table>\n",
       "<p>5 rows × 286 columns</p>\n",
       "</div>"
      ],
      "text/plain": [
       "    BNLONG  ATTPCTG06 trend96_16  ATTPCTG07 trend96_16  ATTPCTG08 trend96_16  \\\n",
       "97    K113             -0.241667                0.0380                0.1820   \n",
       "109   K126              0.267273                0.2305                0.4550   \n",
       "118   K136              0.263000                0.3475                0.4430   \n",
       "142   K162              0.294500                0.3405                0.5700   \n",
       "151   K171              0.296500                0.2950                0.4015   \n",
       "\n",
       "     ATTPCTTOT trend96_16  CCDENRNUMFRL trend96_16  \\\n",
       "97                 0.1085                 4.000000   \n",
       "109                0.4525               -40.230769   \n",
       "118                0.3585               -10.846154   \n",
       "142                0.3930               -18.923077   \n",
       "151                0.3335                10.615385   \n",
       "\n",
       "     CCDENRNUMFRL_normd trend96_16  CCDNUMFTE trend96_16  \\\n",
       "97                        0.000499              0.065385   \n",
       "109                      -0.008515             -1.616923   \n",
       "118                       0.006951             -1.216154   \n",
       "142                      -0.011299             -0.606923   \n",
       "151                      -0.001973              0.462308   \n",
       "\n",
       "     CCDNUMFTE_normd trend96_16  CLSAVGG06 trend96_16     ...      \\\n",
       "97                    -0.000271              0.607692     ...       \n",
       "109                    0.003847              1.188889     ...       \n",
       "118                    0.000166              0.140909     ...       \n",
       "142                    0.000566              0.874405     ...       \n",
       "151                   -0.000496              0.527273     ...       \n",
       "\n",
       "     ela8_decile std96_16     DBN                          SCHNAM    BN  \\\n",
       "97               1.437136  13K113       RONALD EDMONDS - JHS #113  K113   \n",
       "109              1.843554  14K126  JOHN ERICSSON_JUNIOR HIGH SCHO  K126   \n",
       "118              1.028992  15K136          CHARLES O. DEWEY MS136  K136   \n",
       "142              1.074055  32K162          WILLOUGHBY - I.S. #162  K162   \n",
       "151              0.857493  19K171     ABRAHAM LINCOLN - I.S. #171  K171   \n",
       "\n",
       "     RenewlSchl  Community_Sch  Closed             LCGSCHCAT  \\\n",
       "97          0.0            0.0     0.0  JUNIOR HIGH-INTERMED   \n",
       "109         0.0            1.0     0.0  JUNIOR HIGH-INTERMED   \n",
       "118         0.0            0.0     0.0  JUNIOR HIGH-INTERMED   \n",
       "142         0.0            0.0     0.0  JUNIOR HIGH-INTERMED   \n",
       "151         0.0            0.0     0.0  JUNIOR HIGH-INTERMED   \n",
       "\n",
       "            LCGSCHTYP  HSSCHSAMP2  \n",
       "97   GENERAL ACADEMIC           7  \n",
       "109  GENERAL ACADEMIC           2  \n",
       "118  GENERAL ACADEMIC           7  \n",
       "142  GENERAL ACADEMIC           7  \n",
       "151  GENERAL ACADEMIC           7  \n",
       "\n",
       "[5 rows x 286 columns]"
      ]
     },
     "execution_count": 253,
     "metadata": {},
     "output_type": "execute_result"
    }
   ],
   "source": [
    "# CReate School DF\n",
    "Middf = df[df.LCGSCHCAT == 'JUNIOR HIGH-INTERMED']\n",
    "\n",
    "# Drop columns and rows with all Nulls\n",
    "Middf.dropna(axis=1, how='all', inplace=True)\n",
    "Middf.dropna(axis=0, how='all', inplace=True)\n",
    "\n",
    "# Drop columns from unnecessary data\n",
    "# Grades\n",
    "Grades = ['G01','G02','G03','G04','G05','G09','G10','G11','G12','PRK','KID']\n",
    "for grd in Grades:\n",
    "    Middf = Middf[Middf.columns[~Middf.columns.str.contains(grd)]]\n",
    "\n",
    "# Other things\n",
    "Colsdrop = ['CBO']\n",
    "for cols in Colsdrop:\n",
    "    Middf = Middf[Middf.columns[~Middf.columns.str.contains(cols)]]\n",
    "    \n",
    "# Drop all values with more than 100 nulls\n",
    "for col in Middf.columns:\n",
    "    if Middf[col].isnull().sum() >= 100:\n",
    "        Middf.drop([col], axis=1, inplace=True)\n",
    "        \n",
    "print('Original Size: ' + str(Middf.shape[0]))\n",
    "        \n",
    "# Drop all Null values - does not reduce data set too much\n",
    "Middf.dropna(inplace=True)\n",
    "\n",
    "# Drop rows with ranges below 2 in any remaining field  and drop all range fields\n",
    "for i in Middf.columns[Middf.columns.str.contains('range')]:\n",
    "    Middf = Middf[~(Middf[i] < 2)]\n",
    "    Middf.drop([i], axis=1, inplace=True)\n",
    "\n",
    "\n",
    "print('Post Cleaning Size: ' + str(Middf.shape[0]))\n",
    "print('Number of Renewal Schools ' + str(Middf.RenewlSchl.sum()))\n",
    "print('Number of Community Schools ' + str(Middf.Community_Sch.sum()))\n",
    "print('Number of Closed Schools ' + str(Middf.Closed.sum()))\n",
    "\n",
    "\n",
    "# Preview\n",
    "Middf.head()"
   ]
  },
  {
   "cell_type": "markdown",
   "metadata": {},
   "source": [
    "### Elem"
   ]
  },
  {
   "cell_type": "code",
   "execution_count": 254,
   "metadata": {},
   "outputs": [
    {
     "name": "stderr",
     "output_type": "stream",
     "text": [
      "/opt/rh/anaconda/root/envs/PUI2016_Python2/lib/python2.7/site-packages/ipykernel/__main__.py:5: SettingWithCopyWarning: \n",
      "A value is trying to be set on a copy of a slice from a DataFrame\n",
      "\n",
      "See the caveats in the documentation: http://pandas.pydata.org/pandas-docs/stable/indexing.html#indexing-view-versus-copy\n",
      "/opt/rh/anaconda/root/envs/PUI2016_Python2/lib/python2.7/site-packages/ipykernel/__main__.py:6: SettingWithCopyWarning: \n",
      "A value is trying to be set on a copy of a slice from a DataFrame\n",
      "\n",
      "See the caveats in the documentation: http://pandas.pydata.org/pandas-docs/stable/indexing.html#indexing-view-versus-copy\n"
     ]
    },
    {
     "name": "stdout",
     "output_type": "stream",
     "text": [
      "Original Size: 792\n",
      "Post Cleaning Size: 631\n",
      "Number of Renewal Schools 7.0\n",
      "Number of Community Schools 73.0\n",
      "Number of Closed Schools 0.0\n"
     ]
    },
    {
     "data": {
      "text/html": [
       "<div>\n",
       "<table border=\"1\" class=\"dataframe\">\n",
       "  <thead>\n",
       "    <tr style=\"text-align: right;\">\n",
       "      <th></th>\n",
       "      <th>BNLONG</th>\n",
       "      <th>ATTPCTG01 trend96_16</th>\n",
       "      <th>ATTPCTG02 trend96_16</th>\n",
       "      <th>ATTPCTG03 trend96_16</th>\n",
       "      <th>ATTPCTG04 trend96_16</th>\n",
       "      <th>ATTPCTG05 trend96_16</th>\n",
       "      <th>ATTPCTKID trend96_16</th>\n",
       "      <th>ATTPCTTOT trend96_16</th>\n",
       "      <th>CLSAVGG01 trend96_16</th>\n",
       "      <th>CLSAVGG02 trend96_16</th>\n",
       "      <th>...</th>\n",
       "      <th>ela5_decile std96_16</th>\n",
       "      <th>DBN</th>\n",
       "      <th>SCHNAM</th>\n",
       "      <th>BN</th>\n",
       "      <th>RenewlSchl</th>\n",
       "      <th>Community_Sch</th>\n",
       "      <th>Closed</th>\n",
       "      <th>LCGSCHCAT</th>\n",
       "      <th>LCGSCHTYP</th>\n",
       "      <th>HSSCHSAMP2</th>\n",
       "    </tr>\n",
       "  </thead>\n",
       "  <tbody>\n",
       "    <tr>\n",
       "      <th>0</th>\n",
       "      <td>K001</td>\n",
       "      <td>0.3430</td>\n",
       "      <td>0.2110</td>\n",
       "      <td>0.1945</td>\n",
       "      <td>0.2070</td>\n",
       "      <td>0.1375</td>\n",
       "      <td>0.1960</td>\n",
       "      <td>0.2480</td>\n",
       "      <td>-0.019780</td>\n",
       "      <td>-0.220130</td>\n",
       "      <td>...</td>\n",
       "      <td>1.178511</td>\n",
       "      <td>15K001</td>\n",
       "      <td>PS1 BERGEN</td>\n",
       "      <td>K001</td>\n",
       "      <td>0.0</td>\n",
       "      <td>0.0</td>\n",
       "      <td>0.0</td>\n",
       "      <td>ELEMENTARY</td>\n",
       "      <td>GENERAL ACADEMIC</td>\n",
       "      <td>7</td>\n",
       "    </tr>\n",
       "    <tr>\n",
       "      <th>2</th>\n",
       "      <td>K003</td>\n",
       "      <td>0.2670</td>\n",
       "      <td>0.0255</td>\n",
       "      <td>0.0830</td>\n",
       "      <td>0.1700</td>\n",
       "      <td>0.2225</td>\n",
       "      <td>-0.0050</td>\n",
       "      <td>0.1015</td>\n",
       "      <td>-0.110000</td>\n",
       "      <td>-0.300000</td>\n",
       "      <td>...</td>\n",
       "      <td>0.615699</td>\n",
       "      <td>13K003</td>\n",
       "      <td>THE BEDFORD VILLAGE</td>\n",
       "      <td>K003</td>\n",
       "      <td>0.0</td>\n",
       "      <td>0.0</td>\n",
       "      <td>0.0</td>\n",
       "      <td>ELEMENTARY</td>\n",
       "      <td>GENERAL ACADEMIC</td>\n",
       "      <td>7</td>\n",
       "    </tr>\n",
       "    <tr>\n",
       "      <th>4</th>\n",
       "      <td>K005</td>\n",
       "      <td>0.3680</td>\n",
       "      <td>0.2385</td>\n",
       "      <td>0.2580</td>\n",
       "      <td>0.2880</td>\n",
       "      <td>0.4385</td>\n",
       "      <td>0.1570</td>\n",
       "      <td>0.2370</td>\n",
       "      <td>-0.991667</td>\n",
       "      <td>-0.683333</td>\n",
       "      <td>...</td>\n",
       "      <td>2.205108</td>\n",
       "      <td>16K005</td>\n",
       "      <td>PS 005</td>\n",
       "      <td>K005</td>\n",
       "      <td>0.0</td>\n",
       "      <td>0.0</td>\n",
       "      <td>0.0</td>\n",
       "      <td>ELEMENTARY</td>\n",
       "      <td>GENERAL ACADEMIC</td>\n",
       "      <td>7</td>\n",
       "    </tr>\n",
       "    <tr>\n",
       "      <th>5</th>\n",
       "      <td>K006</td>\n",
       "      <td>0.3075</td>\n",
       "      <td>0.1520</td>\n",
       "      <td>0.1525</td>\n",
       "      <td>0.2100</td>\n",
       "      <td>0.0880</td>\n",
       "      <td>0.2160</td>\n",
       "      <td>0.1910</td>\n",
       "      <td>0.385714</td>\n",
       "      <td>-0.400000</td>\n",
       "      <td>...</td>\n",
       "      <td>1.294786</td>\n",
       "      <td>17K006</td>\n",
       "      <td>PS 6</td>\n",
       "      <td>K006</td>\n",
       "      <td>0.0</td>\n",
       "      <td>0.0</td>\n",
       "      <td>0.0</td>\n",
       "      <td>ELEMENTARY</td>\n",
       "      <td>GENERAL ACADEMIC</td>\n",
       "      <td>7</td>\n",
       "    </tr>\n",
       "    <tr>\n",
       "      <th>6</th>\n",
       "      <td>K007</td>\n",
       "      <td>0.2760</td>\n",
       "      <td>0.2560</td>\n",
       "      <td>0.2605</td>\n",
       "      <td>0.1755</td>\n",
       "      <td>0.2275</td>\n",
       "      <td>0.2315</td>\n",
       "      <td>0.2280</td>\n",
       "      <td>-0.243750</td>\n",
       "      <td>-0.120000</td>\n",
       "      <td>...</td>\n",
       "      <td>1.816590</td>\n",
       "      <td>19K007</td>\n",
       "      <td>ABRAHAM LINCOLN</td>\n",
       "      <td>K007</td>\n",
       "      <td>0.0</td>\n",
       "      <td>0.0</td>\n",
       "      <td>0.0</td>\n",
       "      <td>ELEMENTARY</td>\n",
       "      <td>GENERAL ACADEMIC</td>\n",
       "      <td>7</td>\n",
       "    </tr>\n",
       "  </tbody>\n",
       "</table>\n",
       "<p>5 rows × 325 columns</p>\n",
       "</div>"
      ],
      "text/plain": [
       "  BNLONG  ATTPCTG01 trend96_16  ATTPCTG02 trend96_16  ATTPCTG03 trend96_16  \\\n",
       "0   K001                0.3430                0.2110                0.1945   \n",
       "2   K003                0.2670                0.0255                0.0830   \n",
       "4   K005                0.3680                0.2385                0.2580   \n",
       "5   K006                0.3075                0.1520                0.1525   \n",
       "6   K007                0.2760                0.2560                0.2605   \n",
       "\n",
       "   ATTPCTG04 trend96_16  ATTPCTG05 trend96_16  ATTPCTKID trend96_16  \\\n",
       "0                0.2070                0.1375                0.1960   \n",
       "2                0.1700                0.2225               -0.0050   \n",
       "4                0.2880                0.4385                0.1570   \n",
       "5                0.2100                0.0880                0.2160   \n",
       "6                0.1755                0.2275                0.2315   \n",
       "\n",
       "   ATTPCTTOT trend96_16  CLSAVGG01 trend96_16  CLSAVGG02 trend96_16  \\\n",
       "0                0.2480             -0.019780             -0.220130   \n",
       "2                0.1015             -0.110000             -0.300000   \n",
       "4                0.2370             -0.991667             -0.683333   \n",
       "5                0.1910              0.385714             -0.400000   \n",
       "6                0.2280             -0.243750             -0.120000   \n",
       "\n",
       "      ...      ela5_decile std96_16     DBN               SCHNAM    BN  \\\n",
       "0     ...                  1.178511  15K001           PS1 BERGEN  K001   \n",
       "2     ...                  0.615699  13K003  THE BEDFORD VILLAGE  K003   \n",
       "4     ...                  2.205108  16K005               PS 005  K005   \n",
       "5     ...                  1.294786  17K006                 PS 6  K006   \n",
       "6     ...                  1.816590  19K007      ABRAHAM LINCOLN  K007   \n",
       "\n",
       "   RenewlSchl  Community_Sch  Closed   LCGSCHCAT         LCGSCHTYP  HSSCHSAMP2  \n",
       "0         0.0            0.0     0.0  ELEMENTARY  GENERAL ACADEMIC           7  \n",
       "2         0.0            0.0     0.0  ELEMENTARY  GENERAL ACADEMIC           7  \n",
       "4         0.0            0.0     0.0  ELEMENTARY  GENERAL ACADEMIC           7  \n",
       "5         0.0            0.0     0.0  ELEMENTARY  GENERAL ACADEMIC           7  \n",
       "6         0.0            0.0     0.0  ELEMENTARY  GENERAL ACADEMIC           7  \n",
       "\n",
       "[5 rows x 325 columns]"
      ]
     },
     "execution_count": 254,
     "metadata": {},
     "output_type": "execute_result"
    }
   ],
   "source": [
    "# CReate School DF\n",
    "Elemdf = df[df.LCGSCHCAT == 'ELEMENTARY']\n",
    "\n",
    "# Drop columns and rows with all Nulls\n",
    "Elemdf.dropna(axis=1, how='all', inplace=True)\n",
    "Elemdf.dropna(axis=0, how='all', inplace=True)\n",
    "\n",
    "# Drop columns from unnecessary data\n",
    "# Grades\n",
    "Grades = ['G06','G07','G08','G09','G10','G11','G12']\n",
    "for grd in Grades:\n",
    "    Elemdf = Elemdf[Elemdf.columns[~Elemdf.columns.str.contains(grd)]]\n",
    "\n",
    "# Other things\n",
    "Colsdrop = ['CBO']\n",
    "for cols in Colsdrop:\n",
    "    Elemdf = Elemdf[Elemdf.columns[~Elemdf.columns.str.contains(cols)]]\n",
    "    \n",
    "# Drop all values with more than 100 nulls\n",
    "for col in Elemdf.columns:\n",
    "    if Elemdf[col].isnull().sum() >= 100:\n",
    "        Elemdf.drop([col], axis=1, inplace=True)\n",
    "        \n",
    "print('Original Size: ' + str(Elemdf.shape[0]))\n",
    "        \n",
    "# Drop all Null values - does not reduce data set too much\n",
    "Elemdf.dropna(inplace=True)\n",
    "\n",
    "# Drop rows with ranges below 2 in any remaining field  and drop all range fields\n",
    "for i in Elemdf.columns[Elemdf.columns.str.contains('range')]:\n",
    "    Elemdf = Elemdf[~(Elemdf[i] < 2)]\n",
    "    Elemdf.drop([i], axis=1, inplace=True)\n",
    "\n",
    "print('Post Cleaning Size: ' + str(Elemdf.shape[0]))\n",
    "print('Number of Renewal Schools ' + str(Elemdf.RenewlSchl.sum()))\n",
    "print('Number of Community Schools ' + str(Elemdf.Community_Sch.sum()))\n",
    "print('Number of Closed Schools ' + str(Elemdf.Closed.sum()))\n",
    "\n",
    "# Preview\n",
    "Elemdf.head()"
   ]
  },
  {
   "cell_type": "markdown",
   "metadata": {},
   "source": [
    "# Define X for fitting\n",
    "#### Y's are specific columns that are being fit"
   ]
  },
  {
   "cell_type": "code",
   "execution_count": 261,
   "metadata": {},
   "outputs": [],
   "source": [
    "# Define X for each data set\n",
    "HighX = Highdf.loc[:,'BNLONG':'DBN'].drop(['BNLONG','DBN'], axis=1)\n",
    "MidX = Middf.loc[:,'BNLONG':'DBN'].drop(['BNLONG','DBN'], axis=1)\n",
    "ElemX = Elemdf.loc[:,'BNLONG':'DBN'].drop(['BNLONG','DBN'], axis=1)"
   ]
  },
  {
   "cell_type": "markdown",
   "metadata": {},
   "source": [
    "# Normalize Data\n",
    " DO we need to normalize data?"
   ]
  },
  {
   "cell_type": "code",
   "execution_count": null,
   "metadata": {},
   "outputs": [],
   "source": []
  },
  {
   "cell_type": "code",
   "execution_count": null,
   "metadata": {},
   "outputs": [],
   "source": []
  },
  {
   "cell_type": "markdown",
   "metadata": {},
   "source": [
    "# Renewal Schools"
   ]
  },
  {
   "cell_type": "code",
   "execution_count": 264,
   "metadata": {},
   "outputs": [],
   "source": [
    "# Define Y for renewal\n",
    "HighY = Highdf.RenewlSchl\n",
    "MidY = Middf.RenewlSchl\n",
    "ElemY = Elemdf.RenewlSchl"
   ]
  },
  {
   "cell_type": "code",
   "execution_count": 271,
   "metadata": {},
   "outputs": [
    {
     "name": "stdout",
     "output_type": "stream",
     "text": [
      "Decision Tree Classifier Results: \n",
      "('In sample accuracy:', 1.0)\n",
      "('Out of sample accuracy:', 0.95614035087719296)\n",
      "\n",
      "\n",
      "Random Forest Classifier Results: \n",
      "('In sample accuracy:', 0.99621212121212122)\n",
      "('Out of sample accuracy:', 0.97368421052631582)\n",
      "\n",
      "\n",
      "Extra Tree Classifier Results: \n",
      "('In sample accuracy:', 1.0)\n",
      "('Out of sample accuracy:', 0.95614035087719296)\n",
      "\n",
      "\n"
     ]
    }
   ],
   "source": [
    "tree_fits(HighX, HighY)"
   ]
  },
  {
   "cell_type": "code",
   "execution_count": 270,
   "metadata": {},
   "outputs": [
    {
     "name": "stdout",
     "output_type": "stream",
     "text": [
      "Decision Tree Classifier Results: \n",
      "('In sample accuracy:', 1.0)\n",
      "('Out of sample accuracy:', 0.98148148148148151)\n",
      "\n",
      "\n",
      "Random Forest Classifier Results: \n",
      "('In sample accuracy:', 0.99199999999999999)\n",
      "('Out of sample accuracy:', 1.0)\n",
      "\n",
      "\n",
      "Extra Tree Classifier Results: \n",
      "('In sample accuracy:', 1.0)\n",
      "('Out of sample accuracy:', 0.96296296296296291)\n",
      "\n",
      "\n"
     ]
    }
   ],
   "source": [
    "tree_fits(MidX, MidY)"
   ]
  },
  {
   "cell_type": "code",
   "execution_count": 272,
   "metadata": {},
   "outputs": [
    {
     "name": "stdout",
     "output_type": "stream",
     "text": [
      "Decision Tree Classifier Results: \n",
      "('In sample accuracy:', 1.0)\n",
      "('Out of sample accuracy:', 0.97368421052631582)\n",
      "\n",
      "\n",
      "Random Forest Classifier Results: \n",
      "('In sample accuracy:', 0.99773242630385484)\n",
      "('Out of sample accuracy:', 0.97894736842105268)\n",
      "\n",
      "\n",
      "Extra Tree Classifier Results: \n",
      "('In sample accuracy:', 1.0)\n",
      "('Out of sample accuracy:', 0.9631578947368421)\n",
      "\n",
      "\n"
     ]
    }
   ],
   "source": [
    "tree_fits(ElemX, ElemY)"
   ]
  },
  {
   "cell_type": "markdown",
   "metadata": {},
   "source": [
    "### Need to do feature selection etc."
   ]
  },
  {
   "cell_type": "code",
   "execution_count": null,
   "metadata": {},
   "outputs": [],
   "source": []
  },
  {
   "cell_type": "code",
   "execution_count": 319,
   "metadata": {},
   "outputs": [
    {
     "name": "stdout",
     "output_type": "stream",
     "text": [
      "(11, 367)\n",
      "(3, 176)\n",
      "(7, 624)\n"
     ]
    }
   ],
   "source": [
    "# Down sampling of data\n",
    "print(Highdf[Highdf.RenewlSchl == 1].shape[0], Highdf[Highdf.RenewlSchl == 0].shape[0])\n",
    "print(Middf[Middf.RenewlSchl == 1].shape[0], Middf[Middf.RenewlSchl == 0].shape[0])\n",
    "print(Elemdf[Elemdf.RenewlSchl == 1].shape[0], Elemdf[Elemdf.RenewlSchl == 0].shape[0])\n"
   ]
  },
  {
   "cell_type": "code",
   "execution_count": 287,
   "metadata": {},
   "outputs": [],
   "source": [
    "#y = elem['ENRNUMAFM_cluster']\n",
    "\n",
    "X_train,X_test,y_train,y_test=train_test_split(ElemX, ElemY, test_size=0.3, random_state=999)"
   ]
  },
  {
   "cell_type": "code",
   "execution_count": 288,
   "metadata": {},
   "outputs": [
    {
     "ename": "KeyboardInterrupt",
     "evalue": "",
     "output_type": "error",
     "traceback": [
      "\u001b[0;31m\u001b[0m",
      "\u001b[0;31mKeyboardInterrupt\u001b[0mTraceback (most recent call last)",
      "\u001b[0;32m<ipython-input-288-9f7a8b7bd007>\u001b[0m in \u001b[0;36m<module>\u001b[0;34m()\u001b[0m\n\u001b[1;32m      9\u001b[0m     \u001b[0mdt\u001b[0m\u001b[0;34m=\u001b[0m\u001b[0mRandomForestClassifier\u001b[0m\u001b[0;34m(\u001b[0m\u001b[0;34m)\u001b[0m\u001b[0;31m#don't specifcy alpha in the intialization\u001b[0m\u001b[0;34m\u001b[0m\u001b[0m\n\u001b[1;32m     10\u001b[0m     \u001b[0mgr\u001b[0m\u001b[0;34m=\u001b[0m\u001b[0mGridSearchCV\u001b[0m\u001b[0;34m(\u001b[0m\u001b[0mdt\u001b[0m\u001b[0;34m,\u001b[0m\u001b[0mparam_grid\u001b[0m\u001b[0;34m=\u001b[0m\u001b[0mparam_grid\u001b[0m\u001b[0;34m)\u001b[0m\u001b[0;31m#pass in predictor, and gridded parameters\u001b[0m\u001b[0;34m\u001b[0m\u001b[0m\n\u001b[0;32m---> 11\u001b[0;31m     \u001b[0mrs\u001b[0m\u001b[0;34m=\u001b[0m\u001b[0mgr\u001b[0m\u001b[0;34m.\u001b[0m\u001b[0mfit\u001b[0m\u001b[0;34m(\u001b[0m\u001b[0mX_train\u001b[0m\u001b[0;34m,\u001b[0m\u001b[0my_train\u001b[0m\u001b[0;34m)\u001b[0m\u001b[0;31m#run predictor with each parameter using training data\u001b[0m\u001b[0;34m\u001b[0m\u001b[0m\n\u001b[0m\u001b[1;32m     12\u001b[0m     \u001b[0;32mprint\u001b[0m \u001b[0;34m(\u001b[0m\u001b[0mrs\u001b[0m\u001b[0;34m.\u001b[0m\u001b[0mbest_params_\u001b[0m\u001b[0;34m)\u001b[0m \u001b[0;31m#will output the best parameter, the best alpha\u001b[0m\u001b[0;34m\u001b[0m\u001b[0m\n\u001b[1;32m     13\u001b[0m     \u001b[0mOS\u001b[0m\u001b[0;34m.\u001b[0m\u001b[0mappend\u001b[0m\u001b[0;34m(\u001b[0m\u001b[0;34m(\u001b[0m\u001b[0mrs\u001b[0m\u001b[0;34m.\u001b[0m\u001b[0mpredict\u001b[0m\u001b[0;34m(\u001b[0m\u001b[0mX_test\u001b[0m\u001b[0;34m)\u001b[0m \u001b[0;34m==\u001b[0m \u001b[0my_test\u001b[0m\u001b[0;34m)\u001b[0m\u001b[0;34m.\u001b[0m\u001b[0msum\u001b[0m\u001b[0;34m(\u001b[0m\u001b[0;34m)\u001b[0m \u001b[0;34m/\u001b[0m \u001b[0mlen\u001b[0m\u001b[0;34m(\u001b[0m\u001b[0my_test\u001b[0m\u001b[0;34m)\u001b[0m\u001b[0;34m)\u001b[0m\u001b[0;34m\u001b[0m\u001b[0m\n",
      "\u001b[0;32m/opt/rh/anaconda/root/envs/PUI2016_Python2/lib/python2.7/site-packages/sklearn/model_selection/_search.pyc\u001b[0m in \u001b[0;36mfit\u001b[0;34m(self, X, y, groups, **fit_params)\u001b[0m\n\u001b[1;32m    637\u001b[0m                                   error_score=self.error_score)\n\u001b[1;32m    638\u001b[0m           for parameters, (train, test) in product(candidate_params,\n\u001b[0;32m--> 639\u001b[0;31m                                                    cv.split(X, y, groups)))\n\u001b[0m\u001b[1;32m    640\u001b[0m \u001b[0;34m\u001b[0m\u001b[0m\n\u001b[1;32m    641\u001b[0m         \u001b[0;31m# if one choose to see train score, \"out\" will contain train score info\u001b[0m\u001b[0;34m\u001b[0m\u001b[0;34m\u001b[0m\u001b[0m\n",
      "\u001b[0;32m/opt/rh/anaconda/root/envs/PUI2016_Python2/lib/python2.7/site-packages/sklearn/externals/joblib/parallel.pyc\u001b[0m in \u001b[0;36m__call__\u001b[0;34m(self, iterable)\u001b[0m\n\u001b[1;32m    777\u001b[0m             \u001b[0;31m# was dispatched. In particular this covers the edge\u001b[0m\u001b[0;34m\u001b[0m\u001b[0;34m\u001b[0m\u001b[0m\n\u001b[1;32m    778\u001b[0m             \u001b[0;31m# case of Parallel used with an exhausted iterator.\u001b[0m\u001b[0;34m\u001b[0m\u001b[0;34m\u001b[0m\u001b[0m\n\u001b[0;32m--> 779\u001b[0;31m             \u001b[0;32mwhile\u001b[0m \u001b[0mself\u001b[0m\u001b[0;34m.\u001b[0m\u001b[0mdispatch_one_batch\u001b[0m\u001b[0;34m(\u001b[0m\u001b[0miterator\u001b[0m\u001b[0;34m)\u001b[0m\u001b[0;34m:\u001b[0m\u001b[0;34m\u001b[0m\u001b[0m\n\u001b[0m\u001b[1;32m    780\u001b[0m                 \u001b[0mself\u001b[0m\u001b[0;34m.\u001b[0m\u001b[0m_iterating\u001b[0m \u001b[0;34m=\u001b[0m \u001b[0mTrue\u001b[0m\u001b[0;34m\u001b[0m\u001b[0m\n\u001b[1;32m    781\u001b[0m             \u001b[0;32melse\u001b[0m\u001b[0;34m:\u001b[0m\u001b[0;34m\u001b[0m\u001b[0m\n",
      "\u001b[0;32m/opt/rh/anaconda/root/envs/PUI2016_Python2/lib/python2.7/site-packages/sklearn/externals/joblib/parallel.pyc\u001b[0m in \u001b[0;36mdispatch_one_batch\u001b[0;34m(self, iterator)\u001b[0m\n\u001b[1;32m    623\u001b[0m                 \u001b[0;32mreturn\u001b[0m \u001b[0mFalse\u001b[0m\u001b[0;34m\u001b[0m\u001b[0m\n\u001b[1;32m    624\u001b[0m             \u001b[0;32melse\u001b[0m\u001b[0;34m:\u001b[0m\u001b[0;34m\u001b[0m\u001b[0m\n\u001b[0;32m--> 625\u001b[0;31m                 \u001b[0mself\u001b[0m\u001b[0;34m.\u001b[0m\u001b[0m_dispatch\u001b[0m\u001b[0;34m(\u001b[0m\u001b[0mtasks\u001b[0m\u001b[0;34m)\u001b[0m\u001b[0;34m\u001b[0m\u001b[0m\n\u001b[0m\u001b[1;32m    626\u001b[0m                 \u001b[0;32mreturn\u001b[0m \u001b[0mTrue\u001b[0m\u001b[0;34m\u001b[0m\u001b[0m\n\u001b[1;32m    627\u001b[0m \u001b[0;34m\u001b[0m\u001b[0m\n",
      "\u001b[0;32m/opt/rh/anaconda/root/envs/PUI2016_Python2/lib/python2.7/site-packages/sklearn/externals/joblib/parallel.pyc\u001b[0m in \u001b[0;36m_dispatch\u001b[0;34m(self, batch)\u001b[0m\n\u001b[1;32m    586\u001b[0m         \u001b[0mdispatch_timestamp\u001b[0m \u001b[0;34m=\u001b[0m \u001b[0mtime\u001b[0m\u001b[0;34m.\u001b[0m\u001b[0mtime\u001b[0m\u001b[0;34m(\u001b[0m\u001b[0;34m)\u001b[0m\u001b[0;34m\u001b[0m\u001b[0m\n\u001b[1;32m    587\u001b[0m         \u001b[0mcb\u001b[0m \u001b[0;34m=\u001b[0m \u001b[0mBatchCompletionCallBack\u001b[0m\u001b[0;34m(\u001b[0m\u001b[0mdispatch_timestamp\u001b[0m\u001b[0;34m,\u001b[0m \u001b[0mlen\u001b[0m\u001b[0;34m(\u001b[0m\u001b[0mbatch\u001b[0m\u001b[0;34m)\u001b[0m\u001b[0;34m,\u001b[0m \u001b[0mself\u001b[0m\u001b[0;34m)\u001b[0m\u001b[0;34m\u001b[0m\u001b[0m\n\u001b[0;32m--> 588\u001b[0;31m         \u001b[0mjob\u001b[0m \u001b[0;34m=\u001b[0m \u001b[0mself\u001b[0m\u001b[0;34m.\u001b[0m\u001b[0m_backend\u001b[0m\u001b[0;34m.\u001b[0m\u001b[0mapply_async\u001b[0m\u001b[0;34m(\u001b[0m\u001b[0mbatch\u001b[0m\u001b[0;34m,\u001b[0m \u001b[0mcallback\u001b[0m\u001b[0;34m=\u001b[0m\u001b[0mcb\u001b[0m\u001b[0;34m)\u001b[0m\u001b[0;34m\u001b[0m\u001b[0m\n\u001b[0m\u001b[1;32m    589\u001b[0m         \u001b[0mself\u001b[0m\u001b[0;34m.\u001b[0m\u001b[0m_jobs\u001b[0m\u001b[0;34m.\u001b[0m\u001b[0mappend\u001b[0m\u001b[0;34m(\u001b[0m\u001b[0mjob\u001b[0m\u001b[0;34m)\u001b[0m\u001b[0;34m\u001b[0m\u001b[0m\n\u001b[1;32m    590\u001b[0m \u001b[0;34m\u001b[0m\u001b[0m\n",
      "\u001b[0;32m/opt/rh/anaconda/root/envs/PUI2016_Python2/lib/python2.7/site-packages/sklearn/externals/joblib/_parallel_backends.pyc\u001b[0m in \u001b[0;36mapply_async\u001b[0;34m(self, func, callback)\u001b[0m\n\u001b[1;32m    109\u001b[0m     \u001b[0;32mdef\u001b[0m \u001b[0mapply_async\u001b[0m\u001b[0;34m(\u001b[0m\u001b[0mself\u001b[0m\u001b[0;34m,\u001b[0m \u001b[0mfunc\u001b[0m\u001b[0;34m,\u001b[0m \u001b[0mcallback\u001b[0m\u001b[0;34m=\u001b[0m\u001b[0mNone\u001b[0m\u001b[0;34m)\u001b[0m\u001b[0;34m:\u001b[0m\u001b[0;34m\u001b[0m\u001b[0m\n\u001b[1;32m    110\u001b[0m         \u001b[0;34m\"\"\"Schedule a func to be run\"\"\"\u001b[0m\u001b[0;34m\u001b[0m\u001b[0m\n\u001b[0;32m--> 111\u001b[0;31m         \u001b[0mresult\u001b[0m \u001b[0;34m=\u001b[0m \u001b[0mImmediateResult\u001b[0m\u001b[0;34m(\u001b[0m\u001b[0mfunc\u001b[0m\u001b[0;34m)\u001b[0m\u001b[0;34m\u001b[0m\u001b[0m\n\u001b[0m\u001b[1;32m    112\u001b[0m         \u001b[0;32mif\u001b[0m \u001b[0mcallback\u001b[0m\u001b[0;34m:\u001b[0m\u001b[0;34m\u001b[0m\u001b[0m\n\u001b[1;32m    113\u001b[0m             \u001b[0mcallback\u001b[0m\u001b[0;34m(\u001b[0m\u001b[0mresult\u001b[0m\u001b[0;34m)\u001b[0m\u001b[0;34m\u001b[0m\u001b[0m\n",
      "\u001b[0;32m/opt/rh/anaconda/root/envs/PUI2016_Python2/lib/python2.7/site-packages/sklearn/externals/joblib/_parallel_backends.pyc\u001b[0m in \u001b[0;36m__init__\u001b[0;34m(self, batch)\u001b[0m\n\u001b[1;32m    330\u001b[0m         \u001b[0;31m# Don't delay the application, to avoid keeping the input\u001b[0m\u001b[0;34m\u001b[0m\u001b[0;34m\u001b[0m\u001b[0m\n\u001b[1;32m    331\u001b[0m         \u001b[0;31m# arguments in memory\u001b[0m\u001b[0;34m\u001b[0m\u001b[0;34m\u001b[0m\u001b[0m\n\u001b[0;32m--> 332\u001b[0;31m         \u001b[0mself\u001b[0m\u001b[0;34m.\u001b[0m\u001b[0mresults\u001b[0m \u001b[0;34m=\u001b[0m \u001b[0mbatch\u001b[0m\u001b[0;34m(\u001b[0m\u001b[0;34m)\u001b[0m\u001b[0;34m\u001b[0m\u001b[0m\n\u001b[0m\u001b[1;32m    333\u001b[0m \u001b[0;34m\u001b[0m\u001b[0m\n\u001b[1;32m    334\u001b[0m     \u001b[0;32mdef\u001b[0m \u001b[0mget\u001b[0m\u001b[0;34m(\u001b[0m\u001b[0mself\u001b[0m\u001b[0;34m)\u001b[0m\u001b[0;34m:\u001b[0m\u001b[0;34m\u001b[0m\u001b[0m\n",
      "\u001b[0;32m/opt/rh/anaconda/root/envs/PUI2016_Python2/lib/python2.7/site-packages/sklearn/externals/joblib/parallel.pyc\u001b[0m in \u001b[0;36m__call__\u001b[0;34m(self)\u001b[0m\n\u001b[1;32m    129\u001b[0m \u001b[0;34m\u001b[0m\u001b[0m\n\u001b[1;32m    130\u001b[0m     \u001b[0;32mdef\u001b[0m \u001b[0m__call__\u001b[0m\u001b[0;34m(\u001b[0m\u001b[0mself\u001b[0m\u001b[0;34m)\u001b[0m\u001b[0;34m:\u001b[0m\u001b[0;34m\u001b[0m\u001b[0m\n\u001b[0;32m--> 131\u001b[0;31m         \u001b[0;32mreturn\u001b[0m \u001b[0;34m[\u001b[0m\u001b[0mfunc\u001b[0m\u001b[0;34m(\u001b[0m\u001b[0;34m*\u001b[0m\u001b[0margs\u001b[0m\u001b[0;34m,\u001b[0m \u001b[0;34m**\u001b[0m\u001b[0mkwargs\u001b[0m\u001b[0;34m)\u001b[0m \u001b[0;32mfor\u001b[0m \u001b[0mfunc\u001b[0m\u001b[0;34m,\u001b[0m \u001b[0margs\u001b[0m\u001b[0;34m,\u001b[0m \u001b[0mkwargs\u001b[0m \u001b[0;32min\u001b[0m \u001b[0mself\u001b[0m\u001b[0;34m.\u001b[0m\u001b[0mitems\u001b[0m\u001b[0;34m]\u001b[0m\u001b[0;34m\u001b[0m\u001b[0m\n\u001b[0m\u001b[1;32m    132\u001b[0m \u001b[0;34m\u001b[0m\u001b[0m\n\u001b[1;32m    133\u001b[0m     \u001b[0;32mdef\u001b[0m \u001b[0m__len__\u001b[0m\u001b[0;34m(\u001b[0m\u001b[0mself\u001b[0m\u001b[0;34m)\u001b[0m\u001b[0;34m:\u001b[0m\u001b[0;34m\u001b[0m\u001b[0m\n",
      "\u001b[0;32m/opt/rh/anaconda/root/envs/PUI2016_Python2/lib/python2.7/site-packages/sklearn/model_selection/_validation.pyc\u001b[0m in \u001b[0;36m_fit_and_score\u001b[0;34m(estimator, X, y, scorer, train, test, verbose, parameters, fit_params, return_train_score, return_parameters, return_n_test_samples, return_times, error_score)\u001b[0m\n\u001b[1;32m    456\u001b[0m             \u001b[0mestimator\u001b[0m\u001b[0;34m.\u001b[0m\u001b[0mfit\u001b[0m\u001b[0;34m(\u001b[0m\u001b[0mX_train\u001b[0m\u001b[0;34m,\u001b[0m \u001b[0;34m**\u001b[0m\u001b[0mfit_params\u001b[0m\u001b[0;34m)\u001b[0m\u001b[0;34m\u001b[0m\u001b[0m\n\u001b[1;32m    457\u001b[0m         \u001b[0;32melse\u001b[0m\u001b[0;34m:\u001b[0m\u001b[0;34m\u001b[0m\u001b[0m\n\u001b[0;32m--> 458\u001b[0;31m             \u001b[0mestimator\u001b[0m\u001b[0;34m.\u001b[0m\u001b[0mfit\u001b[0m\u001b[0;34m(\u001b[0m\u001b[0mX_train\u001b[0m\u001b[0;34m,\u001b[0m \u001b[0my_train\u001b[0m\u001b[0;34m,\u001b[0m \u001b[0;34m**\u001b[0m\u001b[0mfit_params\u001b[0m\u001b[0;34m)\u001b[0m\u001b[0;34m\u001b[0m\u001b[0m\n\u001b[0m\u001b[1;32m    459\u001b[0m \u001b[0;34m\u001b[0m\u001b[0m\n\u001b[1;32m    460\u001b[0m     \u001b[0;32mexcept\u001b[0m \u001b[0mException\u001b[0m \u001b[0;32mas\u001b[0m \u001b[0me\u001b[0m\u001b[0;34m:\u001b[0m\u001b[0;34m\u001b[0m\u001b[0m\n",
      "\u001b[0;32m/opt/rh/anaconda/root/envs/PUI2016_Python2/lib/python2.7/site-packages/sklearn/ensemble/forest.pyc\u001b[0m in \u001b[0;36mfit\u001b[0;34m(self, X, y, sample_weight)\u001b[0m\n\u001b[1;32m    271\u001b[0m         \u001b[0mself\u001b[0m\u001b[0;34m.\u001b[0m\u001b[0mn_outputs_\u001b[0m \u001b[0;34m=\u001b[0m \u001b[0my\u001b[0m\u001b[0;34m.\u001b[0m\u001b[0mshape\u001b[0m\u001b[0;34m[\u001b[0m\u001b[0;36m1\u001b[0m\u001b[0;34m]\u001b[0m\u001b[0;34m\u001b[0m\u001b[0m\n\u001b[1;32m    272\u001b[0m \u001b[0;34m\u001b[0m\u001b[0m\n\u001b[0;32m--> 273\u001b[0;31m         \u001b[0my\u001b[0m\u001b[0;34m,\u001b[0m \u001b[0mexpanded_class_weight\u001b[0m \u001b[0;34m=\u001b[0m \u001b[0mself\u001b[0m\u001b[0;34m.\u001b[0m\u001b[0m_validate_y_class_weight\u001b[0m\u001b[0;34m(\u001b[0m\u001b[0my\u001b[0m\u001b[0;34m)\u001b[0m\u001b[0;34m\u001b[0m\u001b[0m\n\u001b[0m\u001b[1;32m    274\u001b[0m \u001b[0;34m\u001b[0m\u001b[0m\n\u001b[1;32m    275\u001b[0m         \u001b[0;32mif\u001b[0m \u001b[0mgetattr\u001b[0m\u001b[0;34m(\u001b[0m\u001b[0my\u001b[0m\u001b[0;34m,\u001b[0m \u001b[0;34m\"dtype\"\u001b[0m\u001b[0;34m,\u001b[0m \u001b[0mNone\u001b[0m\u001b[0;34m)\u001b[0m \u001b[0;34m!=\u001b[0m \u001b[0mDOUBLE\u001b[0m \u001b[0;32mor\u001b[0m \u001b[0;32mnot\u001b[0m \u001b[0my\u001b[0m\u001b[0;34m.\u001b[0m\u001b[0mflags\u001b[0m\u001b[0;34m.\u001b[0m\u001b[0mcontiguous\u001b[0m\u001b[0;34m:\u001b[0m\u001b[0;34m\u001b[0m\u001b[0m\n",
      "\u001b[0;32m/opt/rh/anaconda/root/envs/PUI2016_Python2/lib/python2.7/site-packages/sklearn/ensemble/forest.pyc\u001b[0m in \u001b[0;36m_validate_y_class_weight\u001b[0;34m(self, y)\u001b[0m\n\u001b[1;32m    469\u001b[0m \u001b[0;34m\u001b[0m\u001b[0m\n\u001b[1;32m    470\u001b[0m     \u001b[0;32mdef\u001b[0m \u001b[0m_validate_y_class_weight\u001b[0m\u001b[0;34m(\u001b[0m\u001b[0mself\u001b[0m\u001b[0;34m,\u001b[0m \u001b[0my\u001b[0m\u001b[0;34m)\u001b[0m\u001b[0;34m:\u001b[0m\u001b[0;34m\u001b[0m\u001b[0m\n\u001b[0;32m--> 471\u001b[0;31m         \u001b[0mcheck_classification_targets\u001b[0m\u001b[0;34m(\u001b[0m\u001b[0my\u001b[0m\u001b[0;34m)\u001b[0m\u001b[0;34m\u001b[0m\u001b[0m\n\u001b[0m\u001b[1;32m    472\u001b[0m \u001b[0;34m\u001b[0m\u001b[0m\n\u001b[1;32m    473\u001b[0m         \u001b[0my\u001b[0m \u001b[0;34m=\u001b[0m \u001b[0mnp\u001b[0m\u001b[0;34m.\u001b[0m\u001b[0mcopy\u001b[0m\u001b[0;34m(\u001b[0m\u001b[0my\u001b[0m\u001b[0;34m)\u001b[0m\u001b[0;34m\u001b[0m\u001b[0m\n",
      "\u001b[0;32m/opt/rh/anaconda/root/envs/PUI2016_Python2/lib/python2.7/site-packages/sklearn/utils/multiclass.pyc\u001b[0m in \u001b[0;36mcheck_classification_targets\u001b[0;34m(y)\u001b[0m\n\u001b[1;32m    167\u001b[0m     \u001b[0my\u001b[0m \u001b[0;34m:\u001b[0m \u001b[0marray\u001b[0m\u001b[0;34m-\u001b[0m\u001b[0mlike\u001b[0m\u001b[0;34m\u001b[0m\u001b[0m\n\u001b[1;32m    168\u001b[0m     \"\"\"\n\u001b[0;32m--> 169\u001b[0;31m     \u001b[0my_type\u001b[0m \u001b[0;34m=\u001b[0m \u001b[0mtype_of_target\u001b[0m\u001b[0;34m(\u001b[0m\u001b[0my\u001b[0m\u001b[0;34m)\u001b[0m\u001b[0;34m\u001b[0m\u001b[0m\n\u001b[0m\u001b[1;32m    170\u001b[0m     if y_type not in ['binary', 'multiclass', 'multiclass-multioutput',\n\u001b[1;32m    171\u001b[0m                       'multilabel-indicator', 'multilabel-sequences']:\n",
      "\u001b[0;32m/opt/rh/anaconda/root/envs/PUI2016_Python2/lib/python2.7/site-packages/sklearn/utils/multiclass.pyc\u001b[0m in \u001b[0;36mtype_of_target\u001b[0;34m(y)\u001b[0m\n\u001b[1;32m    286\u001b[0m         \u001b[0;32mreturn\u001b[0m \u001b[0;34m'continuous'\u001b[0m \u001b[0;34m+\u001b[0m \u001b[0msuffix\u001b[0m\u001b[0;34m\u001b[0m\u001b[0m\n\u001b[1;32m    287\u001b[0m \u001b[0;34m\u001b[0m\u001b[0m\n\u001b[0;32m--> 288\u001b[0;31m     \u001b[0;32mif\u001b[0m \u001b[0;34m(\u001b[0m\u001b[0mlen\u001b[0m\u001b[0;34m(\u001b[0m\u001b[0mnp\u001b[0m\u001b[0;34m.\u001b[0m\u001b[0munique\u001b[0m\u001b[0;34m(\u001b[0m\u001b[0my\u001b[0m\u001b[0;34m)\u001b[0m\u001b[0;34m)\u001b[0m \u001b[0;34m>\u001b[0m \u001b[0;36m2\u001b[0m\u001b[0;34m)\u001b[0m \u001b[0;32mor\u001b[0m \u001b[0;34m(\u001b[0m\u001b[0my\u001b[0m\u001b[0;34m.\u001b[0m\u001b[0mndim\u001b[0m \u001b[0;34m>=\u001b[0m \u001b[0;36m2\u001b[0m \u001b[0;32mand\u001b[0m \u001b[0mlen\u001b[0m\u001b[0;34m(\u001b[0m\u001b[0my\u001b[0m\u001b[0;34m[\u001b[0m\u001b[0;36m0\u001b[0m\u001b[0;34m]\u001b[0m\u001b[0;34m)\u001b[0m \u001b[0;34m>\u001b[0m \u001b[0;36m1\u001b[0m\u001b[0;34m)\u001b[0m\u001b[0;34m:\u001b[0m\u001b[0;34m\u001b[0m\u001b[0m\n\u001b[0m\u001b[1;32m    289\u001b[0m         \u001b[0;32mreturn\u001b[0m \u001b[0;34m'multiclass'\u001b[0m \u001b[0;34m+\u001b[0m \u001b[0msuffix\u001b[0m  \u001b[0;31m# [1, 2, 3] or [[1., 2., 3]] or [[1, 2]]\u001b[0m\u001b[0;34m\u001b[0m\u001b[0m\n\u001b[1;32m    290\u001b[0m     \u001b[0;32melse\u001b[0m\u001b[0;34m:\u001b[0m\u001b[0;34m\u001b[0m\u001b[0m\n",
      "\u001b[0;32m/opt/rh/anaconda/root/envs/PUI2016_Python2/lib/python2.7/site-packages/numpy/lib/arraysetops.pyc\u001b[0m in \u001b[0;36munique\u001b[0;34m(ar, return_index, return_inverse, return_counts)\u001b[0m\n\u001b[1;32m    179\u001b[0m     \u001b[0moptional_returns\u001b[0m \u001b[0;34m=\u001b[0m \u001b[0moptional_indices\u001b[0m \u001b[0;32mor\u001b[0m \u001b[0mreturn_counts\u001b[0m\u001b[0;34m\u001b[0m\u001b[0m\n\u001b[1;32m    180\u001b[0m \u001b[0;34m\u001b[0m\u001b[0m\n\u001b[0;32m--> 181\u001b[0;31m     \u001b[0;32mif\u001b[0m \u001b[0mar\u001b[0m\u001b[0;34m.\u001b[0m\u001b[0msize\u001b[0m \u001b[0;34m==\u001b[0m \u001b[0;36m0\u001b[0m\u001b[0;34m:\u001b[0m\u001b[0;34m\u001b[0m\u001b[0m\n\u001b[0m\u001b[1;32m    182\u001b[0m         \u001b[0;32mif\u001b[0m \u001b[0;32mnot\u001b[0m \u001b[0moptional_returns\u001b[0m\u001b[0;34m:\u001b[0m\u001b[0;34m\u001b[0m\u001b[0m\n\u001b[1;32m    183\u001b[0m             \u001b[0mret\u001b[0m \u001b[0;34m=\u001b[0m \u001b[0mar\u001b[0m\u001b[0;34m\u001b[0m\u001b[0m\n",
      "\u001b[0;31mKeyboardInterrupt\u001b[0m: "
     ]
    }
   ],
   "source": [
    "\n",
    "#from sklearn.model_selection import GridSearchCV \n",
    "param_grid ={'max_depth':np.arange(1,20,2),\n",
    "            'max_leaf_nodes':np.arange(2,20,2)} #choose a grid of parameters\n",
    "\n",
    "OS=[]\n",
    "for i in range(10):\n",
    "    #X_train, X_test, y_train, y_test = train_test_split(X, y, test_size = 0.4, random_state = i)\n",
    "    dt=RandomForestClassifier()#don't specifcy alpha in the intialization\n",
    "    gr=GridSearchCV(dt,param_grid=param_grid)#pass in predictor, and gridded parameters\n",
    "    rs=gr.fit(X_train,y_train)#run predictor with each parameter using training data\n",
    "    print (rs.best_params_) #will output the best parameter, the best alpha\n",
    "    OS.append((rs.predict(X_test) == y_test).sum() / len(y_test))\n",
    "print (np.mean(OS))"
   ]
  },
  {
   "cell_type": "code",
   "execution_count": null,
   "metadata": {},
   "outputs": [],
   "source": []
  },
  {
   "cell_type": "code",
   "execution_count": null,
   "metadata": {},
   "outputs": [],
   "source": []
  },
  {
   "cell_type": "code",
   "execution_count": null,
   "metadata": {},
   "outputs": [],
   "source": []
  },
  {
   "cell_type": "markdown",
   "metadata": {},
   "source": [
    "# Communtiy Schools"
   ]
  },
  {
   "cell_type": "code",
   "execution_count": 344,
   "metadata": {},
   "outputs": [],
   "source": [
    "# Define Y for renewal\n",
    "HighY = Highdf.Community_Sch\n",
    "MidY = Middf.Community_Sch\n",
    "ElemY = Elemdf.Community_Sch"
   ]
  },
  {
   "cell_type": "markdown",
   "metadata": {},
   "source": [
    "### Preliminary Analysis"
   ]
  },
  {
   "cell_type": "code",
   "execution_count": 348,
   "metadata": {},
   "outputs": [
    {
     "name": "stdout",
     "output_type": "stream",
     "text": [
      "High\n",
      "Decision Tree Classifier Results: \n",
      "('In sample accuracy:', 1.0)\n",
      "('Out of sample accuracy:', 0.70175438596491224)\n",
      "\n",
      "\n",
      "Random Forest Classifier Results: \n",
      "('In sample accuracy:', 0.97727272727272729)\n",
      "('Out of sample accuracy:', 0.84210526315789469)\n",
      "\n",
      "\n",
      "Extra Tree Classifier Results: \n",
      "('In sample accuracy:', 1.0)\n",
      "('Out of sample accuracy:', 0.74561403508771928)\n",
      "\n",
      "\n",
      "Middle\n",
      "Decision Tree Classifier Results: \n",
      "('In sample accuracy:', 1.0)\n",
      "('Out of sample accuracy:', 0.55555555555555558)\n",
      "\n",
      "\n",
      "Random Forest Classifier Results: \n",
      "('In sample accuracy:', 0.95999999999999996)\n",
      "('Out of sample accuracy:', 0.77777777777777779)\n",
      "\n",
      "\n",
      "Extra Tree Classifier Results: \n",
      "('In sample accuracy:', 1.0)\n",
      "('Out of sample accuracy:', 0.81481481481481477)\n",
      "\n",
      "\n",
      "Elem\n",
      "Decision Tree Classifier Results: \n",
      "('In sample accuracy:', 1.0)\n",
      "('Out of sample accuracy:', 0.77894736842105261)\n",
      "\n",
      "\n",
      "Random Forest Classifier Results: \n",
      "('In sample accuracy:', 0.97959183673469385)\n",
      "('Out of sample accuracy:', 0.86315789473684212)\n",
      "\n",
      "\n",
      "Extra Tree Classifier Results: \n",
      "('In sample accuracy:', 1.0)\n",
      "('Out of sample accuracy:', 0.82105263157894737)\n",
      "\n",
      "\n"
     ]
    }
   ],
   "source": [
    "print(\"High\")\n",
    "tree_fits(HighX, HighY)\n",
    "print(\"Middle\")\n",
    "tree_fits(MidX, MidY)\n",
    "print(\"Elem\")\n",
    "tree_fits(ElemX, ElemY)"
   ]
  },
  {
   "cell_type": "markdown",
   "metadata": {},
   "source": [
    "### Understand Data Mixes\n",
    "(True, False)"
   ]
  },
  {
   "cell_type": "code",
   "execution_count": 341,
   "metadata": {},
   "outputs": [
    {
     "name": "stdout",
     "output_type": "stream",
     "text": [
      "(True, False)\n",
      "(63, 315)\n",
      "(48, 131)\n",
      "(73, 558)\n"
     ]
    }
   ],
   "source": [
    "# Down sampling of data\n",
    "print(True, False)\n",
    "print(Highdf[Highdf.Community_Sch == 1].shape[0], Highdf[Highdf.Community_Sch == 0].shape[0])\n",
    "print(Middf[Middf.Community_Sch == 1].shape[0], Middf[Middf.Community_Sch == 0].shape[0])\n",
    "print(Elemdf[Elemdf.Community_Sch == 1].shape[0], Elemdf[Elemdf.Community_Sch == 0].shape[0])"
   ]
  },
  {
   "cell_type": "markdown",
   "metadata": {},
   "source": [
    "### AUC ROC"
   ]
  },
  {
   "cell_type": "markdown",
   "metadata": {},
   "source": [
    "#### High"
   ]
  },
  {
   "cell_type": "code",
   "execution_count": 363,
   "metadata": {},
   "outputs": [
    {
     "name": "stdout",
     "output_type": "stream",
     "text": [
      "{'max_depth': 2}\n",
      "0.642510612492\n"
     ]
    }
   ],
   "source": [
    "X_train,X_test,y_train,y_test=train_test_split(HighX, HighY, test_size=0.3, random_state=999)\n",
    "\n",
    "# This time we'll use max_depth to control the complexity of the tree, still using the same train/test split as above,\n",
    "# and optimize the parameter value using GridSearchCV.\n",
    "param_grid = {'max_depth':range(1,11)}\n",
    "dt=DecisionTreeClassifier()\n",
    "gr=GridSearchCV(dt,param_grid=param_grid,scoring='roc_auc')\n",
    "rs=gr.fit(X_train,y_train)\n",
    "print rs.best_params_\n",
    "print roc_auc_score(np.array(y_test),rs.predict_proba(X_test)[:,1])"
   ]
  },
  {
   "cell_type": "code",
   "execution_count": 361,
   "metadata": {
    "scrolled": true
   },
   "outputs": [
    {
     "name": "stdout",
     "output_type": "stream",
     "text": [
      "OS AUC 0.520822969886\n",
      "0.476094686502\n"
     ]
    },
    {
     "data": {
      "image/png": "[encoded data removed]",
      "text/plain": [
       "<matplotlib.figure.Figure at 0x7fb4bc9e2dd0>"
      ]
     },
     "metadata": {},
     "output_type": "display_data"
    }
   ],
   "source": [
    "X_train,X_test,y_train,y_test=train_test_split(ElemX, ElemY, test_size=0.3, random_state=999)\n",
    "\n",
    "\n",
    "AUC_OS=[]\n",
    "for i in range(10):\n",
    "    X_train,X_test,y_train,y_test=train_test_split(ElemX, ElemY, test_size=0.3, random_state=i)\n",
    "    dt=DecisionTreeClassifier()\n",
    "    dt.fit(X_train,y_train)\n",
    "    # predict_proba predicts the probability of each class rather than just the most likely class\n",
    "    pred=dt.predict_proba(X_test)[:,1] # predicted probability of y = 1\n",
    "    AUC_OS.append(roc_auc_score(np.array(y_test),pred))\n",
    "print \"OS AUC\",np.mean(AUC_OS)\n",
    "\n",
    "# How well would we expect to do just by chance?\n",
    "chance_OS=[]\n",
    "for i in range(10):\n",
    "    X_train,X_test,y_train,y_test=train_test_split(ElemX, ElemY, test_size=0.3, random_state=i)\n",
    "    pred=np.random.random(len(X_test))\n",
    "    chance_OS.append(roc_auc_score(np.array(y_test.apply(int)),pred))\n",
    "print np.mean(chance_OS)\n",
    "\n",
    "# Let's just use a single train/test split for this part:\n",
    "X_train,X_test,y_train,y_test=train_test_split(ElemX, ElemY, test_size=0.3,random_state=999)\n",
    "AUC_OS=[]\n",
    "for i in range(2,500,25):\n",
    "    dt=DecisionTreeClassifier(max_leaf_nodes=i)\n",
    "    dt.fit(X_train,y_train)\n",
    "    AUC_OS.append(roc_auc_score(np.array(y_test),dt.predict_proba(X_test)[:,1]))\n",
    "    \n",
    "import matplotlib.pylab as plt\n",
    "plt.figure(figsize=(7,5))\n",
    "plt.plot(range(2,500,25),AUC_OS)\n",
    "plt.xlabel(\"Max leaf nodes\")\n",
    "plt.ylabel(\"OS_AUC\")\n",
    "plt.title(\"AUC vs Simplicity (max leaf nodes)\")\n",
    "plt.xlim(2,500)\n",
    "plt.show()"
   ]
  },
  {
   "cell_type": "markdown",
   "metadata": {},
   "source": [
    "#### Middle"
   ]
  },
  {
   "cell_type": "code",
   "execution_count": 360,
   "metadata": {},
   "outputs": [
    {
     "name": "stdout",
     "output_type": "stream",
     "text": [
      "OS AUC 0.519385678286\n",
      "0.601726296045\n"
     ]
    },
    {
     "data": {
      "image/png": "[encoded data removed]",
      "text/plain": [
       "<matplotlib.figure.Figure at 0x7fb4bc98f750>"
      ]
     },
     "metadata": {},
     "output_type": "display_data"
    }
   ],
   "source": [
    "X_train,X_test,y_train,y_test=train_test_split(MidX, MidY, test_size=0.3, random_state=999)\n",
    "\n",
    "AUC_OS=[]\n",
    "for i in range(10):\n",
    "    X_train,X_test,y_train,y_test=train_test_split(MidX, MidY, test_size=0.3, random_state=i)\n",
    "    dt=DecisionTreeClassifier()\n",
    "    dt.fit(X_train,y_train)\n",
    "    # predict_proba predicts the probability of each class rather than just the most likely class\n",
    "    pred=dt.predict_proba(X_test)[:,1] # predicted probability of y = 1\n",
    "    AUC_OS.append(roc_auc_score(np.array(y_test),pred))\n",
    "print \"OS AUC\",np.mean(AUC_OS)\n",
    "\n",
    "# How well would we expect to do just by chance?\n",
    "chance_OS=[]\n",
    "for i in range(10):\n",
    "    X_train,X_test,y_train,y_test=train_test_split(MidX, MidY, test_size=0.3, random_state=i)\n",
    "    pred=np.random.random(len(X_test))\n",
    "    chance_OS.append(roc_auc_score(np.array(y_test.apply(int)),pred))\n",
    "print np.mean(chance_OS)\n",
    "\n",
    "# Let's just use a single train/test split for this part:\n",
    "X_train,X_test,y_train,y_test=train_test_split(MidX, MidY, test_size=0.3,random_state=999)\n",
    "AUC_OS=[]\n",
    "for i in range(2,500,25):\n",
    "    dt=DecisionTreeClassifier(max_leaf_nodes=i)\n",
    "    dt.fit(X_train,y_train)\n",
    "    AUC_OS.append(roc_auc_score(np.array(y_test),dt.predict_proba(X_test)[:,1]))\n",
    "    \n",
    "import matplotlib.pylab as plt\n",
    "plt.figure(figsize=(7,5))\n",
    "plt.plot(range(2,500,25),AUC_OS)\n",
    "plt.xlabel(\"Max leaf nodes\")\n",
    "plt.ylabel(\"OS_AUC\")\n",
    "plt.title(\"AUC vs Simplicity (max leaf nodes)\")\n",
    "plt.xlim(2,500)\n",
    "plt.show()"
   ]
  },
  {
   "cell_type": "code",
   "execution_count": 364,
   "metadata": {},
   "outputs": [
    {
     "name": "stdout",
     "output_type": "stream",
     "text": [
      "{'max_depth': 1}\n",
      "0.544642857143\n"
     ]
    }
   ],
   "source": [
    "X_train,X_test,y_train,y_test=train_test_split(MidX, MidY, test_size=0.3, random_state=999)\n",
    "\n",
    "# This time we'll use max_depth to control the complexity of the tree, still using the same train/test split as above,\n",
    "# and optimize the parameter value using GridSearchCV.\n",
    "param_grid = {'max_depth':range(1,11)}\n",
    "dt=DecisionTreeClassifier()\n",
    "gr=GridSearchCV(dt,param_grid=param_grid,scoring='roc_auc')\n",
    "rs=gr.fit(X_train,y_train)\n",
    "print rs.best_params_\n",
    "print roc_auc_score(np.array(y_test),rs.predict_proba(X_test)[:,1])"
   ]
  },
  {
   "cell_type": "markdown",
   "metadata": {},
   "source": [
    "#### Elem"
   ]
  },
  {
   "cell_type": "code",
   "execution_count": 359,
   "metadata": {},
   "outputs": [
    {
     "name": "stdout",
     "output_type": "stream",
     "text": [
      "OS AUC 0.526173609288\n",
      "0.463877537677\n"
     ]
    },
    {
     "data": {
      "image/png": "[encoded data removed]",
      "text/plain": [
       "<matplotlib.figure.Figure at 0x7fb4bce0d090>"
      ]
     },
     "metadata": {},
     "output_type": "display_data"
    }
   ],
   "source": [
    "X_train,X_test,y_train,y_test=train_test_split(ElemX, ElemY, test_size=0.3, random_state=999)\n",
    "\n",
    "AUC_OS=[]\n",
    "for i in range(10):\n",
    "    X_train,X_test,y_train,y_test=train_test_split(ElemX, ElemY, test_size=0.3, random_state=i)\n",
    "    dt=DecisionTreeClassifier()\n",
    "    dt.fit(X_train,y_train)\n",
    "    # predict_proba predicts the probability of each class rather than just the most likely class\n",
    "    pred=dt.predict_proba(X_test)[:,1] # predicted probability of y = 1\n",
    "    AUC_OS.append(roc_auc_score(np.array(y_test),pred))\n",
    "print \"OS AUC\",np.mean(AUC_OS)\n",
    "\n",
    "# How well would we expect to do just by chance?\n",
    "chance_OS=[]\n",
    "for i in range(10):\n",
    "    X_train,X_test,y_train,y_test=train_test_split(ElemX, ElemY, test_size=0.3, random_state=i)\n",
    "    pred=np.random.random(len(X_test))\n",
    "    chance_OS.append(roc_auc_score(np.array(y_test.apply(int)),pred))\n",
    "print np.mean(chance_OS)\n",
    "\n",
    "# Let's just use a single train/test split for this part:\n",
    "X_train,X_test,y_train,y_test=train_test_split(ElemX, ElemY, test_size=0.3,random_state=999)\n",
    "AUC_OS=[]\n",
    "for i in range(2,500,25):\n",
    "    dt=DecisionTreeClassifier(max_leaf_nodes=i)\n",
    "    dt.fit(X_train,y_train)\n",
    "    AUC_OS.append(roc_auc_score(np.array(y_test),dt.predict_proba(X_test)[:,1]))\n",
    "    \n",
    "import matplotlib.pylab as plt\n",
    "plt.figure(figsize=(7,5))\n",
    "plt.plot(range(2,500,25),AUC_OS)\n",
    "plt.xlabel(\"Max leaf nodes\")\n",
    "plt.ylabel(\"OS_AUC\")\n",
    "plt.title(\"AUC vs Simplicity (max leaf nodes)\")\n",
    "plt.xlim(2,500)\n",
    "plt.show()"
   ]
  },
  {
   "cell_type": "code",
   "execution_count": 365,
   "metadata": {},
   "outputs": [
    {
     "name": "stdout",
     "output_type": "stream",
     "text": [
      "{'max_depth': 3}\n",
      "0.591772975788\n"
     ]
    }
   ],
   "source": [
    "X_train,X_test,y_train,y_test=train_test_split(ElemX, ElemY, test_size=0.3, random_state=999)\n",
    "\n",
    "# This time we'll use max_depth to control the complexity of the tree, still using the same train/test split as above,\n",
    "# and optimize the parameter value using GridSearchCV.\n",
    "param_grid = {'max_depth':range(1,11)}\n",
    "dt=DecisionTreeClassifier()\n",
    "gr=GridSearchCV(dt,param_grid=param_grid,scoring='roc_auc')\n",
    "rs=gr.fit(X_train,y_train)\n",
    "print rs.best_params_\n",
    "print roc_auc_score(np.array(y_test),rs.predict_proba(X_test)[:,1])"
   ]
  },
  {
   "cell_type": "code",
   "execution_count": 340,
   "metadata": {},
   "outputs": [
    {
     "data": {
      "image/png": "[encoded data removed]",
      "text/plain": [
       "<matplotlib.figure.Figure at 0x7fb4bcd1ba10>"
      ]
     },
     "metadata": {},
     "output_type": "display_data"
    }
   ],
   "source": [
    "# Let's just use a single train/test split for this part:\n",
    "X_train,X_test,y_train,y_test=train_test_split(HighX, HighY, test_size=0.3,random_state=999)\n",
    "AUC_OS=[]\n",
    "for i in range(2,500,25):\n",
    "    dt=DecisionTreeClassifier(max_leaf_nodes=i)\n",
    "    dt.fit(X_train,y_train)\n",
    "    AUC_OS.append(roc_auc_score(np.array(y_test),dt.predict_proba(X_test)[:,1]))\n",
    "    \n",
    "import matplotlib.pylab as plt\n",
    "plt.figure(figsize=(7,5))\n",
    "plt.plot(range(2,500,25),AUC_OS)\n",
    "plt.xlabel(\"Max leaf nodes\")\n",
    "plt.ylabel(\"OS_AUC\")\n",
    "plt.title(\"AUC vs Simplicity (max leaf nodes)\")\n",
    "plt.xlim(2,500)\n",
    "plt.show()"
   ]
  },
  {
   "cell_type": "markdown",
   "metadata": {},
   "source": [
    "# Closed Schools"
   ]
  },
  {
   "cell_type": "code",
   "execution_count": 277,
   "metadata": {},
   "outputs": [],
   "source": [
    "# Define Y for renewal\n",
    "HighY = Highdf.Closed\n",
    "MidY = Middf.Closed\n",
    "ElemY = Elemdf.Closed"
   ]
  },
  {
   "cell_type": "code",
   "execution_count": 278,
   "metadata": {},
   "outputs": [
    {
     "name": "stdout",
     "output_type": "stream",
     "text": [
      "Decision Tree Classifier Results: \n",
      "('In sample accuracy:', 1.0)\n",
      "('Out of sample accuracy:', 0.99122807017543857)\n",
      "\n",
      "\n",
      "Random Forest Classifier Results: \n",
      "('In sample accuracy:', 1.0)\n",
      "('Out of sample accuracy:', 0.98245614035087714)\n",
      "\n",
      "\n",
      "Extra Tree Classifier Results: \n",
      "('In sample accuracy:', 1.0)\n",
      "('Out of sample accuracy:', 0.94736842105263153)\n",
      "\n",
      "\n"
     ]
    }
   ],
   "source": [
    "tree_fits(HighX, HighY)"
   ]
  },
  {
   "cell_type": "markdown",
   "metadata": {},
   "source": [
    "No point running Elem and Mid - No CLosed Schools"
   ]
  },
  {
   "cell_type": "code",
   "execution_count": null,
   "metadata": {},
   "outputs": [],
   "source": []
  },
  {
   "cell_type": "code",
   "execution_count": null,
   "metadata": {},
   "outputs": [],
   "source": []
  },
  {
   "cell_type": "code",
   "execution_count": null,
   "metadata": {},
   "outputs": [],
   "source": []
  },
  {
   "cell_type": "code",
   "execution_count": null,
   "metadata": {},
   "outputs": [],
   "source": []
  },
  {
   "cell_type": "code",
   "execution_count": 18,
   "metadata": {},
   "outputs": [],
   "source": [
    "X = df.iloc[:, 1:-22]"
   ]
  },
  {
   "cell_type": "code",
   "execution_count": 20,
   "metadata": {},
   "outputs": [
    {
     "data": {
      "text/plain": [
       "['Lead CBO',\n",
       " 'Comm_Start_yr',\n",
       " 'Community_Sch',\n",
       " 'MaxYear_cls',\n",
       " 'Closed',\n",
       " 'LCGSCHCAT',\n",
       " 'LCGSCHTYP',\n",
       " 'HSSCHSAMP2',\n",
       " 'HSOPCTDRPTOT_cluster',\n",
       " 'ENRNUMAFM_cluster',\n",
       " 'ENRNUMHIS_cluster',\n",
       " 'ENRNUMWHT_cluster',\n",
       " 'ENRNUMSPD_cluster',\n",
       " 'ENRPCTAFM_cluster',\n",
       " 'ENRPCTHIS_cluster',\n",
       " 'ENRPCTWHT_cluster']"
      ]
     },
     "execution_count": 20,
     "metadata": {},
     "output_type": "execute_result"
    }
   ],
   "source": [
    "list(df.columns)[-16:]"
   ]
  },
  {
   "cell_type": "code",
   "execution_count": 25,
   "metadata": {},
   "outputs": [],
   "source": [
    "y_cols = list(df.iloc[:, -8:].columns)\n",
    "y_cols.append('RenewlSchl')"
   ]
  },
  {
   "cell_type": "markdown",
   "metadata": {},
   "source": [
    "*** Filter out only elementary schools ***"
   ]
  },
  {
   "cell_type": "code",
   "execution_count": 26,
   "metadata": {},
   "outputs": [],
   "source": [
    "elem = df[df.LCGSCHCAT == 'ELEMENTARY']"
   ]
  },
  {
   "cell_type": "code",
   "execution_count": 28,
   "metadata": {},
   "outputs": [],
   "source": [
    "elem = elem.dropna(axis=0, how='all',subset=y_cols)"
   ]
  },
  {
   "cell_type": "code",
   "execution_count": 29,
   "metadata": {},
   "outputs": [],
   "source": [
    "elem.dropna(axis=0, how='all',subset=X.columns, inplace=True)"
   ]
  },
  {
   "cell_type": "code",
   "execution_count": 30,
   "metadata": {
    "scrolled": true
   },
   "outputs": [],
   "source": [
    "elem.dropna(axis=1, how='all', inplace=True)"
   ]
  },
  {
   "cell_type": "code",
   "execution_count": 31,
   "metadata": {},
   "outputs": [],
   "source": [
    "drop_list = []\n",
    "for col in elem.columns:\n",
    "    if elem[col].isnull().sum() >= 100:\n",
    "        drop_list.append(col)"
   ]
  },
  {
   "cell_type": "code",
   "execution_count": 32,
   "metadata": {},
   "outputs": [
    {
     "data": {
      "text/plain": [
       "213"
      ]
     },
     "execution_count": 32,
     "metadata": {},
     "output_type": "execute_result"
    }
   ],
   "source": [
    "len(drop_list)"
   ]
  },
  {
   "cell_type": "code",
   "execution_count": 33,
   "metadata": {},
   "outputs": [],
   "source": [
    "elem.drop(drop_list, axis=1, inplace=True)"
   ]
  },
  {
   "cell_type": "code",
   "execution_count": 34,
   "metadata": {},
   "outputs": [
    {
     "data": {
      "text/plain": [
       "490"
      ]
     },
     "execution_count": 34,
     "metadata": {},
     "output_type": "execute_result"
    }
   ],
   "source": [
    "len(elem.columns)"
   ]
  },
  {
   "cell_type": "code",
   "execution_count": 35,
   "metadata": {},
   "outputs": [
    {
     "data": {
      "text/plain": [
       "183"
      ]
     },
     "execution_count": 35,
     "metadata": {},
     "output_type": "execute_result"
    }
   ],
   "source": [
    "(elem.isnull().sum(axis=1).sort_values(ascending=False)!=0).sum()"
   ]
  },
  {
   "cell_type": "code",
   "execution_count": 36,
   "metadata": {},
   "outputs": [],
   "source": [
    "drop_row = []\n",
    "for i in elem.index:\n",
    "    if elem.isnull().sum(axis=1).loc[i] >= 90:\n",
    "        drop_row.append(i)"
   ]
  },
  {
   "cell_type": "code",
   "execution_count": 37,
   "metadata": {},
   "outputs": [
    {
     "data": {
      "text/plain": [
       "60"
      ]
     },
     "execution_count": 37,
     "metadata": {},
     "output_type": "execute_result"
    }
   ],
   "source": [
    "len(drop_row)"
   ]
  },
  {
   "cell_type": "code",
   "execution_count": 38,
   "metadata": {},
   "outputs": [
    {
     "data": {
      "text/plain": [
       "792"
      ]
     },
     "execution_count": 38,
     "metadata": {},
     "output_type": "execute_result"
    }
   ],
   "source": [
    "len(elem.isnull().sum(axis=1))"
   ]
  },
  {
   "cell_type": "code",
   "execution_count": 39,
   "metadata": {},
   "outputs": [],
   "source": [
    "elem.drop(drop_row, axis=0, inplace=True)"
   ]
  },
  {
   "cell_type": "code",
   "execution_count": 40,
   "metadata": {
    "scrolled": true
   },
   "outputs": [
    {
     "data": {
      "text/plain": [
       "CLSAVGSPD trend05_16          48\n",
       "CLSNUMSPD trend05_16          48\n",
       "CLSNUMSPD std05_16            48\n",
       "CLSAVGSPD std05_16            48\n",
       "CLSAVGOHS trend05_16          37\n",
       "CLSNUMOHS trend05_16          37\n",
       "CLSAVGOHS std05_16            37\n",
       "CLSNUMOHS std05_16            37\n",
       "CLSNUMSPD mean05_16           35\n",
       "CLSAVGSPD mean05_16           35\n",
       "CLSNUMSPD range05_16          35\n",
       "CLSAVGSPD range05_16          35\n",
       "E_growth std05_16             33\n",
       "E_growth trend05_16           33\n",
       "ela5_decile std05_16          32\n",
       "ela5_decile trend05_16        32\n",
       "STCMTHPCTL34G05 std05_16      31\n",
       "STCELAPCTL34G05 std05_16      31\n",
       "STCMTHPCTL34G05 trend05_16    31\n",
       "STCELAPCTL34G05 trend05_16    31\n",
       "dtype: int64"
      ]
     },
     "execution_count": 40,
     "metadata": {},
     "output_type": "execute_result"
    }
   ],
   "source": [
    "elem.isnull().sum().sort_values(ascending=False).head(20)"
   ]
  },
  {
   "cell_type": "markdown",
   "metadata": {},
   "source": [
    "ATTPCTPRK - pre k -- fill w 0   - done\n",
    "CLSAVGSPD - special ed -- fill w 0  -done\n",
    "CLSNUMOHS - AVERAGE NUM OF STU PER CLASS: OTHER HIGH SCHOOLS (ENRNUM/CLSNUM) - drop for elem  - done\n",
    "\n",
    "No values for the features below bc they don't have a 5th grade -- so no growth, or 5th grade ela proficiency\n",
    "-- fill with value from 3rd gade proficiency and make growth == 0  \n",
    "E_growth trend05_16   - filled w 0 - done           \n",
    "E_growth std05_16                  - filled w 0 - done\n",
    "ela5_decile trend05_16          - filled w. val for ela3 - done\n",
    "ela5_decile std05_16   - filled w  vale for ela3 - done\n",
    "\n",
    "fill with grade 3 value  \n",
    "STCELAPCTL34G05 std05_16       \n",
    "STCMTHPCTL34G05 std05_16         \n",
    "STCELAPCTL34G05 trend05_16     \n",
    "STCMTHPCTL34G05 trend05_16 \n"
   ]
  },
  {
   "cell_type": "code",
   "execution_count": 41,
   "metadata": {},
   "outputs": [
    {
     "name": "stdout",
     "output_type": "stream",
     "text": [
      "['ENRNUMPRK trend05_16', 'ENRNUMPRKpct trend05_16', 'ENRNUMPRK mean05_16', 'ENRNUMPRKpct mean05_16', 'ENRNUMPRK std05_16', 'ENRNUMPRKpct std05_16', 'ENRNUMPRK range05_16', 'ENRNUMPRKpct range05_16']\n"
     ]
    }
   ],
   "source": [
    "sub = 'PRK'\n",
    "prk_cols = [s for s in elem.columns if sub in s]\n",
    "print (prk_cols)\n",
    "df[prk_cols] = df[prk_cols].fillna(value=0)"
   ]
  },
  {
   "cell_type": "code",
   "execution_count": 42,
   "metadata": {},
   "outputs": [
    {
     "name": "stdout",
     "output_type": "stream",
     "text": [
      "['CLSAVGSPD trend05_16', 'CLSNUMSPD trend05_16', 'ENRNUMSPD trend05_16', 'ENRNUMSPDpct trend05_16', 'CLSAVGSPD mean05_16', 'CLSNUMSPD mean05_16', 'ENRNUMSPD mean05_16', 'ENRNUMSPDpct mean05_16', 'CLSAVGSPD std05_16', 'CLSNUMSPD std05_16', 'ENRNUMSPD std05_16', 'ENRNUMSPDpct std05_16', 'CLSAVGSPD range05_16', 'CLSNUMSPD range05_16', 'ENRNUMSPD range05_16', 'ENRNUMSPDpct range05_16']\n"
     ]
    }
   ],
   "source": [
    "sub = 'SPD'\n",
    "SPD_cols = [s for s in elem.columns if sub in s]\n",
    "print (SPD_cols)\n",
    "df[SPD_cols] = df[SPD_cols].fillna(value=0)"
   ]
  },
  {
   "cell_type": "code",
   "execution_count": 43,
   "metadata": {},
   "outputs": [
    {
     "name": "stdout",
     "output_type": "stream",
     "text": [
      "['CLSAVGOHS trend05_16', 'CLSNUMOHS trend05_16', 'ENRNUMOHS trend05_16', 'ENRNUMOHSpct trend05_16', 'CLSAVGOHS mean05_16', 'CLSNUMOHS mean05_16', 'ENRNUMOHS mean05_16', 'ENRNUMOHSpct mean05_16', 'CLSAVGOHS std05_16', 'CLSNUMOHS std05_16', 'ENRNUMOHS std05_16', 'ENRNUMOHSpct std05_16', 'CLSAVGOHS range05_16', 'CLSNUMOHS range05_16', 'ENRNUMOHS range05_16', 'ENRNUMOHSpct range05_16']\n"
     ]
    }
   ],
   "source": [
    "sub = 'OHS'\n",
    "OHS_cols = [s for s in elem.columns if sub in s]\n",
    "print (OHS_cols)\n",
    "elem.drop(OHS_cols, axis=1, inplace=True)"
   ]
  },
  {
   "cell_type": "code",
   "execution_count": 44,
   "metadata": {},
   "outputs": [],
   "source": [
    "elem[['E_growth trend05_16','E_growth std05_16']] = elem[['E_growth trend05_16','E_growth std05_16']].fillna(0)"
   ]
  },
  {
   "cell_type": "code",
   "execution_count": 45,
   "metadata": {},
   "outputs": [],
   "source": [
    "elem['ela5_decile trend05_16'] = elem['ela5_decile trend05_16'].fillna(elem['ela3_decile trend05_16'])\n",
    "elem['ela5_decile std05_16'] = elem['ela5_decile std05_16'].fillna(elem['ela3_decile std05_16'])"
   ]
  },
  {
   "cell_type": "code",
   "execution_count": 46,
   "metadata": {},
   "outputs": [],
   "source": [
    "for col in ['STCELAPCTL34G{} std05_16', 'STCMTHPCTL34G{} std05_16', \n",
    "            'STCELAPCTL34G{} trend05_16', 'STCMTHPCTL34G{} trend05_16']:\n",
    "    elem[col.format('04')] = elem[col.format('04')].fillna(elem[col.format('03')])\n",
    "    elem[col.format('05')] = elem[col.format('05')].fillna(elem[col.format('04')])"
   ]
  },
  {
   "cell_type": "code",
   "execution_count": 47,
   "metadata": {
    "scrolled": true
   },
   "outputs": [
    {
     "data": {
      "text/plain": [
       "CLSNUMSPD std05_16        48\n",
       "CLSAVGSPD trend05_16      48\n",
       "CLSAVGSPD std05_16        48\n",
       "CLSNUMSPD trend05_16      48\n",
       "CLSAVGSPD mean05_16       35\n",
       "CLSAVGSPD range05_16      35\n",
       "CLSNUMSPD range05_16      35\n",
       "CLSNUMSPD mean05_16       35\n",
       "CLSNUMG04 trend05_16      26\n",
       "CLSNUMG04 std05_16        26\n",
       "CLSAVGG04 std05_16        26\n",
       "CLSAVGG04 trend05_16      26\n",
       "ATTPCTG05 std05_16        25\n",
       "ATTPCTG05 trend05_16      25\n",
       "ENRNUMELLpct std05_16     21\n",
       "ENRNUMPOVpct mean05_16    21\n",
       "ENRNUMPOV mean05_16       21\n",
       "ENRNUMOTHpct mean05_16    21\n",
       "ENRNUMOTH mean05_16       21\n",
       "ENRNUMELL trend05_16      21\n",
       "dtype: int64"
      ]
     },
     "execution_count": 47,
     "metadata": {},
     "output_type": "execute_result"
    }
   ],
   "source": [
    "elem.isnull().sum().sort_values(ascending=False).head(20)"
   ]
  },
  {
   "cell_type": "markdown",
   "metadata": {},
   "source": [
    "All missing bc there isn't  a 4th or 5th grade class, so can fill in w 0\n",
    "\n",
    "CLSNUMG04 std05_16  \n",
    "CLSAVGG04 std05_16  \n",
    "CLSAVGG04 trend05_16\n",
    "CLSNUMG04 trend05_16\n",
    "ATTPCTG05 trend05_16\n",
    "ATTPCTG05 std05_16\n",
    "\n",
    "enrollment values for dif demographics- can fill w 0\n",
    "POV = poverty index\n",
    "ELL = eng lang learners\n",
    "OTH = other\n",
    "\n",
    "ENRNUMPOV std05_16     \n",
    "ENRNUMELL std05_16     \n",
    "ENRNUMELL trend05_16  \n",
    "ENRNUMELL mean05_16  \n",
    "ENRNUMPOV range05_16  \n",
    "ENRNUMOTH range05_16   \n",
    "ENRNUMOTH std05_16     \n",
    "ENRNUMOTH trend05_16 \n",
    "ENRNUMPOV trend05_16 \n",
    "ENRNUMELL range05_16\n",
    "ENRNUMPOV mean05_16       \n",
    "ENRNUMOTH mean05_16"
   ]
  },
  {
   "cell_type": "code",
   "execution_count": 48,
   "metadata": {},
   "outputs": [],
   "source": [
    "cols_toz = ['CLSNUMG04 std05_16', 'CLSAVGG04 std05_16', 'CLSAVGG04 trend05_16',\n",
    "            'CLSNUMG04 trend05_16', 'ATTPCTG05 trend05_16','ATTPCTG05 std05_16',\n",
    "           'ENRNUMPOV std05_16','ENRNUMELL std05_16','ENRNUMELL trend05_16',\n",
    "            'ENRNUMELL mean05_16','ENRNUMPOV range05_16','ENRNUMOTH range05_16',\n",
    "            'ENRNUMOTH std05_16','ENRNUMOTH trend05_16','ENRNUMPOV trend05_16',\n",
    "            'ENRNUMELL range05_16','ENRNUMPOV mean05_16','ENRNUMOTH mean05_16']"
   ]
  },
  {
   "cell_type": "code",
   "execution_count": 49,
   "metadata": {},
   "outputs": [],
   "source": [
    "elem[cols_toz] = elem[cols_toz].fillna(0)"
   ]
  },
  {
   "cell_type": "markdown",
   "metadata": {},
   "source": [
    "# Q: Should all this be feature engineered on the original SCHMA?"
   ]
  },
  {
   "cell_type": "markdown",
   "metadata": {},
   "source": [
    "DMGPCTELLTOT - % ELL enrolled, impute to 0\n",
    "\n",
    "growth vals - still na aftet imputing 3 g vals\n",
    "-- set equal to 0? Or not enough information about the school? ie. not many grades to make a prediction on/to be relevant\n",
    "ela3_decile std05_16          \n",
    "ela5_decile std05_16          \n",
    "ela5_decile trend05_16"
   ]
  },
  {
   "cell_type": "code",
   "execution_count": 50,
   "metadata": {},
   "outputs": [
    {
     "data": {
      "text/html": [
       "<div>\n",
       "<table border=\"1\" class=\"dataframe\">\n",
       "  <thead>\n",
       "    <tr style=\"text-align: right;\">\n",
       "      <th></th>\n",
       "      <th>STCELAPCTL34G03 mean05_16</th>\n",
       "      <th>STCELAPCTL34G03 std05_16</th>\n",
       "      <th>ela3_decile std05_16</th>\n",
       "    </tr>\n",
       "  </thead>\n",
       "  <tbody>\n",
       "    <tr>\n",
       "      <th>161</th>\n",
       "      <td>31.800000</td>\n",
       "      <td>NaN</td>\n",
       "      <td>NaN</td>\n",
       "    </tr>\n",
       "    <tr>\n",
       "      <th>275</th>\n",
       "      <td>15.400000</td>\n",
       "      <td>NaN</td>\n",
       "      <td>NaN</td>\n",
       "    </tr>\n",
       "    <tr>\n",
       "      <th>285</th>\n",
       "      <td>NaN</td>\n",
       "      <td>NaN</td>\n",
       "      <td>NaN</td>\n",
       "    </tr>\n",
       "    <tr>\n",
       "      <th>674</th>\n",
       "      <td>35.600000</td>\n",
       "      <td>NaN</td>\n",
       "      <td>NaN</td>\n",
       "    </tr>\n",
       "    <tr>\n",
       "      <th>834</th>\n",
       "      <td>53.658540</td>\n",
       "      <td>NaN</td>\n",
       "      <td>NaN</td>\n",
       "    </tr>\n",
       "    <tr>\n",
       "      <th>937</th>\n",
       "      <td>NaN</td>\n",
       "      <td>NaN</td>\n",
       "      <td>NaN</td>\n",
       "    </tr>\n",
       "    <tr>\n",
       "      <th>940</th>\n",
       "      <td>40.909090</td>\n",
       "      <td>NaN</td>\n",
       "      <td>NaN</td>\n",
       "    </tr>\n",
       "    <tr>\n",
       "      <th>943</th>\n",
       "      <td>82.608700</td>\n",
       "      <td>NaN</td>\n",
       "      <td>NaN</td>\n",
       "    </tr>\n",
       "    <tr>\n",
       "      <th>1119</th>\n",
       "      <td>21.428570</td>\n",
       "      <td>NaN</td>\n",
       "      <td>NaN</td>\n",
       "    </tr>\n",
       "    <tr>\n",
       "      <th>1139</th>\n",
       "      <td>78.852549</td>\n",
       "      <td>22.976079</td>\n",
       "      <td>NaN</td>\n",
       "    </tr>\n",
       "    <tr>\n",
       "      <th>1246</th>\n",
       "      <td>76.033198</td>\n",
       "      <td>17.042964</td>\n",
       "      <td>NaN</td>\n",
       "    </tr>\n",
       "    <tr>\n",
       "      <th>1251</th>\n",
       "      <td>53.757616</td>\n",
       "      <td>16.529433</td>\n",
       "      <td>NaN</td>\n",
       "    </tr>\n",
       "    <tr>\n",
       "      <th>1406</th>\n",
       "      <td>NaN</td>\n",
       "      <td>NaN</td>\n",
       "      <td>NaN</td>\n",
       "    </tr>\n",
       "    <tr>\n",
       "      <th>1578</th>\n",
       "      <td>39.582408</td>\n",
       "      <td>11.440564</td>\n",
       "      <td>NaN</td>\n",
       "    </tr>\n",
       "    <tr>\n",
       "      <th>1580</th>\n",
       "      <td>40.449998</td>\n",
       "      <td>10.151010</td>\n",
       "      <td>NaN</td>\n",
       "    </tr>\n",
       "    <tr>\n",
       "      <th>1641</th>\n",
       "      <td>38.900000</td>\n",
       "      <td>NaN</td>\n",
       "      <td>NaN</td>\n",
       "    </tr>\n",
       "    <tr>\n",
       "      <th>1694</th>\n",
       "      <td>35.200000</td>\n",
       "      <td>NaN</td>\n",
       "      <td>NaN</td>\n",
       "    </tr>\n",
       "    <tr>\n",
       "      <th>1954</th>\n",
       "      <td>27.192980</td>\n",
       "      <td>8.683766</td>\n",
       "      <td>NaN</td>\n",
       "    </tr>\n",
       "    <tr>\n",
       "      <th>1965</th>\n",
       "      <td>25.000000</td>\n",
       "      <td>NaN</td>\n",
       "      <td>NaN</td>\n",
       "    </tr>\n",
       "  </tbody>\n",
       "</table>\n",
       "</div>"
      ],
      "text/plain": [
       "      STCELAPCTL34G03 mean05_16  STCELAPCTL34G03 std05_16  \\\n",
       "161                   31.800000                       NaN   \n",
       "275                   15.400000                       NaN   \n",
       "285                         NaN                       NaN   \n",
       "674                   35.600000                       NaN   \n",
       "834                   53.658540                       NaN   \n",
       "937                         NaN                       NaN   \n",
       "940                   40.909090                       NaN   \n",
       "943                   82.608700                       NaN   \n",
       "1119                  21.428570                       NaN   \n",
       "1139                  78.852549                 22.976079   \n",
       "1246                  76.033198                 17.042964   \n",
       "1251                  53.757616                 16.529433   \n",
       "1406                        NaN                       NaN   \n",
       "1578                  39.582408                 11.440564   \n",
       "1580                  40.449998                 10.151010   \n",
       "1641                  38.900000                       NaN   \n",
       "1694                  35.200000                       NaN   \n",
       "1954                  27.192980                  8.683766   \n",
       "1965                  25.000000                       NaN   \n",
       "\n",
       "      ela3_decile std05_16  \n",
       "161                    NaN  \n",
       "275                    NaN  \n",
       "285                    NaN  \n",
       "674                    NaN  \n",
       "834                    NaN  \n",
       "937                    NaN  \n",
       "940                    NaN  \n",
       "943                    NaN  \n",
       "1119                   NaN  \n",
       "1139                   NaN  \n",
       "1246                   NaN  \n",
       "1251                   NaN  \n",
       "1406                   NaN  \n",
       "1578                   NaN  \n",
       "1580                   NaN  \n",
       "1641                   NaN  \n",
       "1694                   NaN  \n",
       "1954                   NaN  \n",
       "1965                   NaN  "
      ]
     },
     "execution_count": 50,
     "metadata": {},
     "output_type": "execute_result"
    }
   ],
   "source": [
    "elem[elem['ela3_decile std05_16'].isnull()][['STCELAPCTL34G03 mean05_16','STCELAPCTL34G03 std05_16' ,'ela3_decile std05_16']]"
   ]
  },
  {
   "cell_type": "markdown",
   "metadata": {},
   "source": [
    "Why would a school have a vlaue for the mean, but not the std?"
   ]
  },
  {
   "cell_type": "markdown",
   "metadata": {},
   "source": [
    "Fill in the rest of the Nans with 0z"
   ]
  },
  {
   "cell_type": "code",
   "execution_count": 51,
   "metadata": {
    "scrolled": true
   },
   "outputs": [],
   "source": [
    "elem = elem.fillna(0)"
   ]
  },
  {
   "cell_type": "code",
   "execution_count": 52,
   "metadata": {
    "scrolled": false
   },
   "outputs": [
    {
     "data": {
      "text/plain": [
       "Index([u'BNLONG', u'ATTPCTG01 trend05_16', u'ATTPCTG02 trend05_16',\n",
       "       u'ATTPCTG03 trend05_16', u'ATTPCTG04 trend05_16',\n",
       "       u'ATTPCTG05 trend05_16', u'ATTPCTKID trend05_16',\n",
       "       u'ATTPCTTOT trend05_16', u'CBO trend05_16', u'CLSAVGG01 trend05_16',\n",
       "       ...\n",
       "       u'ela5_decile range05_16', u'DBN', u'SCHNAM', u'BN', u'RenewlSchl',\n",
       "       u'Community_Sch', u'Closed', u'LCGSCHCAT', u'LCGSCHTYP', u'HSSCHSAMP2'],\n",
       "      dtype='object', length=474)"
      ]
     },
     "execution_count": 52,
     "metadata": {},
     "output_type": "execute_result"
    }
   ],
   "source": [
    "elem.columns"
   ]
  },
  {
   "cell_type": "code",
   "execution_count": 53,
   "metadata": {},
   "outputs": [
    {
     "data": {
      "text/html": [
       "<div>\n",
       "<table border=\"1\" class=\"dataframe\">\n",
       "  <thead>\n",
       "    <tr style=\"text-align: right;\">\n",
       "      <th></th>\n",
       "      <th>ATTPCTG01 trend05_16</th>\n",
       "      <th>ATTPCTG02 trend05_16</th>\n",
       "      <th>ATTPCTG03 trend05_16</th>\n",
       "      <th>ATTPCTG04 trend05_16</th>\n",
       "      <th>ATTPCTG05 trend05_16</th>\n",
       "      <th>ATTPCTKID trend05_16</th>\n",
       "      <th>ATTPCTTOT trend05_16</th>\n",
       "      <th>CBO trend05_16</th>\n",
       "      <th>CLSAVGG01 trend05_16</th>\n",
       "      <th>CLSAVGG02 trend05_16</th>\n",
       "      <th>...</th>\n",
       "      <th>SCHHIGRD range05_16</th>\n",
       "      <th>SCHLEV range05_16</th>\n",
       "      <th>SCHLEV5 range05_16</th>\n",
       "      <th>SCHLOGRD range05_16</th>\n",
       "      <th>SPECHS range05_16</th>\n",
       "      <th>STCELAPCTL34G03 range05_16</th>\n",
       "      <th>STCELAPCTL34G04 range05_16</th>\n",
       "      <th>STCELAPCTL34G05 range05_16</th>\n",
       "      <th>STCELAPCTL34TOT range05_16</th>\n",
       "      <th>STCMTHPCTL34G03 range05_16</th>\n",
       "    </tr>\n",
       "  </thead>\n",
       "  <tbody>\n",
       "    <tr>\n",
       "      <th>0</th>\n",
       "      <td>0.220909</td>\n",
       "      <td>0.189091</td>\n",
       "      <td>0.204545</td>\n",
       "      <td>0.250909</td>\n",
       "      <td>0.177273</td>\n",
       "      <td>0.191818</td>\n",
       "      <td>0.242727</td>\n",
       "      <td>0.0</td>\n",
       "      <td>0.200866</td>\n",
       "      <td>0.694805</td>\n",
       "      <td>...</td>\n",
       "      <td>12.0</td>\n",
       "      <td>12.0</td>\n",
       "      <td>12.0</td>\n",
       "      <td>12.0</td>\n",
       "      <td>12.0</td>\n",
       "      <td>12.0</td>\n",
       "      <td>12.0</td>\n",
       "      <td>12.0</td>\n",
       "      <td>12.0</td>\n",
       "      <td>12.0</td>\n",
       "    </tr>\n",
       "    <tr>\n",
       "      <th>2</th>\n",
       "      <td>0.290909</td>\n",
       "      <td>0.019091</td>\n",
       "      <td>0.089091</td>\n",
       "      <td>0.065455</td>\n",
       "      <td>0.181818</td>\n",
       "      <td>-0.069091</td>\n",
       "      <td>0.052727</td>\n",
       "      <td>0.0</td>\n",
       "      <td>0.672727</td>\n",
       "      <td>0.018182</td>\n",
       "      <td>...</td>\n",
       "      <td>12.0</td>\n",
       "      <td>12.0</td>\n",
       "      <td>12.0</td>\n",
       "      <td>12.0</td>\n",
       "      <td>12.0</td>\n",
       "      <td>12.0</td>\n",
       "      <td>12.0</td>\n",
       "      <td>12.0</td>\n",
       "      <td>12.0</td>\n",
       "      <td>12.0</td>\n",
       "    </tr>\n",
       "    <tr>\n",
       "      <th>4</th>\n",
       "      <td>0.610000</td>\n",
       "      <td>0.410000</td>\n",
       "      <td>0.164545</td>\n",
       "      <td>0.283636</td>\n",
       "      <td>0.459091</td>\n",
       "      <td>0.234545</td>\n",
       "      <td>0.297273</td>\n",
       "      <td>0.0</td>\n",
       "      <td>-0.209091</td>\n",
       "      <td>0.151515</td>\n",
       "      <td>...</td>\n",
       "      <td>12.0</td>\n",
       "      <td>12.0</td>\n",
       "      <td>12.0</td>\n",
       "      <td>12.0</td>\n",
       "      <td>12.0</td>\n",
       "      <td>12.0</td>\n",
       "      <td>12.0</td>\n",
       "      <td>12.0</td>\n",
       "      <td>12.0</td>\n",
       "      <td>12.0</td>\n",
       "    </tr>\n",
       "    <tr>\n",
       "      <th>5</th>\n",
       "      <td>0.308182</td>\n",
       "      <td>0.107273</td>\n",
       "      <td>0.088182</td>\n",
       "      <td>-0.088182</td>\n",
       "      <td>0.156364</td>\n",
       "      <td>0.600000</td>\n",
       "      <td>0.140000</td>\n",
       "      <td>0.0</td>\n",
       "      <td>0.496753</td>\n",
       "      <td>0.854545</td>\n",
       "      <td>...</td>\n",
       "      <td>12.0</td>\n",
       "      <td>12.0</td>\n",
       "      <td>12.0</td>\n",
       "      <td>12.0</td>\n",
       "      <td>12.0</td>\n",
       "      <td>12.0</td>\n",
       "      <td>12.0</td>\n",
       "      <td>12.0</td>\n",
       "      <td>12.0</td>\n",
       "      <td>12.0</td>\n",
       "    </tr>\n",
       "    <tr>\n",
       "      <th>6</th>\n",
       "      <td>0.174545</td>\n",
       "      <td>0.102727</td>\n",
       "      <td>0.097273</td>\n",
       "      <td>0.062727</td>\n",
       "      <td>0.400000</td>\n",
       "      <td>0.069091</td>\n",
       "      <td>0.150000</td>\n",
       "      <td>0.0</td>\n",
       "      <td>0.200957</td>\n",
       "      <td>0.738756</td>\n",
       "      <td>...</td>\n",
       "      <td>12.0</td>\n",
       "      <td>12.0</td>\n",
       "      <td>12.0</td>\n",
       "      <td>12.0</td>\n",
       "      <td>12.0</td>\n",
       "      <td>12.0</td>\n",
       "      <td>12.0</td>\n",
       "      <td>4.0</td>\n",
       "      <td>12.0</td>\n",
       "      <td>12.0</td>\n",
       "    </tr>\n",
       "    <tr>\n",
       "      <th>7</th>\n",
       "      <td>0.422727</td>\n",
       "      <td>0.230000</td>\n",
       "      <td>0.424545</td>\n",
       "      <td>0.217273</td>\n",
       "      <td>0.700909</td>\n",
       "      <td>0.303636</td>\n",
       "      <td>0.392727</td>\n",
       "      <td>0.0</td>\n",
       "      <td>0.313131</td>\n",
       "      <td>-1.717172</td>\n",
       "      <td>...</td>\n",
       "      <td>12.0</td>\n",
       "      <td>12.0</td>\n",
       "      <td>12.0</td>\n",
       "      <td>12.0</td>\n",
       "      <td>12.0</td>\n",
       "      <td>12.0</td>\n",
       "      <td>12.0</td>\n",
       "      <td>12.0</td>\n",
       "      <td>12.0</td>\n",
       "      <td>12.0</td>\n",
       "    </tr>\n",
       "    <tr>\n",
       "      <th>8</th>\n",
       "      <td>0.678182</td>\n",
       "      <td>0.490000</td>\n",
       "      <td>0.349091</td>\n",
       "      <td>0.314545</td>\n",
       "      <td>0.294545</td>\n",
       "      <td>0.645455</td>\n",
       "      <td>0.513636</td>\n",
       "      <td>0.0</td>\n",
       "      <td>0.681818</td>\n",
       "      <td>1.220779</td>\n",
       "      <td>...</td>\n",
       "      <td>12.0</td>\n",
       "      <td>12.0</td>\n",
       "      <td>12.0</td>\n",
       "      <td>12.0</td>\n",
       "      <td>12.0</td>\n",
       "      <td>12.0</td>\n",
       "      <td>12.0</td>\n",
       "      <td>12.0</td>\n",
       "      <td>12.0</td>\n",
       "      <td>12.0</td>\n",
       "    </tr>\n",
       "    <tr>\n",
       "      <th>9</th>\n",
       "      <td>0.300000</td>\n",
       "      <td>0.228182</td>\n",
       "      <td>0.444545</td>\n",
       "      <td>0.310000</td>\n",
       "      <td>0.281818</td>\n",
       "      <td>0.482727</td>\n",
       "      <td>0.337273</td>\n",
       "      <td>0.0</td>\n",
       "      <td>2.090909</td>\n",
       "      <td>1.668182</td>\n",
       "      <td>...</td>\n",
       "      <td>12.0</td>\n",
       "      <td>12.0</td>\n",
       "      <td>12.0</td>\n",
       "      <td>12.0</td>\n",
       "      <td>12.0</td>\n",
       "      <td>12.0</td>\n",
       "      <td>12.0</td>\n",
       "      <td>12.0</td>\n",
       "      <td>12.0</td>\n",
       "      <td>12.0</td>\n",
       "    </tr>\n",
       "    <tr>\n",
       "      <th>10</th>\n",
       "      <td>0.567273</td>\n",
       "      <td>0.274545</td>\n",
       "      <td>0.526364</td>\n",
       "      <td>0.233636</td>\n",
       "      <td>0.490000</td>\n",
       "      <td>0.964545</td>\n",
       "      <td>0.486364</td>\n",
       "      <td>0.0</td>\n",
       "      <td>1.284848</td>\n",
       "      <td>1.141414</td>\n",
       "      <td>...</td>\n",
       "      <td>12.0</td>\n",
       "      <td>12.0</td>\n",
       "      <td>12.0</td>\n",
       "      <td>12.0</td>\n",
       "      <td>12.0</td>\n",
       "      <td>12.0</td>\n",
       "      <td>12.0</td>\n",
       "      <td>12.0</td>\n",
       "      <td>12.0</td>\n",
       "      <td>12.0</td>\n",
       "    </tr>\n",
       "    <tr>\n",
       "      <th>11</th>\n",
       "      <td>0.507273</td>\n",
       "      <td>0.373636</td>\n",
       "      <td>0.217273</td>\n",
       "      <td>0.524545</td>\n",
       "      <td>0.451818</td>\n",
       "      <td>0.568182</td>\n",
       "      <td>0.412727</td>\n",
       "      <td>0.0</td>\n",
       "      <td>1.878788</td>\n",
       "      <td>-0.333333</td>\n",
       "      <td>...</td>\n",
       "      <td>12.0</td>\n",
       "      <td>12.0</td>\n",
       "      <td>12.0</td>\n",
       "      <td>12.0</td>\n",
       "      <td>12.0</td>\n",
       "      <td>12.0</td>\n",
       "      <td>12.0</td>\n",
       "      <td>12.0</td>\n",
       "      <td>12.0</td>\n",
       "      <td>12.0</td>\n",
       "    </tr>\n",
       "    <tr>\n",
       "      <th>12</th>\n",
       "      <td>0.146364</td>\n",
       "      <td>0.061818</td>\n",
       "      <td>0.095455</td>\n",
       "      <td>0.112727</td>\n",
       "      <td>0.150909</td>\n",
       "      <td>0.243636</td>\n",
       "      <td>0.131818</td>\n",
       "      <td>0.0</td>\n",
       "      <td>1.257576</td>\n",
       "      <td>1.208392</td>\n",
       "      <td>...</td>\n",
       "      <td>12.0</td>\n",
       "      <td>12.0</td>\n",
       "      <td>12.0</td>\n",
       "      <td>12.0</td>\n",
       "      <td>12.0</td>\n",
       "      <td>12.0</td>\n",
       "      <td>12.0</td>\n",
       "      <td>12.0</td>\n",
       "      <td>12.0</td>\n",
       "      <td>12.0</td>\n",
       "    </tr>\n",
       "    <tr>\n",
       "      <th>14</th>\n",
       "      <td>0.240909</td>\n",
       "      <td>0.035455</td>\n",
       "      <td>0.083636</td>\n",
       "      <td>0.034545</td>\n",
       "      <td>0.343636</td>\n",
       "      <td>-0.107273</td>\n",
       "      <td>0.080000</td>\n",
       "      <td>0.0</td>\n",
       "      <td>-0.036364</td>\n",
       "      <td>2.181818</td>\n",
       "      <td>...</td>\n",
       "      <td>12.0</td>\n",
       "      <td>12.0</td>\n",
       "      <td>12.0</td>\n",
       "      <td>12.0</td>\n",
       "      <td>12.0</td>\n",
       "      <td>12.0</td>\n",
       "      <td>12.0</td>\n",
       "      <td>12.0</td>\n",
       "      <td>12.0</td>\n",
       "      <td>12.0</td>\n",
       "    </tr>\n",
       "    <tr>\n",
       "      <th>15</th>\n",
       "      <td>-0.021818</td>\n",
       "      <td>0.240909</td>\n",
       "      <td>0.070000</td>\n",
       "      <td>0.359091</td>\n",
       "      <td>0.502727</td>\n",
       "      <td>0.491818</td>\n",
       "      <td>0.245455</td>\n",
       "      <td>0.0</td>\n",
       "      <td>-0.954545</td>\n",
       "      <td>-0.242424</td>\n",
       "      <td>...</td>\n",
       "      <td>12.0</td>\n",
       "      <td>12.0</td>\n",
       "      <td>12.0</td>\n",
       "      <td>12.0</td>\n",
       "      <td>12.0</td>\n",
       "      <td>12.0</td>\n",
       "      <td>12.0</td>\n",
       "      <td>12.0</td>\n",
       "      <td>12.0</td>\n",
       "      <td>12.0</td>\n",
       "    </tr>\n",
       "    <tr>\n",
       "      <th>16</th>\n",
       "      <td>-0.098182</td>\n",
       "      <td>-0.134545</td>\n",
       "      <td>0.150000</td>\n",
       "      <td>0.041818</td>\n",
       "      <td>0.105455</td>\n",
       "      <td>0.170909</td>\n",
       "      <td>-0.018182</td>\n",
       "      <td>0.0</td>\n",
       "      <td>-0.424242</td>\n",
       "      <td>0.454545</td>\n",
       "      <td>...</td>\n",
       "      <td>12.0</td>\n",
       "      <td>12.0</td>\n",
       "      <td>12.0</td>\n",
       "      <td>12.0</td>\n",
       "      <td>12.0</td>\n",
       "      <td>12.0</td>\n",
       "      <td>12.0</td>\n",
       "      <td>12.0</td>\n",
       "      <td>12.0</td>\n",
       "      <td>12.0</td>\n",
       "    </tr>\n",
       "    <tr>\n",
       "      <th>17</th>\n",
       "      <td>-0.299091</td>\n",
       "      <td>-0.157273</td>\n",
       "      <td>0.126364</td>\n",
       "      <td>-0.110909</td>\n",
       "      <td>-0.361818</td>\n",
       "      <td>-0.295455</td>\n",
       "      <td>-0.226364</td>\n",
       "      <td>0.0</td>\n",
       "      <td>-0.454545</td>\n",
       "      <td>5.924242</td>\n",
       "      <td>...</td>\n",
       "      <td>12.0</td>\n",
       "      <td>12.0</td>\n",
       "      <td>12.0</td>\n",
       "      <td>12.0</td>\n",
       "      <td>12.0</td>\n",
       "      <td>12.0</td>\n",
       "      <td>12.0</td>\n",
       "      <td>12.0</td>\n",
       "      <td>12.0</td>\n",
       "      <td>12.0</td>\n",
       "    </tr>\n",
       "    <tr>\n",
       "      <th>18</th>\n",
       "      <td>0.262857</td>\n",
       "      <td>-0.005714</td>\n",
       "      <td>-0.240000</td>\n",
       "      <td>-0.216667</td>\n",
       "      <td>-0.297000</td>\n",
       "      <td>-0.360000</td>\n",
       "      <td>-0.152000</td>\n",
       "      <td>0.0</td>\n",
       "      <td>-1.163265</td>\n",
       "      <td>-3.295455</td>\n",
       "      <td>...</td>\n",
       "      <td>11.0</td>\n",
       "      <td>11.0</td>\n",
       "      <td>11.0</td>\n",
       "      <td>11.0</td>\n",
       "      <td>11.0</td>\n",
       "      <td>9.0</td>\n",
       "      <td>10.0</td>\n",
       "      <td>10.0</td>\n",
       "      <td>10.0</td>\n",
       "      <td>9.0</td>\n",
       "    </tr>\n",
       "    <tr>\n",
       "      <th>19</th>\n",
       "      <td>0.046364</td>\n",
       "      <td>0.215455</td>\n",
       "      <td>0.145455</td>\n",
       "      <td>-0.080000</td>\n",
       "      <td>0.053636</td>\n",
       "      <td>0.455455</td>\n",
       "      <td>0.132727</td>\n",
       "      <td>0.0</td>\n",
       "      <td>1.946970</td>\n",
       "      <td>0.689394</td>\n",
       "      <td>...</td>\n",
       "      <td>12.0</td>\n",
       "      <td>12.0</td>\n",
       "      <td>12.0</td>\n",
       "      <td>12.0</td>\n",
       "      <td>12.0</td>\n",
       "      <td>12.0</td>\n",
       "      <td>12.0</td>\n",
       "      <td>12.0</td>\n",
       "      <td>12.0</td>\n",
       "      <td>12.0</td>\n",
       "    </tr>\n",
       "    <tr>\n",
       "      <th>20</th>\n",
       "      <td>0.340909</td>\n",
       "      <td>0.155455</td>\n",
       "      <td>0.263636</td>\n",
       "      <td>0.220000</td>\n",
       "      <td>0.318182</td>\n",
       "      <td>0.245455</td>\n",
       "      <td>0.251818</td>\n",
       "      <td>0.0</td>\n",
       "      <td>-0.101299</td>\n",
       "      <td>0.277056</td>\n",
       "      <td>...</td>\n",
       "      <td>12.0</td>\n",
       "      <td>12.0</td>\n",
       "      <td>12.0</td>\n",
       "      <td>12.0</td>\n",
       "      <td>12.0</td>\n",
       "      <td>12.0</td>\n",
       "      <td>12.0</td>\n",
       "      <td>12.0</td>\n",
       "      <td>12.0</td>\n",
       "      <td>12.0</td>\n",
       "    </tr>\n",
       "    <tr>\n",
       "      <th>21</th>\n",
       "      <td>0.238571</td>\n",
       "      <td>0.480000</td>\n",
       "      <td>-6.956250</td>\n",
       "      <td>-10.171111</td>\n",
       "      <td>0.100000</td>\n",
       "      <td>0.440000</td>\n",
       "      <td>0.292222</td>\n",
       "      <td>0.0</td>\n",
       "      <td>0.785714</td>\n",
       "      <td>-1.663265</td>\n",
       "      <td>...</td>\n",
       "      <td>10.0</td>\n",
       "      <td>9.0</td>\n",
       "      <td>9.0</td>\n",
       "      <td>10.0</td>\n",
       "      <td>10.0</td>\n",
       "      <td>8.0</td>\n",
       "      <td>9.0</td>\n",
       "      <td>10.0</td>\n",
       "      <td>10.0</td>\n",
       "      <td>8.0</td>\n",
       "    </tr>\n",
       "    <tr>\n",
       "      <th>22</th>\n",
       "      <td>-0.355455</td>\n",
       "      <td>0.038182</td>\n",
       "      <td>0.175455</td>\n",
       "      <td>-0.210000</td>\n",
       "      <td>0.207273</td>\n",
       "      <td>-0.170000</td>\n",
       "      <td>-0.075455</td>\n",
       "      <td>0.0</td>\n",
       "      <td>0.060606</td>\n",
       "      <td>0.666667</td>\n",
       "      <td>...</td>\n",
       "      <td>12.0</td>\n",
       "      <td>12.0</td>\n",
       "      <td>12.0</td>\n",
       "      <td>12.0</td>\n",
       "      <td>12.0</td>\n",
       "      <td>12.0</td>\n",
       "      <td>12.0</td>\n",
       "      <td>12.0</td>\n",
       "      <td>12.0</td>\n",
       "      <td>12.0</td>\n",
       "    </tr>\n",
       "    <tr>\n",
       "      <th>23</th>\n",
       "      <td>0.347273</td>\n",
       "      <td>0.324545</td>\n",
       "      <td>0.183636</td>\n",
       "      <td>0.231818</td>\n",
       "      <td>0.319091</td>\n",
       "      <td>0.212727</td>\n",
       "      <td>0.240000</td>\n",
       "      <td>0.0</td>\n",
       "      <td>0.510823</td>\n",
       "      <td>0.405844</td>\n",
       "      <td>...</td>\n",
       "      <td>12.0</td>\n",
       "      <td>12.0</td>\n",
       "      <td>12.0</td>\n",
       "      <td>12.0</td>\n",
       "      <td>12.0</td>\n",
       "      <td>12.0</td>\n",
       "      <td>12.0</td>\n",
       "      <td>12.0</td>\n",
       "      <td>12.0</td>\n",
       "      <td>12.0</td>\n",
       "    </tr>\n",
       "    <tr>\n",
       "      <th>24</th>\n",
       "      <td>0.300909</td>\n",
       "      <td>0.297273</td>\n",
       "      <td>0.490909</td>\n",
       "      <td>-0.037273</td>\n",
       "      <td>0.228182</td>\n",
       "      <td>0.322727</td>\n",
       "      <td>0.361818</td>\n",
       "      <td>0.0</td>\n",
       "      <td>-0.096970</td>\n",
       "      <td>-0.621212</td>\n",
       "      <td>...</td>\n",
       "      <td>12.0</td>\n",
       "      <td>12.0</td>\n",
       "      <td>12.0</td>\n",
       "      <td>12.0</td>\n",
       "      <td>12.0</td>\n",
       "      <td>12.0</td>\n",
       "      <td>12.0</td>\n",
       "      <td>12.0</td>\n",
       "      <td>12.0</td>\n",
       "      <td>12.0</td>\n",
       "    </tr>\n",
       "    <tr>\n",
       "      <th>25</th>\n",
       "      <td>0.179091</td>\n",
       "      <td>0.243636</td>\n",
       "      <td>0.097273</td>\n",
       "      <td>0.187273</td>\n",
       "      <td>0.114545</td>\n",
       "      <td>0.341818</td>\n",
       "      <td>0.168182</td>\n",
       "      <td>0.0</td>\n",
       "      <td>-0.393939</td>\n",
       "      <td>2.750000</td>\n",
       "      <td>...</td>\n",
       "      <td>12.0</td>\n",
       "      <td>12.0</td>\n",
       "      <td>12.0</td>\n",
       "      <td>12.0</td>\n",
       "      <td>12.0</td>\n",
       "      <td>12.0</td>\n",
       "      <td>12.0</td>\n",
       "      <td>12.0</td>\n",
       "      <td>12.0</td>\n",
       "      <td>12.0</td>\n",
       "    </tr>\n",
       "    <tr>\n",
       "      <th>26</th>\n",
       "      <td>0.747500</td>\n",
       "      <td>0.467500</td>\n",
       "      <td>0.625000</td>\n",
       "      <td>-15.156667</td>\n",
       "      <td>0.333333</td>\n",
       "      <td>-0.295000</td>\n",
       "      <td>-0.141667</td>\n",
       "      <td>0.0</td>\n",
       "      <td>-4.958333</td>\n",
       "      <td>8.350000</td>\n",
       "      <td>...</td>\n",
       "      <td>7.0</td>\n",
       "      <td>7.0</td>\n",
       "      <td>7.0</td>\n",
       "      <td>7.0</td>\n",
       "      <td>7.0</td>\n",
       "      <td>5.0</td>\n",
       "      <td>6.0</td>\n",
       "      <td>7.0</td>\n",
       "      <td>7.0</td>\n",
       "      <td>5.0</td>\n",
       "    </tr>\n",
       "    <tr>\n",
       "      <th>27</th>\n",
       "      <td>0.038182</td>\n",
       "      <td>0.013636</td>\n",
       "      <td>0.188182</td>\n",
       "      <td>0.268182</td>\n",
       "      <td>0.505455</td>\n",
       "      <td>-0.082727</td>\n",
       "      <td>0.166364</td>\n",
       "      <td>0.0</td>\n",
       "      <td>-0.151515</td>\n",
       "      <td>-0.060606</td>\n",
       "      <td>...</td>\n",
       "      <td>12.0</td>\n",
       "      <td>12.0</td>\n",
       "      <td>12.0</td>\n",
       "      <td>12.0</td>\n",
       "      <td>12.0</td>\n",
       "      <td>12.0</td>\n",
       "      <td>12.0</td>\n",
       "      <td>12.0</td>\n",
       "      <td>12.0</td>\n",
       "      <td>12.0</td>\n",
       "    </tr>\n",
       "    <tr>\n",
       "      <th>28</th>\n",
       "      <td>0.245455</td>\n",
       "      <td>0.083636</td>\n",
       "      <td>0.111818</td>\n",
       "      <td>0.124545</td>\n",
       "      <td>0.247273</td>\n",
       "      <td>0.233636</td>\n",
       "      <td>0.180000</td>\n",
       "      <td>0.0</td>\n",
       "      <td>1.282828</td>\n",
       "      <td>0.656566</td>\n",
       "      <td>...</td>\n",
       "      <td>12.0</td>\n",
       "      <td>12.0</td>\n",
       "      <td>12.0</td>\n",
       "      <td>12.0</td>\n",
       "      <td>12.0</td>\n",
       "      <td>12.0</td>\n",
       "      <td>12.0</td>\n",
       "      <td>12.0</td>\n",
       "      <td>12.0</td>\n",
       "      <td>12.0</td>\n",
       "    </tr>\n",
       "    <tr>\n",
       "      <th>30</th>\n",
       "      <td>0.001818</td>\n",
       "      <td>0.027273</td>\n",
       "      <td>0.051818</td>\n",
       "      <td>0.035455</td>\n",
       "      <td>0.116364</td>\n",
       "      <td>0.038182</td>\n",
       "      <td>-0.005455</td>\n",
       "      <td>0.0</td>\n",
       "      <td>1.439394</td>\n",
       "      <td>0.745455</td>\n",
       "      <td>...</td>\n",
       "      <td>12.0</td>\n",
       "      <td>12.0</td>\n",
       "      <td>12.0</td>\n",
       "      <td>12.0</td>\n",
       "      <td>12.0</td>\n",
       "      <td>12.0</td>\n",
       "      <td>12.0</td>\n",
       "      <td>12.0</td>\n",
       "      <td>12.0</td>\n",
       "      <td>12.0</td>\n",
       "    </tr>\n",
       "    <tr>\n",
       "      <th>31</th>\n",
       "      <td>0.379091</td>\n",
       "      <td>0.617273</td>\n",
       "      <td>0.406364</td>\n",
       "      <td>0.292727</td>\n",
       "      <td>0.312727</td>\n",
       "      <td>0.679091</td>\n",
       "      <td>0.499091</td>\n",
       "      <td>0.0</td>\n",
       "      <td>-1.307359</td>\n",
       "      <td>0.406926</td>\n",
       "      <td>...</td>\n",
       "      <td>12.0</td>\n",
       "      <td>12.0</td>\n",
       "      <td>12.0</td>\n",
       "      <td>12.0</td>\n",
       "      <td>12.0</td>\n",
       "      <td>12.0</td>\n",
       "      <td>12.0</td>\n",
       "      <td>12.0</td>\n",
       "      <td>12.0</td>\n",
       "      <td>12.0</td>\n",
       "    </tr>\n",
       "    <tr>\n",
       "      <th>33</th>\n",
       "      <td>-0.157273</td>\n",
       "      <td>0.006364</td>\n",
       "      <td>0.012727</td>\n",
       "      <td>0.074545</td>\n",
       "      <td>0.125455</td>\n",
       "      <td>-0.071818</td>\n",
       "      <td>0.013636</td>\n",
       "      <td>0.0</td>\n",
       "      <td>0.266667</td>\n",
       "      <td>0.786364</td>\n",
       "      <td>...</td>\n",
       "      <td>12.0</td>\n",
       "      <td>12.0</td>\n",
       "      <td>12.0</td>\n",
       "      <td>12.0</td>\n",
       "      <td>12.0</td>\n",
       "      <td>12.0</td>\n",
       "      <td>12.0</td>\n",
       "      <td>12.0</td>\n",
       "      <td>12.0</td>\n",
       "      <td>12.0</td>\n",
       "    </tr>\n",
       "    <tr>\n",
       "      <th>36</th>\n",
       "      <td>0.211818</td>\n",
       "      <td>0.228182</td>\n",
       "      <td>0.175455</td>\n",
       "      <td>0.221818</td>\n",
       "      <td>0.213636</td>\n",
       "      <td>0.589091</td>\n",
       "      <td>0.251818</td>\n",
       "      <td>0.0</td>\n",
       "      <td>0.189394</td>\n",
       "      <td>0.901515</td>\n",
       "      <td>...</td>\n",
       "      <td>12.0</td>\n",
       "      <td>12.0</td>\n",
       "      <td>12.0</td>\n",
       "      <td>12.0</td>\n",
       "      <td>12.0</td>\n",
       "      <td>12.0</td>\n",
       "      <td>12.0</td>\n",
       "      <td>12.0</td>\n",
       "      <td>12.0</td>\n",
       "      <td>12.0</td>\n",
       "    </tr>\n",
       "    <tr>\n",
       "      <th>...</th>\n",
       "      <td>...</td>\n",
       "      <td>...</td>\n",
       "      <td>...</td>\n",
       "      <td>...</td>\n",
       "      <td>...</td>\n",
       "      <td>...</td>\n",
       "      <td>...</td>\n",
       "      <td>...</td>\n",
       "      <td>...</td>\n",
       "      <td>...</td>\n",
       "      <td>...</td>\n",
       "      <td>...</td>\n",
       "      <td>...</td>\n",
       "      <td>...</td>\n",
       "      <td>...</td>\n",
       "      <td>...</td>\n",
       "      <td>...</td>\n",
       "      <td>...</td>\n",
       "      <td>...</td>\n",
       "      <td>...</td>\n",
       "      <td>...</td>\n",
       "    </tr>\n",
       "    <tr>\n",
       "      <th>1688</th>\n",
       "      <td>-0.036364</td>\n",
       "      <td>-0.073636</td>\n",
       "      <td>0.011818</td>\n",
       "      <td>0.000909</td>\n",
       "      <td>-0.045455</td>\n",
       "      <td>0.018182</td>\n",
       "      <td>-0.081818</td>\n",
       "      <td>0.0</td>\n",
       "      <td>0.545455</td>\n",
       "      <td>0.422078</td>\n",
       "      <td>...</td>\n",
       "      <td>12.0</td>\n",
       "      <td>12.0</td>\n",
       "      <td>12.0</td>\n",
       "      <td>12.0</td>\n",
       "      <td>12.0</td>\n",
       "      <td>12.0</td>\n",
       "      <td>12.0</td>\n",
       "      <td>12.0</td>\n",
       "      <td>12.0</td>\n",
       "      <td>12.0</td>\n",
       "    </tr>\n",
       "    <tr>\n",
       "      <th>1692</th>\n",
       "      <td>-0.095455</td>\n",
       "      <td>-0.078182</td>\n",
       "      <td>-0.056364</td>\n",
       "      <td>0.082727</td>\n",
       "      <td>0.065455</td>\n",
       "      <td>-0.120000</td>\n",
       "      <td>-0.036364</td>\n",
       "      <td>0.0</td>\n",
       "      <td>0.202020</td>\n",
       "      <td>0.678571</td>\n",
       "      <td>...</td>\n",
       "      <td>12.0</td>\n",
       "      <td>12.0</td>\n",
       "      <td>12.0</td>\n",
       "      <td>12.0</td>\n",
       "      <td>12.0</td>\n",
       "      <td>12.0</td>\n",
       "      <td>12.0</td>\n",
       "      <td>12.0</td>\n",
       "      <td>12.0</td>\n",
       "      <td>12.0</td>\n",
       "    </tr>\n",
       "    <tr>\n",
       "      <th>1694</th>\n",
       "      <td>1.686667</td>\n",
       "      <td>0.450000</td>\n",
       "      <td>0.063333</td>\n",
       "      <td>-0.500000</td>\n",
       "      <td>0.413333</td>\n",
       "      <td>1.140000</td>\n",
       "      <td>1.170000</td>\n",
       "      <td>0.0</td>\n",
       "      <td>-6.833333</td>\n",
       "      <td>2.333333</td>\n",
       "      <td>...</td>\n",
       "      <td>4.0</td>\n",
       "      <td>4.0</td>\n",
       "      <td>4.0</td>\n",
       "      <td>4.0</td>\n",
       "      <td>4.0</td>\n",
       "      <td>1.0</td>\n",
       "      <td>1.0</td>\n",
       "      <td>1.0</td>\n",
       "      <td>1.0</td>\n",
       "      <td>1.0</td>\n",
       "    </tr>\n",
       "    <tr>\n",
       "      <th>1700</th>\n",
       "      <td>0.125455</td>\n",
       "      <td>0.261818</td>\n",
       "      <td>0.214545</td>\n",
       "      <td>0.186364</td>\n",
       "      <td>0.167500</td>\n",
       "      <td>0.204545</td>\n",
       "      <td>0.213636</td>\n",
       "      <td>0.0</td>\n",
       "      <td>-0.242424</td>\n",
       "      <td>0.462338</td>\n",
       "      <td>...</td>\n",
       "      <td>12.0</td>\n",
       "      <td>12.0</td>\n",
       "      <td>12.0</td>\n",
       "      <td>12.0</td>\n",
       "      <td>12.0</td>\n",
       "      <td>12.0</td>\n",
       "      <td>12.0</td>\n",
       "      <td>5.0</td>\n",
       "      <td>12.0</td>\n",
       "      <td>12.0</td>\n",
       "    </tr>\n",
       "    <tr>\n",
       "      <th>1704</th>\n",
       "      <td>0.436250</td>\n",
       "      <td>-9.808889</td>\n",
       "      <td>0.127778</td>\n",
       "      <td>-8.287273</td>\n",
       "      <td>-0.899091</td>\n",
       "      <td>0.100000</td>\n",
       "      <td>0.242727</td>\n",
       "      <td>0.0</td>\n",
       "      <td>1.091667</td>\n",
       "      <td>-2.377778</td>\n",
       "      <td>...</td>\n",
       "      <td>12.0</td>\n",
       "      <td>12.0</td>\n",
       "      <td>12.0</td>\n",
       "      <td>12.0</td>\n",
       "      <td>12.0</td>\n",
       "      <td>10.0</td>\n",
       "      <td>11.0</td>\n",
       "      <td>6.0</td>\n",
       "      <td>12.0</td>\n",
       "      <td>10.0</td>\n",
       "    </tr>\n",
       "    <tr>\n",
       "      <th>1717</th>\n",
       "      <td>0.184545</td>\n",
       "      <td>0.205455</td>\n",
       "      <td>0.171818</td>\n",
       "      <td>-0.004545</td>\n",
       "      <td>-0.021818</td>\n",
       "      <td>0.030000</td>\n",
       "      <td>0.078182</td>\n",
       "      <td>0.0</td>\n",
       "      <td>0.157025</td>\n",
       "      <td>-0.106035</td>\n",
       "      <td>...</td>\n",
       "      <td>12.0</td>\n",
       "      <td>12.0</td>\n",
       "      <td>12.0</td>\n",
       "      <td>12.0</td>\n",
       "      <td>12.0</td>\n",
       "      <td>12.0</td>\n",
       "      <td>12.0</td>\n",
       "      <td>12.0</td>\n",
       "      <td>12.0</td>\n",
       "      <td>12.0</td>\n",
       "    </tr>\n",
       "    <tr>\n",
       "      <th>1742</th>\n",
       "      <td>0.483636</td>\n",
       "      <td>0.462727</td>\n",
       "      <td>0.320909</td>\n",
       "      <td>0.160909</td>\n",
       "      <td>0.401818</td>\n",
       "      <td>0.370909</td>\n",
       "      <td>0.393636</td>\n",
       "      <td>0.0</td>\n",
       "      <td>0.822727</td>\n",
       "      <td>-0.630303</td>\n",
       "      <td>...</td>\n",
       "      <td>12.0</td>\n",
       "      <td>12.0</td>\n",
       "      <td>12.0</td>\n",
       "      <td>12.0</td>\n",
       "      <td>12.0</td>\n",
       "      <td>12.0</td>\n",
       "      <td>12.0</td>\n",
       "      <td>12.0</td>\n",
       "      <td>12.0</td>\n",
       "      <td>12.0</td>\n",
       "    </tr>\n",
       "    <tr>\n",
       "      <th>1744</th>\n",
       "      <td>0.275455</td>\n",
       "      <td>0.306364</td>\n",
       "      <td>0.170000</td>\n",
       "      <td>-0.111818</td>\n",
       "      <td>0.319091</td>\n",
       "      <td>0.668182</td>\n",
       "      <td>0.291818</td>\n",
       "      <td>0.0</td>\n",
       "      <td>0.468182</td>\n",
       "      <td>-0.513131</td>\n",
       "      <td>...</td>\n",
       "      <td>12.0</td>\n",
       "      <td>12.0</td>\n",
       "      <td>12.0</td>\n",
       "      <td>12.0</td>\n",
       "      <td>12.0</td>\n",
       "      <td>12.0</td>\n",
       "      <td>12.0</td>\n",
       "      <td>12.0</td>\n",
       "      <td>12.0</td>\n",
       "      <td>12.0</td>\n",
       "    </tr>\n",
       "    <tr>\n",
       "      <th>1753</th>\n",
       "      <td>0.090000</td>\n",
       "      <td>-0.141818</td>\n",
       "      <td>0.005455</td>\n",
       "      <td>0.064545</td>\n",
       "      <td>10.505556</td>\n",
       "      <td>0.135455</td>\n",
       "      <td>0.060000</td>\n",
       "      <td>0.0</td>\n",
       "      <td>0.663636</td>\n",
       "      <td>-0.408081</td>\n",
       "      <td>...</td>\n",
       "      <td>12.0</td>\n",
       "      <td>12.0</td>\n",
       "      <td>12.0</td>\n",
       "      <td>12.0</td>\n",
       "      <td>12.0</td>\n",
       "      <td>12.0</td>\n",
       "      <td>12.0</td>\n",
       "      <td>3.0</td>\n",
       "      <td>12.0</td>\n",
       "      <td>12.0</td>\n",
       "    </tr>\n",
       "    <tr>\n",
       "      <th>1761</th>\n",
       "      <td>0.347000</td>\n",
       "      <td>0.547000</td>\n",
       "      <td>0.347000</td>\n",
       "      <td>0.351000</td>\n",
       "      <td>0.349000</td>\n",
       "      <td>0.555000</td>\n",
       "      <td>0.414000</td>\n",
       "      <td>0.0</td>\n",
       "      <td>0.155556</td>\n",
       "      <td>0.502857</td>\n",
       "      <td>...</td>\n",
       "      <td>11.0</td>\n",
       "      <td>11.0</td>\n",
       "      <td>11.0</td>\n",
       "      <td>11.0</td>\n",
       "      <td>11.0</td>\n",
       "      <td>11.0</td>\n",
       "      <td>11.0</td>\n",
       "      <td>11.0</td>\n",
       "      <td>11.0</td>\n",
       "      <td>11.0</td>\n",
       "    </tr>\n",
       "    <tr>\n",
       "      <th>1765</th>\n",
       "      <td>0.133636</td>\n",
       "      <td>0.241818</td>\n",
       "      <td>0.072727</td>\n",
       "      <td>0.298182</td>\n",
       "      <td>0.532727</td>\n",
       "      <td>0.315455</td>\n",
       "      <td>0.236364</td>\n",
       "      <td>0.0</td>\n",
       "      <td>0.236364</td>\n",
       "      <td>0.157576</td>\n",
       "      <td>...</td>\n",
       "      <td>12.0</td>\n",
       "      <td>12.0</td>\n",
       "      <td>12.0</td>\n",
       "      <td>12.0</td>\n",
       "      <td>12.0</td>\n",
       "      <td>12.0</td>\n",
       "      <td>12.0</td>\n",
       "      <td>12.0</td>\n",
       "      <td>12.0</td>\n",
       "      <td>12.0</td>\n",
       "    </tr>\n",
       "    <tr>\n",
       "      <th>1767</th>\n",
       "      <td>0.285455</td>\n",
       "      <td>0.140909</td>\n",
       "      <td>0.184545</td>\n",
       "      <td>0.210909</td>\n",
       "      <td>0.399091</td>\n",
       "      <td>0.187273</td>\n",
       "      <td>0.182727</td>\n",
       "      <td>0.0</td>\n",
       "      <td>-0.287879</td>\n",
       "      <td>-0.388145</td>\n",
       "      <td>...</td>\n",
       "      <td>12.0</td>\n",
       "      <td>12.0</td>\n",
       "      <td>12.0</td>\n",
       "      <td>12.0</td>\n",
       "      <td>12.0</td>\n",
       "      <td>12.0</td>\n",
       "      <td>12.0</td>\n",
       "      <td>12.0</td>\n",
       "      <td>12.0</td>\n",
       "      <td>12.0</td>\n",
       "    </tr>\n",
       "    <tr>\n",
       "      <th>1768</th>\n",
       "      <td>0.140909</td>\n",
       "      <td>0.030909</td>\n",
       "      <td>0.051000</td>\n",
       "      <td>0.021111</td>\n",
       "      <td>-0.065000</td>\n",
       "      <td>0.073636</td>\n",
       "      <td>0.172727</td>\n",
       "      <td>0.0</td>\n",
       "      <td>-1.818182</td>\n",
       "      <td>0.066667</td>\n",
       "      <td>...</td>\n",
       "      <td>12.0</td>\n",
       "      <td>12.0</td>\n",
       "      <td>12.0</td>\n",
       "      <td>12.0</td>\n",
       "      <td>12.0</td>\n",
       "      <td>11.0</td>\n",
       "      <td>10.0</td>\n",
       "      <td>9.0</td>\n",
       "      <td>11.0</td>\n",
       "      <td>11.0</td>\n",
       "    </tr>\n",
       "    <tr>\n",
       "      <th>1770</th>\n",
       "      <td>0.245455</td>\n",
       "      <td>0.030000</td>\n",
       "      <td>0.090000</td>\n",
       "      <td>0.107273</td>\n",
       "      <td>0.189091</td>\n",
       "      <td>0.261818</td>\n",
       "      <td>0.096364</td>\n",
       "      <td>0.0</td>\n",
       "      <td>0.988456</td>\n",
       "      <td>0.919081</td>\n",
       "      <td>...</td>\n",
       "      <td>12.0</td>\n",
       "      <td>12.0</td>\n",
       "      <td>12.0</td>\n",
       "      <td>12.0</td>\n",
       "      <td>12.0</td>\n",
       "      <td>12.0</td>\n",
       "      <td>12.0</td>\n",
       "      <td>12.0</td>\n",
       "      <td>12.0</td>\n",
       "      <td>12.0</td>\n",
       "    </tr>\n",
       "    <tr>\n",
       "      <th>1775</th>\n",
       "      <td>-0.205455</td>\n",
       "      <td>0.210000</td>\n",
       "      <td>-0.072727</td>\n",
       "      <td>0.223636</td>\n",
       "      <td>0.212727</td>\n",
       "      <td>0.488182</td>\n",
       "      <td>0.215455</td>\n",
       "      <td>0.0</td>\n",
       "      <td>0.181818</td>\n",
       "      <td>0.727273</td>\n",
       "      <td>...</td>\n",
       "      <td>12.0</td>\n",
       "      <td>12.0</td>\n",
       "      <td>12.0</td>\n",
       "      <td>12.0</td>\n",
       "      <td>12.0</td>\n",
       "      <td>12.0</td>\n",
       "      <td>12.0</td>\n",
       "      <td>12.0</td>\n",
       "      <td>12.0</td>\n",
       "      <td>12.0</td>\n",
       "    </tr>\n",
       "    <tr>\n",
       "      <th>1792</th>\n",
       "      <td>0.058182</td>\n",
       "      <td>-0.075455</td>\n",
       "      <td>0.211818</td>\n",
       "      <td>0.448000</td>\n",
       "      <td>-0.347500</td>\n",
       "      <td>0.454545</td>\n",
       "      <td>0.229091</td>\n",
       "      <td>0.0</td>\n",
       "      <td>0.203857</td>\n",
       "      <td>0.159091</td>\n",
       "      <td>...</td>\n",
       "      <td>12.0</td>\n",
       "      <td>12.0</td>\n",
       "      <td>12.0</td>\n",
       "      <td>12.0</td>\n",
       "      <td>12.0</td>\n",
       "      <td>12.0</td>\n",
       "      <td>6.0</td>\n",
       "      <td>5.0</td>\n",
       "      <td>12.0</td>\n",
       "      <td>12.0</td>\n",
       "    </tr>\n",
       "    <tr>\n",
       "      <th>1794</th>\n",
       "      <td>0.140000</td>\n",
       "      <td>1.283333</td>\n",
       "      <td>1.455000</td>\n",
       "      <td>0.376364</td>\n",
       "      <td>0.340000</td>\n",
       "      <td>0.462000</td>\n",
       "      <td>0.268182</td>\n",
       "      <td>0.0</td>\n",
       "      <td>-0.444444</td>\n",
       "      <td>-6.166667</td>\n",
       "      <td>...</td>\n",
       "      <td>12.0</td>\n",
       "      <td>12.0</td>\n",
       "      <td>12.0</td>\n",
       "      <td>12.0</td>\n",
       "      <td>12.0</td>\n",
       "      <td>3.0</td>\n",
       "      <td>12.0</td>\n",
       "      <td>12.0</td>\n",
       "      <td>12.0</td>\n",
       "      <td>3.0</td>\n",
       "    </tr>\n",
       "    <tr>\n",
       "      <th>1798</th>\n",
       "      <td>0.017273</td>\n",
       "      <td>-0.016364</td>\n",
       "      <td>-0.025455</td>\n",
       "      <td>0.051818</td>\n",
       "      <td>0.223636</td>\n",
       "      <td>-0.048182</td>\n",
       "      <td>0.018182</td>\n",
       "      <td>0.0</td>\n",
       "      <td>-0.415584</td>\n",
       "      <td>0.860606</td>\n",
       "      <td>...</td>\n",
       "      <td>12.0</td>\n",
       "      <td>12.0</td>\n",
       "      <td>12.0</td>\n",
       "      <td>12.0</td>\n",
       "      <td>12.0</td>\n",
       "      <td>12.0</td>\n",
       "      <td>12.0</td>\n",
       "      <td>12.0</td>\n",
       "      <td>12.0</td>\n",
       "      <td>12.0</td>\n",
       "    </tr>\n",
       "    <tr>\n",
       "      <th>1802</th>\n",
       "      <td>-0.101250</td>\n",
       "      <td>0.092500</td>\n",
       "      <td>0.165714</td>\n",
       "      <td>-0.063333</td>\n",
       "      <td>0.232000</td>\n",
       "      <td>0.131250</td>\n",
       "      <td>0.025000</td>\n",
       "      <td>0.0</td>\n",
       "      <td>-1.750000</td>\n",
       "      <td>-2.000000</td>\n",
       "      <td>...</td>\n",
       "      <td>9.0</td>\n",
       "      <td>9.0</td>\n",
       "      <td>9.0</td>\n",
       "      <td>9.0</td>\n",
       "      <td>9.0</td>\n",
       "      <td>8.0</td>\n",
       "      <td>7.0</td>\n",
       "      <td>6.0</td>\n",
       "      <td>8.0</td>\n",
       "      <td>8.0</td>\n",
       "    </tr>\n",
       "    <tr>\n",
       "      <th>1812</th>\n",
       "      <td>-0.259091</td>\n",
       "      <td>0.180000</td>\n",
       "      <td>0.178182</td>\n",
       "      <td>0.060909</td>\n",
       "      <td>0.172727</td>\n",
       "      <td>-0.030909</td>\n",
       "      <td>-0.049091</td>\n",
       "      <td>0.0</td>\n",
       "      <td>1.363636</td>\n",
       "      <td>1.656566</td>\n",
       "      <td>...</td>\n",
       "      <td>12.0</td>\n",
       "      <td>12.0</td>\n",
       "      <td>12.0</td>\n",
       "      <td>12.0</td>\n",
       "      <td>12.0</td>\n",
       "      <td>12.0</td>\n",
       "      <td>12.0</td>\n",
       "      <td>12.0</td>\n",
       "      <td>12.0</td>\n",
       "      <td>12.0</td>\n",
       "    </tr>\n",
       "    <tr>\n",
       "      <th>1819</th>\n",
       "      <td>0.380000</td>\n",
       "      <td>0.484286</td>\n",
       "      <td>0.088571</td>\n",
       "      <td>0.917143</td>\n",
       "      <td>0.157143</td>\n",
       "      <td>0.330000</td>\n",
       "      <td>0.471429</td>\n",
       "      <td>0.0</td>\n",
       "      <td>0.333333</td>\n",
       "      <td>6.642857</td>\n",
       "      <td>...</td>\n",
       "      <td>8.0</td>\n",
       "      <td>8.0</td>\n",
       "      <td>8.0</td>\n",
       "      <td>8.0</td>\n",
       "      <td>8.0</td>\n",
       "      <td>8.0</td>\n",
       "      <td>8.0</td>\n",
       "      <td>8.0</td>\n",
       "      <td>8.0</td>\n",
       "      <td>8.0</td>\n",
       "    </tr>\n",
       "    <tr>\n",
       "      <th>1829</th>\n",
       "      <td>0.030000</td>\n",
       "      <td>0.245714</td>\n",
       "      <td>0.070000</td>\n",
       "      <td>0.104000</td>\n",
       "      <td>0.270000</td>\n",
       "      <td>0.490000</td>\n",
       "      <td>0.328571</td>\n",
       "      <td>0.0</td>\n",
       "      <td>0.857143</td>\n",
       "      <td>0.916667</td>\n",
       "      <td>...</td>\n",
       "      <td>8.0</td>\n",
       "      <td>8.0</td>\n",
       "      <td>8.0</td>\n",
       "      <td>8.0</td>\n",
       "      <td>8.0</td>\n",
       "      <td>7.0</td>\n",
       "      <td>6.0</td>\n",
       "      <td>5.0</td>\n",
       "      <td>7.0</td>\n",
       "      <td>7.0</td>\n",
       "    </tr>\n",
       "    <tr>\n",
       "      <th>1832</th>\n",
       "      <td>0.285000</td>\n",
       "      <td>0.362500</td>\n",
       "      <td>-15.218333</td>\n",
       "      <td>0.160000</td>\n",
       "      <td>0.525714</td>\n",
       "      <td>0.995000</td>\n",
       "      <td>0.701429</td>\n",
       "      <td>0.0</td>\n",
       "      <td>3.198413</td>\n",
       "      <td>-4.088889</td>\n",
       "      <td>...</td>\n",
       "      <td>8.0</td>\n",
       "      <td>8.0</td>\n",
       "      <td>8.0</td>\n",
       "      <td>8.0</td>\n",
       "      <td>8.0</td>\n",
       "      <td>6.0</td>\n",
       "      <td>7.0</td>\n",
       "      <td>8.0</td>\n",
       "      <td>8.0</td>\n",
       "      <td>6.0</td>\n",
       "    </tr>\n",
       "    <tr>\n",
       "      <th>1833</th>\n",
       "      <td>0.660000</td>\n",
       "      <td>0.538571</td>\n",
       "      <td>0.378333</td>\n",
       "      <td>0.656000</td>\n",
       "      <td>0.765000</td>\n",
       "      <td>0.595714</td>\n",
       "      <td>0.650000</td>\n",
       "      <td>0.0</td>\n",
       "      <td>0.500000</td>\n",
       "      <td>4.050000</td>\n",
       "      <td>...</td>\n",
       "      <td>8.0</td>\n",
       "      <td>8.0</td>\n",
       "      <td>8.0</td>\n",
       "      <td>8.0</td>\n",
       "      <td>8.0</td>\n",
       "      <td>7.0</td>\n",
       "      <td>6.0</td>\n",
       "      <td>5.0</td>\n",
       "      <td>7.0</td>\n",
       "      <td>7.0</td>\n",
       "    </tr>\n",
       "    <tr>\n",
       "      <th>1838</th>\n",
       "      <td>0.038182</td>\n",
       "      <td>0.129091</td>\n",
       "      <td>0.215455</td>\n",
       "      <td>0.261818</td>\n",
       "      <td>-0.070000</td>\n",
       "      <td>0.103636</td>\n",
       "      <td>0.209091</td>\n",
       "      <td>0.0</td>\n",
       "      <td>-0.549784</td>\n",
       "      <td>0.136364</td>\n",
       "      <td>...</td>\n",
       "      <td>12.0</td>\n",
       "      <td>12.0</td>\n",
       "      <td>12.0</td>\n",
       "      <td>12.0</td>\n",
       "      <td>12.0</td>\n",
       "      <td>12.0</td>\n",
       "      <td>12.0</td>\n",
       "      <td>5.0</td>\n",
       "      <td>12.0</td>\n",
       "      <td>12.0</td>\n",
       "    </tr>\n",
       "    <tr>\n",
       "      <th>1936</th>\n",
       "      <td>0.102500</td>\n",
       "      <td>0.450000</td>\n",
       "      <td>0.496667</td>\n",
       "      <td>0.230000</td>\n",
       "      <td>1.140000</td>\n",
       "      <td>0.002500</td>\n",
       "      <td>0.347500</td>\n",
       "      <td>0.0</td>\n",
       "      <td>0.966667</td>\n",
       "      <td>2.305556</td>\n",
       "      <td>...</td>\n",
       "      <td>5.0</td>\n",
       "      <td>5.0</td>\n",
       "      <td>5.0</td>\n",
       "      <td>5.0</td>\n",
       "      <td>5.0</td>\n",
       "      <td>4.0</td>\n",
       "      <td>3.0</td>\n",
       "      <td>2.0</td>\n",
       "      <td>4.0</td>\n",
       "      <td>4.0</td>\n",
       "    </tr>\n",
       "    <tr>\n",
       "      <th>1940</th>\n",
       "      <td>0.340000</td>\n",
       "      <td>-0.222500</td>\n",
       "      <td>0.800000</td>\n",
       "      <td>0.505000</td>\n",
       "      <td>2.820000</td>\n",
       "      <td>-0.005000</td>\n",
       "      <td>0.330000</td>\n",
       "      <td>0.0</td>\n",
       "      <td>1.300000</td>\n",
       "      <td>-1.166667</td>\n",
       "      <td>...</td>\n",
       "      <td>5.0</td>\n",
       "      <td>5.0</td>\n",
       "      <td>5.0</td>\n",
       "      <td>5.0</td>\n",
       "      <td>5.0</td>\n",
       "      <td>4.0</td>\n",
       "      <td>3.0</td>\n",
       "      <td>2.0</td>\n",
       "      <td>4.0</td>\n",
       "      <td>4.0</td>\n",
       "    </tr>\n",
       "    <tr>\n",
       "      <th>1954</th>\n",
       "      <td>0.093333</td>\n",
       "      <td>0.580000</td>\n",
       "      <td>0.170000</td>\n",
       "      <td>0.000000</td>\n",
       "      <td>0.000000</td>\n",
       "      <td>0.180000</td>\n",
       "      <td>0.766667</td>\n",
       "      <td>0.0</td>\n",
       "      <td>4.916667</td>\n",
       "      <td>1.000000</td>\n",
       "      <td>...</td>\n",
       "      <td>4.0</td>\n",
       "      <td>4.0</td>\n",
       "      <td>4.0</td>\n",
       "      <td>4.0</td>\n",
       "      <td>4.0</td>\n",
       "      <td>2.0</td>\n",
       "      <td>1.0</td>\n",
       "      <td>0.0</td>\n",
       "      <td>2.0</td>\n",
       "      <td>2.0</td>\n",
       "    </tr>\n",
       "    <tr>\n",
       "      <th>1965</th>\n",
       "      <td>0.025000</td>\n",
       "      <td>-1.730000</td>\n",
       "      <td>0.000000</td>\n",
       "      <td>0.000000</td>\n",
       "      <td>0.000000</td>\n",
       "      <td>0.313333</td>\n",
       "      <td>0.766667</td>\n",
       "      <td>0.0</td>\n",
       "      <td>26.800000</td>\n",
       "      <td>0.000000</td>\n",
       "      <td>...</td>\n",
       "      <td>4.0</td>\n",
       "      <td>4.0</td>\n",
       "      <td>4.0</td>\n",
       "      <td>4.0</td>\n",
       "      <td>4.0</td>\n",
       "      <td>1.0</td>\n",
       "      <td>0.0</td>\n",
       "      <td>0.0</td>\n",
       "      <td>1.0</td>\n",
       "      <td>1.0</td>\n",
       "    </tr>\n",
       "    <tr>\n",
       "      <th>1985</th>\n",
       "      <td>-0.072727</td>\n",
       "      <td>0.033636</td>\n",
       "      <td>0.009091</td>\n",
       "      <td>-0.033636</td>\n",
       "      <td>0.416364</td>\n",
       "      <td>-0.060909</td>\n",
       "      <td>0.082727</td>\n",
       "      <td>0.0</td>\n",
       "      <td>1.378788</td>\n",
       "      <td>1.818182</td>\n",
       "      <td>...</td>\n",
       "      <td>12.0</td>\n",
       "      <td>12.0</td>\n",
       "      <td>12.0</td>\n",
       "      <td>12.0</td>\n",
       "      <td>12.0</td>\n",
       "      <td>12.0</td>\n",
       "      <td>12.0</td>\n",
       "      <td>12.0</td>\n",
       "      <td>12.0</td>\n",
       "      <td>12.0</td>\n",
       "    </tr>\n",
       "  </tbody>\n",
       "</table>\n",
       "<p>732 rows × 459 columns</p>\n",
       "</div>"
      ],
      "text/plain": [
       "      ATTPCTG01 trend05_16  ATTPCTG02 trend05_16  ATTPCTG03 trend05_16  \\\n",
       "0                 0.220909              0.189091              0.204545   \n",
       "2                 0.290909              0.019091              0.089091   \n",
       "4                 0.610000              0.410000              0.164545   \n",
       "5                 0.308182              0.107273              0.088182   \n",
       "6                 0.174545              0.102727              0.097273   \n",
       "7                 0.422727              0.230000              0.424545   \n",
       "8                 0.678182              0.490000              0.349091   \n",
       "9                 0.300000              0.228182              0.444545   \n",
       "10                0.567273              0.274545              0.526364   \n",
       "11                0.507273              0.373636              0.217273   \n",
       "12                0.146364              0.061818              0.095455   \n",
       "14                0.240909              0.035455              0.083636   \n",
       "15               -0.021818              0.240909              0.070000   \n",
       "16               -0.098182             -0.134545              0.150000   \n",
       "17               -0.299091             -0.157273              0.126364   \n",
       "18                0.262857             -0.005714             -0.240000   \n",
       "19                0.046364              0.215455              0.145455   \n",
       "20                0.340909              0.155455              0.263636   \n",
       "21                0.238571              0.480000             -6.956250   \n",
       "22               -0.355455              0.038182              0.175455   \n",
       "23                0.347273              0.324545              0.183636   \n",
       "24                0.300909              0.297273              0.490909   \n",
       "25                0.179091              0.243636              0.097273   \n",
       "26                0.747500              0.467500              0.625000   \n",
       "27                0.038182              0.013636              0.188182   \n",
       "28                0.245455              0.083636              0.111818   \n",
       "30                0.001818              0.027273              0.051818   \n",
       "31                0.379091              0.617273              0.406364   \n",
       "33               -0.157273              0.006364              0.012727   \n",
       "36                0.211818              0.228182              0.175455   \n",
       "...                    ...                   ...                   ...   \n",
       "1688             -0.036364             -0.073636              0.011818   \n",
       "1692             -0.095455             -0.078182             -0.056364   \n",
       "1694              1.686667              0.450000              0.063333   \n",
       "1700              0.125455              0.261818              0.214545   \n",
       "1704              0.436250             -9.808889              0.127778   \n",
       "1717              0.184545              0.205455              0.171818   \n",
       "1742              0.483636              0.462727              0.320909   \n",
       "1744              0.275455              0.306364              0.170000   \n",
       "1753              0.090000             -0.141818              0.005455   \n",
       "1761              0.347000              0.547000              0.347000   \n",
       "1765              0.133636              0.241818              0.072727   \n",
       "1767              0.285455              0.140909              0.184545   \n",
       "1768              0.140909              0.030909              0.051000   \n",
       "1770              0.245455              0.030000              0.090000   \n",
       "1775             -0.205455              0.210000             -0.072727   \n",
       "1792              0.058182             -0.075455              0.211818   \n",
       "1794              0.140000              1.283333              1.455000   \n",
       "1798              0.017273             -0.016364             -0.025455   \n",
       "1802             -0.101250              0.092500              0.165714   \n",
       "1812             -0.259091              0.180000              0.178182   \n",
       "1819              0.380000              0.484286              0.088571   \n",
       "1829              0.030000              0.245714              0.070000   \n",
       "1832              0.285000              0.362500            -15.218333   \n",
       "1833              0.660000              0.538571              0.378333   \n",
       "1838              0.038182              0.129091              0.215455   \n",
       "1936              0.102500              0.450000              0.496667   \n",
       "1940              0.340000             -0.222500              0.800000   \n",
       "1954              0.093333              0.580000              0.170000   \n",
       "1965              0.025000             -1.730000              0.000000   \n",
       "1985             -0.072727              0.033636              0.009091   \n",
       "\n",
       "      ATTPCTG04 trend05_16  ATTPCTG05 trend05_16  ATTPCTKID trend05_16  \\\n",
       "0                 0.250909              0.177273              0.191818   \n",
       "2                 0.065455              0.181818             -0.069091   \n",
       "4                 0.283636              0.459091              0.234545   \n",
       "5                -0.088182              0.156364              0.600000   \n",
       "6                 0.062727              0.400000              0.069091   \n",
       "7                 0.217273              0.700909              0.303636   \n",
       "8                 0.314545              0.294545              0.645455   \n",
       "9                 0.310000              0.281818              0.482727   \n",
       "10                0.233636              0.490000              0.964545   \n",
       "11                0.524545              0.451818              0.568182   \n",
       "12                0.112727              0.150909              0.243636   \n",
       "14                0.034545              0.343636             -0.107273   \n",
       "15                0.359091              0.502727              0.491818   \n",
       "16                0.041818              0.105455              0.170909   \n",
       "17               -0.110909             -0.361818             -0.295455   \n",
       "18               -0.216667             -0.297000             -0.360000   \n",
       "19               -0.080000              0.053636              0.455455   \n",
       "20                0.220000              0.318182              0.245455   \n",
       "21              -10.171111              0.100000              0.440000   \n",
       "22               -0.210000              0.207273             -0.170000   \n",
       "23                0.231818              0.319091              0.212727   \n",
       "24               -0.037273              0.228182              0.322727   \n",
       "25                0.187273              0.114545              0.341818   \n",
       "26              -15.156667              0.333333             -0.295000   \n",
       "27                0.268182              0.505455             -0.082727   \n",
       "28                0.124545              0.247273              0.233636   \n",
       "30                0.035455              0.116364              0.038182   \n",
       "31                0.292727              0.312727              0.679091   \n",
       "33                0.074545              0.125455             -0.071818   \n",
       "36                0.221818              0.213636              0.589091   \n",
       "...                    ...                   ...                   ...   \n",
       "1688              0.000909             -0.045455              0.018182   \n",
       "1692              0.082727              0.065455             -0.120000   \n",
       "1694             -0.500000              0.413333              1.140000   \n",
       "1700              0.186364              0.167500              0.204545   \n",
       "1704             -8.287273             -0.899091              0.100000   \n",
       "1717             -0.004545             -0.021818              0.030000   \n",
       "1742              0.160909              0.401818              0.370909   \n",
       "1744             -0.111818              0.319091              0.668182   \n",
       "1753              0.064545             10.505556              0.135455   \n",
       "1761              0.351000              0.349000              0.555000   \n",
       "1765              0.298182              0.532727              0.315455   \n",
       "1767              0.210909              0.399091              0.187273   \n",
       "1768              0.021111             -0.065000              0.073636   \n",
       "1770              0.107273              0.189091              0.261818   \n",
       "1775              0.223636              0.212727              0.488182   \n",
       "1792              0.448000             -0.347500              0.454545   \n",
       "1794              0.376364              0.340000              0.462000   \n",
       "1798              0.051818              0.223636             -0.048182   \n",
       "1802             -0.063333              0.232000              0.131250   \n",
       "1812              0.060909              0.172727             -0.030909   \n",
       "1819              0.917143              0.157143              0.330000   \n",
       "1829              0.104000              0.270000              0.490000   \n",
       "1832              0.160000              0.525714              0.995000   \n",
       "1833              0.656000              0.765000              0.595714   \n",
       "1838              0.261818             -0.070000              0.103636   \n",
       "1936              0.230000              1.140000              0.002500   \n",
       "1940              0.505000              2.820000             -0.005000   \n",
       "1954              0.000000              0.000000              0.180000   \n",
       "1965              0.000000              0.000000              0.313333   \n",
       "1985             -0.033636              0.416364             -0.060909   \n",
       "\n",
       "      ATTPCTTOT trend05_16  CBO trend05_16  CLSAVGG01 trend05_16  \\\n",
       "0                 0.242727             0.0              0.200866   \n",
       "2                 0.052727             0.0              0.672727   \n",
       "4                 0.297273             0.0             -0.209091   \n",
       "5                 0.140000             0.0              0.496753   \n",
       "6                 0.150000             0.0              0.200957   \n",
       "7                 0.392727             0.0              0.313131   \n",
       "8                 0.513636             0.0              0.681818   \n",
       "9                 0.337273             0.0              2.090909   \n",
       "10                0.486364             0.0              1.284848   \n",
       "11                0.412727             0.0              1.878788   \n",
       "12                0.131818             0.0              1.257576   \n",
       "14                0.080000             0.0             -0.036364   \n",
       "15                0.245455             0.0             -0.954545   \n",
       "16               -0.018182             0.0             -0.424242   \n",
       "17               -0.226364             0.0             -0.454545   \n",
       "18               -0.152000             0.0             -1.163265   \n",
       "19                0.132727             0.0              1.946970   \n",
       "20                0.251818             0.0             -0.101299   \n",
       "21                0.292222             0.0              0.785714   \n",
       "22               -0.075455             0.0              0.060606   \n",
       "23                0.240000             0.0              0.510823   \n",
       "24                0.361818             0.0             -0.096970   \n",
       "25                0.168182             0.0             -0.393939   \n",
       "26               -0.141667             0.0             -4.958333   \n",
       "27                0.166364             0.0             -0.151515   \n",
       "28                0.180000             0.0              1.282828   \n",
       "30               -0.005455             0.0              1.439394   \n",
       "31                0.499091             0.0             -1.307359   \n",
       "33                0.013636             0.0              0.266667   \n",
       "36                0.251818             0.0              0.189394   \n",
       "...                    ...             ...                   ...   \n",
       "1688             -0.081818             0.0              0.545455   \n",
       "1692             -0.036364             0.0              0.202020   \n",
       "1694              1.170000             0.0             -6.833333   \n",
       "1700              0.213636             0.0             -0.242424   \n",
       "1704              0.242727             0.0              1.091667   \n",
       "1717              0.078182             0.0              0.157025   \n",
       "1742              0.393636             0.0              0.822727   \n",
       "1744              0.291818             0.0              0.468182   \n",
       "1753              0.060000             0.0              0.663636   \n",
       "1761              0.414000             0.0              0.155556   \n",
       "1765              0.236364             0.0              0.236364   \n",
       "1767              0.182727             0.0             -0.287879   \n",
       "1768              0.172727             0.0             -1.818182   \n",
       "1770              0.096364             0.0              0.988456   \n",
       "1775              0.215455             0.0              0.181818   \n",
       "1792              0.229091             0.0              0.203857   \n",
       "1794              0.268182             0.0             -0.444444   \n",
       "1798              0.018182             0.0             -0.415584   \n",
       "1802              0.025000             0.0             -1.750000   \n",
       "1812             -0.049091             0.0              1.363636   \n",
       "1819              0.471429             0.0              0.333333   \n",
       "1829              0.328571             0.0              0.857143   \n",
       "1832              0.701429             0.0              3.198413   \n",
       "1833              0.650000             0.0              0.500000   \n",
       "1838              0.209091             0.0             -0.549784   \n",
       "1936              0.347500             0.0              0.966667   \n",
       "1940              0.330000             0.0              1.300000   \n",
       "1954              0.766667             0.0              4.916667   \n",
       "1965              0.766667             0.0             26.800000   \n",
       "1985              0.082727             0.0              1.378788   \n",
       "\n",
       "      CLSAVGG02 trend05_16             ...              SCHHIGRD range05_16  \\\n",
       "0                 0.694805             ...                             12.0   \n",
       "2                 0.018182             ...                             12.0   \n",
       "4                 0.151515             ...                             12.0   \n",
       "5                 0.854545             ...                             12.0   \n",
       "6                 0.738756             ...                             12.0   \n",
       "7                -1.717172             ...                             12.0   \n",
       "8                 1.220779             ...                             12.0   \n",
       "9                 1.668182             ...                             12.0   \n",
       "10                1.141414             ...                             12.0   \n",
       "11               -0.333333             ...                             12.0   \n",
       "12                1.208392             ...                             12.0   \n",
       "14                2.181818             ...                             12.0   \n",
       "15               -0.242424             ...                             12.0   \n",
       "16                0.454545             ...                             12.0   \n",
       "17                5.924242             ...                             12.0   \n",
       "18               -3.295455             ...                             11.0   \n",
       "19                0.689394             ...                             12.0   \n",
       "20                0.277056             ...                             12.0   \n",
       "21               -1.663265             ...                             10.0   \n",
       "22                0.666667             ...                             12.0   \n",
       "23                0.405844             ...                             12.0   \n",
       "24               -0.621212             ...                             12.0   \n",
       "25                2.750000             ...                             12.0   \n",
       "26                8.350000             ...                              7.0   \n",
       "27               -0.060606             ...                             12.0   \n",
       "28                0.656566             ...                             12.0   \n",
       "30                0.745455             ...                             12.0   \n",
       "31                0.406926             ...                             12.0   \n",
       "33                0.786364             ...                             12.0   \n",
       "36                0.901515             ...                             12.0   \n",
       "...                    ...             ...                              ...   \n",
       "1688              0.422078             ...                             12.0   \n",
       "1692              0.678571             ...                             12.0   \n",
       "1694              2.333333             ...                              4.0   \n",
       "1700              0.462338             ...                             12.0   \n",
       "1704             -2.377778             ...                             12.0   \n",
       "1717             -0.106035             ...                             12.0   \n",
       "1742             -0.630303             ...                             12.0   \n",
       "1744             -0.513131             ...                             12.0   \n",
       "1753             -0.408081             ...                             12.0   \n",
       "1761              0.502857             ...                             11.0   \n",
       "1765              0.157576             ...                             12.0   \n",
       "1767             -0.388145             ...                             12.0   \n",
       "1768              0.066667             ...                             12.0   \n",
       "1770              0.919081             ...                             12.0   \n",
       "1775              0.727273             ...                             12.0   \n",
       "1792              0.159091             ...                             12.0   \n",
       "1794             -6.166667             ...                             12.0   \n",
       "1798              0.860606             ...                             12.0   \n",
       "1802             -2.000000             ...                              9.0   \n",
       "1812              1.656566             ...                             12.0   \n",
       "1819              6.642857             ...                              8.0   \n",
       "1829              0.916667             ...                              8.0   \n",
       "1832             -4.088889             ...                              8.0   \n",
       "1833              4.050000             ...                              8.0   \n",
       "1838              0.136364             ...                             12.0   \n",
       "1936              2.305556             ...                              5.0   \n",
       "1940             -1.166667             ...                              5.0   \n",
       "1954              1.000000             ...                              4.0   \n",
       "1965              0.000000             ...                              4.0   \n",
       "1985              1.818182             ...                             12.0   \n",
       "\n",
       "      SCHLEV range05_16  SCHLEV5 range05_16  SCHLOGRD range05_16  \\\n",
       "0                  12.0                12.0                 12.0   \n",
       "2                  12.0                12.0                 12.0   \n",
       "4                  12.0                12.0                 12.0   \n",
       "5                  12.0                12.0                 12.0   \n",
       "6                  12.0                12.0                 12.0   \n",
       "7                  12.0                12.0                 12.0   \n",
       "8                  12.0                12.0                 12.0   \n",
       "9                  12.0                12.0                 12.0   \n",
       "10                 12.0                12.0                 12.0   \n",
       "11                 12.0                12.0                 12.0   \n",
       "12                 12.0                12.0                 12.0   \n",
       "14                 12.0                12.0                 12.0   \n",
       "15                 12.0                12.0                 12.0   \n",
       "16                 12.0                12.0                 12.0   \n",
       "17                 12.0                12.0                 12.0   \n",
       "18                 11.0                11.0                 11.0   \n",
       "19                 12.0                12.0                 12.0   \n",
       "20                 12.0                12.0                 12.0   \n",
       "21                  9.0                 9.0                 10.0   \n",
       "22                 12.0                12.0                 12.0   \n",
       "23                 12.0                12.0                 12.0   \n",
       "24                 12.0                12.0                 12.0   \n",
       "25                 12.0                12.0                 12.0   \n",
       "26                  7.0                 7.0                  7.0   \n",
       "27                 12.0                12.0                 12.0   \n",
       "28                 12.0                12.0                 12.0   \n",
       "30                 12.0                12.0                 12.0   \n",
       "31                 12.0                12.0                 12.0   \n",
       "33                 12.0                12.0                 12.0   \n",
       "36                 12.0                12.0                 12.0   \n",
       "...                 ...                 ...                  ...   \n",
       "1688               12.0                12.0                 12.0   \n",
       "1692               12.0                12.0                 12.0   \n",
       "1694                4.0                 4.0                  4.0   \n",
       "1700               12.0                12.0                 12.0   \n",
       "1704               12.0                12.0                 12.0   \n",
       "1717               12.0                12.0                 12.0   \n",
       "1742               12.0                12.0                 12.0   \n",
       "1744               12.0                12.0                 12.0   \n",
       "1753               12.0                12.0                 12.0   \n",
       "1761               11.0                11.0                 11.0   \n",
       "1765               12.0                12.0                 12.0   \n",
       "1767               12.0                12.0                 12.0   \n",
       "1768               12.0                12.0                 12.0   \n",
       "1770               12.0                12.0                 12.0   \n",
       "1775               12.0                12.0                 12.0   \n",
       "1792               12.0                12.0                 12.0   \n",
       "1794               12.0                12.0                 12.0   \n",
       "1798               12.0                12.0                 12.0   \n",
       "1802                9.0                 9.0                  9.0   \n",
       "1812               12.0                12.0                 12.0   \n",
       "1819                8.0                 8.0                  8.0   \n",
       "1829                8.0                 8.0                  8.0   \n",
       "1832                8.0                 8.0                  8.0   \n",
       "1833                8.0                 8.0                  8.0   \n",
       "1838               12.0                12.0                 12.0   \n",
       "1936                5.0                 5.0                  5.0   \n",
       "1940                5.0                 5.0                  5.0   \n",
       "1954                4.0                 4.0                  4.0   \n",
       "1965                4.0                 4.0                  4.0   \n",
       "1985               12.0                12.0                 12.0   \n",
       "\n",
       "      SPECHS range05_16  STCELAPCTL34G03 range05_16  \\\n",
       "0                  12.0                        12.0   \n",
       "2                  12.0                        12.0   \n",
       "4                  12.0                        12.0   \n",
       "5                  12.0                        12.0   \n",
       "6                  12.0                        12.0   \n",
       "7                  12.0                        12.0   \n",
       "8                  12.0                        12.0   \n",
       "9                  12.0                        12.0   \n",
       "10                 12.0                        12.0   \n",
       "11                 12.0                        12.0   \n",
       "12                 12.0                        12.0   \n",
       "14                 12.0                        12.0   \n",
       "15                 12.0                        12.0   \n",
       "16                 12.0                        12.0   \n",
       "17                 12.0                        12.0   \n",
       "18                 11.0                         9.0   \n",
       "19                 12.0                        12.0   \n",
       "20                 12.0                        12.0   \n",
       "21                 10.0                         8.0   \n",
       "22                 12.0                        12.0   \n",
       "23                 12.0                        12.0   \n",
       "24                 12.0                        12.0   \n",
       "25                 12.0                        12.0   \n",
       "26                  7.0                         5.0   \n",
       "27                 12.0                        12.0   \n",
       "28                 12.0                        12.0   \n",
       "30                 12.0                        12.0   \n",
       "31                 12.0                        12.0   \n",
       "33                 12.0                        12.0   \n",
       "36                 12.0                        12.0   \n",
       "...                 ...                         ...   \n",
       "1688               12.0                        12.0   \n",
       "1692               12.0                        12.0   \n",
       "1694                4.0                         1.0   \n",
       "1700               12.0                        12.0   \n",
       "1704               12.0                        10.0   \n",
       "1717               12.0                        12.0   \n",
       "1742               12.0                        12.0   \n",
       "1744               12.0                        12.0   \n",
       "1753               12.0                        12.0   \n",
       "1761               11.0                        11.0   \n",
       "1765               12.0                        12.0   \n",
       "1767               12.0                        12.0   \n",
       "1768               12.0                        11.0   \n",
       "1770               12.0                        12.0   \n",
       "1775               12.0                        12.0   \n",
       "1792               12.0                        12.0   \n",
       "1794               12.0                         3.0   \n",
       "1798               12.0                        12.0   \n",
       "1802                9.0                         8.0   \n",
       "1812               12.0                        12.0   \n",
       "1819                8.0                         8.0   \n",
       "1829                8.0                         7.0   \n",
       "1832                8.0                         6.0   \n",
       "1833                8.0                         7.0   \n",
       "1838               12.0                        12.0   \n",
       "1936                5.0                         4.0   \n",
       "1940                5.0                         4.0   \n",
       "1954                4.0                         2.0   \n",
       "1965                4.0                         1.0   \n",
       "1985               12.0                        12.0   \n",
       "\n",
       "      STCELAPCTL34G04 range05_16  STCELAPCTL34G05 range05_16  \\\n",
       "0                           12.0                        12.0   \n",
       "2                           12.0                        12.0   \n",
       "4                           12.0                        12.0   \n",
       "5                           12.0                        12.0   \n",
       "6                           12.0                         4.0   \n",
       "7                           12.0                        12.0   \n",
       "8                           12.0                        12.0   \n",
       "9                           12.0                        12.0   \n",
       "10                          12.0                        12.0   \n",
       "11                          12.0                        12.0   \n",
       "12                          12.0                        12.0   \n",
       "14                          12.0                        12.0   \n",
       "15                          12.0                        12.0   \n",
       "16                          12.0                        12.0   \n",
       "17                          12.0                        12.0   \n",
       "18                          10.0                        10.0   \n",
       "19                          12.0                        12.0   \n",
       "20                          12.0                        12.0   \n",
       "21                           9.0                        10.0   \n",
       "22                          12.0                        12.0   \n",
       "23                          12.0                        12.0   \n",
       "24                          12.0                        12.0   \n",
       "25                          12.0                        12.0   \n",
       "26                           6.0                         7.0   \n",
       "27                          12.0                        12.0   \n",
       "28                          12.0                        12.0   \n",
       "30                          12.0                        12.0   \n",
       "31                          12.0                        12.0   \n",
       "33                          12.0                        12.0   \n",
       "36                          12.0                        12.0   \n",
       "...                          ...                         ...   \n",
       "1688                        12.0                        12.0   \n",
       "1692                        12.0                        12.0   \n",
       "1694                         1.0                         1.0   \n",
       "1700                        12.0                         5.0   \n",
       "1704                        11.0                         6.0   \n",
       "1717                        12.0                        12.0   \n",
       "1742                        12.0                        12.0   \n",
       "1744                        12.0                        12.0   \n",
       "1753                        12.0                         3.0   \n",
       "1761                        11.0                        11.0   \n",
       "1765                        12.0                        12.0   \n",
       "1767                        12.0                        12.0   \n",
       "1768                        10.0                         9.0   \n",
       "1770                        12.0                        12.0   \n",
       "1775                        12.0                        12.0   \n",
       "1792                         6.0                         5.0   \n",
       "1794                        12.0                        12.0   \n",
       "1798                        12.0                        12.0   \n",
       "1802                         7.0                         6.0   \n",
       "1812                        12.0                        12.0   \n",
       "1819                         8.0                         8.0   \n",
       "1829                         6.0                         5.0   \n",
       "1832                         7.0                         8.0   \n",
       "1833                         6.0                         5.0   \n",
       "1838                        12.0                         5.0   \n",
       "1936                         3.0                         2.0   \n",
       "1940                         3.0                         2.0   \n",
       "1954                         1.0                         0.0   \n",
       "1965                         0.0                         0.0   \n",
       "1985                        12.0                        12.0   \n",
       "\n",
       "      STCELAPCTL34TOT range05_16  STCMTHPCTL34G03 range05_16  \n",
       "0                           12.0                        12.0  \n",
       "2                           12.0                        12.0  \n",
       "4                           12.0                        12.0  \n",
       "5                           12.0                        12.0  \n",
       "6                           12.0                        12.0  \n",
       "7                           12.0                        12.0  \n",
       "8                           12.0                        12.0  \n",
       "9                           12.0                        12.0  \n",
       "10                          12.0                        12.0  \n",
       "11                          12.0                        12.0  \n",
       "12                          12.0                        12.0  \n",
       "14                          12.0                        12.0  \n",
       "15                          12.0                        12.0  \n",
       "16                          12.0                        12.0  \n",
       "17                          12.0                        12.0  \n",
       "18                          10.0                         9.0  \n",
       "19                          12.0                        12.0  \n",
       "20                          12.0                        12.0  \n",
       "21                          10.0                         8.0  \n",
       "22                          12.0                        12.0  \n",
       "23                          12.0                        12.0  \n",
       "24                          12.0                        12.0  \n",
       "25                          12.0                        12.0  \n",
       "26                           7.0                         5.0  \n",
       "27                          12.0                        12.0  \n",
       "28                          12.0                        12.0  \n",
       "30                          12.0                        12.0  \n",
       "31                          12.0                        12.0  \n",
       "33                          12.0                        12.0  \n",
       "36                          12.0                        12.0  \n",
       "...                          ...                         ...  \n",
       "1688                        12.0                        12.0  \n",
       "1692                        12.0                        12.0  \n",
       "1694                         1.0                         1.0  \n",
       "1700                        12.0                        12.0  \n",
       "1704                        12.0                        10.0  \n",
       "1717                        12.0                        12.0  \n",
       "1742                        12.0                        12.0  \n",
       "1744                        12.0                        12.0  \n",
       "1753                        12.0                        12.0  \n",
       "1761                        11.0                        11.0  \n",
       "1765                        12.0                        12.0  \n",
       "1767                        12.0                        12.0  \n",
       "1768                        11.0                        11.0  \n",
       "1770                        12.0                        12.0  \n",
       "1775                        12.0                        12.0  \n",
       "1792                        12.0                        12.0  \n",
       "1794                        12.0                         3.0  \n",
       "1798                        12.0                        12.0  \n",
       "1802                         8.0                         8.0  \n",
       "1812                        12.0                        12.0  \n",
       "1819                         8.0                         8.0  \n",
       "1829                         7.0                         7.0  \n",
       "1832                         8.0                         6.0  \n",
       "1833                         7.0                         7.0  \n",
       "1838                        12.0                        12.0  \n",
       "1936                         4.0                         4.0  \n",
       "1940                         4.0                         4.0  \n",
       "1954                         2.0                         2.0  \n",
       "1965                         1.0                         1.0  \n",
       "1985                        12.0                        12.0  \n",
       "\n",
       "[732 rows x 459 columns]"
      ]
     },
     "execution_count": 53,
     "metadata": {},
     "output_type": "execute_result"
    }
   ],
   "source": [
    "elem.iloc[:, 1:-14]"
   ]
  },
  {
   "cell_type": "code",
   "execution_count": 54,
   "metadata": {},
   "outputs": [],
   "source": [
    "X = elem.iloc[:, 1:-14]"
   ]
  },
  {
   "cell_type": "code",
   "execution_count": 57,
   "metadata": {
    "scrolled": true
   },
   "outputs": [
    {
     "data": {
      "text/plain": [
       "['ENRNUMAFM_cluster',\n",
       " 'ENRNUMHIS_cluster',\n",
       " 'ENRNUMWHT_cluster',\n",
       " 'ENRNUMSPD_cluster',\n",
       " 'ENRPCTAFM_cluster',\n",
       " 'ENRPCTHIS_cluster',\n",
       " 'ENRPCTWHT_cluster',\n",
       " 'RenewlSchl']"
      ]
     },
     "execution_count": 57,
     "metadata": {},
     "output_type": "execute_result"
    }
   ],
   "source": [
    "y_cols[1:]"
   ]
  },
  {
   "cell_type": "code",
   "execution_count": 265,
   "metadata": {},
   "outputs": [],
   "source": [
    "def tree_fits(X, y):\n",
    "    #split training and test data (Set before the missing dates, and after the missing dates)\n",
    "    X_train,X_test,y_train,y_test=train_test_split(X, y, test_size=0.3, random_state=999)\n",
    "    \n",
    "   \n",
    "    # learn model\n",
    "    dt=DecisionTreeClassifier()\n",
    "    dt.fit(X_train,y_train)\n",
    "    \n",
    "    print ('Decision Tree Classifier Results: ')\n",
    "    # in sample accuracy\n",
    "    print ('In sample accuracy:',dt.score(X_train,y_train))\n",
    "\n",
    "    # out of sample accuracy\n",
    "    print ('Out of sample accuracy:',dt.score(X_test,y_test))\n",
    "\n",
    "    print ('\\n')\n",
    "    # learn model\n",
    "    dt=RandomForestClassifier()\n",
    "    dt.fit(X_train,y_train)\n",
    "\n",
    "    # in sample accuracy\n",
    "    print ('Random Forest Classifier Results: ')\n",
    "    print ('In sample accuracy:',dt.score(X_train,y_train))\n",
    "\n",
    "    # out of sample accuracy\n",
    "    print ('Out of sample accuracy:',dt.score(X_test,y_test))\n",
    "    \n",
    "    print ('\\n')\n",
    "    \n",
    "    # learn model\n",
    "    dt=ExtraTreeClassifier()\n",
    "    dt.fit(X_train,y_train)\n",
    "\n",
    "    print ('Extra Tree Classifier Results: ')\n",
    "    # in sample accuracy\n",
    "    print ('In sample accuracy:',dt.score(X_train,y_train))\n",
    "\n",
    "    # out of sample accuracy\n",
    "    print ('Out of sample accuracy:',dt.score(X_test,y_test))\n",
    "    print ('\\n')\n",
    "    "
   ]
  },
  {
   "cell_type": "code",
   "execution_count": 59,
   "metadata": {
    "scrolled": false
   },
   "outputs": [
    {
     "ename": "KeyError",
     "evalue": "'ENRNUMAFM_cluster'",
     "output_type": "error",
     "traceback": [
      "\u001b[0;31m\u001b[0m",
      "\u001b[0;31mKeyError\u001b[0mTraceback (most recent call last)",
      "\u001b[0;32m<ipython-input-59-7061198b57bc>\u001b[0m in \u001b[0;36m<module>\u001b[0;34m()\u001b[0m\n\u001b[1;32m      1\u001b[0m \u001b[0;32mfor\u001b[0m \u001b[0my_col\u001b[0m \u001b[0;32min\u001b[0m \u001b[0my_cols\u001b[0m\u001b[0;34m[\u001b[0m\u001b[0;36m1\u001b[0m\u001b[0;34m:\u001b[0m\u001b[0;34m]\u001b[0m\u001b[0;34m:\u001b[0m\u001b[0;34m\u001b[0m\u001b[0m\n\u001b[0;32m----> 2\u001b[0;31m     \u001b[0my\u001b[0m \u001b[0;34m=\u001b[0m \u001b[0melem\u001b[0m\u001b[0;34m[\u001b[0m\u001b[0my_col\u001b[0m\u001b[0;34m]\u001b[0m\u001b[0;34m\u001b[0m\u001b[0m\n\u001b[0m\u001b[1;32m      3\u001b[0m     \u001b[0;32mprint\u001b[0m \u001b[0;34m(\u001b[0m\u001b[0;34m'Elementary, {} Decision Tree Results (no tuning): '\u001b[0m\u001b[0;34m.\u001b[0m\u001b[0mformat\u001b[0m\u001b[0;34m(\u001b[0m\u001b[0my_col\u001b[0m\u001b[0;34m)\u001b[0m\u001b[0;34m)\u001b[0m\u001b[0;34m\u001b[0m\u001b[0m\n\u001b[1;32m      4\u001b[0m     \u001b[0mtree_fits\u001b[0m\u001b[0;34m(\u001b[0m\u001b[0mX\u001b[0m\u001b[0;34m,\u001b[0m \u001b[0my\u001b[0m\u001b[0;34m)\u001b[0m\u001b[0;34m\u001b[0m\u001b[0m\n",
      "\u001b[0;32m/opt/rh/anaconda/root/envs/PUI2016_Python2/lib/python2.7/site-packages/pandas/core/frame.pyc\u001b[0m in \u001b[0;36m__getitem__\u001b[0;34m(self, key)\u001b[0m\n\u001b[1;32m   1995\u001b[0m             \u001b[0;32mreturn\u001b[0m \u001b[0mself\u001b[0m\u001b[0;34m.\u001b[0m\u001b[0m_getitem_multilevel\u001b[0m\u001b[0;34m(\u001b[0m\u001b[0mkey\u001b[0m\u001b[0;34m)\u001b[0m\u001b[0;34m\u001b[0m\u001b[0m\n\u001b[1;32m   1996\u001b[0m         \u001b[0;32melse\u001b[0m\u001b[0;34m:\u001b[0m\u001b[0;34m\u001b[0m\u001b[0m\n\u001b[0;32m-> 1997\u001b[0;31m             \u001b[0;32mreturn\u001b[0m \u001b[0mself\u001b[0m\u001b[0;34m.\u001b[0m\u001b[0m_getitem_column\u001b[0m\u001b[0;34m(\u001b[0m\u001b[0mkey\u001b[0m\u001b[0;34m)\u001b[0m\u001b[0;34m\u001b[0m\u001b[0m\n\u001b[0m\u001b[1;32m   1998\u001b[0m \u001b[0;34m\u001b[0m\u001b[0m\n\u001b[1;32m   1999\u001b[0m     \u001b[0;32mdef\u001b[0m \u001b[0m_getitem_column\u001b[0m\u001b[0;34m(\u001b[0m\u001b[0mself\u001b[0m\u001b[0;34m,\u001b[0m \u001b[0mkey\u001b[0m\u001b[0;34m)\u001b[0m\u001b[0;34m:\u001b[0m\u001b[0;34m\u001b[0m\u001b[0m\n",
      "\u001b[0;32m/opt/rh/anaconda/root/envs/PUI2016_Python2/lib/python2.7/site-packages/pandas/core/frame.pyc\u001b[0m in \u001b[0;36m_getitem_column\u001b[0;34m(self, key)\u001b[0m\n\u001b[1;32m   2002\u001b[0m         \u001b[0;31m# get column\u001b[0m\u001b[0;34m\u001b[0m\u001b[0;34m\u001b[0m\u001b[0m\n\u001b[1;32m   2003\u001b[0m         \u001b[0;32mif\u001b[0m \u001b[0mself\u001b[0m\u001b[0;34m.\u001b[0m\u001b[0mcolumns\u001b[0m\u001b[0;34m.\u001b[0m\u001b[0mis_unique\u001b[0m\u001b[0;34m:\u001b[0m\u001b[0;34m\u001b[0m\u001b[0m\n\u001b[0;32m-> 2004\u001b[0;31m             \u001b[0;32mreturn\u001b[0m \u001b[0mself\u001b[0m\u001b[0;34m.\u001b[0m\u001b[0m_get_item_cache\u001b[0m\u001b[0;34m(\u001b[0m\u001b[0mkey\u001b[0m\u001b[0;34m)\u001b[0m\u001b[0;34m\u001b[0m\u001b[0m\n\u001b[0m\u001b[1;32m   2005\u001b[0m \u001b[0;34m\u001b[0m\u001b[0m\n\u001b[1;32m   2006\u001b[0m         \u001b[0;31m# duplicate columns & possible reduce dimensionality\u001b[0m\u001b[0;34m\u001b[0m\u001b[0;34m\u001b[0m\u001b[0m\n",
      "\u001b[0;32m/opt/rh/anaconda/root/envs/PUI2016_Python2/lib/python2.7/site-packages/pandas/core/generic.pyc\u001b[0m in \u001b[0;36m_get_item_cache\u001b[0;34m(self, item)\u001b[0m\n\u001b[1;32m   1348\u001b[0m         \u001b[0mres\u001b[0m \u001b[0;34m=\u001b[0m \u001b[0mcache\u001b[0m\u001b[0;34m.\u001b[0m\u001b[0mget\u001b[0m\u001b[0;34m(\u001b[0m\u001b[0mitem\u001b[0m\u001b[0;34m)\u001b[0m\u001b[0;34m\u001b[0m\u001b[0m\n\u001b[1;32m   1349\u001b[0m         \u001b[0;32mif\u001b[0m \u001b[0mres\u001b[0m \u001b[0;32mis\u001b[0m \u001b[0mNone\u001b[0m\u001b[0;34m:\u001b[0m\u001b[0;34m\u001b[0m\u001b[0m\n\u001b[0;32m-> 1350\u001b[0;31m             \u001b[0mvalues\u001b[0m \u001b[0;34m=\u001b[0m \u001b[0mself\u001b[0m\u001b[0;34m.\u001b[0m\u001b[0m_data\u001b[0m\u001b[0;34m.\u001b[0m\u001b[0mget\u001b[0m\u001b[0;34m(\u001b[0m\u001b[0mitem\u001b[0m\u001b[0;34m)\u001b[0m\u001b[0;34m\u001b[0m\u001b[0m\n\u001b[0m\u001b[1;32m   1351\u001b[0m             \u001b[0mres\u001b[0m \u001b[0;34m=\u001b[0m \u001b[0mself\u001b[0m\u001b[0;34m.\u001b[0m\u001b[0m_box_item_values\u001b[0m\u001b[0;34m(\u001b[0m\u001b[0mitem\u001b[0m\u001b[0;34m,\u001b[0m \u001b[0mvalues\u001b[0m\u001b[0;34m)\u001b[0m\u001b[0;34m\u001b[0m\u001b[0m\n\u001b[1;32m   1352\u001b[0m             \u001b[0mcache\u001b[0m\u001b[0;34m[\u001b[0m\u001b[0mitem\u001b[0m\u001b[0;34m]\u001b[0m \u001b[0;34m=\u001b[0m \u001b[0mres\u001b[0m\u001b[0;34m\u001b[0m\u001b[0m\n",
      "\u001b[0;32m/opt/rh/anaconda/root/envs/PUI2016_Python2/lib/python2.7/site-packages/pandas/core/internals.pyc\u001b[0m in \u001b[0;36mget\u001b[0;34m(self, item, fastpath)\u001b[0m\n\u001b[1;32m   3288\u001b[0m \u001b[0;34m\u001b[0m\u001b[0m\n\u001b[1;32m   3289\u001b[0m             \u001b[0;32mif\u001b[0m \u001b[0;32mnot\u001b[0m \u001b[0misnull\u001b[0m\u001b[0;34m(\u001b[0m\u001b[0mitem\u001b[0m\u001b[0;34m)\u001b[0m\u001b[0;34m:\u001b[0m\u001b[0;34m\u001b[0m\u001b[0m\n\u001b[0;32m-> 3290\u001b[0;31m                 \u001b[0mloc\u001b[0m \u001b[0;34m=\u001b[0m \u001b[0mself\u001b[0m\u001b[0;34m.\u001b[0m\u001b[0mitems\u001b[0m\u001b[0;34m.\u001b[0m\u001b[0mget_loc\u001b[0m\u001b[0;34m(\u001b[0m\u001b[0mitem\u001b[0m\u001b[0;34m)\u001b[0m\u001b[0;34m\u001b[0m\u001b[0m\n\u001b[0m\u001b[1;32m   3291\u001b[0m             \u001b[0;32melse\u001b[0m\u001b[0;34m:\u001b[0m\u001b[0;34m\u001b[0m\u001b[0m\n\u001b[1;32m   3292\u001b[0m                 \u001b[0mindexer\u001b[0m \u001b[0;34m=\u001b[0m \u001b[0mnp\u001b[0m\u001b[0;34m.\u001b[0m\u001b[0marange\u001b[0m\u001b[0;34m(\u001b[0m\u001b[0mlen\u001b[0m\u001b[0;34m(\u001b[0m\u001b[0mself\u001b[0m\u001b[0;34m.\u001b[0m\u001b[0mitems\u001b[0m\u001b[0;34m)\u001b[0m\u001b[0;34m)\u001b[0m\u001b[0;34m[\u001b[0m\u001b[0misnull\u001b[0m\u001b[0;34m(\u001b[0m\u001b[0mself\u001b[0m\u001b[0;34m.\u001b[0m\u001b[0mitems\u001b[0m\u001b[0;34m)\u001b[0m\u001b[0;34m]\u001b[0m\u001b[0;34m\u001b[0m\u001b[0m\n",
      "\u001b[0;32m/opt/rh/anaconda/root/envs/PUI2016_Python2/lib/python2.7/site-packages/pandas/indexes/base.pyc\u001b[0m in \u001b[0;36mget_loc\u001b[0;34m(self, key, method, tolerance)\u001b[0m\n\u001b[1;32m   1945\u001b[0m                 \u001b[0;32mreturn\u001b[0m \u001b[0mself\u001b[0m\u001b[0;34m.\u001b[0m\u001b[0m_engine\u001b[0m\u001b[0;34m.\u001b[0m\u001b[0mget_loc\u001b[0m\u001b[0;34m(\u001b[0m\u001b[0mkey\u001b[0m\u001b[0;34m)\u001b[0m\u001b[0;34m\u001b[0m\u001b[0m\n\u001b[1;32m   1946\u001b[0m             \u001b[0;32mexcept\u001b[0m \u001b[0mKeyError\u001b[0m\u001b[0;34m:\u001b[0m\u001b[0;34m\u001b[0m\u001b[0m\n\u001b[0;32m-> 1947\u001b[0;31m                 \u001b[0;32mreturn\u001b[0m \u001b[0mself\u001b[0m\u001b[0;34m.\u001b[0m\u001b[0m_engine\u001b[0m\u001b[0;34m.\u001b[0m\u001b[0mget_loc\u001b[0m\u001b[0;34m(\u001b[0m\u001b[0mself\u001b[0m\u001b[0;34m.\u001b[0m\u001b[0m_maybe_cast_indexer\u001b[0m\u001b[0;34m(\u001b[0m\u001b[0mkey\u001b[0m\u001b[0;34m)\u001b[0m\u001b[0;34m)\u001b[0m\u001b[0;34m\u001b[0m\u001b[0m\n\u001b[0m\u001b[1;32m   1948\u001b[0m \u001b[0;34m\u001b[0m\u001b[0m\n\u001b[1;32m   1949\u001b[0m         \u001b[0mindexer\u001b[0m \u001b[0;34m=\u001b[0m \u001b[0mself\u001b[0m\u001b[0;34m.\u001b[0m\u001b[0mget_indexer\u001b[0m\u001b[0;34m(\u001b[0m\u001b[0;34m[\u001b[0m\u001b[0mkey\u001b[0m\u001b[0;34m]\u001b[0m\u001b[0;34m,\u001b[0m \u001b[0mmethod\u001b[0m\u001b[0;34m=\u001b[0m\u001b[0mmethod\u001b[0m\u001b[0;34m,\u001b[0m \u001b[0mtolerance\u001b[0m\u001b[0;34m=\u001b[0m\u001b[0mtolerance\u001b[0m\u001b[0;34m)\u001b[0m\u001b[0;34m\u001b[0m\u001b[0m\n",
      "\u001b[0;32mpandas/index.pyx\u001b[0m in \u001b[0;36mpandas.index.IndexEngine.get_loc (pandas/index.c:4154)\u001b[0;34m()\u001b[0m\n",
      "\u001b[0;32mpandas/index.pyx\u001b[0m in \u001b[0;36mpandas.index.IndexEngine.get_loc (pandas/index.c:4018)\u001b[0;34m()\u001b[0m\n",
      "\u001b[0;32mpandas/hashtable.pyx\u001b[0m in \u001b[0;36mpandas.hashtable.PyObjectHashTable.get_item (pandas/hashtable.c:12368)\u001b[0;34m()\u001b[0m\n",
      "\u001b[0;32mpandas/hashtable.pyx\u001b[0m in \u001b[0;36mpandas.hashtable.PyObjectHashTable.get_item (pandas/hashtable.c:12322)\u001b[0;34m()\u001b[0m\n",
      "\u001b[0;31mKeyError\u001b[0m: 'ENRNUMAFM_cluster'"
     ]
    }
   ],
   "source": [
    "for y_col in y_cols[1:]:\n",
    "    y = elem[y_col]\n",
    "    print ('Elementary, {} Decision Tree Results (no tuning): '.format(y_col))\n",
    "    tree_fits(X, y)"
   ]
  },
  {
   "cell_type": "markdown",
   "metadata": {},
   "source": [
    "*** Enrnum african american cluster ***"
   ]
  },
  {
   "cell_type": "code",
   "execution_count": 548,
   "metadata": {
    "collapsed": true
   },
   "outputs": [],
   "source": [
    "y = elem['ENRNUMAFM_cluster']"
   ]
  },
  {
   "cell_type": "code",
   "execution_count": 549,
   "metadata": {
    "collapsed": true
   },
   "outputs": [],
   "source": [
    "sub = 'AFM'\n",
    "nafm_cols = [s for s in X.columns if sub not in s]"
   ]
  },
  {
   "cell_type": "code",
   "execution_count": 550,
   "metadata": {},
   "outputs": [],
   "source": [
    "X = X[nafm_cols]"
   ]
  },
  {
   "cell_type": "code",
   "execution_count": 551,
   "metadata": {
    "collapsed": true
   },
   "outputs": [],
   "source": [
    "y = elem['ENRNUMAFM_cluster']"
   ]
  },
  {
   "cell_type": "code",
   "execution_count": 552,
   "metadata": {
    "collapsed": true
   },
   "outputs": [],
   "source": [
    "#X_train,X_test,y_train,y_test=train_test_split(X, y, test_size=0.3, random_state=999)"
   ]
  },
  {
   "cell_type": "code",
   "execution_count": 553,
   "metadata": {},
   "outputs": [
    {
     "data": {
      "text/plain": [
       "<matplotlib.axes._subplots.AxesSubplot at 0x1c212f71d0>"
      ]
     },
     "execution_count": 553,
     "metadata": {},
     "output_type": "execute_result"
    },
    {
     "data": {
      "image/png": "[encoded data removed]",
      "text/plain": [
       "<matplotlib.figure.Figure at 0x1c21be4b00>"
      ]
     },
     "metadata": {},
     "output_type": "display_data"
    }
   ],
   "source": [
    "df_train = X.copy()\n",
    "df_train['EnrAfmClust'] = y.copy()\n",
    "df_train['EnrAfmClust'].value_counts().plot(kind='bar', title='Enrollment of Arican Amer, Cluster')"
   ]
  },
  {
   "cell_type": "code",
   "execution_count": 554,
   "metadata": {
    "collapsed": true
   },
   "outputs": [],
   "source": [
    "#resample to rebalance classes\n",
    "# Class count\n",
    "count_class_1, count_class_4, count_class_2, count_class_0, count_class_3 = df_train['EnrAfmClust'].value_counts()\n",
    "\n",
    "# Divide by class\n",
    "df_class_1 = df_train[df_train['EnrAfmClust'] == 1.0]\n",
    "df_class_4 = df_train[df_train['EnrAfmClust'] == 4.0]\n",
    "df_class_2 = df_train[df_train['EnrAfmClust'] == 2.0]\n",
    "df_class_0 = df_train[df_train['EnrAfmClust'] == 0.0]\n",
    "df_class_3 = df_train[df_train['EnrAfmClust'] == 3.0]"
   ]
  },
  {
   "cell_type": "code",
   "execution_count": 555,
   "metadata": {},
   "outputs": [
    {
     "name": "stdout",
     "output_type": "stream",
     "text": [
      "Random over-sampling:\n",
      "0.0    321\n",
      "4.0    321\n",
      "3.0    321\n",
      "2.0    321\n",
      "1.0    321\n",
      "Name: EnrAfmClust, dtype: int64\n"
     ]
    },
    {
     "data": {
      "image/png": "[encoded data removed]",
      "text/plain": [
       "<matplotlib.figure.Figure at 0x1c222ac6d8>"
      ]
     },
     "metadata": {},
     "output_type": "display_data"
    }
   ],
   "source": [
    "df_class_4_over = df_class_4.sample(count_class_1, replace=True) #take the number of fatal accidents as slight\n",
    "df_class_2_over = df_class_2.sample(count_class_1, replace=True)\n",
    "df_class_3_over = df_class_3.sample(count_class_1, replace=True) #take the number of fatal accidents as slight\n",
    "df_class_0_over = df_class_0.sample(count_class_1, replace=True)\n",
    "df_train_over = pd.concat([df_class_1, df_class_2_over, df_class_3_over, df_class_4_over, df_class_0_over], axis=0)\n",
    "\n",
    "print('Random over-sampling:')\n",
    "print(df_train_over['EnrAfmClust'].value_counts())\n",
    "\n",
    "df_train_over['EnrAfmClust'].value_counts().plot(kind='bar', title='Count (EnrAfmClust)');"
   ]
  },
  {
   "cell_type": "code",
   "execution_count": 579,
   "metadata": {},
   "outputs": [],
   "source": [
    "#y = elem['ENRNUMAFM_cluster']\n",
    "\n",
    "X_train,X_test,y_train,y_test=train_test_split(df_train_over[X.columns], df_train_over['EnrAfmClust'], test_size=0.3, random_state=999)\n"
   ]
  },
  {
   "cell_type": "code",
   "execution_count": 585,
   "metadata": {},
   "outputs": [
    {
     "name": "stdout",
     "output_type": "stream",
     "text": [
      "{'max_depth': 7, 'max_leaf_nodes': 18}\n",
      "{'max_depth': 11, 'max_leaf_nodes': 18}\n",
      "{'max_depth': 9, 'max_leaf_nodes': 18}\n",
      "{'max_depth': 7, 'max_leaf_nodes': 18}\n",
      "{'max_depth': 19, 'max_leaf_nodes': 18}\n",
      "{'max_depth': 15, 'max_leaf_nodes': 18}\n",
      "{'max_depth': 9, 'max_leaf_nodes': 18}\n",
      "{'max_depth': 15, 'max_leaf_nodes': 18}\n",
      "{'max_depth': 15, 'max_leaf_nodes': 18}\n",
      "{'max_depth': 13, 'max_leaf_nodes': 18}\n",
      "0.660373443983\n"
     ]
    }
   ],
   "source": [
    "#X_train, X_test, y_train, y_test = train_test_split(X, y, test_size = 0.4, random_state = i)\n",
    "\n",
    "#from sklearn.model_selection import GridSearchCV \n",
    "param_grid ={'max_depth':np.arange(1,20,2),\n",
    "            'max_leaf_nodes':np.arange(2,20,2)} #choose a grid of parameters\n",
    "\n",
    "OS=[]\n",
    "for i in range(10):\n",
    "    #X_train, X_test, y_train, y_test = train_test_split(X, y, test_size = 0.4, random_state = i)\n",
    "    dt=RandomForestClassifier()#don't specifcy alpha in the intialization\n",
    "    gr=GridSearchCV(dt,param_grid=param_grid)#pass in predictor, and gridded parameters\n",
    "    rs=gr.fit(X_train,y_train)#run predictor with each parameter using training data\n",
    "    print (rs.best_params_) #will output the best parameter, the best alpha\n",
    "    OS.append((rs.predict(X_test) == y_test).sum() / len(y_test))\n",
    "print (np.mean(OS))"
   ]
  },
  {
   "cell_type": "code",
   "execution_count": 586,
   "metadata": {},
   "outputs": [
    {
     "name": "stdout",
     "output_type": "stream",
     "text": [
      "{'min_samples_leaf': 1, 'n_estimators': 43}\n",
      "{'min_samples_leaf': 6, 'n_estimators': 49}\n",
      "{'min_samples_leaf': 6, 'n_estimators': 37}\n",
      "{'min_samples_leaf': 6, 'n_estimators': 49}\n",
      "{'min_samples_leaf': 1, 'n_estimators': 34}\n",
      "{'min_samples_leaf': 6, 'n_estimators': 49}\n",
      "{'min_samples_leaf': 6, 'n_estimators': 46}\n",
      "{'min_samples_leaf': 11, 'n_estimators': 37}\n",
      "{'min_samples_leaf': 6, 'n_estimators': 31}\n",
      "{'min_samples_leaf': 11, 'n_estimators': 46}\n",
      "0.719917012448\n"
     ]
    }
   ],
   "source": [
    "#X_train, X_test, y_train, y_test = train_test_split(X, y, test_size = 0.4, random_state = i)\n",
    "\n",
    "#from sklearn.model_selection import GridSearchCV \n",
    "param_grid ={'n_estimators':np.arange(1,52,3),\n",
    "            'min_samples_leaf':np.arange(1,50,5)} #choose a grid of parameters\n",
    "\n",
    "OS=[]\n",
    "for i in range(10):\n",
    "    #X_train, X_test, y_train, y_test = train_test_split(X, y, test_size = 0.4, random_state = i)\n",
    "    dt=RandomForestClassifier(max_depth=10, max_leaf_nodes=18)#don't specifcy alpha in the intialization\n",
    "    gr=GridSearchCV(dt,param_grid=param_grid)#pass in predictor, and gridded parameters\n",
    "    rs=gr.fit(X_train,y_train)#run predictor with each parameter using training data\n",
    "    print (rs.best_params_) #will output the best parameter, the best alpha\n",
    "    OS.append((rs.predict(X_test) == y_test).sum() / len(y_test))\n",
    "print (np.mean(OS))"
   ]
  },
  {
   "cell_type": "code",
   "execution_count": 588,
   "metadata": {
    "scrolled": true
   },
   "outputs": [
    {
     "data": {
      "image/png": "[encoded data removed]",
      "text/plain": [
       "<matplotlib.figure.Figure at 0x1c18e31b00>"
      ]
     },
     "metadata": {},
     "output_type": "display_data"
    }
   ],
   "source": [
    "n_est = np.arange(1,100,3)\n",
    "OS_ = []\n",
    "for i in n_est:\n",
    "    rf = RandomForestClassifier(n_estimators=i, n_jobs=-1,min_samples_leaf=6, max_depth=10, max_leaf_nodes=18)\n",
    "    rf.fit(X_train, y_train)\n",
    "    pred=rf.predict(X_test)\n",
    "    #OS_AUC.append(roc_auc_score(y_test,pred)) #my solution\n",
    "    OS_.append((rf.predict(X_test) == y_test).sum() / len(y_test))\n",
    "    \n",
    "plt.figure(figsize=(7,5))\n",
    "plt.plot(n_est,OS_)\n",
    "plt.xlabel(\"Number of Estimators\")\n",
    "plt.ylabel(\"Accuracy\")\n",
    "plt.title(\"Accuracy vs Number of Estimators\")\n",
    "#plt.xlim(2,500)\n",
    "plt.show()"
   ]
  },
  {
   "cell_type": "code",
   "execution_count": 589,
   "metadata": {},
   "outputs": [
    {
     "name": "stdout",
     "output_type": "stream",
     "text": [
      "Random Forest Classifier Results: \n",
      "In sample accuracy: 0.831700801425\n",
      "Out of sample accuracy: 0.730290456432\n"
     ]
    }
   ],
   "source": [
    "rf = RandomForestClassifier(n_estimators=60, n_jobs=-1,min_samples_leaf=6, max_depth=10, max_leaf_nodes=18)\n",
    "rf.fit(X_train, y_train)\n",
    "pred=rf.predict(X_test)\n",
    "\n",
    "print ('Random Forest Classifier Results: ')\n",
    "print ('In sample accuracy:',rf.score(X_train,y_train))\n",
    "\n",
    "# out of sample accuracy\n",
    "print ('Out of sample accuracy:',rf.score(X_test,y_test))\n"
   ]
  },
  {
   "cell_type": "code",
   "execution_count": 590,
   "metadata": {},
   "outputs": [],
   "source": [
    "fet_imp = pd.DataFrame(list(zip(list(X.columns), rf.feature_importances_)), columns=['Variable', 'Importance'])"
   ]
  },
  {
   "cell_type": "code",
   "execution_count": 591,
   "metadata": {
    "scrolled": true
   },
   "outputs": [
    {
     "data": {
      "text/plain": [
       "<matplotlib.axes._subplots.AxesSubplot at 0x1c2166fe80>"
      ]
     },
     "execution_count": 591,
     "metadata": {},
     "output_type": "execute_result"
    },
    {
     "data": {
      "image/png": "[encoded data removed]",
      "text/plain": [
       "<matplotlib.figure.Figure at 0x1c18e40940>"
      ]
     },
     "metadata": {},
     "output_type": "display_data"
    }
   ],
   "source": [
    "fet_imp.sort_values(by=['Importance'], ascending=False).head(50).plot(kind='bar', figsize=(10,6))"
   ]
  },
  {
   "cell_type": "code",
   "execution_count": 771,
   "metadata": {
    "scrolled": true
   },
   "outputs": [
    {
     "data": {
      "text/plain": [
       "([<matplotlib.axis.YTick at 0x1c251297f0>,\n",
       "  <matplotlib.axis.YTick at 0x1c25129ba8>,\n",
       "  <matplotlib.axis.YTick at 0x1c25333b00>,\n",
       "  <matplotlib.axis.YTick at 0x1c25338a58>,\n",
       "  <matplotlib.axis.YTick at 0x1c25360470>,\n",
       "  <matplotlib.axis.YTick at 0x1c25338438>,\n",
       "  <matplotlib.axis.YTick at 0x1c25367588>,\n",
       "  <matplotlib.axis.YTick at 0x1c25367f60>,\n",
       "  <matplotlib.axis.YTick at 0x1c25357978>,\n",
       "  <matplotlib.axis.YTick at 0x1c25137438>,\n",
       "  <matplotlib.axis.YTick at 0x1c243bb438>,\n",
       "  <matplotlib.axis.YTick at 0x1c2513b400>,\n",
       "  <matplotlib.axis.YTick at 0x1c2511bf98>,\n",
       "  <matplotlib.axis.YTick at 0x1c25118a58>],\n",
       " <a list of 14 Text yticklabel objects>)"
      ]
     },
     "execution_count": 771,
     "metadata": {},
     "output_type": "execute_result"
    },
    {
     "data": {
      "image/png": "[encoded data removed]",
      "text/plain": [
       "<matplotlib.figure.Figure at 0x1c222877b8>"
      ]
     },
     "metadata": {},
     "output_type": "display_data"
    }
   ],
   "source": [
    "fet_imp.sort_values(by=['Importance'], ascending=False).head(14).plot(kind='barh', figsize=(10,6))\n",
    "\n",
    "pl.yticks(np.arange(len(labels)), labels)"
   ]
  },
  {
   "cell_type": "markdown",
   "metadata": {},
   "source": [
    "\n",
    "Variable\tImportance\n",
    "41\tENRNUMGEN trend05_16 ---> the trend in gen ed student enrollment numbers\n",
    "42\tENRNUMHIS trend05_16 ---> trend in enrollement of hispanic students from 05-16\n",
    "19\tCLSNUMGEN trend05_16 ---> trend in the number of gen ed classes"
   ]
  },
  {
   "cell_type": "code",
   "execution_count": 594,
   "metadata": {},
   "outputs": [
    {
     "data": {
      "text/html": [
       "<div>\n",
       "<style>\n",
       "    .dataframe thead tr:only-child th {\n",
       "        text-align: right;\n",
       "    }\n",
       "\n",
       "    .dataframe thead th {\n",
       "        text-align: left;\n",
       "    }\n",
       "\n",
       "    .dataframe tbody tr th {\n",
       "        vertical-align: top;\n",
       "    }\n",
       "</style>\n",
       "<table border=\"1\" class=\"dataframe\">\n",
       "  <thead>\n",
       "    <tr style=\"text-align: right;\">\n",
       "      <th></th>\n",
       "      <th>Variable</th>\n",
       "      <th>Importance</th>\n",
       "    </tr>\n",
       "  </thead>\n",
       "  <tbody>\n",
       "    <tr>\n",
       "      <th>41</th>\n",
       "      <td>ENRNUMGEN trend05_16</td>\n",
       "      <td>0.026624</td>\n",
       "    </tr>\n",
       "    <tr>\n",
       "      <th>42</th>\n",
       "      <td>ENRNUMHIS trend05_16</td>\n",
       "      <td>0.023497</td>\n",
       "    </tr>\n",
       "    <tr>\n",
       "      <th>19</th>\n",
       "      <td>CLSNUMGEN trend05_16</td>\n",
       "      <td>0.019952</td>\n",
       "    </tr>\n",
       "    <tr>\n",
       "      <th>44</th>\n",
       "      <td>ENRNUMMAL trend05_16</td>\n",
       "      <td>0.019365</td>\n",
       "    </tr>\n",
       "    <tr>\n",
       "      <th>33</th>\n",
       "      <td>ENRNUMG05 trend05_16</td>\n",
       "      <td>0.017349</td>\n",
       "    </tr>\n",
       "    <tr>\n",
       "      <th>63</th>\n",
       "      <td>PPEXPTOTLSV400 trend05_16</td>\n",
       "      <td>0.017130</td>\n",
       "    </tr>\n",
       "    <tr>\n",
       "      <th>49</th>\n",
       "      <td>ENRNUMTOT trend05_16</td>\n",
       "      <td>0.016676</td>\n",
       "    </tr>\n",
       "    <tr>\n",
       "      <th>22</th>\n",
       "      <td>CLSNUMTOT trend05_16</td>\n",
       "      <td>0.013768</td>\n",
       "    </tr>\n",
       "    <tr>\n",
       "      <th>28</th>\n",
       "      <td>ENRNUMFEM trend05_16</td>\n",
       "      <td>0.012545</td>\n",
       "    </tr>\n",
       "    <tr>\n",
       "      <th>223</th>\n",
       "      <td>ENRNUMHIS std05_16</td>\n",
       "      <td>0.012371</td>\n",
       "    </tr>\n",
       "    <tr>\n",
       "      <th>199</th>\n",
       "      <td>CLSNUMG04 std05_16</td>\n",
       "      <td>0.010573</td>\n",
       "    </tr>\n",
       "    <tr>\n",
       "      <th>152</th>\n",
       "      <td>PPEXPTOTLGR452 mean05_16</td>\n",
       "      <td>0.010497</td>\n",
       "    </tr>\n",
       "    <tr>\n",
       "      <th>29</th>\n",
       "      <td>ENRNUMG01 trend05_16</td>\n",
       "      <td>0.009927</td>\n",
       "    </tr>\n",
       "    <tr>\n",
       "      <th>234</th>\n",
       "      <td>PPEXPPERS std05_16</td>\n",
       "      <td>0.009792</td>\n",
       "    </tr>\n",
       "  </tbody>\n",
       "</table>\n",
       "</div>"
      ],
      "text/plain": [
       "                      Variable  Importance\n",
       "41        ENRNUMGEN trend05_16    0.026624\n",
       "42        ENRNUMHIS trend05_16    0.023497\n",
       "19        CLSNUMGEN trend05_16    0.019952\n",
       "44        ENRNUMMAL trend05_16    0.019365\n",
       "33        ENRNUMG05 trend05_16    0.017349\n",
       "63   PPEXPTOTLSV400 trend05_16    0.017130\n",
       "49        ENRNUMTOT trend05_16    0.016676\n",
       "22        CLSNUMTOT trend05_16    0.013768\n",
       "28        ENRNUMFEM trend05_16    0.012545\n",
       "223         ENRNUMHIS std05_16    0.012371\n",
       "199         CLSNUMG04 std05_16    0.010573\n",
       "152   PPEXPTOTLGR452 mean05_16    0.010497\n",
       "29        ENRNUMG01 trend05_16    0.009927\n",
       "234         PPEXPPERS std05_16    0.009792"
      ]
     },
     "execution_count": 594,
     "metadata": {},
     "output_type": "execute_result"
    }
   ],
   "source": [
    "fet_imp.sort_values(by=['Importance'], ascending=False).iloc[:14, :]"
   ]
  },
  {
   "cell_type": "code",
   "execution_count": 759,
   "metadata": {},
   "outputs": [],
   "source": [
    "labels = fet_imp.sort_values(by=['Importance'], ascending=False).iloc[:14, :].Variable"
   ]
  },
  {
   "cell_type": "code",
   "execution_count": 595,
   "metadata": {},
   "outputs": [],
   "source": [
    "clust_feats = list(fet_imp.sort_values(by=['Importance'], ascending=False).iloc[:14, :]['Variable'])"
   ]
  },
  {
   "cell_type": "markdown",
   "metadata": {},
   "source": [
    "ENRNUMG05 Num 8 ENROLLMENT: NUMBER GRADE 5  \n",
    "CLSNUMGEN Num 8 NUMBER OF CLASSES: ALL GENERAL/REGULAR EDUCATION  \n",
    "ATTPCTKID Num 8 8.1 SCH ATTENDANCE RATE: KINDERGARTEN    \n",
    "ENRNUMGEN Num 8 ENROLLMENT: NUMBER ALL REGULAR EDUCATION  \n",
    "ENRNUMTOT Num 8 ENROLLMENT: TOTAL  \n",
    "CLSAVGG03 Num 8 AVERAGE NUM OF STU PER CLASS: GRADE 3  \n",
    "STCELAPCTL34G05 Num 8 ELA STATE TEST, NYC: PERCENT AT LEVEL THREE OR FOUR, GRADE 5\n",
    "ENRNUMG07 Enrollment number in grade 7  \n",
    "STCELAPCTL34G03 Num 8 ELA STATE TEST, NYC: PERCENT AT LEVEL THREE OR FOUR, GRADE 3  \n",
    "CLSNUMG03 Num 8 NUMBER OF CLASSES: GRADE 3  \n",
    "STCMTHPCTL34TOT Num 8 MATH STATE TEST, NYC: PERCENT AT LEVEL THREE OR FOUR, ALL GRADES  \n",
    "ENRNUMPOV Num 8 ENROLLMENT: NUMBER WITH POVERTY-INDICATOR  "
   ]
  },
  {
   "cell_type": "code",
   "execution_count": 596,
   "metadata": {},
   "outputs": [
    {
     "data": {
      "text/plain": [
       "3.0    102\n",
       "2.0    101\n",
       "0.0     97\n",
       "1.0     94\n",
       "4.0     88\n",
       "Name: EnrAfmClust, dtype: int64"
      ]
     },
     "execution_count": 596,
     "metadata": {},
     "output_type": "execute_result"
    }
   ],
   "source": [
    "y_test.value_counts()"
   ]
  },
  {
   "cell_type": "code",
   "execution_count": 598,
   "metadata": {},
   "outputs": [],
   "source": [
    "X_train_nu = X_train[clust_feats]\n",
    "X_test_nu = X_test[clust_feats]"
   ]
  },
  {
   "cell_type": "code",
   "execution_count": 599,
   "metadata": {},
   "outputs": [
    {
     "name": "stdout",
     "output_type": "stream",
     "text": [
      "Decision Tree Classifier Results: \n",
      "In sample accuracy: 1.0\n",
      "Out of sample accuracy: 0.856846473029\n"
     ]
    }
   ],
   "source": [
    "# learn model\n",
    "dt=DecisionTreeClassifier()\n",
    "dt.fit(X_train_nu,y_train)\n",
    "\n",
    "print ('Decision Tree Classifier Results: ')\n",
    "# in sample accuracy\n",
    "print ('In sample accuracy:',dt.score(X_train_nu,y_train))\n",
    "\n",
    "# out of sample accuracy\n",
    "print ('Out of sample accuracy:',dt.score(X_test_nu,y_test))"
   ]
  },
  {
   "cell_type": "code",
   "execution_count": 600,
   "metadata": {},
   "outputs": [
    {
     "data": {
      "image/png": "[encoded data removed]",
      "text/plain": [
       "<matplotlib.figure.Figure at 0x108d415c0>"
      ]
     },
     "metadata": {},
     "output_type": "display_data"
    }
   ],
   "source": [
    "#min_samples_leaf = \n",
    "    \n",
    "min_sam = np.arange(1,100,2)\n",
    "OS_ = []\n",
    "for i in min_sam:\n",
    "    dt = DecisionTreeClassifier(min_samples_leaf=i, random_state=999)\n",
    "    dt.fit(X_train_nu, y_train)\n",
    "    pred=dt.predict(X_test_nu)\n",
    "    #OS_AUC.append(roc_auc_score(y_test,pred)) #my solution\n",
    "    OS_.append((dt.predict(X_test_nu) == y_test).sum() / len(y_test))\n",
    "    \n",
    "plt.figure(figsize=(7,5))\n",
    "plt.plot(min_sam,OS_)\n",
    "plt.xlabel(\"Min Samples p Leaf\")\n",
    "plt.ylabel(\"Accuracy\")\n",
    "plt.title(\"Accuracy vs Min Samples p Leaf\")\n",
    "#plt.xlim(2,500)\n",
    "plt.show()"
   ]
  },
  {
   "cell_type": "code",
   "execution_count": 604,
   "metadata": {},
   "outputs": [
    {
     "data": {
      "image/png": "[encoded data removed]",
      "text/plain": [
       "<matplotlib.figure.Figure at 0x1c224e74e0>"
      ]
     },
     "metadata": {},
     "output_type": "display_data"
    }
   ],
   "source": [
    "#min_samples_leaf = \n",
    "    \n",
    "max_no = np.arange(2,200,2)\n",
    "OS_ = []\n",
    "for i in max_no:\n",
    "    dt = DecisionTreeClassifier(max_leaf_nodes=i, random_state=999)\n",
    "    dt.fit(X_train_nu, y_train)\n",
    "    pred=dt.predict(X_test_nu)\n",
    "    #OS_AUC.append(roc_auc_score(y_test,pred)) #my solution\n",
    "    OS_.append((dt.predict(X_test_nu) == y_test).sum() / len(y_test))\n",
    "    \n",
    "plt.figure(figsize=(7,5))\n",
    "plt.plot(max_no,OS_)\n",
    "plt.xlabel(\"Max Leaf Nodes\")\n",
    "plt.ylabel(\"Accuracy\")\n",
    "plt.title(\"Accuracy vs Min Samples p Leaf\")\n",
    "#plt.xlim(2,500)\n",
    "plt.show()"
   ]
  },
  {
   "cell_type": "code",
   "execution_count": 612,
   "metadata": {},
   "outputs": [
    {
     "data": {
      "image/png": "[encoded data removed]",
      "text/plain": [
       "<matplotlib.figure.Figure at 0x1c21639630>"
      ]
     },
     "metadata": {},
     "output_type": "display_data"
    }
   ],
   "source": [
    "#min_samples_leaf = \n",
    "    \n",
    "max_no = np.arange(2,50,2)\n",
    "OS_ = []\n",
    "for i in max_no:\n",
    "    dt = DecisionTreeClassifier(max_leaf_nodes=80,max_depth=i ,random_state=999)\n",
    "    dt.fit(X_train_nu, y_train)\n",
    "    pred=dt.predict(X_test_nu)\n",
    "    #OS_AUC.append(roc_auc_score(y_test,pred)) #my solution\n",
    "    OS_.append((dt.predict(X_test_nu) == y_test).sum() / len(y_test))\n",
    "    \n",
    "plt.figure(figsize=(7,5))\n",
    "plt.plot(max_no,OS_)\n",
    "plt.xlabel(\"Max Depth\")\n",
    "plt.ylabel(\"Accuracy\")\n",
    "plt.title(\"Accuracy vs Max Depth\")\n",
    "#plt.xlim(2,500)\n",
    "plt.show()"
   ]
  },
  {
   "cell_type": "code",
   "execution_count": 642,
   "metadata": {
    "scrolled": true
   },
   "outputs": [
    {
     "name": "stdout",
     "output_type": "stream",
     "text": [
      "Decision Tree Classifier Results: \n",
      "In sample accuracy: 0.46571682992\n",
      "Out of sample accuracy: 0.417012448133\n"
     ]
    }
   ],
   "source": [
    "# learn model\n",
    "dt=DecisionTreeClassifier(max_leaf_nodes=10,max_depth=5, random_state=999)\n",
    "dt.fit(X_train_nu,y_train)\n",
    "\n",
    "print ('Decision Tree Classifier Results: ')\n",
    "# in sample accuracy\n",
    "print ('In sample accuracy:',dt.score(X_train_nu,y_train))\n",
    "\n",
    "# out of sample accuracy\n",
    "print ('Out of sample accuracy:',dt.score(X_test_nu,y_test))"
   ]
  },
  {
   "cell_type": "code",
   "execution_count": 633,
   "metadata": {},
   "outputs": [
    {
     "data": {
      "text/plain": [
       "numpy.float64"
      ]
     },
     "execution_count": 633,
     "metadata": {},
     "output_type": "execute_result"
    }
   ],
   "source": [
    "type(y_test.iloc[0])"
   ]
  },
  {
   "cell_type": "code",
   "execution_count": 627,
   "metadata": {
    "collapsed": true
   },
   "outputs": [],
   "source": [
    "from sklearn.metrics import confusion_matrix"
   ]
  },
  {
   "cell_type": "code",
   "execution_count": 634,
   "metadata": {},
   "outputs": [
    {
     "name": "stdout",
     "output_type": "stream",
     "text": [
      "Confusion matrix:\n",
      " [[69 13  7  3 10]\n",
      " [ 3 70 13 12  3]\n",
      " [10 19 62  1  5]\n",
      " [ 5 27 19 33 10]\n",
      " [ 0 17 10 40 21]]\n"
     ]
    }
   ],
   "source": [
    "count_cls_3, count_cls_2, count_cls_0, count_cls_1 , count_cls_4=y_test.value_counts()\n",
    "y_pred = dt.predict(X_test_nu)\n",
    "\n",
    "conf_mat = confusion_matrix(y_true=y_test, y_pred=y_pred, labels=[3.0, 2.0, 0.0, 1.0, 4.0])\n",
    "print('Confusion matrix:\\n', conf_mat)\n",
    "\n",
    "conf_mat_pct = (np.array(conf_mat.T / np.array([count_cls_3, count_cls_2, count_cls_0, count_cls_1 , count_cls_4])).T)*100.00"
   ]
  },
  {
   "cell_type": "code",
   "execution_count": 636,
   "metadata": {},
   "outputs": [
    {
     "name": "stdout",
     "output_type": "stream",
     "text": [
      "Confusion matrix, (%):\n",
      " [[ 67.64705882  12.74509804   6.8627451    2.94117647   9.80392157]\n",
      " [  2.97029703  69.30693069  12.87128713  11.88118812   2.97029703]\n",
      " [ 10.30927835  19.58762887  63.91752577   1.03092784   5.15463918]\n",
      " [  5.31914894  28.72340426  20.21276596  35.10638298  10.63829787]\n",
      " [  0.          19.31818182  11.36363636  45.45454545  23.86363636]]\n"
     ]
    },
    {
     "data": {
      "image/png": "[encoded data removed]",
      "text/plain": [
       "<matplotlib.figure.Figure at 0x1c22287b38>"
      ]
     },
     "metadata": {},
     "output_type": "display_data"
    }
   ],
   "source": [
    "print('Confusion matrix, (%):\\n', conf_mat_pct)\n",
    "\n",
    "labels = [3.0, 2.0, 0.0, 1.0, 4.0]\n",
    "fig = plt.figure()\n",
    "ax = fig.add_subplot(111)\n",
    "cax = ax.matshow(conf_mat_pct, cmap=plt.cm.Blues)\n",
    "fig.colorbar(cax)\n",
    "ax.set_xticklabels([''] + labels)\n",
    "ax.set_yticklabels([''] + labels)\n",
    "plt.xlabel('Predicted')\n",
    "plt.ylabel('True')\n",
    "plt.show()"
   ]
  },
  {
   "cell_type": "code",
   "execution_count": 637,
   "metadata": {},
   "outputs": [
    {
     "data": {
      "text/plain": [
       "3.0    102\n",
       "2.0    101\n",
       "0.0     97\n",
       "1.0     94\n",
       "4.0     88\n",
       "Name: EnrAfmClust, dtype: int64"
      ]
     },
     "execution_count": 637,
     "metadata": {},
     "output_type": "execute_result"
    }
   ],
   "source": [
    "y_test.value_counts()"
   ]
  },
  {
   "cell_type": "code",
   "execution_count": 643,
   "metadata": {},
   "outputs": [],
   "source": [
    "clsses = [str(cl) for cl in dt.classes_]"
   ]
  },
  {
   "cell_type": "code",
   "execution_count": 650,
   "metadata": {
    "scrolled": true
   },
   "outputs": [
    {
     "name": "stdout",
     "output_type": "stream",
     "text": [
      "digraph Tree {\n",
      "node [shape=box, style=\"filled\", color=\"black\"] ;\n",
      "0 [label=\"ENRNUMGEN trend05_16 <= 2.636\\ngini = 0.8\\nsamples = 1123\\nvalue = [224, 227, 220, 219, 233]\\nclass = 4.0\", fillcolor=\"#e539c002\"] ;\n",
      "1 [label=\"ENRNUMTOT trend05_16 <= -10.318\\ngini = 0.779\\nsamples = 746\\nvalue = [132, 175, 192, 63, 184]\\nclass = 2.0\", fillcolor=\"#39e5c504\"] ;\n",
      "0 -> 1 [labeldistance=2.5, labelangle=45, headlabel=\"True\"] ;\n",
      "3 [label=\"ENRNUMFEM trend05_16 <= -5.045\\ngini = 0.689\\nsamples = 270\\nvalue = [10, 99, 47, 12, 102]\\nclass = 4.0\", fillcolor=\"#e539c004\"] ;\n",
      "1 -> 3 ;\n",
      "15 [label=\"gini = 0.697\\nsamples = 244\\nvalue = [10, 97, 46, 12, 79]\\nclass = 1.0\", fillcolor=\"#7be5391c\"] ;\n",
      "3 -> 15 ;\n",
      "16 [label=\"gini = 0.21\\nsamples = 26\\nvalue = [0, 2, 1, 0, 23]\\nclass = 4.0\", fillcolor=\"#e539c0df\"] ;\n",
      "3 -> 16 ;\n",
      "4 [label=\"ENRNUMG01 trend05_16 <= -1.773\\ngini = 0.775\\nsamples = 476\\nvalue = [122, 76, 145, 51, 82]\\nclass = 2.0\", fillcolor=\"#39e5c511\"] ;\n",
      "1 -> 4 ;\n",
      "11 [label=\"PPEXPTOTLSV400 trend05_16 <= 21.812\\ngini = 0.664\\nsamples = 162\\nvalue = [27, 22, 85, 14, 14]\\nclass = 2.0\", fillcolor=\"#39e5c56e\"] ;\n",
      "4 -> 11 ;\n",
      "13 [label=\"gini = 0.477\\nsamples = 16\\nvalue = [3, 2, 0, 11, 0]\\nclass = 3.0\", fillcolor=\"#3c39e59d\"] ;\n",
      "11 -> 13 ;\n",
      "14 [label=\"gini = 0.606\\nsamples = 146\\nvalue = [24, 20, 85, 3, 14]\\nclass = 2.0\", fillcolor=\"#39e5c580\"] ;\n",
      "11 -> 14 ;\n",
      "12 [label=\"gini = 0.782\\nsamples = 314\\nvalue = [95, 54, 60, 37, 68]\\nclass = 0.0\", fillcolor=\"#e581391c\"] ;\n",
      "4 -> 12 ;\n",
      "2 [label=\"ENRNUMHIS trend05_16 <= 4.091\\ngini = 0.728\\nsamples = 377\\nvalue = [92, 52, 28, 156, 49]\\nclass = 3.0\", fillcolor=\"#3c39e539\"] ;\n",
      "0 -> 2 [labeldistance=2.5, labelangle=-45, headlabel=\"False\"] ;\n",
      "5 [label=\"gini = 0.759\\nsamples = 124\\nvalue = [37, 20, 11, 17, 39]\\nclass = 4.0\", fillcolor=\"#e539c006\"] ;\n",
      "2 -> 5 ;\n",
      "6 [label=\"ENRNUMG05 trend05_16 <= 1.318\\ngini = 0.629\\nsamples = 253\\nvalue = [55, 32, 17, 139, 10]\\nclass = 3.0\", fillcolor=\"#3c39e56c\"] ;\n",
      "2 -> 6 ;\n",
      "7 [label=\"ENRNUMHIS std05_16 <= 28.486\\ngini = 0.73\\nsamples = 111\\nvalue = [40, 18, 15, 34, 4]\\nclass = 0.0\", fillcolor=\"#e5813914\"] ;\n",
      "6 -> 7 ;\n",
      "9 [label=\"gini = 0.268\\nsamples = 33\\nvalue = [28, 3, 2, 0, 0]\\nclass = 0.0\", fillcolor=\"#e58139d4\"] ;\n",
      "7 -> 9 ;\n",
      "10 [label=\"gini = 0.719\\nsamples = 78\\nvalue = [12, 15, 13, 34, 4]\\nclass = 3.0\", fillcolor=\"#3c39e54d\"] ;\n",
      "7 -> 10 ;\n",
      "8 [label=\"CLSNUMGEN trend05_16 <= 0.068\\ngini = 0.43\\nsamples = 142\\nvalue = [15, 14, 2, 105, 6]\\nclass = 3.0\", fillcolor=\"#3c39e5b5\"] ;\n",
      "6 -> 8 ;\n",
      "17 [label=\"gini = 0.48\\nsamples = 10\\nvalue = [0, 4, 0, 0, 6]\\nclass = 4.0\", fillcolor=\"#e539c055\"] ;\n",
      "8 -> 17 ;\n",
      "18 [label=\"gini = 0.348\\nsamples = 132\\nvalue = [15, 10, 2, 105, 0]\\nclass = 3.0\", fillcolor=\"#3c39e5c4\"] ;\n",
      "8 -> 18 ;\n",
      "}\n"
     ]
    }
   ],
   "source": [
    "thestring=tree.export_graphviz(dt, out_file=None, feature_names=X_train_nu.columns.values,\n",
    "                              class_names=clsses, filled=True)\n",
    "print (thestring)"
   ]
  },
  {
   "cell_type": "code",
   "execution_count": 648,
   "metadata": {},
   "outputs": [
    {
     "name": "stdout",
     "output_type": "stream",
     "text": [
      "digraph Tree {\n",
      "node [shape=box, style=\"filled\", color=\"black\"] ;\n",
      "rankdir=LR ;\n",
      "0 [label=\"ENRNUMGEN trend05_16 <= 2.636, samples = 1123, value = [224, 227, 220, 219, 233], class = 4.0\", fillcolor=\"#e539c002\"] ;\n",
      "1 [label=\"ENRNUMTOT trend05_16 <= -10.318, samples = 746, value = [132, 175, 192, 63, 184], class = 2.0\", fillcolor=\"#39e5c504\"] ;\n",
      "0 -> 1 [labeldistance=2.5, labelangle=-45, headlabel=\"True\"] ;\n",
      "3 [label=\"ENRNUMFEM trend05_16 <= -5.045, samples = 270, value = [10, 99, 47, 12, 102], class = 4.0\", fillcolor=\"#e539c004\"] ;\n",
      "1 -> 3 ;\n",
      "15 [label=\"samples = 244, value = [10, 97, 46, 12, 79], class = 1.0\", fillcolor=\"#7be5391c\"] ;\n",
      "3 -> 15 ;\n",
      "16 [label=\"samples = 26, value = [0, 2, 1, 0, 23], class = 4.0\", fillcolor=\"#e539c0df\"] ;\n",
      "3 -> 16 ;\n",
      "4 [label=\"ENRNUMG01 trend05_16 <= -1.773, samples = 476, value = [122, 76, 145, 51, 82], class = 2.0\", fillcolor=\"#39e5c511\"] ;\n",
      "1 -> 4 ;\n",
      "11 [label=\"PPEXPTOTLSV400 trend05_16 <= 21.812, samples = 162, value = [27, 22, 85, 14, 14], class = 2.0\", fillcolor=\"#39e5c56e\"] ;\n",
      "4 -> 11 ;\n",
      "13 [label=\"samples = 16, value = [3, 2, 0, 11, 0], class = 3.0\", fillcolor=\"#3c39e59d\"] ;\n",
      "11 -> 13 ;\n",
      "14 [label=\"samples = 146, value = [24, 20, 85, 3, 14], class = 2.0\", fillcolor=\"#39e5c580\"] ;\n",
      "11 -> 14 ;\n",
      "12 [label=\"samples = 314, value = [95, 54, 60, 37, 68], class = 0.0\", fillcolor=\"#e581391c\"] ;\n",
      "4 -> 12 ;\n",
      "2 [label=\"ENRNUMHIS trend05_16 <= 4.091, samples = 377, value = [92, 52, 28, 156, 49], class = 3.0\", fillcolor=\"#3c39e539\"] ;\n",
      "0 -> 2 [labeldistance=2.5, labelangle=45, headlabel=\"False\"] ;\n",
      "5 [label=\"samples = 124, value = [37, 20, 11, 17, 39], class = 4.0\", fillcolor=\"#e539c006\"] ;\n",
      "2 -> 5 ;\n",
      "6 [label=\"ENRNUMG05 trend05_16 <= 1.318, samples = 253, value = [55, 32, 17, 139, 10], class = 3.0\", fillcolor=\"#3c39e56c\"] ;\n",
      "2 -> 6 ;\n",
      "7 [label=\"ENRNUMHIS std05_16 <= 28.486, samples = 111, value = [40, 18, 15, 34, 4], class = 0.0\", fillcolor=\"#e5813914\"] ;\n",
      "6 -> 7 ;\n",
      "9 [label=\"samples = 33, value = [28, 3, 2, 0, 0], class = 0.0\", fillcolor=\"#e58139d4\"] ;\n",
      "7 -> 9 ;\n",
      "10 [label=\"samples = 78, value = [12, 15, 13, 34, 4], class = 3.0\", fillcolor=\"#3c39e54d\"] ;\n",
      "7 -> 10 ;\n",
      "8 [label=\"CLSNUMGEN trend05_16 <= 0.068, samples = 142, value = [15, 14, 2, 105, 6], class = 3.0\", fillcolor=\"#3c39e5b5\"] ;\n",
      "6 -> 8 ;\n",
      "17 [label=\"samples = 10, value = [0, 4, 0, 0, 6], class = 4.0\", fillcolor=\"#e539c055\"] ;\n",
      "8 -> 17 ;\n",
      "18 [label=\"samples = 132, value = [15, 10, 2, 105, 0], class = 3.0\", fillcolor=\"#3c39e5c4\"] ;\n",
      "8 -> 18 ;\n",
      "}\n"
     ]
    }
   ],
   "source": [
    "from sklearn import tree\n",
    "thestring=tree.export_graphviz(dt,out_file=None, feature_names=X_train_nu.columns.values,\\\n",
    "                               class_names=clsses,  filled=True, rotate=True,  \\\n",
    "                                special_characters=True,impurity=False).replace(\"<br/>\",\", \").replace(\"&le;\",\"<=\").replace(\"=<\",\"=\\\"\").replace(\">,\",\"\\\",\")\n",
    "print (thestring)"
   ]
  },
  {
   "cell_type": "markdown",
   "metadata": {},
   "source": [
    "*** Random Forest and Feature Selection for the White Enrollment Cluster ***"
   ]
  },
  {
   "cell_type": "code",
   "execution_count": 675,
   "metadata": {
    "collapsed": true
   },
   "outputs": [],
   "source": [
    "X = elem.iloc[:, 1:-14]\n",
    "y = elem['ENRPCTWHT_cluster']\n",
    "sub = 'WHT'\n",
    "nwht_cols = [s for s in X.columns if sub not in s]\n",
    "X = X[nwht_cols]"
   ]
  },
  {
   "cell_type": "code",
   "execution_count": 676,
   "metadata": {},
   "outputs": [
    {
     "data": {
      "text/plain": [
       "<matplotlib.axes._subplots.AxesSubplot at 0x1c212f3ba8>"
      ]
     },
     "execution_count": 676,
     "metadata": {},
     "output_type": "execute_result"
    },
    {
     "data": {
      "image/png": "[encoded data removed]",
      "text/plain": [
       "<matplotlib.figure.Figure at 0x108d2ddd8>"
      ]
     },
     "metadata": {},
     "output_type": "display_data"
    }
   ],
   "source": [
    "df_train = X.copy()\n",
    "df_train['EnrWhtClust'] = y.copy()\n",
    "df_train['EnrWhtClust'].value_counts().plot(kind='bar', title='Enrollment of White, Cluster')"
   ]
  },
  {
   "cell_type": "code",
   "execution_count": 677,
   "metadata": {
    "collapsed": true
   },
   "outputs": [],
   "source": [
    "#resample to rebalance classes\n",
    "# Class count\n",
    "count_class_1, count_class_0, count_class_2, count_class_4, count_class_3 = df_train['EnrWhtClust'].value_counts()\n",
    "\n",
    "# Divide by class\n",
    "df_class_1 = df_train[df_train['EnrWhtClust'] == 1.0]\n",
    "df_class_4 = df_train[df_train['EnrWhtClust'] == 4.0]\n",
    "df_class_2 = df_train[df_train['EnrWhtClust'] == 2.0]\n",
    "df_class_0 = df_train[df_train['EnrWhtClust'] == 0.0]\n",
    "df_class_3 = df_train[df_train['EnrWhtClust'] == 3.0]"
   ]
  },
  {
   "cell_type": "code",
   "execution_count": 678,
   "metadata": {},
   "outputs": [
    {
     "name": "stdout",
     "output_type": "stream",
     "text": [
      "Random over-sampling:\n",
      "0.0    166\n",
      "4.0    166\n",
      "3.0    166\n",
      "2.0    166\n",
      "1.0    166\n",
      "Name: EnrWhtClust, dtype: int64\n"
     ]
    },
    {
     "data": {
      "image/png": "[encoded data removed]",
      "text/plain": [
       "<matplotlib.figure.Figure at 0x1c18980588>"
      ]
     },
     "metadata": {},
     "output_type": "display_data"
    }
   ],
   "source": [
    "df_class_4_over = df_class_4.sample(count_class_1, replace=True) #take the number of fatal accidents as slight\n",
    "df_class_2_over = df_class_2.sample(count_class_1, replace=True)\n",
    "df_class_3_over = df_class_3.sample(count_class_1, replace=True) #take the number of fatal accidents as slight\n",
    "df_class_0_over = df_class_0.sample(count_class_1, replace=True)\n",
    "df_train_over = pd.concat([df_class_1, df_class_2_over, df_class_3_over, df_class_4_over, df_class_0_over], axis=0)\n",
    "\n",
    "print('Random over-sampling:')\n",
    "print(df_train_over['EnrWhtClust'].value_counts())\n",
    "\n",
    "df_train_over['EnrWhtClust'].value_counts().plot(kind='bar', title='Count (EnrWhtClust)');"
   ]
  },
  {
   "cell_type": "code",
   "execution_count": 679,
   "metadata": {
    "collapsed": true
   },
   "outputs": [],
   "source": [
    "#y = elem['ENRNUMAFM_cluster']\n",
    "\n",
    "X_train,X_test,y_train,y_test=train_test_split(df_train_over[X.columns], df_train_over['EnrWhtClust'], test_size=0.3, random_state=999)\n"
   ]
  },
  {
   "cell_type": "code",
   "execution_count": 680,
   "metadata": {},
   "outputs": [
    {
     "data": {
      "image/png": "[encoded data removed]",
      "text/plain": [
       "<matplotlib.figure.Figure at 0x1c2364e898>"
      ]
     },
     "metadata": {},
     "output_type": "display_data"
    }
   ],
   "source": [
    "min_samp = np.arange(1,50,2)\n",
    "OS_ = []\n",
    "for i in min_samp:\n",
    "    rf = RandomForestClassifier(n_estimators=10, n_jobs=-1,min_samples_leaf=i, max_depth=10, max_leaf_nodes=18)\n",
    "    rf.fit(X_train, y_train)\n",
    "    pred=rf.predict(X_test)\n",
    "    #OS_AUC.append(roc_auc_score(y_test,pred)) #my solution\n",
    "    OS_.append((rf.predict(X_test) == y_test).sum() / len(y_test))\n",
    "    \n",
    "plt.figure(figsize=(7,5))\n",
    "plt.plot(min_samp,OS_)\n",
    "plt.xlabel(\"Min Samples per Leaf\")\n",
    "plt.ylabel(\"Accuracy\")\n",
    "plt.title(\"Accuracy vs Min Samples per Leaf\")\n",
    "#plt.xlim(2,500)\n",
    "plt.show()"
   ]
  },
  {
   "cell_type": "code",
   "execution_count": 681,
   "metadata": {
    "scrolled": true
   },
   "outputs": [
    {
     "data": {
      "image/png": "[encoded data removed]",
      "text/plain": [
       "<matplotlib.figure.Figure at 0x10da52828>"
      ]
     },
     "metadata": {},
     "output_type": "display_data"
    }
   ],
   "source": [
    "m_lno = np.arange(2,100,3)\n",
    "OS_ = []\n",
    "for i in m_lno:\n",
    "    rf = RandomForestClassifier(n_estimators=10, n_jobs=-1,min_samples_leaf=20, max_depth=10, max_leaf_nodes=i)\n",
    "    rf.fit(X_train, y_train)\n",
    "    pred=rf.predict(X_test)\n",
    "    #OS_AUC.append(roc_auc_score(y_test,pred)) #my solution\n",
    "    OS_.append((rf.predict(X_test) == y_test).sum() / len(y_test))\n",
    "    \n",
    "plt.figure(figsize=(7,5))\n",
    "plt.plot(m_lno,OS_)\n",
    "plt.xlabel(\"Max Leaf Nodes\")\n",
    "plt.ylabel(\"Accuracy\")\n",
    "plt.title(\"Accuracy vs Max Leaf Nodes\")\n",
    "#plt.xlim(2,500)\n",
    "plt.show()"
   ]
  },
  {
   "cell_type": "code",
   "execution_count": 682,
   "metadata": {
    "scrolled": true
   },
   "outputs": [
    {
     "data": {
      "image/png": "[encoded data removed]",
      "text/plain": [
       "<matplotlib.figure.Figure at 0x1c21b05080>"
      ]
     },
     "metadata": {},
     "output_type": "display_data"
    }
   ],
   "source": [
    "max_d = np.arange(1,20,1)\n",
    "OS_ = []\n",
    "for i in max_d:\n",
    "    rf = RandomForestClassifier(n_estimators=10, n_jobs=-1,min_samples_leaf=20, max_depth=i, max_leaf_nodes=40)\n",
    "    rf.fit(X_train, y_train)\n",
    "    pred=rf.predict(X_test)\n",
    "    #OS_AUC.append(roc_auc_score(y_test,pred)) #my solution\n",
    "    OS_.append((rf.predict(X_test) == y_test).sum() / len(y_test))\n",
    "    \n",
    "plt.figure(figsize=(7,5))\n",
    "plt.plot(max_d,OS_)\n",
    "plt.xlabel(\"Max Depth\")\n",
    "plt.ylabel(\"Accuracy\")\n",
    "plt.title(\"Accuracy vs Max Depth\")\n",
    "#plt.xlim(2,500)\n",
    "plt.show()"
   ]
  },
  {
   "cell_type": "code",
   "execution_count": 683,
   "metadata": {
    "scrolled": true
   },
   "outputs": [
    {
     "data": {
      "image/png": "[encoded data removed]",
      "text/plain": [
       "<matplotlib.figure.Figure at 0x1c173ce748>"
      ]
     },
     "metadata": {},
     "output_type": "display_data"
    }
   ],
   "source": [
    "n_est = np.arange(1,100,3)\n",
    "OS_ = []\n",
    "for i in n_est:\n",
    "    rf = RandomForestClassifier(n_estimators=i, n_jobs=-1,min_samples_leaf=20, max_depth=7, max_leaf_nodes=40)\n",
    "    rf.fit(X_train, y_train)\n",
    "    pred=rf.predict(X_test)\n",
    "    #OS_AUC.append(roc_auc_score(y_test,pred)) #my solution\n",
    "    OS_.append((rf.predict(X_test) == y_test).sum() / len(y_test))\n",
    "    \n",
    "plt.figure(figsize=(7,5))\n",
    "plt.plot(n_est,OS_)\n",
    "plt.xlabel(\"Number of Estimators\")\n",
    "plt.ylabel(\"Accuracy\")\n",
    "plt.title(\"Accuracy vs Number of Estimators\")\n",
    "#plt.xlim(2,500)\n",
    "plt.show()"
   ]
  },
  {
   "cell_type": "code",
   "execution_count": 684,
   "metadata": {},
   "outputs": [
    {
     "name": "stdout",
     "output_type": "stream",
     "text": [
      "Random Forest Classifier Results: \n",
      "In sample accuracy: 0.765920826162\n",
      "Out of sample accuracy: 0.502008032129\n"
     ]
    }
   ],
   "source": [
    "rf = RandomForestClassifier(n_estimators=40, n_jobs=-1,min_samples_leaf=20, max_depth=7, max_leaf_nodes=40)\n",
    "rf.fit(X_train, y_train)\n",
    "pred=rf.predict(X_test)\n",
    "\n",
    "print ('Random Forest Classifier Results: ')\n",
    "print ('In sample accuracy:',rf.score(X_train,y_train))\n",
    "\n",
    "# out of sample accuracy\n",
    "print ('Out of sample accuracy:',rf.score(X_test,y_test))\n"
   ]
  },
  {
   "cell_type": "code",
   "execution_count": 685,
   "metadata": {
    "collapsed": true
   },
   "outputs": [],
   "source": [
    "fet_imp = pd.DataFrame(list(zip(list(X.columns), rf.feature_importances_)), columns=['Variable', 'Importance'])"
   ]
  },
  {
   "cell_type": "code",
   "execution_count": 686,
   "metadata": {},
   "outputs": [
    {
     "data": {
      "text/plain": [
       "<matplotlib.axes._subplots.AxesSubplot at 0x1c21d96dd8>"
      ]
     },
     "execution_count": 686,
     "metadata": {},
     "output_type": "execute_result"
    },
    {
     "data": {
      "image/png": "[encoded data removed]",
      "text/plain": [
       "<matplotlib.figure.Figure at 0x1c17911a58>"
      ]
     },
     "metadata": {},
     "output_type": "display_data"
    }
   ],
   "source": [
    "fet_imp.sort_values(by=['Importance'], ascending=False).head(50).plot(kind='bar', figsize=(10,6))"
   ]
  },
  {
   "cell_type": "code",
   "execution_count": 689,
   "metadata": {},
   "outputs": [
    {
     "data": {
      "text/html": [
       "<div>\n",
       "<style>\n",
       "    .dataframe thead tr:only-child th {\n",
       "        text-align: right;\n",
       "    }\n",
       "\n",
       "    .dataframe thead th {\n",
       "        text-align: left;\n",
       "    }\n",
       "\n",
       "    .dataframe tbody tr th {\n",
       "        vertical-align: top;\n",
       "    }\n",
       "</style>\n",
       "<table border=\"1\" class=\"dataframe\">\n",
       "  <thead>\n",
       "    <tr style=\"text-align: right;\">\n",
       "      <th></th>\n",
       "      <th>Variable</th>\n",
       "      <th>Importance</th>\n",
       "    </tr>\n",
       "  </thead>\n",
       "  <tbody>\n",
       "    <tr>\n",
       "      <th>230</th>\n",
       "      <td>ENRNUMSPD std05_16</td>\n",
       "      <td>0.027720</td>\n",
       "    </tr>\n",
       "    <tr>\n",
       "      <th>119</th>\n",
       "      <td>ENRNUMASI mean05_16</td>\n",
       "      <td>0.021703</td>\n",
       "    </tr>\n",
       "    <tr>\n",
       "      <th>13</th>\n",
       "      <td>CLSAVGSPD trend05_16</td>\n",
       "      <td>0.021416</td>\n",
       "    </tr>\n",
       "    <tr>\n",
       "      <th>43</th>\n",
       "      <td>ENRNUMHIS trend05_16</td>\n",
       "      <td>0.020920</td>\n",
       "    </tr>\n",
       "    <tr>\n",
       "      <th>181</th>\n",
       "      <td>ATTPCTG01 std05_16</td>\n",
       "      <td>0.018075</td>\n",
       "    </tr>\n",
       "    <tr>\n",
       "      <th>91</th>\n",
       "      <td>ATTPCTG03 mean05_16</td>\n",
       "      <td>0.016621</td>\n",
       "    </tr>\n",
       "    <tr>\n",
       "      <th>159</th>\n",
       "      <td>PPEXPTOTLSV700 mean05_16</td>\n",
       "      <td>0.015814</td>\n",
       "    </tr>\n",
       "    <tr>\n",
       "      <th>47</th>\n",
       "      <td>ENRNUMPOV trend05_16</td>\n",
       "      <td>0.015698</td>\n",
       "    </tr>\n",
       "    <tr>\n",
       "      <th>140</th>\n",
       "      <td>ENRNUMPRK mean05_16</td>\n",
       "      <td>0.014981</td>\n",
       "    </tr>\n",
       "    <tr>\n",
       "      <th>137</th>\n",
       "      <td>ENRNUMMAL mean05_16</td>\n",
       "      <td>0.013488</td>\n",
       "    </tr>\n",
       "    <tr>\n",
       "      <th>93</th>\n",
       "      <td>ATTPCTG05 mean05_16</td>\n",
       "      <td>0.012926</td>\n",
       "    </tr>\n",
       "    <tr>\n",
       "      <th>260</th>\n",
       "      <td>STCELAPCTL34G03 std05_16</td>\n",
       "      <td>0.011399</td>\n",
       "    </tr>\n",
       "    <tr>\n",
       "      <th>134</th>\n",
       "      <td>ENRNUMGEN mean05_16</td>\n",
       "      <td>0.011251</td>\n",
       "    </tr>\n",
       "    <tr>\n",
       "      <th>263</th>\n",
       "      <td>STCELAPCTL34TOT std05_16</td>\n",
       "      <td>0.010861</td>\n",
       "    </tr>\n",
       "    <tr>\n",
       "      <th>44</th>\n",
       "      <td>ENRNUMKID trend05_16</td>\n",
       "      <td>0.010679</td>\n",
       "    </tr>\n",
       "    <tr>\n",
       "      <th>183</th>\n",
       "      <td>ATTPCTG03 std05_16</td>\n",
       "      <td>0.010639</td>\n",
       "    </tr>\n",
       "  </tbody>\n",
       "</table>\n",
       "</div>"
      ],
      "text/plain": [
       "                     Variable  Importance\n",
       "230        ENRNUMSPD std05_16    0.027720\n",
       "119       ENRNUMASI mean05_16    0.021703\n",
       "13       CLSAVGSPD trend05_16    0.021416\n",
       "43       ENRNUMHIS trend05_16    0.020920\n",
       "181        ATTPCTG01 std05_16    0.018075\n",
       "91        ATTPCTG03 mean05_16    0.016621\n",
       "159  PPEXPTOTLSV700 mean05_16    0.015814\n",
       "47       ENRNUMPOV trend05_16    0.015698\n",
       "140       ENRNUMPRK mean05_16    0.014981\n",
       "137       ENRNUMMAL mean05_16    0.013488\n",
       "93        ATTPCTG05 mean05_16    0.012926\n",
       "260  STCELAPCTL34G03 std05_16    0.011399\n",
       "134       ENRNUMGEN mean05_16    0.011251\n",
       "263  STCELAPCTL34TOT std05_16    0.010861\n",
       "44       ENRNUMKID trend05_16    0.010679\n",
       "183        ATTPCTG03 std05_16    0.010639"
      ]
     },
     "execution_count": 689,
     "metadata": {},
     "output_type": "execute_result"
    }
   ],
   "source": [
    "fet_imp.sort_values(by=['Importance'], ascending=False).iloc[:16, :]"
   ]
  },
  {
   "cell_type": "code",
   "execution_count": 690,
   "metadata": {
    "collapsed": true
   },
   "outputs": [],
   "source": [
    "clust_feats = list(fet_imp.sort_values(by=['Importance'], ascending=False).iloc[:16, :]['Variable'])"
   ]
  },
  {
   "cell_type": "code",
   "execution_count": null,
   "metadata": {
    "collapsed": true
   },
   "outputs": [],
   "source": []
  },
  {
   "cell_type": "code",
   "execution_count": 691,
   "metadata": {
    "collapsed": true
   },
   "outputs": [],
   "source": [
    "X_train_nu = X_train[clust_feats]\n",
    "X_test_nu = X_test[clust_feats]"
   ]
  },
  {
   "cell_type": "code",
   "execution_count": 692,
   "metadata": {},
   "outputs": [
    {
     "name": "stdout",
     "output_type": "stream",
     "text": [
      "Decision Tree Classifier Results: \n",
      "In sample accuracy: 1.0\n",
      "Out of sample accuracy: 0.670682730924\n"
     ]
    }
   ],
   "source": [
    "# learn model\n",
    "dt=DecisionTreeClassifier()\n",
    "dt.fit(X_train_nu,y_train)\n",
    "\n",
    "print ('Decision Tree Classifier Results: ')\n",
    "# in sample accuracy\n",
    "print ('In sample accuracy:',dt.score(X_train_nu,y_train))\n",
    "\n",
    "# out of sample accuracy\n",
    "print ('Out of sample accuracy:',dt.score(X_test_nu,y_test))"
   ]
  },
  {
   "cell_type": "code",
   "execution_count": 693,
   "metadata": {},
   "outputs": [
    {
     "data": {
      "image/png": "[encoded data removed]",
      "text/plain": [
       "<matplotlib.figure.Figure at 0x1c245a00f0>"
      ]
     },
     "metadata": {},
     "output_type": "display_data"
    }
   ],
   "source": [
    "#min_samples_leaf = \n",
    "    \n",
    "min_sam = np.arange(1,100,2)\n",
    "OS_ = []\n",
    "for i in min_sam:\n",
    "    dt = DecisionTreeClassifier(min_samples_leaf=i, random_state=999)\n",
    "    dt.fit(X_train_nu, y_train)\n",
    "    pred=dt.predict(X_test_nu)\n",
    "    #OS_AUC.append(roc_auc_score(y_test,pred)) #my solution\n",
    "    OS_.append((dt.predict(X_test_nu) == y_test).sum() / len(y_test))\n",
    "    \n",
    "plt.figure(figsize=(7,5))\n",
    "plt.plot(min_sam,OS_)\n",
    "plt.xlabel(\"Min Samples p Leaf\")\n",
    "plt.ylabel(\"Accuracy\")\n",
    "plt.title(\"Accuracy vs Min Samples p Leaf\")\n",
    "#plt.xlim(2,500)\n",
    "plt.show()"
   ]
  },
  {
   "cell_type": "code",
   "execution_count": 695,
   "metadata": {},
   "outputs": [
    {
     "data": {
      "image/png": "[encoded data removed]",
      "text/plain": [
       "<matplotlib.figure.Figure at 0x1c21dda860>"
      ]
     },
     "metadata": {},
     "output_type": "display_data"
    }
   ],
   "source": [
    "#min_samples_leaf = \n",
    "    \n",
    "max_no = np.arange(2,200,2)\n",
    "OS_ = []\n",
    "for i in max_no:\n",
    "    dt = DecisionTreeClassifier(max_leaf_nodes=i, random_state=999)\n",
    "    dt.fit(X_train_nu, y_train)\n",
    "    pred=dt.predict(X_test_nu)\n",
    "    #OS_AUC.append(roc_auc_score(y_test,pred)) #my solution\n",
    "    OS_.append((dt.predict(X_test_nu) == y_test).sum() / len(y_test))\n",
    "    \n",
    "plt.figure(figsize=(7,5))\n",
    "plt.plot(max_no,OS_)\n",
    "plt.xlabel(\"Max Leaf Nodes\")\n",
    "plt.ylabel(\"Accuracy\")\n",
    "plt.title(\"Accuracy vs Max Leaf Nodes\")\n",
    "#plt.xlim(2,500)\n",
    "plt.show()"
   ]
  },
  {
   "cell_type": "code",
   "execution_count": 696,
   "metadata": {},
   "outputs": [
    {
     "data": {
      "image/png": "[encoded data removed]",
      "text/plain": [
       "<matplotlib.figure.Figure at 0x1c247e97b8>"
      ]
     },
     "metadata": {},
     "output_type": "display_data"
    }
   ],
   "source": [
    "#min_samples_leaf = \n",
    "    \n",
    "max_no = np.arange(2,50,2)\n",
    "OS_ = []\n",
    "for i in max_no:\n",
    "    dt = DecisionTreeClassifier(max_leaf_nodes=80,max_depth=i ,random_state=999)\n",
    "    dt.fit(X_train_nu, y_train)\n",
    "    pred=dt.predict(X_test_nu)\n",
    "    #OS_AUC.append(roc_auc_score(y_test,pred)) #my solution\n",
    "    OS_.append((dt.predict(X_test_nu) == y_test).sum() / len(y_test))\n",
    "    \n",
    "plt.figure(figsize=(7,5))\n",
    "plt.plot(max_no,OS_)\n",
    "plt.xlabel(\"Max Depth\")\n",
    "plt.ylabel(\"Accuracy\")\n",
    "plt.title(\"Accuracy vs Max Depth\")\n",
    "#plt.xlim(2,500)\n",
    "plt.show()"
   ]
  },
  {
   "cell_type": "code",
   "execution_count": 737,
   "metadata": {
    "scrolled": true
   },
   "outputs": [
    {
     "name": "stdout",
     "output_type": "stream",
     "text": [
      "Decision Tree Classifier Results: \n",
      "In sample accuracy: 0.567986230637\n",
      "Out of sample accuracy: 0.393574297189\n"
     ]
    }
   ],
   "source": [
    "# learn model\n",
    "dt=DecisionTreeClassifier(max_leaf_nodes=75,max_depth=5, min_samples_leaf=20, random_state=999)\n",
    "dt.fit(X_train_nu,y_train)\n",
    "\n",
    "print ('Decision Tree Classifier Results: ')\n",
    "# in sample accuracy\n",
    "print ('In sample accuracy:',dt.score(X_train_nu,y_train))\n",
    "\n",
    "# out of sample accuracy\n",
    "print ('Out of sample accuracy:',dt.score(X_test_nu,y_test))"
   ]
  },
  {
   "cell_type": "code",
   "execution_count": 738,
   "metadata": {},
   "outputs": [
    {
     "data": {
      "text/plain": [
       "numpy.float64"
      ]
     },
     "execution_count": 738,
     "metadata": {},
     "output_type": "execute_result"
    }
   ],
   "source": [
    "type(y_test.iloc[0])"
   ]
  },
  {
   "cell_type": "code",
   "execution_count": 739,
   "metadata": {
    "collapsed": true
   },
   "outputs": [],
   "source": [
    "from sklearn.metrics import confusion_matrix"
   ]
  },
  {
   "cell_type": "code",
   "execution_count": 740,
   "metadata": {},
   "outputs": [
    {
     "data": {
      "text/plain": [
       "0.0    0.220884\n",
       "2.0    0.208835\n",
       "4.0    0.204819\n",
       "1.0    0.188755\n",
       "3.0    0.176707\n",
       "Name: EnrWhtClust, dtype: float64"
      ]
     },
     "execution_count": 740,
     "metadata": {},
     "output_type": "execute_result"
    }
   ],
   "source": [
    "y_test.value_counts() / y_test.value_counts().sum() "
   ]
  },
  {
   "cell_type": "code",
   "execution_count": 741,
   "metadata": {},
   "outputs": [
    {
     "data": {
      "text/plain": [
       "11"
      ]
     },
     "execution_count": 741,
     "metadata": {},
     "output_type": "execute_result"
    }
   ],
   "source": [
    "(y_pred[y_pred == 1.0] == y_test[y_pred == 1.0]).sum()"
   ]
  },
  {
   "cell_type": "code",
   "execution_count": 742,
   "metadata": {},
   "outputs": [
    {
     "name": "stdout",
     "output_type": "stream",
     "text": [
      "Confusion matrix:\n",
      " [[21 11 10  3 10]\n",
      " [ 7 24  5  9  7]\n",
      " [ 3 16 19  5  8]\n",
      " [ 2 20  2 11 12]\n",
      " [ 8  8  4  1 23]]\n"
     ]
    }
   ],
   "source": [
    "count_cls_0, count_cls_2, count_cls_4, count_cls_1 , count_cls_3=y_test.value_counts()\n",
    "y_pred = dt.predict(X_test_nu)\n",
    "\n",
    "conf_mat = confusion_matrix(y_true=y_test, y_pred=y_pred, labels=[0.0, 2.0, 4.0, 1.0, 3.0])\n",
    "print('Confusion matrix:\\n', conf_mat)\n",
    "\n",
    "conf_mat_pct = (np.array(conf_mat.T / np.array([count_cls_0, count_cls_2, count_cls_4, count_cls_1 , count_cls_3])).T)*100.00"
   ]
  },
  {
   "cell_type": "code",
   "execution_count": 755,
   "metadata": {},
   "outputs": [
    {
     "name": "stdout",
     "output_type": "stream",
     "text": [
      "Confusion matrix, (%):\n",
      " [[ 38.182  20.     18.182   5.455  18.182]\n",
      " [ 13.462  46.154   9.615  17.308  13.462]\n",
      " [  5.882  31.373  37.255   9.804  15.686]\n",
      " [  4.255  42.553   4.255  23.404  25.532]\n",
      " [ 18.182  18.182   9.091   2.273  52.273]]\n"
     ]
    },
    {
     "data": {
      "image/png": "[encoded data removed]",
      "text/plain": [
       "<matplotlib.figure.Figure at 0x1c2539c9e8>"
      ]
     },
     "metadata": {},
     "output_type": "display_data"
    }
   ],
   "source": [
    "np.set_printoptions(precision=3)\n",
    "print('Confusion matrix, (%):\\n {}'.format(conf_mat_pct))\n",
    "\n",
    "labels = [0.0, 2.0, 4.0, 1.0, 3.0]\n",
    "fig = plt.figure()\n",
    "ax = fig.add_subplot(111)\n",
    "cax = ax.matshow(conf_mat_pct, cmap=plt.cm.Blues)\n",
    "fig.colorbar(cax)\n",
    "ax.set_xticklabels([''] + labels)\n",
    "ax.set_yticklabels([''] + labels)\n",
    "plt.xlabel('Predicted')\n",
    "plt.ylabel('True')\n",
    "plt.show()"
   ]
  },
  {
   "cell_type": "code",
   "execution_count": 744,
   "metadata": {},
   "outputs": [
    {
     "data": {
      "text/plain": [
       "0.0    55\n",
       "2.0    52\n",
       "4.0    51\n",
       "1.0    47\n",
       "3.0    44\n",
       "Name: EnrWhtClust, dtype: int64"
      ]
     },
     "execution_count": 744,
     "metadata": {},
     "output_type": "execute_result"
    }
   ],
   "source": [
    "y_test.value_counts()"
   ]
  },
  {
   "cell_type": "code",
   "execution_count": 745,
   "metadata": {
    "collapsed": true
   },
   "outputs": [],
   "source": [
    "clsses = [str(cl) for cl in dt.classes_]"
   ]
  },
  {
   "cell_type": "code",
   "execution_count": 746,
   "metadata": {
    "scrolled": true
   },
   "outputs": [
    {
     "name": "stdout",
     "output_type": "stream",
     "text": [
      "digraph Tree {\n",
      "node [shape=box, style=\"filled\", color=\"black\"] ;\n",
      "0 [label=\"PPEXPTOTLSV700 mean05_16 <= 249.482\\ngini = 0.8\\nsamples = 581\\nvalue = [111, 119, 114, 122, 115]\\nclass = 3.0\", fillcolor=\"#3c39e502\"] ;\n",
      "1 [label=\"ENRNUMHIS trend05_16 <= 3.727\\ngini = 0.735\\nsamples = 205\\nvalue = [79, 14, 19, 50, 43]\\nclass = 0.0\", fillcolor=\"#e5813930\"] ;\n",
      "0 -> 1 [labeldistance=2.5, labelangle=45, headlabel=\"True\"] ;\n",
      "7 [label=\"ATTPCTG05 mean05_16 <= 96.296\\ngini = 0.754\\nsamples = 119\\nvalue = [28, 11, 10, 39, 31]\\nclass = 3.0\", fillcolor=\"#3c39e517\"] ;\n",
      "1 -> 7 ;\n",
      "9 [label=\"ENRNUMASI mean05_16 <= 30.542\\ngini = 0.72\\nsamples = 89\\nvalue = [9, 10, 8, 36, 26]\\nclass = 3.0\", fillcolor=\"#3c39e528\"] ;\n",
      "7 -> 9 ;\n",
      "11 [label=\"gini = 0.609\\nsamples = 26\\nvalue = [1, 3, 5, 2, 15]\\nclass = 4.0\", fillcolor=\"#e539c079\"] ;\n",
      "9 -> 11 ;\n",
      "12 [label=\"ENRNUMGEN mean05_16 <= 787.375\\ngini = 0.648\\nsamples = 63\\nvalue = [8, 7, 3, 34, 11]\\nclass = 3.0\", fillcolor=\"#3c39e571\"] ;\n",
      "9 -> 12 ;\n",
      "13 [label=\"ENRNUMPRK mean05_16 <= 22.917\\ngini = 0.444\\nsamples = 41\\nvalue = [3, 4, 3, 30, 1]\\nclass = 3.0\", fillcolor=\"#3c39e5b3\"] ;\n",
      "12 -> 13 ;\n",
      "37 [label=\"gini = 0.095\\nsamples = 20\\nvalue = [0, 1, 0, 19, 0]\\nclass = 3.0\", fillcolor=\"#3c39e5f2\"] ;\n",
      "13 -> 37 ;\n",
      "38 [label=\"gini = 0.662\\nsamples = 21\\nvalue = [3, 3, 3, 11, 1]\\nclass = 3.0\", fillcolor=\"#3c39e571\"] ;\n",
      "13 -> 38 ;\n",
      "14 [label=\"gini = 0.69\\nsamples = 22\\nvalue = [5, 3, 0, 4, 10]\\nclass = 4.0\", fillcolor=\"#e539c04b\"] ;\n",
      "12 -> 14 ;\n",
      "10 [label=\"gini = 0.556\\nsamples = 30\\nvalue = [19, 1, 2, 3, 5]\\nclass = 0.0\", fillcolor=\"#e581398f\"] ;\n",
      "7 -> 10 ;\n",
      "8 [label=\"CLSAVGSPD trend05_16 <= 1.873\\ngini = 0.6\\nsamples = 86\\nvalue = [51, 3, 9, 11, 12]\\nclass = 0.0\", fillcolor=\"#e5813986\"] ;\n",
      "1 -> 8 ;\n",
      "31 [label=\"ENRNUMPRK mean05_16 <= 32.25\\ngini = 0.555\\nsamples = 58\\nvalue = [36, 3, 7, 0, 12]\\nclass = 0.0\", fillcolor=\"#e5813985\"] ;\n",
      "8 -> 31 ;\n",
      "33 [label=\"gini = 0.684\\nsamples = 24\\nvalue = [8, 3, 3, 0, 10]\\nclass = 4.0\", fillcolor=\"#e539c020\"] ;\n",
      "31 -> 33 ;\n",
      "34 [label=\"gini = 0.304\\nsamples = 34\\nvalue = [28, 0, 4, 0, 2]\\nclass = 0.0\", fillcolor=\"#e58139cc\"] ;\n",
      "31 -> 34 ;\n",
      "32 [label=\"gini = 0.554\\nsamples = 28\\nvalue = [15, 0, 2, 11, 0]\\nclass = 0.0\", fillcolor=\"#e581393c\"] ;\n",
      "8 -> 32 ;\n",
      "2 [label=\"STCELAPCTL34TOT std05_16 <= 13.78\\ngini = 0.778\\nsamples = 376\\nvalue = [32, 105, 95, 72, 72]\\nclass = 1.0\", fillcolor=\"#7be53909\"] ;\n",
      "0 -> 2 [labeldistance=2.5, labelangle=-45, headlabel=\"False\"] ;\n",
      "3 [label=\"STCELAPCTL34TOT std05_16 <= 9.63\\ngini = 0.617\\nsamples = 74\\nvalue = [3, 31, 33, 6, 1]\\nclass = 2.0\", fillcolor=\"#39e5c50c\"] ;\n",
      "2 -> 3 ;\n",
      "23 [label=\"gini = 0.42\\nsamples = 23\\nvalue = [0, 4, 17, 1, 1]\\nclass = 2.0\", fillcolor=\"#39e5c5ae\"] ;\n",
      "3 -> 23 ;\n",
      "24 [label=\"STCELAPCTL34TOT std05_16 <= 12.847\\ngini = 0.608\\nsamples = 51\\nvalue = [3, 27, 16, 5, 0]\\nclass = 1.0\", fillcolor=\"#7be53950\"] ;\n",
      "3 -> 24 ;\n",
      "25 [label=\"gini = 0.48\\nsamples = 30\\nvalue = [3, 21, 3, 3, 0]\\nclass = 1.0\", fillcolor=\"#7be539aa\"] ;\n",
      "24 -> 25 ;\n",
      "26 [label=\"gini = 0.526\\nsamples = 21\\nvalue = [0, 6, 13, 2, 0]\\nclass = 2.0\", fillcolor=\"#39e5c577\"] ;\n",
      "24 -> 26 ;\n",
      "4 [label=\"STCELAPCTL34TOT std05_16 <= 15.193\\ngini = 0.786\\nsamples = 302\\nvalue = [29, 74, 62, 66, 71]\\nclass = 1.0\", fillcolor=\"#7be53903\"] ;\n",
      "2 -> 4 ;\n",
      "5 [label=\"ENRNUMSPD std05_16 <= 17.804\\ngini = 0.621\\nsamples = 62\\nvalue = [4, 12, 8, 3, 35]\\nclass = 4.0\", fillcolor=\"#e539c075\"] ;\n",
      "4 -> 5 ;\n",
      "21 [label=\"ENRNUMPOV trend05_16 <= -29.0\\ngini = 0.418\\nsamples = 42\\nvalue = [0, 7, 4, 0, 31]\\nclass = 4.0\", fillcolor=\"#e539c0af\"] ;\n",
      "5 -> 21 ;\n",
      "35 [label=\"gini = 0.095\\nsamples = 20\\nvalue = [0, 1, 0, 0, 19]\\nclass = 4.0\", fillcolor=\"#e539c0f2\"] ;\n",
      "21 -> 35 ;\n",
      "36 [label=\"gini = 0.595\\nsamples = 22\\nvalue = [0, 6, 4, 0, 12]\\nclass = 4.0\", fillcolor=\"#e539c060\"] ;\n",
      "21 -> 36 ;\n",
      "22 [label=\"gini = 0.795\\nsamples = 20\\nvalue = [4, 5, 4, 3, 4]\\nclass = 1.0\", fillcolor=\"#7be53910\"] ;\n",
      "5 -> 22 ;\n",
      "6 [label=\"ENRNUMPRK mean05_16 <= 16.0\\ngini = 0.78\\nsamples = 240\\nvalue = [25, 62, 54, 63, 36]\\nclass = 3.0\", fillcolor=\"#3c39e501\"] ;\n",
      "4 -> 6 ;\n",
      "15 [label=\"PPEXPTOTLSV700 mean05_16 <= 279.939\\ngini = 0.692\\nsamples = 67\\nvalue = [7, 7, 15, 32, 6]\\nclass = 3.0\", fillcolor=\"#3c39e553\"] ;\n",
      "6 -> 15 ;\n",
      "29 [label=\"gini = 0.745\\nsamples = 23\\nvalue = [5, 3, 9, 4, 2]\\nclass = 2.0\", fillcolor=\"#39e5c539\"] ;\n",
      "15 -> 29 ;\n",
      "30 [label=\"ENRNUMSPD std05_16 <= 16.994\\ngini = 0.558\\nsamples = 44\\nvalue = [2, 4, 6, 28, 4]\\nclass = 3.0\", fillcolor=\"#3c39e594\"] ;\n",
      "15 -> 30 ;\n",
      "39 [label=\"gini = 0.665\\nsamples = 23\\nvalue = [0, 4, 6, 11, 2]\\nclass = 3.0\", fillcolor=\"#3c39e54b\"] ;\n",
      "30 -> 39 ;\n",
      "40 [label=\"gini = 0.327\\nsamples = 21\\nvalue = [2, 0, 0, 17, 2]\\nclass = 3.0\", fillcolor=\"#3c39e5c9\"] ;\n",
      "30 -> 40 ;\n",
      "16 [label=\"PPEXPTOTLSV700 mean05_16 <= 290.102\\ngini = 0.775\\nsamples = 173\\nvalue = [18, 55, 39, 31, 30]\\nclass = 1.0\", fillcolor=\"#7be5391e\"] ;\n",
      "6 -> 16 ;\n",
      "17 [label=\"ENRNUMHIS trend05_16 <= 0.864\\ngini = 0.781\\nsamples = 95\\nvalue = [14, 22, 14, 29, 16]\\nclass = 3.0\", fillcolor=\"#3c39e518\"] ;\n",
      "16 -> 17 ;\n",
      "19 [label=\"gini = 0.674\\nsamples = 55\\nvalue = [6, 11, 1, 27, 10]\\nclass = 3.0\", fillcolor=\"#3c39e55d\"] ;\n",
      "17 -> 19 ;\n",
      "20 [label=\"gini = 0.754\\nsamples = 40\\nvalue = [8, 11, 13, 2, 6]\\nclass = 2.0\", fillcolor=\"#39e5c512\"] ;\n",
      "17 -> 20 ;\n",
      "18 [label=\"CLSAVGSPD trend05_16 <= 0.442\\ngini = 0.683\\nsamples = 78\\nvalue = [4, 33, 25, 2, 14]\\nclass = 1.0\", fillcolor=\"#7be53926\"] ;\n",
      "16 -> 18 ;\n",
      "27 [label=\"gini = 0.403\\nsamples = 24\\nvalue = [0, 18, 4, 0, 2]\\nclass = 1.0\", fillcolor=\"#7be539b2\"] ;\n",
      "18 -> 27 ;\n",
      "28 [label=\"gini = 0.715\\nsamples = 54\\nvalue = [4, 15, 21, 2, 12]\\nclass = 2.0\", fillcolor=\"#39e5c527\"] ;\n",
      "18 -> 28 ;\n",
      "}\n"
     ]
    }
   ],
   "source": [
    "thestring=tree.export_graphviz(dt, out_file=None, feature_names=X_train_nu.columns.values,\n",
    "                              class_names=clsses, filled=True)\n",
    "print (thestring)"
   ]
  },
  {
   "cell_type": "code",
   "execution_count": null,
   "metadata": {
    "collapsed": true
   },
   "outputs": [],
   "source": []
  }
 ],
 "metadata": {
  "kernelspec": {
   "display_name": "PUI2016_Python2",
   "language": "python",
   "name": "pui2016_python2"
  },
  "language_info": {
   "codemirror_mode": {
    "name": "ipython",
    "version": 2
   },
   "file_extension": ".py",
   "mimetype": "text/x-python",
   "name": "python",
   "nbconvert_exporter": "python",
   "pygments_lexer": "ipython2",
   "version": "2.7.12"
  }
 },
 "nbformat": 4,
 "nbformat_minor": 2
}
