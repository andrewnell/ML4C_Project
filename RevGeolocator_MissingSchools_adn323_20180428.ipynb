{
 "cells": [
  {
   "cell_type": "markdown",
   "metadata": {},
   "source": [
    "# Geocoding missing schools\n"
   ]
  },
  {
   "cell_type": "code",
   "execution_count": 79,
   "metadata": {},
   "outputs": [
    {
     "name": "stdout",
     "output_type": "stream",
     "text": [
      "Populating the interactive namespace from numpy and matplotlib\n"
     ]
    }
   ],
   "source": [
    "# my usual imports and setups\n",
    "import pylab as pl\n",
    "import pandas as pd\n",
    "import numpy as np\n",
    "#imports downloader\n",
    "\n",
    "import scipy.stats\n",
    "import geopy \n",
    "from geopy.geocoders import Nominatim\n",
    "from geopy.exc import GeocoderTimedOut\n",
    "\n",
    "import time\n",
    "\n",
    "\n",
    "%pylab inline\n",
    "\n",
    "import os"
   ]
  },
  {
   "cell_type": "markdown",
   "metadata": {},
   "source": [
    "# Read in data\n",
    "\n"
   ]
  },
  {
   "cell_type": "code",
   "execution_count": 141,
   "metadata": {},
   "outputs": [],
   "source": [
    "# REad in Data\n",
    "ref = 'MissingSchoolsForRevGeo.csv'\n",
    "df = pd.read_csv(ref)\n",
    "\n",
    "# Format  and clean Dataset\n",
    "#df.rename(columns = {'Unnamed: 0':\"MasterIndex\"}, inplace = True)\n",
    "df.drop(['Unnamed: 0',], axis=1, inplace=True)\n",
    "\n",
    "# Define Unique Schools List\n",
    "UniqueSchools = df.drop_duplicates([u'SCHNAM'])#.reset_index()\n",
    "UniqueSchools = UniqueSchools[~UniqueSchools.SCHNAM.isnull()]\n",
    "\n",
    "# Reset Lat Long\n",
    "UniqueSchools['Latitude'] = np.nan\n",
    "UniqueSchools['Longitude'] = np.nan\n",
    "\n",
    "# Add Burrah Column\n",
    "burrah = {'M':'Manhattan','X':'Bronx','K':'Brooklyn','Q':'Queens','R':'Staten Island'}\n",
    "UniqueSchools['Borough'] = UniqueSchools.DBN.apply(lambda x : burrah[x[2:3]])"
   ]
  },
  {
   "cell_type": "code",
   "execution_count": 142,
   "metadata": {},
   "outputs": [
    {
     "data": {
      "text/html": [
       "<div>\n",
       "<table border=\"1\" class=\"dataframe\">\n",
       "  <thead>\n",
       "    <tr style=\"text-align: right;\">\n",
       "      <th></th>\n",
       "      <th>index</th>\n",
       "      <th>MasterIndex</th>\n",
       "      <th>DBN</th>\n",
       "      <th>SCHNAM</th>\n",
       "      <th>Latitude</th>\n",
       "      <th>Longitude</th>\n",
       "      <th>Borough</th>\n",
       "    </tr>\n",
       "  </thead>\n",
       "  <tbody>\n",
       "    <tr>\n",
       "      <th>0</th>\n",
       "      <td>0</td>\n",
       "      <td>0</td>\n",
       "      <td>00M801</td>\n",
       "      <td>HUNTER SCHOOL</td>\n",
       "      <td>NaN</td>\n",
       "      <td>NaN</td>\n",
       "      <td>Manhattan</td>\n",
       "    </tr>\n",
       "    <tr>\n",
       "      <th>1</th>\n",
       "      <td>3</td>\n",
       "      <td>6</td>\n",
       "      <td>01M022</td>\n",
       "      <td>GUSTAVE STRAUBENMULLER</td>\n",
       "      <td>NaN</td>\n",
       "      <td>NaN</td>\n",
       "      <td>Manhattan</td>\n",
       "    </tr>\n",
       "    <tr>\n",
       "      <th>2</th>\n",
       "      <td>4</td>\n",
       "      <td>7</td>\n",
       "      <td>01M025</td>\n",
       "      <td>MARTA VALLE</td>\n",
       "      <td>NaN</td>\n",
       "      <td>NaN</td>\n",
       "      <td>Manhattan</td>\n",
       "    </tr>\n",
       "    <tr>\n",
       "      <th>3</th>\n",
       "      <td>5</td>\n",
       "      <td>9</td>\n",
       "      <td>01M056</td>\n",
       "      <td>CORLEARS - JHS #56</td>\n",
       "      <td>NaN</td>\n",
       "      <td>NaN</td>\n",
       "      <td>Manhattan</td>\n",
       "    </tr>\n",
       "    <tr>\n",
       "      <th>4</th>\n",
       "      <td>6</td>\n",
       "      <td>10</td>\n",
       "      <td>01M060</td>\n",
       "      <td>OTTILIA M. BEHA</td>\n",
       "      <td>NaN</td>\n",
       "      <td>NaN</td>\n",
       "      <td>Manhattan</td>\n",
       "    </tr>\n",
       "  </tbody>\n",
       "</table>\n",
       "</div>"
      ],
      "text/plain": [
       "   index  MasterIndex     DBN                  SCHNAM  Latitude  Longitude  \\\n",
       "0      0            0  00M801           HUNTER SCHOOL       NaN        NaN   \n",
       "1      3            6  01M022  GUSTAVE STRAUBENMULLER       NaN        NaN   \n",
       "2      4            7  01M025             MARTA VALLE       NaN        NaN   \n",
       "3      5            9  01M056      CORLEARS - JHS #56       NaN        NaN   \n",
       "4      6           10  01M060         OTTILIA M. BEHA       NaN        NaN   \n",
       "\n",
       "     Borough  \n",
       "0  Manhattan  \n",
       "1  Manhattan  \n",
       "2  Manhattan  \n",
       "3  Manhattan  \n",
       "4  Manhattan  "
      ]
     },
     "execution_count": 142,
     "metadata": {},
     "output_type": "execute_result"
    }
   ],
   "source": [
    "UniqueSchools.head()"
   ]
  },
  {
   "cell_type": "code",
   "execution_count": 143,
   "metadata": {},
   "outputs": [
    {
     "data": {
      "text/html": [
       "<div>\n",
       "<table border=\"1\" class=\"dataframe\">\n",
       "  <thead>\n",
       "    <tr style=\"text-align: right;\">\n",
       "      <th></th>\n",
       "      <th>index</th>\n",
       "      <th>MasterIndex</th>\n",
       "      <th>DBN</th>\n",
       "      <th>SCHNAM</th>\n",
       "      <th>Latitude</th>\n",
       "      <th>Longitude</th>\n",
       "      <th>Borough</th>\n",
       "    </tr>\n",
       "  </thead>\n",
       "  <tbody>\n",
       "    <tr>\n",
       "      <th>601</th>\n",
       "      <td>690</td>\n",
       "      <td>3474</td>\n",
       "      <td>29Q381</td>\n",
       "      <td>DISTRICT 29 PRE-K CENTER</td>\n",
       "      <td>NaN</td>\n",
       "      <td>NaN</td>\n",
       "      <td>Queens</td>\n",
       "    </tr>\n",
       "    <tr>\n",
       "      <th>602</th>\n",
       "      <td>691</td>\n",
       "      <td>3475</td>\n",
       "      <td>30Q361</td>\n",
       "      <td>THE WOODSIDE COMMUNITY SCHOOL</td>\n",
       "      <td>NaN</td>\n",
       "      <td>NaN</td>\n",
       "      <td>Queens</td>\n",
       "    </tr>\n",
       "    <tr>\n",
       "      <th>603</th>\n",
       "      <td>692</td>\n",
       "      <td>3476</td>\n",
       "      <td>30Q389</td>\n",
       "      <td>DISTRICT 30 PRE-K CENTER</td>\n",
       "      <td>NaN</td>\n",
       "      <td>NaN</td>\n",
       "      <td>Queens</td>\n",
       "    </tr>\n",
       "    <tr>\n",
       "      <th>604</th>\n",
       "      <td>693</td>\n",
       "      <td>3477</td>\n",
       "      <td>31R062</td>\n",
       "      <td>THE KATHLEEN GRIMM SCHOOL FOR LEADERSHIP AND S...</td>\n",
       "      <td>NaN</td>\n",
       "      <td>NaN</td>\n",
       "      <td>Staten Island</td>\n",
       "    </tr>\n",
       "    <tr>\n",
       "      <th>605</th>\n",
       "      <td>694</td>\n",
       "      <td>3478</td>\n",
       "      <td>31R066</td>\n",
       "      <td>THE RICHMOND PRE-K CENTER</td>\n",
       "      <td>NaN</td>\n",
       "      <td>NaN</td>\n",
       "      <td>Staten Island</td>\n",
       "    </tr>\n",
       "  </tbody>\n",
       "</table>\n",
       "</div>"
      ],
      "text/plain": [
       "     index  MasterIndex     DBN  \\\n",
       "601    690         3474  29Q381   \n",
       "602    691         3475  30Q361   \n",
       "603    692         3476  30Q389   \n",
       "604    693         3477  31R062   \n",
       "605    694         3478  31R066   \n",
       "\n",
       "                                                SCHNAM  Latitude  Longitude  \\\n",
       "601                           DISTRICT 29 PRE-K CENTER       NaN        NaN   \n",
       "602                      THE WOODSIDE COMMUNITY SCHOOL       NaN        NaN   \n",
       "603                           DISTRICT 30 PRE-K CENTER       NaN        NaN   \n",
       "604  THE KATHLEEN GRIMM SCHOOL FOR LEADERSHIP AND S...       NaN        NaN   \n",
       "605                          THE RICHMOND PRE-K CENTER       NaN        NaN   \n",
       "\n",
       "           Borough  \n",
       "601         Queens  \n",
       "602         Queens  \n",
       "603         Queens  \n",
       "604  Staten Island  \n",
       "605  Staten Island  "
      ]
     },
     "execution_count": 143,
     "metadata": {},
     "output_type": "execute_result"
    }
   ],
   "source": [
    "UniqueSchools.tail()"
   ]
  },
  {
   "cell_type": "code",
   "execution_count": 144,
   "metadata": {
    "scrolled": true
   },
   "outputs": [
    {
     "data": {
      "text/plain": [
       "Index(['index', 'MasterIndex', 'DBN', 'SCHNAM', 'Latitude', 'Longitude',\n",
       "       'Borough'],\n",
       "      dtype='object')"
      ]
     },
     "execution_count": 144,
     "metadata": {},
     "output_type": "execute_result"
    }
   ],
   "source": [
    "UniqueSchools.columns"
   ]
  },
  {
   "cell_type": "code",
   "execution_count": 145,
   "metadata": {},
   "outputs": [
    {
     "data": {
      "text/plain": [
       "(605, 7)"
      ]
     },
     "execution_count": 145,
     "metadata": {},
     "output_type": "execute_result"
    }
   ],
   "source": [
    "UniqueSchools.shape"
   ]
  },
  {
   "cell_type": "markdown",
   "metadata": {},
   "source": [
    "Let's find the school coordinates using a reverse geocode technique."
   ]
  },
  {
   "cell_type": "code",
   "execution_count": 146,
   "metadata": {},
   "outputs": [],
   "source": [
    "geolocator = Nominatim()\n",
    "\n"
   ]
  },
  {
   "cell_type": "code",
   "execution_count": 147,
   "metadata": {},
   "outputs": [],
   "source": [
    "def do_geocode(address, count):\n",
    "    \n",
    "    try:\n",
    "        return geolocator.geocode(address)\n",
    "    except GeocoderTimedOut:\n",
    "        count += 1\n",
    "        return do_geocode(address)\n",
    "    \n",
    "    "
   ]
  },
  {
   "cell_type": "code",
   "execution_count": 148,
   "metadata": {},
   "outputs": [
    {
     "data": {
      "text/plain": [
       "Index(['index', 'MasterIndex', 'DBN', 'SCHNAM', 'Latitude', 'Longitude',\n",
       "       'Borough'],\n",
       "      dtype='object')"
      ]
     },
     "execution_count": 148,
     "metadata": {},
     "output_type": "execute_result"
    }
   ],
   "source": [
    "UniqueSchools.columns"
   ]
  },
  {
   "cell_type": "code",
   "execution_count": 271,
   "metadata": {},
   "outputs": [
    {
     "name": "stderr",
     "output_type": "stream",
     "text": [
      "/nfshome/adn323/.conda/envs/Python3_adn323/lib/python3.5/site-packages/ipykernel_launcher.py:14: SettingWithCopyWarning: \n",
      "A value is trying to be set on a copy of a slice from a DataFrame\n",
      "\n",
      "See the caveats in the documentation: http://pandas.pydata.org/pandas-docs/stable/indexing.html#indexing-view-versus-copy\n",
      "  \n",
      "/nfshome/adn323/.conda/envs/Python3_adn323/lib/python3.5/site-packages/ipykernel_launcher.py:15: SettingWithCopyWarning: \n",
      "A value is trying to be set on a copy of a slice from a DataFrame\n",
      "\n",
      "See the caveats in the documentation: http://pandas.pydata.org/pandas-docs/stable/indexing.html#indexing-view-versus-copy\n",
      "  from ipykernel import kernelapp as app\n",
      "/nfshome/adn323/.conda/envs/Python3_adn323/lib/python3.5/site-packages/ipykernel_launcher.py:11: SettingWithCopyWarning: \n",
      "A value is trying to be set on a copy of a slice from a DataFrame\n",
      "\n",
      "See the caveats in the documentation: http://pandas.pydata.org/pandas-docs/stable/indexing.html#indexing-view-versus-copy\n",
      "  # This is added back by InteractiveShellApp.init_path()\n",
      "/nfshome/adn323/.conda/envs/Python3_adn323/lib/python3.5/site-packages/ipykernel_launcher.py:12: SettingWithCopyWarning: \n",
      "A value is trying to be set on a copy of a slice from a DataFrame\n",
      "\n",
      "See the caveats in the documentation: http://pandas.pydata.org/pandas-docs/stable/indexing.html#indexing-view-versus-copy\n",
      "  if sys.path[0] == '':\n"
     ]
    }
   ],
   "source": [
    "\n",
    "for i in UniqueSchools.index:\n",
    "    \n",
    "    location = geolocator.geocode(UniqueSchools[u'SCHNAM'][i].lower() + ' ' + \n",
    "                                  UniqueSchools[u'Borough'][i] + ' NY')\n",
    "#     location = do_geocode(UniqueSchools[u'SCHNAM'][i] + \n",
    "#                           ' New York City')   \n",
    "        \n",
    "   \n",
    "    if location is not None:\n",
    "        UniqueSchools['Latitude'][i] = location.latitude\n",
    "        UniqueSchools['Longitude'][i] = location.longitude\n",
    "    else:\n",
    "        UniqueSchools['Latitude'][i] = 'Missing'\n",
    "        UniqueSchools['Longitude'][i] = 'Missing'\n",
    "        \n",
    "    # Sleep to ensure meet OSM requirements of no more than 1 per second\n",
    "    time.sleep(1.1)\n"
   ]
  },
  {
   "cell_type": "code",
   "execution_count": 272,
   "metadata": {},
   "outputs": [
    {
     "data": {
      "text/html": [
       "<div>\n",
       "<table border=\"1\" class=\"dataframe\">\n",
       "  <thead>\n",
       "    <tr style=\"text-align: right;\">\n",
       "      <th></th>\n",
       "      <th>index</th>\n",
       "      <th>MasterIndex</th>\n",
       "      <th>DBN</th>\n",
       "      <th>SCHNAM</th>\n",
       "      <th>Latitude</th>\n",
       "      <th>Longitude</th>\n",
       "      <th>Borough</th>\n",
       "    </tr>\n",
       "  </thead>\n",
       "  <tbody>\n",
       "    <tr>\n",
       "      <th>0</th>\n",
       "      <td>0</td>\n",
       "      <td>0</td>\n",
       "      <td>00M801</td>\n",
       "      <td>HUNTER SCHOOL</td>\n",
       "      <td>Missing</td>\n",
       "      <td>Missing</td>\n",
       "      <td>Manhattan</td>\n",
       "    </tr>\n",
       "    <tr>\n",
       "      <th>1</th>\n",
       "      <td>3</td>\n",
       "      <td>6</td>\n",
       "      <td>01M022</td>\n",
       "      <td>GUSTAVE STRAUBENMULLER</td>\n",
       "      <td>40.7191</td>\n",
       "      <td>-73.98</td>\n",
       "      <td>Manhattan</td>\n",
       "    </tr>\n",
       "    <tr>\n",
       "      <th>2</th>\n",
       "      <td>4</td>\n",
       "      <td>7</td>\n",
       "      <td>01M025</td>\n",
       "      <td>MARTA VALLE</td>\n",
       "      <td>Missing</td>\n",
       "      <td>Missing</td>\n",
       "      <td>Manhattan</td>\n",
       "    </tr>\n",
       "    <tr>\n",
       "      <th>3</th>\n",
       "      <td>5</td>\n",
       "      <td>9</td>\n",
       "      <td>01M056</td>\n",
       "      <td>CORLEARS - JHS #56</td>\n",
       "      <td>Missing</td>\n",
       "      <td>Missing</td>\n",
       "      <td>Manhattan</td>\n",
       "    </tr>\n",
       "    <tr>\n",
       "      <th>4</th>\n",
       "      <td>6</td>\n",
       "      <td>10</td>\n",
       "      <td>01M060</td>\n",
       "      <td>OTTILIA M. BEHA</td>\n",
       "      <td>Missing</td>\n",
       "      <td>Missing</td>\n",
       "      <td>Manhattan</td>\n",
       "    </tr>\n",
       "  </tbody>\n",
       "</table>\n",
       "</div>"
      ],
      "text/plain": [
       "   index  MasterIndex     DBN                  SCHNAM Latitude Longitude  \\\n",
       "0      0            0  00M801           HUNTER SCHOOL  Missing   Missing   \n",
       "1      3            6  01M022  GUSTAVE STRAUBENMULLER  40.7191    -73.98   \n",
       "2      4            7  01M025             MARTA VALLE  Missing   Missing   \n",
       "3      5            9  01M056      CORLEARS - JHS #56  Missing   Missing   \n",
       "4      6           10  01M060         OTTILIA M. BEHA  Missing   Missing   \n",
       "\n",
       "     Borough  \n",
       "0  Manhattan  \n",
       "1  Manhattan  \n",
       "2  Manhattan  \n",
       "3  Manhattan  \n",
       "4  Manhattan  "
      ]
     },
     "execution_count": 272,
     "metadata": {},
     "output_type": "execute_result"
    }
   ],
   "source": [
    "UniqueSchools.head()"
   ]
  },
  {
   "cell_type": "code",
   "execution_count": 273,
   "metadata": {},
   "outputs": [
    {
     "data": {
      "text/html": [
       "<div>\n",
       "<table border=\"1\" class=\"dataframe\">\n",
       "  <thead>\n",
       "    <tr style=\"text-align: right;\">\n",
       "      <th></th>\n",
       "      <th>index</th>\n",
       "      <th>MasterIndex</th>\n",
       "      <th>DBN</th>\n",
       "      <th>SCHNAM</th>\n",
       "      <th>Latitude</th>\n",
       "      <th>Longitude</th>\n",
       "      <th>Borough</th>\n",
       "    </tr>\n",
       "  </thead>\n",
       "  <tbody>\n",
       "    <tr>\n",
       "      <th>601</th>\n",
       "      <td>690</td>\n",
       "      <td>3474</td>\n",
       "      <td>29Q381</td>\n",
       "      <td>DISTRICT 29 PRE-K CENTER</td>\n",
       "      <td>Missing</td>\n",
       "      <td>Missing</td>\n",
       "      <td>Queens</td>\n",
       "    </tr>\n",
       "    <tr>\n",
       "      <th>602</th>\n",
       "      <td>691</td>\n",
       "      <td>3475</td>\n",
       "      <td>30Q361</td>\n",
       "      <td>THE WOODSIDE COMMUNITY SCHOOL</td>\n",
       "      <td>Missing</td>\n",
       "      <td>Missing</td>\n",
       "      <td>Queens</td>\n",
       "    </tr>\n",
       "    <tr>\n",
       "      <th>603</th>\n",
       "      <td>692</td>\n",
       "      <td>3476</td>\n",
       "      <td>30Q389</td>\n",
       "      <td>DISTRICT 30 PRE-K CENTER</td>\n",
       "      <td>Missing</td>\n",
       "      <td>Missing</td>\n",
       "      <td>Queens</td>\n",
       "    </tr>\n",
       "    <tr>\n",
       "      <th>604</th>\n",
       "      <td>693</td>\n",
       "      <td>3477</td>\n",
       "      <td>31R062</td>\n",
       "      <td>THE KATHLEEN GRIMM SCHOOL FOR LEADERSHIP AND S...</td>\n",
       "      <td>Missing</td>\n",
       "      <td>Missing</td>\n",
       "      <td>Staten Island</td>\n",
       "    </tr>\n",
       "    <tr>\n",
       "      <th>605</th>\n",
       "      <td>694</td>\n",
       "      <td>3478</td>\n",
       "      <td>31R066</td>\n",
       "      <td>THE RICHMOND PRE-K CENTER</td>\n",
       "      <td>Missing</td>\n",
       "      <td>Missing</td>\n",
       "      <td>Staten Island</td>\n",
       "    </tr>\n",
       "  </tbody>\n",
       "</table>\n",
       "</div>"
      ],
      "text/plain": [
       "     index  MasterIndex     DBN  \\\n",
       "601    690         3474  29Q381   \n",
       "602    691         3475  30Q361   \n",
       "603    692         3476  30Q389   \n",
       "604    693         3477  31R062   \n",
       "605    694         3478  31R066   \n",
       "\n",
       "                                                SCHNAM Latitude Longitude  \\\n",
       "601                           DISTRICT 29 PRE-K CENTER  Missing   Missing   \n",
       "602                      THE WOODSIDE COMMUNITY SCHOOL  Missing   Missing   \n",
       "603                           DISTRICT 30 PRE-K CENTER  Missing   Missing   \n",
       "604  THE KATHLEEN GRIMM SCHOOL FOR LEADERSHIP AND S...  Missing   Missing   \n",
       "605                          THE RICHMOND PRE-K CENTER  Missing   Missing   \n",
       "\n",
       "           Borough  \n",
       "601         Queens  \n",
       "602         Queens  \n",
       "603         Queens  \n",
       "604  Staten Island  \n",
       "605  Staten Island  "
      ]
     },
     "execution_count": 273,
     "metadata": {},
     "output_type": "execute_result"
    }
   ],
   "source": [
    "UniqueSchools.tail()"
   ]
  },
  {
   "cell_type": "code",
   "execution_count": 276,
   "metadata": {},
   "outputs": [],
   "source": [
    "# Save Dataframe to csv\n",
    "UniqueSchools.to_csv('MissingsSchoolsLoc.csv', sep=',')"
   ]
  },
  {
   "cell_type": "code",
   "execution_count": 267,
   "metadata": {},
   "outputs": [
    {
     "name": "stdout",
     "output_type": "stream",
     "text": [
      "HUNTER SCHOOL\n",
      "None\n"
     ]
    }
   ],
   "source": [
    "# TEst individual data points\n",
    "x=0\n",
    "\n",
    "print(UniqueSchools['SCHNAM'][x])\n",
    "location = geolocator.geocode(UniqueSchools['DBN'][x] + ' ' + UniqueSchools['SCHNAM'][x] + ' New York' )#+ UniqueSchools[u'Borough'][x])\n",
    "print(location)\n",
    "#print(location.latitude, location.longitude)"
   ]
  },
  {
   "cell_type": "code",
   "execution_count": null,
   "metadata": {},
   "outputs": [],
   "source": []
  }
 ],
 "metadata": {
  "kernelspec": {
   "display_name": "Python3_adn323",
   "language": "python",
   "name": "python3_adn323"
  },
  "language_info": {
   "codemirror_mode": {
    "name": "ipython",
    "version": 3
   },
   "file_extension": ".py",
   "mimetype": "text/x-python",
   "name": "python",
   "nbconvert_exporter": "python",
   "pygments_lexer": "ipython3",
   "version": "3.5.4"
  }
 },
 "nbformat": 4,
 "nbformat_minor": 1
}
