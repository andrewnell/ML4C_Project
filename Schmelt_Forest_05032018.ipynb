{
 "cells": [
  {
   "cell_type": "code",
   "execution_count": 1,
   "metadata": {},
   "outputs": [
    {
     "name": "stdout",
     "output_type": "stream",
     "text": [
      "Populating the interactive namespace from numpy and matplotlib\n"
     ]
    },
    {
     "name": "stderr",
     "output_type": "stream",
     "text": [
      "/Users/baileygriswold/anaconda3/lib/python3.6/site-packages/IPython/core/magics/pylab.py:160: UserWarning: pylab import has clobbered these variables: ['plt']\n",
      "`%matplotlib` prevents importing * from pylab and numpy\n",
      "  \"\\n`%matplotlib` prevents importing * from pylab and numpy\"\n",
      "/Users/baileygriswold/anaconda3/lib/python3.6/site-packages/statsmodels/compat/pandas.py:56: FutureWarning: The pandas.core.datetools module is deprecated and will be removed in a future version. Please use the pandas.tseries module instead.\n",
      "  from pandas.core import datetools\n"
     ]
    }
   ],
   "source": [
    "import numpy as np\n",
    "import pandas as pd\n",
    "import matplotlib as plt\n",
    "import pylab as pl\n",
    "%pylab inline\n",
    "import seaborn as sns\n",
    "\n",
    "import statsmodels.formula.api as smf\n",
    "from sklearn.metrics import roc_auc_score\n",
    "\n",
    "from mpl_toolkits.mplot3d import Axes3D  # for 3D plot\n",
    "\n",
    "from sklearn.mixture import GaussianMixture\n",
    "from sklearn.metrics import average_precision_score\n",
    "from sklearn.metrics import precision_recall_curve\n",
    "\n",
    "\n",
    "import statsmodels.api as sm\n",
    "import statsmodels.formula.api as smf\n",
    "from numpy import linalg\n",
    "from sklearn.model_selection import train_test_split\n",
    "from sklearn.ensemble import RandomForestClassifier\n",
    "from sklearn.model_selection import GridSearchCV \n",
    "from sklearn.tree import ExtraTreeClassifier\n",
    "from sklearn.tree import DecisionTreeClassifier\n",
    "from sklearn.metrics import roc_auc_score\n",
    "\n",
    "colors = ['y', 'm', 'c', 'r', 'g', 'b', 'k', 'DeepPink',\\\n",
    "          'DodgerBlue', 'Aquamarine', 'MediumSpringGreen',\\\n",
    "         'MidnightBlue', 'Gold', 'DarkSlateGray', 'LimeGreen', \\\n",
    "         'LightSeaGreen', 'Salmon', 'Indigo', 'DarkMagenta', \\\n",
    "         'Thistle', 'DeepSkyBlue', 'CadetBlue', \\\n",
    "         'BlueViolet', 'Chocolate', 'SaddleBrown', 'Maroon', \\\n",
    "         'Peru', 'DarkOrange', 'Teal', 'DarkKhaki']\n"
   ]
  },
  {
   "cell_type": "code",
   "execution_count": 2,
   "metadata": {},
   "outputs": [],
   "source": [
    "def hypertuner(X_train, y_train, X_val, y_val):\n",
    "    param_grid ={'max_depth':np.arange(1,20,2),\n",
    "                'max_leaf_nodes':np.arange(2,20,2),\n",
    "                'min_samples_leaf':np.arange(2,20,2)} #maybe take n_estimators out\n",
    "\n",
    "\n",
    "    #X_train, X_test, y_train, y_test = train_test_split(X, y, test_size = 0.4, random_state = i)\n",
    "    dt=RandomForestClassifier()#don't specifcy alpha in the intialization\n",
    "    gr=GridSearchCV(dt,param_grid=param_grid)#pass in predictor, and gridded parameters\n",
    "    rs=gr.fit(X_train,y_train)#run predictor with each parameter using training data\n",
    "    print (rs.best_params_) #will output the best parameter, the best alpha\n",
    "    pred=rs.predict_proba(X_val)[:,1]\n",
    "    print ('ROC AUC: ', roc_auc_score(np.array(y_val),pred))\n"
   ]
  },
  {
   "cell_type": "code",
   "execution_count": 3,
   "metadata": {
    "collapsed": true
   },
   "outputs": [],
   "source": [
    "def tree_fits(X, y):\n",
    "    #split training and test data (Set before the missing dates, and after the missing dates)\n",
    "    X_train,X_test,y_train,y_test=train_test_split(X, y, test_size=0.3, random_state=999)\n",
    "    \n",
    "    fig = plt.figure(figsize=(10,4))\n",
    "    # learn model\n",
    "    dt=DecisionTreeClassifier()\n",
    "    dt.fit(X_train,y_train)\n",
    "    y_score = dt.predict_proba(X_test)\n",
    "    average_precision = average_precision_score(y_test, y_score[:,0])\n",
    "    \n",
    "    print ('Decision Tree Classifier Results: ')\n",
    "    # in sample accuracy\n",
    "    print ('In sample accuracy:',dt.score(X_train,y_train))\n",
    "\n",
    "    # out of sample accuracy\n",
    "    print ('Out of sample accuracy:',dt.score(X_test,y_test))\n",
    "\n",
    "    print ('\\n')\n",
    "    print('Average precision-recall score: {0:0.2f}'.format(\n",
    "      average_precision))\n",
    "   \n",
    "    fig.add_subplot(1, 3, 1)\n",
    "    precision, recall, _ = precision_recall_curve(y_test, y_score[:,0])\n",
    "    plt.step(recall, precision, color='b', alpha=0.2,\n",
    "         where='post')\n",
    "    plt.fill_between(recall, precision, step='post', alpha=0.2,\n",
    "                 color='b')\n",
    "\n",
    "    plt.xlabel('Recall')\n",
    "    plt.ylabel('Precision')\n",
    "    plt.ylim([0.0, 1.05])\n",
    "    plt.xlim([0.0, 1.0])\n",
    "    plt.title('2-class Precision-Recall curve: AP={0:0.2f}'.format(\n",
    "          average_precision))\n",
    "    \n",
    "    print ('\\n')\n",
    "    \n",
    "    # learn model\n",
    "    dt=RandomForestClassifier()\n",
    "    dt.fit(X_train,y_train)\n",
    "    y_score = dt.predict_proba(X_test)\n",
    "    average_precision = average_precision_score(y_test, y_score[:,0])\n",
    "\n",
    "    # in sample accuracy\n",
    "    print ('Random Forest Classifier Results: ')\n",
    "    print ('In sample accuracy:',dt.score(X_train,y_train))\n",
    "\n",
    "    # out of sample accuracy\n",
    "    print ('Out of sample accuracy:',dt.score(X_test,y_test))\n",
    "    \n",
    "    print ('\\n')\n",
    "    print('Average precision-recall score: {0:0.2f}'.format(\n",
    "      average_precision))\n",
    "    fig.add_subplot(1, 3, 2)\n",
    "    precision, recall, _ = precision_recall_curve(y_test, y_score[:,0])\n",
    "    plt.step(recall, precision, color='b', alpha=0.2,\n",
    "         where='post')\n",
    "    plt.fill_between(recall, precision, step='post', alpha=0.2,\n",
    "                 color='b')\n",
    "\n",
    "    plt.xlabel('Recall')\n",
    "    plt.ylabel('Precision')\n",
    "    plt.ylim([0.0, 1.05])\n",
    "    plt.xlim([0.0, 1.0])\n",
    "    plt.title('2-class Precision-Recall curve: AP={0:0.2f}'.format(\n",
    "          average_precision))\n",
    "\n",
    "    print ('\\n')\n",
    "    \n",
    "    # learn model\n",
    "    dt=ExtraTreeClassifier()\n",
    "    dt.fit(X_train,y_train)\n",
    "    y_score = dt.predict_proba(X_test)\n",
    "    average_precision = average_precision_score(y_test, y_score[:,0])\n",
    "\n",
    "    print ('Extra Tree Classifier Results: ')\n",
    "    # in sample accuracy\n",
    "    print ('In sample accuracy:',dt.score(X_train,y_train))\n",
    "\n",
    "    # out of sample accuracy\n",
    "    print ('Out of sample accuracy:',dt.score(X_test,y_test))\n",
    "    print ('\\n')\n",
    "    print('Average precision-recall score: {0:0.2f}'.format(\n",
    "      average_precision))\n",
    "    fig.add_subplot(1, 3, 3)\n",
    "    precision, recall, _ = precision_recall_curve(y_test, y_score[:,0])\n",
    "    plt.step(recall, precision, color='b', alpha=0.2,\n",
    "         where='post')\n",
    "    plt.fill_between(recall, precision, step='post', alpha=0.2,\n",
    "                 color='b')\n",
    "\n",
    "    plt.xlabel('Recall')\n",
    "    plt.ylabel('Precision')\n",
    "    plt.ylim([0.0, 1.05])\n",
    "    plt.xlim([0.0, 1.0])\n",
    "    plt.title('2-class Precision-Recall curve: AP={0:0.2f}'.format(\n",
    "          average_precision))\n",
    "    \n",
    "    plt.tight_layout()"
   ]
  },
  {
   "cell_type": "code",
   "execution_count": 4,
   "metadata": {
    "collapsed": true
   },
   "outputs": [],
   "source": [
    "def class_upp_samp(X,y):\n",
    "    df_train = X.copy()\n",
    "    df_train['output'] = y.copy()\n",
    "    count_class = {}\n",
    "    for x in df_train['output'].value_counts().index:\n",
    "        count_class[x] = df_train['output'].value_counts()[x]\n",
    "\n",
    "    class_dfs = {}\n",
    "    # Divide by class\n",
    "    for x in count_class.keys():\n",
    "        class_dfs[x] = df_train[df_train['output'] == x]\n",
    "\n",
    "    biggest_cls = int(max(count_class, key=count_class.get))\n",
    "    count_class[biggest_cls]\n",
    "    classes = list(count_class.keys())\n",
    "    classes.pop(biggest_cls)\n",
    "\n",
    "    for x in classes:\n",
    "        class_dfs[x] = class_dfs[x].sample(count_class[biggest_cls], replace=True) #take the number of fatal accidents as slight\n",
    "\n",
    "    df_train_over = pd.concat(class_dfs, axis=0)\n",
    "    \n",
    "    Xnu = df_train_over.iloc[:,:-1]\n",
    "    ynu = df_train_over['output']\n",
    "    \n",
    "    return(Xnu,ynu)\n"
   ]
  },
  {
   "cell_type": "code",
   "execution_count": 5,
   "metadata": {
    "collapsed": true
   },
   "outputs": [],
   "source": [
    "def mos_imp_feat(fet_imp, lim):\n",
    "    labels = fet_imp.sort_values(by=['Importance'], \n",
    "                                 ascending=False).loc[:lim, :].Variable\n",
    "    fet_imp.sort_values(by=['Importance'], ascending=False).head(len(labels))\\\n",
    "                        .plot(kind='barh', figsize=(10,6))\n",
    "\n",
    "    pl.yticks(np.arange(len(labels)), labels)"
   ]
  },
  {
   "cell_type": "code",
   "execution_count": 6,
   "metadata": {
    "collapsed": true
   },
   "outputs": [],
   "source": [
    "def feat_imp(X_train, model):\n",
    "    fet_imp = pd.DataFrame(list(zip(list(X_train.columns), \n",
    "                                    model.feature_importances_)), \n",
    "                           columns=['Variable', 'Importance'])\n",
    "    fet_imp.sort_values(by=['Importance'], \n",
    "                        ascending=False).head(50).plot(kind='bar', figsize=(10,6))\n",
    "    return (fet_imp)\n",
    "\n"
   ]
  },
  {
   "cell_type": "markdown",
   "metadata": {},
   "source": [
    "# Read in Data"
   ]
  },
  {
   "cell_type": "code",
   "execution_count": 7,
   "metadata": {},
   "outputs": [
    {
     "data": {
      "text/plain": [
       "ELEMENTARY              792\n",
       "HIGH SCHOOL             549\n",
       "JUNIOR HIGH-INTERMED    353\n",
       "NaN                     112\n",
       "K-12 ALL GRADES          41\n",
       "SECONDARY SCHOOL         38\n",
       "EARLY CHILDHOOD          37\n",
       "K-8                      24\n",
       "COLLABORATIVE OR MUL     24\n",
       "DISTRICT PRE-K CENTE     13\n",
       "UNGRADED                 12\n",
       "CENTRAL-HQ-CITYWIDE       1\n",
       "Name: LCGSCHCAT, dtype: int64"
      ]
     },
     "execution_count": 7,
     "metadata": {},
     "output_type": "execute_result"
    }
   ],
   "source": [
    "# Define different data sets\n",
    "schmelts = ['schmelt05-16.csv', 'schmelt09-16.csv', 'schmelt11-15.csv', \n",
    "            'schmelt13-16.csv', 'schmelt96-16.csv']\n",
    "\n",
    "# Choose which one to input \n",
    "#df = pd.read_csv('data/{}'.format(schmelts[4]))\n",
    "df = pd.read_csv('./schma_data/{}'.format(schmelts[4]))\n",
    "\n",
    "# Visualise Schools Types\n",
    "df.LCGSCHCAT.value_counts(dropna=False)"
   ]
  },
  {
   "cell_type": "markdown",
   "metadata": {},
   "source": [
    "# Create School Type Data sets\n",
    "### High"
   ]
  },
  {
   "cell_type": "code",
   "execution_count": 8,
   "metadata": {},
   "outputs": [
    {
     "name": "stderr",
     "output_type": "stream",
     "text": [
      "/Users/baileygriswold/anaconda3/lib/python3.6/site-packages/ipykernel_launcher.py:5: SettingWithCopyWarning: \n",
      "A value is trying to be set on a copy of a slice from a DataFrame\n",
      "\n",
      "See the caveats in the documentation: http://pandas.pydata.org/pandas-docs/stable/indexing.html#indexing-view-versus-copy\n",
      "  \"\"\"\n",
      "/Users/baileygriswold/anaconda3/lib/python3.6/site-packages/ipykernel_launcher.py:6: SettingWithCopyWarning: \n",
      "A value is trying to be set on a copy of a slice from a DataFrame\n",
      "\n",
      "See the caveats in the documentation: http://pandas.pydata.org/pandas-docs/stable/indexing.html#indexing-view-versus-copy\n",
      "  \n"
     ]
    },
    {
     "name": "stdout",
     "output_type": "stream",
     "text": [
      "Original Size: 549\n",
      "Post Cleaning Size: 378\n",
      "Number of Renewal Schools 11.0\n",
      "Number of Community Schools 63.0\n",
      "Number of Closed Schools 51.0\n"
     ]
    },
    {
     "data": {
      "text/html": [
       "<div>\n",
       "<style>\n",
       "    .dataframe thead tr:only-child th {\n",
       "        text-align: right;\n",
       "    }\n",
       "\n",
       "    .dataframe thead th {\n",
       "        text-align: left;\n",
       "    }\n",
       "\n",
       "    .dataframe tbody tr th {\n",
       "        vertical-align: top;\n",
       "    }\n",
       "</style>\n",
       "<table border=\"1\" class=\"dataframe\">\n",
       "  <thead>\n",
       "    <tr style=\"text-align: right;\">\n",
       "      <th></th>\n",
       "      <th>BNLONG</th>\n",
       "      <th>ATTPCTG09 trend96_16</th>\n",
       "      <th>ATTPCTG10 trend96_16</th>\n",
       "      <th>ATTPCTG11 trend96_16</th>\n",
       "      <th>ATTPCTTOT trend96_16</th>\n",
       "      <th>CLSAVGG09 trend96_16</th>\n",
       "      <th>CLSAVGG10 trend96_16</th>\n",
       "      <th>CLSAVGTOT trend96_16</th>\n",
       "      <th>CLSNUMG09 trend96_16</th>\n",
       "      <th>CLSNUMG10 trend96_16</th>\n",
       "      <th>...</th>\n",
       "      <th>SPECHS std96_16</th>\n",
       "      <th>DBN</th>\n",
       "      <th>SCHNAM</th>\n",
       "      <th>BN</th>\n",
       "      <th>RenewlSchl</th>\n",
       "      <th>Community_Sch</th>\n",
       "      <th>Closed</th>\n",
       "      <th>LCGSCHCAT</th>\n",
       "      <th>LCGSCHTYP</th>\n",
       "      <th>HSSCHSAMP2</th>\n",
       "    </tr>\n",
       "  </thead>\n",
       "  <tbody>\n",
       "    <tr>\n",
       "      <th>292</th>\n",
       "      <td>K322</td>\n",
       "      <td>-2.765000</td>\n",
       "      <td>-1.334444</td>\n",
       "      <td>-1.881250</td>\n",
       "      <td>-1.306000</td>\n",
       "      <td>-1.333333</td>\n",
       "      <td>-1.653680</td>\n",
       "      <td>-1.107955</td>\n",
       "      <td>-0.444444</td>\n",
       "      <td>-0.357143</td>\n",
       "      <td>...</td>\n",
       "      <td>0.0</td>\n",
       "      <td>16K322</td>\n",
       "      <td>FOUNDATIONS ACADEMY</td>\n",
       "      <td>K322</td>\n",
       "      <td>0.0</td>\n",
       "      <td>0.0</td>\n",
       "      <td>0.0</td>\n",
       "      <td>HIGH SCHOOL</td>\n",
       "      <td>GENERAL ACADEMIC</td>\n",
       "      <td>1</td>\n",
       "    </tr>\n",
       "    <tr>\n",
       "      <th>308</th>\n",
       "      <td>K344</td>\n",
       "      <td>-0.036000</td>\n",
       "      <td>0.251111</td>\n",
       "      <td>-0.242500</td>\n",
       "      <td>0.095000</td>\n",
       "      <td>-1.292929</td>\n",
       "      <td>-0.205556</td>\n",
       "      <td>-1.575180</td>\n",
       "      <td>0.777778</td>\n",
       "      <td>0.500000</td>\n",
       "      <td>...</td>\n",
       "      <td>0.0</td>\n",
       "      <td>21K344</td>\n",
       "      <td>RACHEL CARSON HIGH SCHOOL FOR</td>\n",
       "      <td>K344</td>\n",
       "      <td>0.0</td>\n",
       "      <td>0.0</td>\n",
       "      <td>0.0</td>\n",
       "      <td>HIGH SCHOOL</td>\n",
       "      <td>GENERAL ACADEMIC</td>\n",
       "      <td>1</td>\n",
       "    </tr>\n",
       "    <tr>\n",
       "      <th>312</th>\n",
       "      <td>K348</td>\n",
       "      <td>0.012000</td>\n",
       "      <td>-1.142222</td>\n",
       "      <td>-1.780000</td>\n",
       "      <td>-0.573000</td>\n",
       "      <td>-3.680912</td>\n",
       "      <td>-3.267857</td>\n",
       "      <td>-0.732850</td>\n",
       "      <td>1.111111</td>\n",
       "      <td>2.250000</td>\n",
       "      <td>...</td>\n",
       "      <td>0.0</td>\n",
       "      <td>21K348</td>\n",
       "      <td>HIGH SCHOOL OF SPORTS MANAGEME</td>\n",
       "      <td>K348</td>\n",
       "      <td>0.0</td>\n",
       "      <td>0.0</td>\n",
       "      <td>0.0</td>\n",
       "      <td>HIGH SCHOOL</td>\n",
       "      <td>GENERAL ACADEMIC</td>\n",
       "      <td>1</td>\n",
       "    </tr>\n",
       "    <tr>\n",
       "      <th>314</th>\n",
       "      <td>K350</td>\n",
       "      <td>0.035000</td>\n",
       "      <td>0.015556</td>\n",
       "      <td>0.307500</td>\n",
       "      <td>-0.067000</td>\n",
       "      <td>3.592593</td>\n",
       "      <td>4.333333</td>\n",
       "      <td>-7.880000</td>\n",
       "      <td>-0.222222</td>\n",
       "      <td>-0.250000</td>\n",
       "      <td>...</td>\n",
       "      <td>0.0</td>\n",
       "      <td>13K350</td>\n",
       "      <td>URBAN ASSEMBLY SCHOOL OF MUSIC</td>\n",
       "      <td>K350</td>\n",
       "      <td>0.0</td>\n",
       "      <td>1.0</td>\n",
       "      <td>0.0</td>\n",
       "      <td>HIGH SCHOOL</td>\n",
       "      <td>GENERAL ACADEMIC</td>\n",
       "      <td>1</td>\n",
       "    </tr>\n",
       "    <tr>\n",
       "      <th>348</th>\n",
       "      <td>K400</td>\n",
       "      <td>-3.753571</td>\n",
       "      <td>-1.240714</td>\n",
       "      <td>-0.894286</td>\n",
       "      <td>-0.694286</td>\n",
       "      <td>-1.552124</td>\n",
       "      <td>-0.885135</td>\n",
       "      <td>-0.894336</td>\n",
       "      <td>-2.571429</td>\n",
       "      <td>-2.500000</td>\n",
       "      <td>...</td>\n",
       "      <td>0.0</td>\n",
       "      <td>21K400</td>\n",
       "      <td>LAFAYETTE HIGH SCHOOL</td>\n",
       "      <td>K400</td>\n",
       "      <td>0.0</td>\n",
       "      <td>0.0</td>\n",
       "      <td>1.0</td>\n",
       "      <td>HIGH SCHOOL</td>\n",
       "      <td>GENERAL ACADEMIC</td>\n",
       "      <td>1</td>\n",
       "    </tr>\n",
       "  </tbody>\n",
       "</table>\n",
       "<p>5 rows × 220 columns</p>\n",
       "</div>"
      ],
      "text/plain": [
       "    BNLONG  ATTPCTG09 trend96_16  ATTPCTG10 trend96_16  ATTPCTG11 trend96_16  \\\n",
       "292   K322             -2.765000             -1.334444             -1.881250   \n",
       "308   K344             -0.036000              0.251111             -0.242500   \n",
       "312   K348              0.012000             -1.142222             -1.780000   \n",
       "314   K350              0.035000              0.015556              0.307500   \n",
       "348   K400             -3.753571             -1.240714             -0.894286   \n",
       "\n",
       "     ATTPCTTOT trend96_16  CLSAVGG09 trend96_16  CLSAVGG10 trend96_16  \\\n",
       "292             -1.306000             -1.333333             -1.653680   \n",
       "308              0.095000             -1.292929             -0.205556   \n",
       "312             -0.573000             -3.680912             -3.267857   \n",
       "314             -0.067000              3.592593              4.333333   \n",
       "348             -0.694286             -1.552124             -0.885135   \n",
       "\n",
       "     CLSAVGTOT trend96_16  CLSNUMG09 trend96_16  CLSNUMG10 trend96_16  \\\n",
       "292             -1.107955             -0.444444             -0.357143   \n",
       "308             -1.575180              0.777778              0.500000   \n",
       "312             -0.732850              1.111111              2.250000   \n",
       "314             -7.880000             -0.222222             -0.250000   \n",
       "348             -0.894336             -2.571429             -2.500000   \n",
       "\n",
       "        ...      SPECHS std96_16     DBN                          SCHNAM  \\\n",
       "292     ...                  0.0  16K322             FOUNDATIONS ACADEMY   \n",
       "308     ...                  0.0  21K344   RACHEL CARSON HIGH SCHOOL FOR   \n",
       "312     ...                  0.0  21K348  HIGH SCHOOL OF SPORTS MANAGEME   \n",
       "314     ...                  0.0  13K350  URBAN ASSEMBLY SCHOOL OF MUSIC   \n",
       "348     ...                  0.0  21K400           LAFAYETTE HIGH SCHOOL   \n",
       "\n",
       "       BN  RenewlSchl  Community_Sch  Closed    LCGSCHCAT         LCGSCHTYP  \\\n",
       "292  K322         0.0            0.0     0.0  HIGH SCHOOL  GENERAL ACADEMIC   \n",
       "308  K344         0.0            0.0     0.0  HIGH SCHOOL  GENERAL ACADEMIC   \n",
       "312  K348         0.0            0.0     0.0  HIGH SCHOOL  GENERAL ACADEMIC   \n",
       "314  K350         0.0            1.0     0.0  HIGH SCHOOL  GENERAL ACADEMIC   \n",
       "348  K400         0.0            0.0     1.0  HIGH SCHOOL  GENERAL ACADEMIC   \n",
       "\n",
       "     HSSCHSAMP2  \n",
       "292           1  \n",
       "308           1  \n",
       "312           1  \n",
       "314           1  \n",
       "348           1  \n",
       "\n",
       "[5 rows x 220 columns]"
      ]
     },
     "execution_count": 8,
     "metadata": {},
     "output_type": "execute_result"
    }
   ],
   "source": [
    "# CReate School DF\n",
    "Highdf = df[df.LCGSCHCAT == 'HIGH SCHOOL']\n",
    "\n",
    "# Drop columns and rows with all Nulls\n",
    "Highdf.dropna(axis=1, how='all', inplace=True)\n",
    "Highdf.dropna(axis=0, how='all', inplace=True)\n",
    "\n",
    "# Drop columns from unnecessary data\n",
    "# Grades\n",
    "Grades = ['G01','G02','G03','G04','G05','G06','G07','G08','PRK','KID']\n",
    "for grd in Grades:\n",
    "    Highdf = Highdf[Highdf.columns[~Highdf.columns.str.contains(grd)]]\n",
    "\n",
    "# Other things\n",
    "Colsdrop = ['CBO']\n",
    "for cols in Colsdrop:\n",
    "    Highdf = Highdf[Highdf.columns[~Highdf.columns.str.contains(cols)]]\n",
    "    \n",
    "# Drop all values with more than 100 nulls\n",
    "for col in Highdf.columns:\n",
    "    if Highdf[col].isnull().sum() >= 100:\n",
    "        Highdf.drop([col], axis=1, inplace=True)\n",
    "        \n",
    "print('Original Size: ' + str(Highdf.shape[0]))\n",
    "        \n",
    "# Drop all Null values - does not reduce data set too much\n",
    "Highdf.dropna(inplace=True)\n",
    "\n",
    "# Drop rows with ranges below 2 in any remaining field and drop all range fields\n",
    "for i in Highdf.columns[Highdf.columns.str.contains('range')]:\n",
    "    Highdf = Highdf[~(Highdf[i] < 3)]\n",
    "    Highdf.drop([i], axis=1, inplace=True)\n",
    "\n",
    "print('Post Cleaning Size: ' + str(Highdf.shape[0]))\n",
    "print('Number of Renewal Schools ' + str(Highdf.RenewlSchl.sum()))\n",
    "print('Number of Community Schools ' + str(Highdf.Community_Sch.sum()))\n",
    "print('Number of Closed Schools ' + str(Highdf.Closed.sum()))\n",
    "\n",
    "# Preview\n",
    "Highdf.head()"
   ]
  },
  {
   "cell_type": "markdown",
   "metadata": {},
   "source": [
    "### Middle"
   ]
  },
  {
   "cell_type": "code",
   "execution_count": 9,
   "metadata": {},
   "outputs": [
    {
     "name": "stderr",
     "output_type": "stream",
     "text": [
      "/Users/baileygriswold/anaconda3/lib/python3.6/site-packages/ipykernel_launcher.py:5: SettingWithCopyWarning: \n",
      "A value is trying to be set on a copy of a slice from a DataFrame\n",
      "\n",
      "See the caveats in the documentation: http://pandas.pydata.org/pandas-docs/stable/indexing.html#indexing-view-versus-copy\n",
      "  \"\"\"\n",
      "/Users/baileygriswold/anaconda3/lib/python3.6/site-packages/ipykernel_launcher.py:6: SettingWithCopyWarning: \n",
      "A value is trying to be set on a copy of a slice from a DataFrame\n",
      "\n",
      "See the caveats in the documentation: http://pandas.pydata.org/pandas-docs/stable/indexing.html#indexing-view-versus-copy\n",
      "  \n"
     ]
    },
    {
     "name": "stdout",
     "output_type": "stream",
     "text": [
      "Original Size: 353\n",
      "Post Cleaning Size: 179\n",
      "Number of Renewal Schools 3.0\n",
      "Number of Community Schools 48.0\n",
      "Number of Closed Schools 0.0\n"
     ]
    },
    {
     "data": {
      "text/html": [
       "<div>\n",
       "<style>\n",
       "    .dataframe thead tr:only-child th {\n",
       "        text-align: right;\n",
       "    }\n",
       "\n",
       "    .dataframe thead th {\n",
       "        text-align: left;\n",
       "    }\n",
       "\n",
       "    .dataframe tbody tr th {\n",
       "        vertical-align: top;\n",
       "    }\n",
       "</style>\n",
       "<table border=\"1\" class=\"dataframe\">\n",
       "  <thead>\n",
       "    <tr style=\"text-align: right;\">\n",
       "      <th></th>\n",
       "      <th>BNLONG</th>\n",
       "      <th>ATTPCTG06 trend96_16</th>\n",
       "      <th>ATTPCTG07 trend96_16</th>\n",
       "      <th>ATTPCTG08 trend96_16</th>\n",
       "      <th>ATTPCTTOT trend96_16</th>\n",
       "      <th>CCDENRNUMFRL trend96_16</th>\n",
       "      <th>CCDENRNUMFRL_normd trend96_16</th>\n",
       "      <th>CCDNUMFTE trend96_16</th>\n",
       "      <th>CCDNUMFTE_normd trend96_16</th>\n",
       "      <th>CLSAVGG06 trend96_16</th>\n",
       "      <th>...</th>\n",
       "      <th>ela8_decile std96_16</th>\n",
       "      <th>DBN</th>\n",
       "      <th>SCHNAM</th>\n",
       "      <th>BN</th>\n",
       "      <th>RenewlSchl</th>\n",
       "      <th>Community_Sch</th>\n",
       "      <th>Closed</th>\n",
       "      <th>LCGSCHCAT</th>\n",
       "      <th>LCGSCHTYP</th>\n",
       "      <th>HSSCHSAMP2</th>\n",
       "    </tr>\n",
       "  </thead>\n",
       "  <tbody>\n",
       "    <tr>\n",
       "      <th>97</th>\n",
       "      <td>K113</td>\n",
       "      <td>-0.241667</td>\n",
       "      <td>0.0380</td>\n",
       "      <td>0.1820</td>\n",
       "      <td>0.1085</td>\n",
       "      <td>4.000000</td>\n",
       "      <td>0.000499</td>\n",
       "      <td>0.065385</td>\n",
       "      <td>-0.000271</td>\n",
       "      <td>0.607692</td>\n",
       "      <td>...</td>\n",
       "      <td>1.437136</td>\n",
       "      <td>13K113</td>\n",
       "      <td>RONALD EDMONDS - JHS #113</td>\n",
       "      <td>K113</td>\n",
       "      <td>0.0</td>\n",
       "      <td>0.0</td>\n",
       "      <td>0.0</td>\n",
       "      <td>JUNIOR HIGH-INTERMED</td>\n",
       "      <td>GENERAL ACADEMIC</td>\n",
       "      <td>7</td>\n",
       "    </tr>\n",
       "    <tr>\n",
       "      <th>109</th>\n",
       "      <td>K126</td>\n",
       "      <td>0.267273</td>\n",
       "      <td>0.2305</td>\n",
       "      <td>0.4550</td>\n",
       "      <td>0.4525</td>\n",
       "      <td>-40.230769</td>\n",
       "      <td>-0.008515</td>\n",
       "      <td>-1.616923</td>\n",
       "      <td>0.003847</td>\n",
       "      <td>1.188889</td>\n",
       "      <td>...</td>\n",
       "      <td>1.843554</td>\n",
       "      <td>14K126</td>\n",
       "      <td>JOHN ERICSSON_JUNIOR HIGH SCHO</td>\n",
       "      <td>K126</td>\n",
       "      <td>0.0</td>\n",
       "      <td>1.0</td>\n",
       "      <td>0.0</td>\n",
       "      <td>JUNIOR HIGH-INTERMED</td>\n",
       "      <td>GENERAL ACADEMIC</td>\n",
       "      <td>2</td>\n",
       "    </tr>\n",
       "    <tr>\n",
       "      <th>118</th>\n",
       "      <td>K136</td>\n",
       "      <td>0.263000</td>\n",
       "      <td>0.3475</td>\n",
       "      <td>0.4430</td>\n",
       "      <td>0.3585</td>\n",
       "      <td>-10.846154</td>\n",
       "      <td>0.006951</td>\n",
       "      <td>-1.216154</td>\n",
       "      <td>0.000166</td>\n",
       "      <td>0.140909</td>\n",
       "      <td>...</td>\n",
       "      <td>1.028992</td>\n",
       "      <td>15K136</td>\n",
       "      <td>CHARLES O. DEWEY MS136</td>\n",
       "      <td>K136</td>\n",
       "      <td>0.0</td>\n",
       "      <td>0.0</td>\n",
       "      <td>0.0</td>\n",
       "      <td>JUNIOR HIGH-INTERMED</td>\n",
       "      <td>GENERAL ACADEMIC</td>\n",
       "      <td>7</td>\n",
       "    </tr>\n",
       "    <tr>\n",
       "      <th>142</th>\n",
       "      <td>K162</td>\n",
       "      <td>0.294500</td>\n",
       "      <td>0.3405</td>\n",
       "      <td>0.5700</td>\n",
       "      <td>0.3930</td>\n",
       "      <td>-18.923077</td>\n",
       "      <td>-0.011299</td>\n",
       "      <td>-0.606923</td>\n",
       "      <td>0.000566</td>\n",
       "      <td>0.874405</td>\n",
       "      <td>...</td>\n",
       "      <td>1.074055</td>\n",
       "      <td>32K162</td>\n",
       "      <td>WILLOUGHBY - I.S. #162</td>\n",
       "      <td>K162</td>\n",
       "      <td>0.0</td>\n",
       "      <td>0.0</td>\n",
       "      <td>0.0</td>\n",
       "      <td>JUNIOR HIGH-INTERMED</td>\n",
       "      <td>GENERAL ACADEMIC</td>\n",
       "      <td>7</td>\n",
       "    </tr>\n",
       "    <tr>\n",
       "      <th>151</th>\n",
       "      <td>K171</td>\n",
       "      <td>0.296500</td>\n",
       "      <td>0.2950</td>\n",
       "      <td>0.4015</td>\n",
       "      <td>0.3335</td>\n",
       "      <td>10.615385</td>\n",
       "      <td>-0.001973</td>\n",
       "      <td>0.462308</td>\n",
       "      <td>-0.000496</td>\n",
       "      <td>0.527273</td>\n",
       "      <td>...</td>\n",
       "      <td>0.857493</td>\n",
       "      <td>19K171</td>\n",
       "      <td>ABRAHAM LINCOLN - I.S. #171</td>\n",
       "      <td>K171</td>\n",
       "      <td>0.0</td>\n",
       "      <td>0.0</td>\n",
       "      <td>0.0</td>\n",
       "      <td>JUNIOR HIGH-INTERMED</td>\n",
       "      <td>GENERAL ACADEMIC</td>\n",
       "      <td>7</td>\n",
       "    </tr>\n",
       "  </tbody>\n",
       "</table>\n",
       "<p>5 rows × 286 columns</p>\n",
       "</div>"
      ],
      "text/plain": [
       "    BNLONG  ATTPCTG06 trend96_16  ATTPCTG07 trend96_16  ATTPCTG08 trend96_16  \\\n",
       "97    K113             -0.241667                0.0380                0.1820   \n",
       "109   K126              0.267273                0.2305                0.4550   \n",
       "118   K136              0.263000                0.3475                0.4430   \n",
       "142   K162              0.294500                0.3405                0.5700   \n",
       "151   K171              0.296500                0.2950                0.4015   \n",
       "\n",
       "     ATTPCTTOT trend96_16  CCDENRNUMFRL trend96_16  \\\n",
       "97                 0.1085                 4.000000   \n",
       "109                0.4525               -40.230769   \n",
       "118                0.3585               -10.846154   \n",
       "142                0.3930               -18.923077   \n",
       "151                0.3335                10.615385   \n",
       "\n",
       "     CCDENRNUMFRL_normd trend96_16  CCDNUMFTE trend96_16  \\\n",
       "97                        0.000499              0.065385   \n",
       "109                      -0.008515             -1.616923   \n",
       "118                       0.006951             -1.216154   \n",
       "142                      -0.011299             -0.606923   \n",
       "151                      -0.001973              0.462308   \n",
       "\n",
       "     CCDNUMFTE_normd trend96_16  CLSAVGG06 trend96_16     ...      \\\n",
       "97                    -0.000271              0.607692     ...       \n",
       "109                    0.003847              1.188889     ...       \n",
       "118                    0.000166              0.140909     ...       \n",
       "142                    0.000566              0.874405     ...       \n",
       "151                   -0.000496              0.527273     ...       \n",
       "\n",
       "     ela8_decile std96_16     DBN                          SCHNAM    BN  \\\n",
       "97               1.437136  13K113       RONALD EDMONDS - JHS #113  K113   \n",
       "109              1.843554  14K126  JOHN ERICSSON_JUNIOR HIGH SCHO  K126   \n",
       "118              1.028992  15K136          CHARLES O. DEWEY MS136  K136   \n",
       "142              1.074055  32K162          WILLOUGHBY - I.S. #162  K162   \n",
       "151              0.857493  19K171     ABRAHAM LINCOLN - I.S. #171  K171   \n",
       "\n",
       "     RenewlSchl  Community_Sch  Closed             LCGSCHCAT  \\\n",
       "97          0.0            0.0     0.0  JUNIOR HIGH-INTERMED   \n",
       "109         0.0            1.0     0.0  JUNIOR HIGH-INTERMED   \n",
       "118         0.0            0.0     0.0  JUNIOR HIGH-INTERMED   \n",
       "142         0.0            0.0     0.0  JUNIOR HIGH-INTERMED   \n",
       "151         0.0            0.0     0.0  JUNIOR HIGH-INTERMED   \n",
       "\n",
       "            LCGSCHTYP  HSSCHSAMP2  \n",
       "97   GENERAL ACADEMIC           7  \n",
       "109  GENERAL ACADEMIC           2  \n",
       "118  GENERAL ACADEMIC           7  \n",
       "142  GENERAL ACADEMIC           7  \n",
       "151  GENERAL ACADEMIC           7  \n",
       "\n",
       "[5 rows x 286 columns]"
      ]
     },
     "execution_count": 9,
     "metadata": {},
     "output_type": "execute_result"
    }
   ],
   "source": [
    "# CReate School DF\n",
    "Middf = df[df.LCGSCHCAT == 'JUNIOR HIGH-INTERMED']\n",
    "\n",
    "# Drop columns and rows with all Nulls\n",
    "Middf.dropna(axis=1, how='all', inplace=True)\n",
    "Middf.dropna(axis=0, how='all', inplace=True)\n",
    "\n",
    "# Drop columns from unnecessary data\n",
    "# Grades\n",
    "Grades = ['G01','G02','G03','G04','G05','G09','G10','G11','G12','PRK','KID']\n",
    "for grd in Grades:\n",
    "    Middf = Middf[Middf.columns[~Middf.columns.str.contains(grd)]]\n",
    "\n",
    "# Other things\n",
    "Colsdrop = ['CBO']\n",
    "for cols in Colsdrop:\n",
    "    Middf = Middf[Middf.columns[~Middf.columns.str.contains(cols)]]\n",
    "    \n",
    "# Drop all values with more than 100 nulls\n",
    "for col in Middf.columns:\n",
    "    if Middf[col].isnull().sum() >= 100:\n",
    "        Middf.drop([col], axis=1, inplace=True)\n",
    "        \n",
    "print('Original Size: ' + str(Middf.shape[0]))\n",
    "        \n",
    "# Drop all Null values - does not reduce data set too much\n",
    "Middf.dropna(inplace=True)\n",
    "\n",
    "# Drop rows with ranges below 2 in any remaining field  and drop all range fields\n",
    "for i in Middf.columns[Middf.columns.str.contains('range')]:\n",
    "    Middf = Middf[~(Middf[i] < 2)]\n",
    "    Middf.drop([i], axis=1, inplace=True)\n",
    "\n",
    "\n",
    "print('Post Cleaning Size: ' + str(Middf.shape[0]))\n",
    "print('Number of Renewal Schools ' + str(Middf.RenewlSchl.sum()))\n",
    "print('Number of Community Schools ' + str(Middf.Community_Sch.sum()))\n",
    "print('Number of Closed Schools ' + str(Middf.Closed.sum()))\n",
    "\n",
    "\n",
    "# Preview\n",
    "Middf.head()"
   ]
  },
  {
   "cell_type": "markdown",
   "metadata": {},
   "source": [
    "### Elem"
   ]
  },
  {
   "cell_type": "code",
   "execution_count": 10,
   "metadata": {},
   "outputs": [
    {
     "name": "stderr",
     "output_type": "stream",
     "text": [
      "/Users/baileygriswold/anaconda3/lib/python3.6/site-packages/ipykernel_launcher.py:5: SettingWithCopyWarning: \n",
      "A value is trying to be set on a copy of a slice from a DataFrame\n",
      "\n",
      "See the caveats in the documentation: http://pandas.pydata.org/pandas-docs/stable/indexing.html#indexing-view-versus-copy\n",
      "  \"\"\"\n",
      "/Users/baileygriswold/anaconda3/lib/python3.6/site-packages/ipykernel_launcher.py:6: SettingWithCopyWarning: \n",
      "A value is trying to be set on a copy of a slice from a DataFrame\n",
      "\n",
      "See the caveats in the documentation: http://pandas.pydata.org/pandas-docs/stable/indexing.html#indexing-view-versus-copy\n",
      "  \n"
     ]
    },
    {
     "name": "stdout",
     "output_type": "stream",
     "text": [
      "Original Size: 792\n",
      "Post Cleaning Size: 631\n",
      "Number of Renewal Schools 7.0\n",
      "Number of Community Schools 73.0\n",
      "Number of Closed Schools 0.0\n"
     ]
    },
    {
     "data": {
      "text/html": [
       "<div>\n",
       "<style>\n",
       "    .dataframe thead tr:only-child th {\n",
       "        text-align: right;\n",
       "    }\n",
       "\n",
       "    .dataframe thead th {\n",
       "        text-align: left;\n",
       "    }\n",
       "\n",
       "    .dataframe tbody tr th {\n",
       "        vertical-align: top;\n",
       "    }\n",
       "</style>\n",
       "<table border=\"1\" class=\"dataframe\">\n",
       "  <thead>\n",
       "    <tr style=\"text-align: right;\">\n",
       "      <th></th>\n",
       "      <th>BNLONG</th>\n",
       "      <th>ATTPCTG01 trend96_16</th>\n",
       "      <th>ATTPCTG02 trend96_16</th>\n",
       "      <th>ATTPCTG03 trend96_16</th>\n",
       "      <th>ATTPCTG04 trend96_16</th>\n",
       "      <th>ATTPCTG05 trend96_16</th>\n",
       "      <th>ATTPCTKID trend96_16</th>\n",
       "      <th>ATTPCTTOT trend96_16</th>\n",
       "      <th>CLSAVGG01 trend96_16</th>\n",
       "      <th>CLSAVGG02 trend96_16</th>\n",
       "      <th>...</th>\n",
       "      <th>ela5_decile std96_16</th>\n",
       "      <th>DBN</th>\n",
       "      <th>SCHNAM</th>\n",
       "      <th>BN</th>\n",
       "      <th>RenewlSchl</th>\n",
       "      <th>Community_Sch</th>\n",
       "      <th>Closed</th>\n",
       "      <th>LCGSCHCAT</th>\n",
       "      <th>LCGSCHTYP</th>\n",
       "      <th>HSSCHSAMP2</th>\n",
       "    </tr>\n",
       "  </thead>\n",
       "  <tbody>\n",
       "    <tr>\n",
       "      <th>0</th>\n",
       "      <td>K001</td>\n",
       "      <td>0.3430</td>\n",
       "      <td>0.2110</td>\n",
       "      <td>0.1945</td>\n",
       "      <td>0.2070</td>\n",
       "      <td>0.1375</td>\n",
       "      <td>0.1960</td>\n",
       "      <td>0.2480</td>\n",
       "      <td>-0.019780</td>\n",
       "      <td>-0.220130</td>\n",
       "      <td>...</td>\n",
       "      <td>1.178511</td>\n",
       "      <td>15K001</td>\n",
       "      <td>PS1 BERGEN</td>\n",
       "      <td>K001</td>\n",
       "      <td>0.0</td>\n",
       "      <td>0.0</td>\n",
       "      <td>0.0</td>\n",
       "      <td>ELEMENTARY</td>\n",
       "      <td>GENERAL ACADEMIC</td>\n",
       "      <td>7</td>\n",
       "    </tr>\n",
       "    <tr>\n",
       "      <th>2</th>\n",
       "      <td>K003</td>\n",
       "      <td>0.2670</td>\n",
       "      <td>0.0255</td>\n",
       "      <td>0.0830</td>\n",
       "      <td>0.1700</td>\n",
       "      <td>0.2225</td>\n",
       "      <td>-0.0050</td>\n",
       "      <td>0.1015</td>\n",
       "      <td>-0.110000</td>\n",
       "      <td>-0.300000</td>\n",
       "      <td>...</td>\n",
       "      <td>0.615699</td>\n",
       "      <td>13K003</td>\n",
       "      <td>THE BEDFORD VILLAGE</td>\n",
       "      <td>K003</td>\n",
       "      <td>0.0</td>\n",
       "      <td>0.0</td>\n",
       "      <td>0.0</td>\n",
       "      <td>ELEMENTARY</td>\n",
       "      <td>GENERAL ACADEMIC</td>\n",
       "      <td>7</td>\n",
       "    </tr>\n",
       "    <tr>\n",
       "      <th>4</th>\n",
       "      <td>K005</td>\n",
       "      <td>0.3680</td>\n",
       "      <td>0.2385</td>\n",
       "      <td>0.2580</td>\n",
       "      <td>0.2880</td>\n",
       "      <td>0.4385</td>\n",
       "      <td>0.1570</td>\n",
       "      <td>0.2370</td>\n",
       "      <td>-0.991667</td>\n",
       "      <td>-0.683333</td>\n",
       "      <td>...</td>\n",
       "      <td>2.205108</td>\n",
       "      <td>16K005</td>\n",
       "      <td>PS 005</td>\n",
       "      <td>K005</td>\n",
       "      <td>0.0</td>\n",
       "      <td>0.0</td>\n",
       "      <td>0.0</td>\n",
       "      <td>ELEMENTARY</td>\n",
       "      <td>GENERAL ACADEMIC</td>\n",
       "      <td>7</td>\n",
       "    </tr>\n",
       "    <tr>\n",
       "      <th>5</th>\n",
       "      <td>K006</td>\n",
       "      <td>0.3075</td>\n",
       "      <td>0.1520</td>\n",
       "      <td>0.1525</td>\n",
       "      <td>0.2100</td>\n",
       "      <td>0.0880</td>\n",
       "      <td>0.2160</td>\n",
       "      <td>0.1910</td>\n",
       "      <td>0.385714</td>\n",
       "      <td>-0.400000</td>\n",
       "      <td>...</td>\n",
       "      <td>1.294786</td>\n",
       "      <td>17K006</td>\n",
       "      <td>PS 6</td>\n",
       "      <td>K006</td>\n",
       "      <td>0.0</td>\n",
       "      <td>0.0</td>\n",
       "      <td>0.0</td>\n",
       "      <td>ELEMENTARY</td>\n",
       "      <td>GENERAL ACADEMIC</td>\n",
       "      <td>7</td>\n",
       "    </tr>\n",
       "    <tr>\n",
       "      <th>6</th>\n",
       "      <td>K007</td>\n",
       "      <td>0.2760</td>\n",
       "      <td>0.2560</td>\n",
       "      <td>0.2605</td>\n",
       "      <td>0.1755</td>\n",
       "      <td>0.2275</td>\n",
       "      <td>0.2315</td>\n",
       "      <td>0.2280</td>\n",
       "      <td>-0.243750</td>\n",
       "      <td>-0.120000</td>\n",
       "      <td>...</td>\n",
       "      <td>1.816590</td>\n",
       "      <td>19K007</td>\n",
       "      <td>ABRAHAM LINCOLN</td>\n",
       "      <td>K007</td>\n",
       "      <td>0.0</td>\n",
       "      <td>0.0</td>\n",
       "      <td>0.0</td>\n",
       "      <td>ELEMENTARY</td>\n",
       "      <td>GENERAL ACADEMIC</td>\n",
       "      <td>7</td>\n",
       "    </tr>\n",
       "  </tbody>\n",
       "</table>\n",
       "<p>5 rows × 325 columns</p>\n",
       "</div>"
      ],
      "text/plain": [
       "  BNLONG  ATTPCTG01 trend96_16  ATTPCTG02 trend96_16  ATTPCTG03 trend96_16  \\\n",
       "0   K001                0.3430                0.2110                0.1945   \n",
       "2   K003                0.2670                0.0255                0.0830   \n",
       "4   K005                0.3680                0.2385                0.2580   \n",
       "5   K006                0.3075                0.1520                0.1525   \n",
       "6   K007                0.2760                0.2560                0.2605   \n",
       "\n",
       "   ATTPCTG04 trend96_16  ATTPCTG05 trend96_16  ATTPCTKID trend96_16  \\\n",
       "0                0.2070                0.1375                0.1960   \n",
       "2                0.1700                0.2225               -0.0050   \n",
       "4                0.2880                0.4385                0.1570   \n",
       "5                0.2100                0.0880                0.2160   \n",
       "6                0.1755                0.2275                0.2315   \n",
       "\n",
       "   ATTPCTTOT trend96_16  CLSAVGG01 trend96_16  CLSAVGG02 trend96_16  \\\n",
       "0                0.2480             -0.019780             -0.220130   \n",
       "2                0.1015             -0.110000             -0.300000   \n",
       "4                0.2370             -0.991667             -0.683333   \n",
       "5                0.1910              0.385714             -0.400000   \n",
       "6                0.2280             -0.243750             -0.120000   \n",
       "\n",
       "      ...      ela5_decile std96_16     DBN               SCHNAM    BN  \\\n",
       "0     ...                  1.178511  15K001           PS1 BERGEN  K001   \n",
       "2     ...                  0.615699  13K003  THE BEDFORD VILLAGE  K003   \n",
       "4     ...                  2.205108  16K005               PS 005  K005   \n",
       "5     ...                  1.294786  17K006                 PS 6  K006   \n",
       "6     ...                  1.816590  19K007      ABRAHAM LINCOLN  K007   \n",
       "\n",
       "   RenewlSchl  Community_Sch  Closed   LCGSCHCAT         LCGSCHTYP  HSSCHSAMP2  \n",
       "0         0.0            0.0     0.0  ELEMENTARY  GENERAL ACADEMIC           7  \n",
       "2         0.0            0.0     0.0  ELEMENTARY  GENERAL ACADEMIC           7  \n",
       "4         0.0            0.0     0.0  ELEMENTARY  GENERAL ACADEMIC           7  \n",
       "5         0.0            0.0     0.0  ELEMENTARY  GENERAL ACADEMIC           7  \n",
       "6         0.0            0.0     0.0  ELEMENTARY  GENERAL ACADEMIC           7  \n",
       "\n",
       "[5 rows x 325 columns]"
      ]
     },
     "execution_count": 10,
     "metadata": {},
     "output_type": "execute_result"
    }
   ],
   "source": [
    "# CReate School DF\n",
    "Elemdf = df[df.LCGSCHCAT == 'ELEMENTARY']\n",
    "\n",
    "# Drop columns and rows with all Nulls\n",
    "Elemdf.dropna(axis=1, how='all', inplace=True)\n",
    "Elemdf.dropna(axis=0, how='all', inplace=True)\n",
    "\n",
    "# Drop columns from unnecessary data\n",
    "# Grades\n",
    "Grades = ['G06','G07','G08','G09','G10','G11','G12']\n",
    "for grd in Grades:\n",
    "    Elemdf = Elemdf[Elemdf.columns[~Elemdf.columns.str.contains(grd)]]\n",
    "\n",
    "# Other things\n",
    "Colsdrop = ['CBO']\n",
    "for cols in Colsdrop:\n",
    "    Elemdf = Elemdf[Elemdf.columns[~Elemdf.columns.str.contains(cols)]]\n",
    "    \n",
    "# Drop all values with more than 100 nulls\n",
    "for col in Elemdf.columns:\n",
    "    if Elemdf[col].isnull().sum() >= 100:\n",
    "        Elemdf.drop([col], axis=1, inplace=True)\n",
    "        \n",
    "print('Original Size: ' + str(Elemdf.shape[0]))\n",
    "        \n",
    "# Drop all Null values - does not reduce data set too much\n",
    "Elemdf.dropna(inplace=True)\n",
    "\n",
    "# Drop rows with ranges below 2 in any remaining field  and drop all range fields\n",
    "for i in Elemdf.columns[Elemdf.columns.str.contains('range')]:\n",
    "    Elemdf = Elemdf[~(Elemdf[i] < 2)]\n",
    "    Elemdf.drop([i], axis=1, inplace=True)\n",
    "\n",
    "print('Post Cleaning Size: ' + str(Elemdf.shape[0]))\n",
    "print('Number of Renewal Schools ' + str(Elemdf.RenewlSchl.sum()))\n",
    "print('Number of Community Schools ' + str(Elemdf.Community_Sch.sum()))\n",
    "print('Number of Closed Schools ' + str(Elemdf.Closed.sum()))\n",
    "\n",
    "# Preview\n",
    "Elemdf.head()"
   ]
  },
  {
   "cell_type": "markdown",
   "metadata": {},
   "source": [
    "# Define X for fitting\n",
    "#### Y's are specific columns that are being fit"
   ]
  },
  {
   "cell_type": "code",
   "execution_count": null,
   "metadata": {
    "collapsed": true
   },
   "outputs": [],
   "source": [
    "# Define X for each data set\n",
    "HighX = Highdf.loc[:,'BNLONG':'DBN'].drop(['BNLONG','DBN'], axis=1)\n",
    "MidX = Middf.loc[:,'BNLONG':'DBN'].drop(['BNLONG','DBN'], axis=1)\n",
    "ElemX = Elemdf.loc[:,'BNLONG':'DBN'].drop(['BNLONG','DBN'], axis=1)"
   ]
  },
  {
   "cell_type": "markdown",
   "metadata": {},
   "source": [
    "# Renewal Schools"
   ]
  },
  {
   "cell_type": "code",
   "execution_count": null,
   "metadata": {
    "collapsed": true
   },
   "outputs": [],
   "source": [
    "# Define Y for renewal\n",
    "HighY = Highdf.RenewlSchl\n",
    "MidY = Middf.RenewlSchl\n",
    "ElemY = Elemdf.RenewlSchl"
   ]
  },
  {
   "cell_type": "code",
   "execution_count": null,
   "metadata": {},
   "outputs": [],
   "source": [
    "tree_fits(HighX, HighY)"
   ]
  },
  {
   "cell_type": "code",
   "execution_count": null,
   "metadata": {},
   "outputs": [],
   "source": [
    "\n",
    "tree_fits(MidX, MidY)"
   ]
  },
  {
   "cell_type": "code",
   "execution_count": 15,
   "metadata": {},
   "outputs": [
    {
     "name": "stdout",
     "output_type": "stream",
     "text": [
      "Decision Tree Classifier Results: \n",
      "In sample accuracy: 1.0\n",
      "Out of sample accuracy: 0.973684210526\n",
      "\n",
      "\n",
      "Average precision-recall score: 0.02\n",
      "\n",
      "\n",
      "Random Forest Classifier Results: \n",
      "In sample accuracy: 1.0\n",
      "Out of sample accuracy: 0.978947368421\n",
      "\n",
      "\n",
      "Average precision-recall score: 0.02\n",
      "\n",
      "\n",
      "Extra Tree Classifier Results: \n",
      "In sample accuracy: 1.0\n",
      "Out of sample accuracy: 0.978947368421\n",
      "\n",
      "\n",
      "Average precision-recall score: 0.02\n"
     ]
    },
    {
     "data": {
      "image/png": "[encoded data removed]",
      "text/plain": [
       "<matplotlib.figure.Figure at 0x1c0e12a908>"
      ]
     },
     "metadata": {},
     "output_type": "display_data"
    }
   ],
   "source": [
    "\n",
    "tree_fits(ElemX, ElemY)"
   ]
  },
  {
   "cell_type": "markdown",
   "metadata": {},
   "source": [
    "## Tune hyperparameters for a RF + Feature Importances"
   ]
  },
  {
   "cell_type": "code",
   "execution_count": null,
   "metadata": {
    "collapsed": true
   },
   "outputs": [],
   "source": []
  },
  {
   "cell_type": "code",
   "execution_count": 41,
   "metadata": {},
   "outputs": [
    {
     "name": "stdout",
     "output_type": "stream",
     "text": [
      "11 367\n",
      "3 176\n",
      "7 624\n"
     ]
    }
   ],
   "source": [
    "# Down sampling of data\n",
    "print(Highdf[Highdf.RenewlSchl == 1].shape[0], Highdf[Highdf.RenewlSchl == 0].shape[0])\n",
    "print(Middf[Middf.RenewlSchl == 1].shape[0], Middf[Middf.RenewlSchl == 0].shape[0])\n",
    "print(Elemdf[Elemdf.RenewlSchl == 1].shape[0], Elemdf[Elemdf.RenewlSchl == 0].shape[0])\n"
   ]
  },
  {
   "cell_type": "markdown",
   "metadata": {},
   "source": [
    "*** Elementary schools ***"
   ]
  },
  {
   "cell_type": "code",
   "execution_count": 43,
   "metadata": {},
   "outputs": [
    {
     "name": "stdout",
     "output_type": "stream",
     "text": [
      "{'max_depth': 1, 'max_leaf_nodes': 4, 'min_samples_leaf': 4}\n",
      "ROC AUC:  0.965648854962\n"
     ]
    }
   ],
   "source": [
    "#y = elem['ENRNUMAFM_cluster']\n",
    "\n",
    "X_train,X_test,y_train,y_test=train_test_split(ElemX, ElemY, test_size=0.3, random_state=999,stratify=ElemY)\n",
    "X_train,X_val,y_train,y_val=train_test_split(X_train, y_train, test_size=0.3, random_state=111, stratify=y_train)\n",
    "\n",
    "X_train, y_train = class_upp_samp(X_train,y_train)\n",
    "\n",
    "hypertuner(X_train, y_train, X_val, y_val)"
   ]
  },
  {
   "cell_type": "code",
   "execution_count": 44,
   "metadata": {},
   "outputs": [
    {
     "name": "stdout",
     "output_type": "stream",
     "text": [
      "Random Forest Classifier Results: \n",
      "In sample accuracy: 0.995081967213\n",
      "Out of sample accuracy: 0.984210526316\n",
      "ROC Score:  0.970744680851\n"
     ]
    }
   ],
   "source": [
    "rf = RandomForestClassifier(n_jobs=-1,min_samples_leaf=4, max_depth=1, max_leaf_nodes=4)\n",
    "rf.fit(X_train, y_train)\n",
    "pred=rf.predict_proba(X_test)[:,1]\n",
    "\n",
    "print ('Random Forest Classifier Results: ')\n",
    "print ('In sample accuracy:',rf.score(X_train,y_train))\n",
    "\n",
    "# out of sample accuracy\n",
    "print ('Out of sample accuracy:',rf.score(X_test,y_test))\n",
    "print ('ROC Score: ', roc_auc_score(np.array(y_test),pred))"
   ]
  },
  {
   "cell_type": "code",
   "execution_count": 45,
   "metadata": {
    "scrolled": false
   },
   "outputs": [
    {
     "data": {
      "image/png": "[encoded data removed]",
      "text/plain": [
       "<matplotlib.figure.Figure at 0x1c0d16a978>"
      ]
     },
     "metadata": {},
     "output_type": "display_data"
    }
   ],
   "source": [
    "fet_imp = feat_imp(X_train, rf)"
   ]
  },
  {
   "cell_type": "code",
   "execution_count": 46,
   "metadata": {},
   "outputs": [
    {
     "data": {
      "text/html": [
       "<div>\n",
       "<style>\n",
       "    .dataframe thead tr:only-child th {\n",
       "        text-align: right;\n",
       "    }\n",
       "\n",
       "    .dataframe thead th {\n",
       "        text-align: left;\n",
       "    }\n",
       "\n",
       "    .dataframe tbody tr th {\n",
       "        vertical-align: top;\n",
       "    }\n",
       "</style>\n",
       "<table border=\"1\" class=\"dataframe\">\n",
       "  <thead>\n",
       "    <tr style=\"text-align: right;\">\n",
       "      <th></th>\n",
       "      <th>Variable</th>\n",
       "      <th>Importance</th>\n",
       "    </tr>\n",
       "  </thead>\n",
       "  <tbody>\n",
       "    <tr>\n",
       "      <th>206</th>\n",
       "      <td>STCMTHPCTL34G05 mean96_16</td>\n",
       "      <td>0.160178</td>\n",
       "    </tr>\n",
       "    <tr>\n",
       "      <th>204</th>\n",
       "      <td>STCMTHPCTL34G03 mean96_16</td>\n",
       "      <td>0.122241</td>\n",
       "    </tr>\n",
       "    <tr>\n",
       "      <th>209</th>\n",
       "      <td>ela5_decile mean96_16</td>\n",
       "      <td>0.088774</td>\n",
       "    </tr>\n",
       "    <tr>\n",
       "      <th>26</th>\n",
       "      <td>ENRNUMAFM trend96_16</td>\n",
       "      <td>0.082827</td>\n",
       "    </tr>\n",
       "    <tr>\n",
       "      <th>213</th>\n",
       "      <td>ATTPCTG04 std96_16</td>\n",
       "      <td>0.070782</td>\n",
       "    </tr>\n",
       "  </tbody>\n",
       "</table>\n",
       "</div>"
      ],
      "text/plain": [
       "                      Variable  Importance\n",
       "206  STCMTHPCTL34G05 mean96_16    0.160178\n",
       "204  STCMTHPCTL34G03 mean96_16    0.122241\n",
       "209      ela5_decile mean96_16    0.088774\n",
       "26        ENRNUMAFM trend96_16    0.082827\n",
       "213         ATTPCTG04 std96_16    0.070782"
      ]
     },
     "execution_count": 46,
     "metadata": {},
     "output_type": "execute_result"
    }
   ],
   "source": [
    "fet_imp.sort_values(by=['Importance'], ascending=False).iloc[:5]"
   ]
  },
  {
   "cell_type": "code",
   "execution_count": 47,
   "metadata": {
    "scrolled": true
   },
   "outputs": [
    {
     "data": {
      "image/png": "[encoded data removed]",
      "text/plain": [
       "<matplotlib.figure.Figure at 0x1c0dd92898>"
      ]
     },
     "metadata": {},
     "output_type": "display_data"
    }
   ],
   "source": [
    "mos_imp_feat(fet_imp, 218)"
   ]
  },
  {
   "cell_type": "markdown",
   "metadata": {},
   "source": [
    "*** Middle schools ***"
   ]
  },
  {
   "cell_type": "code",
   "execution_count": 53,
   "metadata": {},
   "outputs": [
    {
     "name": "stdout",
     "output_type": "stream",
     "text": [
      "{'max_depth': 1, 'max_leaf_nodes': 2, 'min_samples_leaf': 2}\n",
      "ROC AUC:  0.351351351351\n"
     ]
    }
   ],
   "source": [
    "#y = elem['ENRNUMAFM_cluster']\n",
    "\n",
    "X_train,X_test,y_train,y_test=train_test_split(MidX, MidY, test_size=0.3, random_state=999, stratify=MidY)\n",
    "X_train,X_val,y_train,y_val=train_test_split(X_train, y_train, test_size=0.3, random_state=111, stratify=y_train)\n",
    "\n",
    "X_train, y_train = class_upp_samp(X_train,y_train)\n",
    "\n",
    "hypertuner(X_train, y_train, X_val, y_val)"
   ]
  },
  {
   "cell_type": "code",
   "execution_count": 54,
   "metadata": {},
   "outputs": [
    {
     "name": "stdout",
     "output_type": "stream",
     "text": [
      "Random Forest Classifier Results: \n",
      "In sample accuracy: 1.0\n",
      "Out of sample accuracy: 0.981481481481\n",
      "ROC Score:  0.367924528302\n"
     ]
    }
   ],
   "source": [
    "rf = RandomForestClassifier(n_jobs=-1,min_samples_leaf=2, max_depth=1, max_leaf_nodes=2)\n",
    "rf.fit(X_train, y_train)\n",
    "pred=rf.predict_proba(X_test)[:,1]\n",
    "\n",
    "print ('Random Forest Classifier Results: ')\n",
    "print ('In sample accuracy:',rf.score(X_train,y_train))\n",
    "\n",
    "# out of sample accuracy\n",
    "print ('Out of sample accuracy:',rf.score(X_test,y_test))\n",
    "print ('ROC Score: ', roc_auc_score(np.array(y_test),pred))"
   ]
  },
  {
   "cell_type": "code",
   "execution_count": 55,
   "metadata": {
    "scrolled": false
   },
   "outputs": [
    {
     "data": {
      "image/png": "[encoded data removed]",
      "text/plain": [
       "<matplotlib.figure.Figure at 0x1c0f8b5c18>"
      ]
     },
     "metadata": {},
     "output_type": "display_data"
    }
   ],
   "source": [
    "fet_imp = feat_imp(X_train, rf)"
   ]
  },
  {
   "cell_type": "code",
   "execution_count": 51,
   "metadata": {
    "scrolled": false
   },
   "outputs": [
    {
     "data": {
      "text/html": [
       "<div>\n",
       "<style>\n",
       "    .dataframe thead tr:only-child th {\n",
       "        text-align: right;\n",
       "    }\n",
       "\n",
       "    .dataframe thead th {\n",
       "        text-align: left;\n",
       "    }\n",
       "\n",
       "    .dataframe tbody tr th {\n",
       "        vertical-align: top;\n",
       "    }\n",
       "</style>\n",
       "<table border=\"1\" class=\"dataframe\">\n",
       "  <thead>\n",
       "    <tr style=\"text-align: right;\">\n",
       "      <th></th>\n",
       "      <th>Variable</th>\n",
       "      <th>Importance</th>\n",
       "    </tr>\n",
       "  </thead>\n",
       "  <tbody>\n",
       "    <tr>\n",
       "      <th>218</th>\n",
       "      <td>ENRNUMG07pct std96_16</td>\n",
       "      <td>0.2</td>\n",
       "    </tr>\n",
       "    <tr>\n",
       "      <th>275</th>\n",
       "      <td>ela8_decile std96_16</td>\n",
       "      <td>0.1</td>\n",
       "    </tr>\n",
       "    <tr>\n",
       "      <th>48</th>\n",
       "      <td>ENRNUMPOVpct trend96_16</td>\n",
       "      <td>0.1</td>\n",
       "    </tr>\n",
       "    <tr>\n",
       "      <th>1</th>\n",
       "      <td>ATTPCTG07 trend96_16</td>\n",
       "      <td>0.1</td>\n",
       "    </tr>\n",
       "    <tr>\n",
       "      <th>146</th>\n",
       "      <td>MS_growth mean96_16</td>\n",
       "      <td>0.1</td>\n",
       "    </tr>\n",
       "  </tbody>\n",
       "</table>\n",
       "</div>"
      ],
      "text/plain": [
       "                    Variable  Importance\n",
       "218    ENRNUMG07pct std96_16         0.2\n",
       "275     ela8_decile std96_16         0.1\n",
       "48   ENRNUMPOVpct trend96_16         0.1\n",
       "1       ATTPCTG07 trend96_16         0.1\n",
       "146      MS_growth mean96_16         0.1"
      ]
     },
     "execution_count": 51,
     "metadata": {},
     "output_type": "execute_result"
    }
   ],
   "source": [
    "fet_imp.sort_values(by=['Importance'], ascending=False).iloc[:5]"
   ]
  },
  {
   "cell_type": "code",
   "execution_count": 52,
   "metadata": {
    "scrolled": true
   },
   "outputs": [
    {
     "data": {
      "image/png": "[encoded data removed]",
      "text/plain": [
       "<matplotlib.figure.Figure at 0x1c0d237fd0>"
      ]
     },
     "metadata": {},
     "output_type": "display_data"
    }
   ],
   "source": [
    "mos_imp_feat(fet_imp, 70)"
   ]
  },
  {
   "cell_type": "markdown",
   "metadata": {},
   "source": [
    "*** High Schools ***"
   ]
  },
  {
   "cell_type": "code",
   "execution_count": 56,
   "metadata": {},
   "outputs": [
    {
     "name": "stdout",
     "output_type": "stream",
     "text": [
      "{'max_depth': 3, 'max_leaf_nodes': 6, 'min_samples_leaf': 2}\n",
      "ROC AUC:  0.560897435897\n"
     ]
    }
   ],
   "source": [
    "#y = elem['ENRNUMAFM_cluster']\n",
    "\n",
    "X_train,X_test,y_train,y_test=train_test_split(HighX, HighY, test_size=0.3, random_state=999, stratify=HighY)\n",
    "X_train,X_val,y_train,y_val=train_test_split(X_train, y_train, test_size=0.3, random_state=111, stratify=y_train)\n",
    "\n",
    "X_train, y_train = class_upp_samp(X_train,y_train)\n",
    "\n",
    "hypertuner(X_train, y_train, X_val, y_val)"
   ]
  },
  {
   "cell_type": "code",
   "execution_count": 57,
   "metadata": {
    "scrolled": true
   },
   "outputs": [
    {
     "name": "stdout",
     "output_type": "stream",
     "text": [
      "Random Forest Classifier Results: \n",
      "In sample accuracy: 1.0\n",
      "Out of sample accuracy: 0.982456140351\n",
      "ROC Score:  0.86036036036\n"
     ]
    }
   ],
   "source": [
    "rf = RandomForestClassifier(n_jobs=-1,min_samples_leaf=2, \n",
    "                            max_depth=3, max_leaf_nodes=6)\n",
    "rf.fit(X_train, y_train)\n",
    "pred=rf.predict_proba(X_test)[:,1]\n",
    "\n",
    "print ('Random Forest Classifier Results: ')\n",
    "print ('In sample accuracy:',rf.score(X_train,y_train))\n",
    "\n",
    "# out of sample accuracy\n",
    "print ('Out of sample accuracy:',rf.score(X_test,y_test))\n",
    "print ('ROC Score: ', roc_auc_score(np.array(y_test),pred))"
   ]
  },
  {
   "cell_type": "code",
   "execution_count": 58,
   "metadata": {
    "scrolled": true
   },
   "outputs": [
    {
     "data": {
      "image/png": "[encoded data removed]",
      "text/plain": [
       "<matplotlib.figure.Figure at 0x10530d5f8>"
      ]
     },
     "metadata": {},
     "output_type": "display_data"
    }
   ],
   "source": [
    "fet_imp = feat_imp(X_train, rf)"
   ]
  },
  {
   "cell_type": "code",
   "execution_count": 59,
   "metadata": {
    "scrolled": false
   },
   "outputs": [
    {
     "data": {
      "text/html": [
       "<div>\n",
       "<style>\n",
       "    .dataframe thead tr:only-child th {\n",
       "        text-align: right;\n",
       "    }\n",
       "\n",
       "    .dataframe thead th {\n",
       "        text-align: left;\n",
       "    }\n",
       "\n",
       "    .dataframe tbody tr th {\n",
       "        vertical-align: top;\n",
       "    }\n",
       "</style>\n",
       "<table border=\"1\" class=\"dataframe\">\n",
       "  <thead>\n",
       "    <tr style=\"text-align: right;\">\n",
       "      <th></th>\n",
       "      <th>Variable</th>\n",
       "      <th>Importance</th>\n",
       "    </tr>\n",
       "  </thead>\n",
       "  <tbody>\n",
       "    <tr>\n",
       "      <th>16</th>\n",
       "      <td>ENRNUMASI trend96_16</td>\n",
       "      <td>0.113132</td>\n",
       "    </tr>\n",
       "    <tr>\n",
       "      <th>104</th>\n",
       "      <td>ENRNUMMALpct mean96_16</td>\n",
       "      <td>0.081380</td>\n",
       "    </tr>\n",
       "    <tr>\n",
       "      <th>18</th>\n",
       "      <td>ENRNUMFEM trend96_16</td>\n",
       "      <td>0.068617</td>\n",
       "    </tr>\n",
       "    <tr>\n",
       "      <th>113</th>\n",
       "      <td>HSOPCTHSGNYC mean96_16</td>\n",
       "      <td>0.052910</td>\n",
       "    </tr>\n",
       "    <tr>\n",
       "      <th>30</th>\n",
       "      <td>ENRNUMHIS trend96_16</td>\n",
       "      <td>0.047708</td>\n",
       "    </tr>\n",
       "  </tbody>\n",
       "</table>\n",
       "</div>"
      ],
      "text/plain": [
       "                   Variable  Importance\n",
       "16     ENRNUMASI trend96_16    0.113132\n",
       "104  ENRNUMMALpct mean96_16    0.081380\n",
       "18     ENRNUMFEM trend96_16    0.068617\n",
       "113  HSOPCTHSGNYC mean96_16    0.052910\n",
       "30     ENRNUMHIS trend96_16    0.047708"
      ]
     },
     "execution_count": 59,
     "metadata": {},
     "output_type": "execute_result"
    }
   ],
   "source": [
    "fet_imp.sort_values(by=['Importance'], ascending=False).iloc[:5]"
   ]
  },
  {
   "cell_type": "code",
   "execution_count": 60,
   "metadata": {
    "scrolled": false
   },
   "outputs": [
    {
     "data": {
      "image/png": "[encoded data removed]",
      "text/plain": [
       "<matplotlib.figure.Figure at 0x1c0d432860>"
      ]
     },
     "metadata": {},
     "output_type": "display_data"
    }
   ],
   "source": [
    "mos_imp_feat(fet_imp, 59)"
   ]
  },
  {
   "cell_type": "markdown",
   "metadata": {},
   "source": [
    "# Communtiy Schools"
   ]
  },
  {
   "cell_type": "code",
   "execution_count": 61,
   "metadata": {
    "collapsed": true
   },
   "outputs": [],
   "source": [
    "# Define Y for renewal\n",
    "HighY = Highdf.Community_Sch\n",
    "MidY = Middf.Community_Sch\n",
    "ElemY = Elemdf.Community_Sch"
   ]
  },
  {
   "cell_type": "markdown",
   "metadata": {},
   "source": [
    "### Preliminary Analysis"
   ]
  },
  {
   "cell_type": "code",
   "execution_count": 62,
   "metadata": {
    "collapsed": true
   },
   "outputs": [],
   "source": [
    "# Define X for each data set\n",
    "HighX = Highdf.loc[:,'BNLONG':'DBN'].drop(['BNLONG','DBN'], axis=1)\n",
    "MidX = Middf.loc[:,'BNLONG':'DBN'].drop(['BNLONG','DBN'], axis=1)\n",
    "ElemX = Elemdf.loc[:,'BNLONG':'DBN'].drop(['BNLONG','DBN'], axis=1)"
   ]
  },
  {
   "cell_type": "code",
   "execution_count": 63,
   "metadata": {
    "collapsed": true
   },
   "outputs": [
    {
     "name": "stdout",
     "output_type": "stream",
     "text": [
      "High\n",
      "Decision Tree Classifier Results: \n",
      "In sample accuracy: 1.0\n",
      "Out of sample accuracy: 0.69298245614\n",
      "\n",
      "\n",
      "Average precision-recall score: 0.14\n",
      "\n",
      "\n",
      "Random Forest Classifier Results: \n",
      "In sample accuracy: 0.988636363636\n",
      "Out of sample accuracy: 0.859649122807\n",
      "\n",
      "\n",
      "Average precision-recall score: 0.14\n",
      "\n",
      "\n",
      "Extra Tree Classifier Results: \n",
      "In sample accuracy: 1.0\n",
      "Out of sample accuracy: 0.719298245614\n",
      "\n",
      "\n",
      "Average precision-recall score: 0.13\n",
      "Middle\n",
      "Decision Tree Classifier Results: \n",
      "In sample accuracy: 1.0\n",
      "Out of sample accuracy: 0.592592592593\n",
      "\n",
      "\n",
      "Average precision-recall score: 0.23\n",
      "\n",
      "\n",
      "Random Forest Classifier Results: \n",
      "In sample accuracy: 0.968\n",
      "Out of sample accuracy: 0.759259259259\n",
      "\n",
      "\n",
      "Average precision-recall score: 0.21\n",
      "\n",
      "\n",
      "Extra Tree Classifier Results: \n",
      "In sample accuracy: 1.0\n",
      "Out of sample accuracy: 0.685185185185\n",
      "\n",
      "\n",
      "Average precision-recall score: 0.23\n",
      "Elem\n",
      "Decision Tree Classifier Results: \n",
      "In sample accuracy: 1.0\n",
      "Out of sample accuracy: 0.778947368421\n",
      "\n",
      "\n",
      "Average precision-recall score: 0.13\n",
      "\n",
      "\n",
      "Random Forest Classifier Results: \n",
      "In sample accuracy: 0.984126984127\n",
      "Out of sample accuracy: 0.868421052632\n",
      "\n",
      "\n",
      "Average precision-recall score: 0.09\n",
      "\n",
      "\n",
      "Extra Tree Classifier Results: \n",
      "In sample accuracy: 1.0\n",
      "Out of sample accuracy: 0.794736842105\n",
      "\n",
      "\n",
      "Average precision-recall score: 0.11\n"
     ]
    },
    {
     "data": {
      "image/png": "[encoded data removed]",
      "text/plain": [
       "<matplotlib.figure.Figure at 0x1058e08d0>"
      ]
     },
     "metadata": {},
     "output_type": "display_data"
    },
    {
     "data": {
      "image/png": "[encoded data removed]",
      "text/plain": [
       "<matplotlib.figure.Figure at 0x1c0d35cd30>"
      ]
     },
     "metadata": {},
     "output_type": "display_data"
    },
    {
     "data": {
      "image/png": "[encoded data removed]",
      "text/plain": [
       "<matplotlib.figure.Figure at 0x1c0e1b0128>"
      ]
     },
     "metadata": {},
     "output_type": "display_data"
    }
   ],
   "source": [
    "print(\"High\")\n",
    "\n",
    "tree_fits(HighX, HighY)\n",
    "print(\"Middle\")\n",
    "\n",
    "tree_fits(MidX, MidY)\n",
    "print(\"Elem\")\n",
    "\n",
    "tree_fits(ElemX, ElemY)"
   ]
  },
  {
   "cell_type": "markdown",
   "metadata": {},
   "source": [
    "### Understand Data Mixes\n",
    "(True, False)"
   ]
  },
  {
   "cell_type": "code",
   "execution_count": 64,
   "metadata": {},
   "outputs": [
    {
     "name": "stdout",
     "output_type": "stream",
     "text": [
      "True False\n",
      "63 315\n",
      "48 131\n",
      "73 558\n"
     ]
    }
   ],
   "source": [
    "# Down sampling of data\n",
    "print(True, False)\n",
    "print(Highdf[Highdf.Community_Sch == 1].shape[0], Highdf[Highdf.Community_Sch == 0].shape[0])\n",
    "print(Middf[Middf.Community_Sch == 1].shape[0], Middf[Middf.Community_Sch == 0].shape[0])\n",
    "print(Elemdf[Elemdf.Community_Sch == 1].shape[0], Elemdf[Elemdf.Community_Sch == 0].shape[0])"
   ]
  },
  {
   "cell_type": "markdown",
   "metadata": {},
   "source": [
    "*** Elementary schools ***"
   ]
  },
  {
   "cell_type": "code",
   "execution_count": 65,
   "metadata": {},
   "outputs": [
    {
     "name": "stdout",
     "output_type": "stream",
     "text": [
      "{'max_depth': 13, 'max_leaf_nodes': 18, 'min_samples_leaf': 2}\n",
      "ROC AUC:  0.497740112994\n"
     ]
    }
   ],
   "source": [
    "#y = elem['ENRNUMAFM_cluster']\n",
    "\n",
    "X_train,X_test,y_train,y_test=train_test_split(ElemX, ElemY, test_size=0.3, random_state=999, stratify=ElemY)\n",
    "X_train,X_val,y_train,y_val=train_test_split(X_train, y_train, test_size=0.3, random_state=111, stratify=y_train)\n",
    "\n",
    "X_train, y_train = class_upp_samp(X_train,y_train)\n",
    "\n",
    "hypertuner(X_train, y_train, X_val, y_val)"
   ]
  },
  {
   "cell_type": "code",
   "execution_count": null,
   "metadata": {
    "collapsed": true,
    "scrolled": true
   },
   "outputs": [],
   "source": []
  },
  {
   "cell_type": "code",
   "execution_count": 66,
   "metadata": {},
   "outputs": [
    {
     "name": "stdout",
     "output_type": "stream",
     "text": [
      "Random Forest Classifier Results: \n",
      "In sample accuracy: 0.994485294118\n",
      "Out of sample accuracy: 0.863157894737\n",
      "ROC Score:  0.777191558442\n"
     ]
    }
   ],
   "source": [
    "rf = RandomForestClassifier(n_jobs=-1,min_samples_leaf=2, \n",
    "                            max_depth=13, max_leaf_nodes=18)\n",
    "rf.fit(X_train, y_train)\n",
    "pred=rf.predict_proba(X_test)[:,1]\n",
    "\n",
    "print ('Random Forest Classifier Results: ')\n",
    "print ('In sample accuracy:',rf.score(X_train,y_train))\n",
    "\n",
    "# out of sample accuracy\n",
    "print ('Out of sample accuracy:',rf.score(X_test,y_test))\n",
    "print ('ROC Score: ', roc_auc_score(np.array(y_test),pred))"
   ]
  },
  {
   "cell_type": "code",
   "execution_count": 67,
   "metadata": {
    "scrolled": false
   },
   "outputs": [
    {
     "data": {
      "image/png": "[encoded data removed]",
      "text/plain": [
       "<matplotlib.figure.Figure at 0x1c0d3f18d0>"
      ]
     },
     "metadata": {},
     "output_type": "display_data"
    }
   ],
   "source": [
    "fet_imp = feat_imp(X_train, rf)"
   ]
  },
  {
   "cell_type": "code",
   "execution_count": 68,
   "metadata": {},
   "outputs": [
    {
     "data": {
      "text/html": [
       "<div>\n",
       "<style>\n",
       "    .dataframe thead tr:only-child th {\n",
       "        text-align: right;\n",
       "    }\n",
       "\n",
       "    .dataframe thead th {\n",
       "        text-align: left;\n",
       "    }\n",
       "\n",
       "    .dataframe tbody tr th {\n",
       "        vertical-align: top;\n",
       "    }\n",
       "</style>\n",
       "<table border=\"1\" class=\"dataframe\">\n",
       "  <thead>\n",
       "    <tr style=\"text-align: right;\">\n",
       "      <th></th>\n",
       "      <th>Variable</th>\n",
       "      <th>Importance</th>\n",
       "    </tr>\n",
       "  </thead>\n",
       "  <tbody>\n",
       "    <tr>\n",
       "      <th>209</th>\n",
       "      <td>ela5_decile mean96_16</td>\n",
       "      <td>0.065205</td>\n",
       "    </tr>\n",
       "    <tr>\n",
       "      <th>191</th>\n",
       "      <td>PPEXPTOTLSV750 mean96_16</td>\n",
       "      <td>0.054745</td>\n",
       "    </tr>\n",
       "    <tr>\n",
       "      <th>105</th>\n",
       "      <td>ATTPCTG01 mean96_16</td>\n",
       "      <td>0.041736</td>\n",
       "    </tr>\n",
       "    <tr>\n",
       "      <th>205</th>\n",
       "      <td>STCMTHPCTL34G04 mean96_16</td>\n",
       "      <td>0.039227</td>\n",
       "    </tr>\n",
       "    <tr>\n",
       "      <th>181</th>\n",
       "      <td>PPEXPTOTLGR452 mean96_16</td>\n",
       "      <td>0.034402</td>\n",
       "    </tr>\n",
       "  </tbody>\n",
       "</table>\n",
       "</div>"
      ],
      "text/plain": [
       "                      Variable  Importance\n",
       "209      ela5_decile mean96_16    0.065205\n",
       "191   PPEXPTOTLSV750 mean96_16    0.054745\n",
       "105        ATTPCTG01 mean96_16    0.041736\n",
       "205  STCMTHPCTL34G04 mean96_16    0.039227\n",
       "181   PPEXPTOTLGR452 mean96_16    0.034402"
      ]
     },
     "execution_count": 68,
     "metadata": {},
     "output_type": "execute_result"
    }
   ],
   "source": [
    "fet_imp.sort_values(by=['Importance'], ascending=False).iloc[:5]"
   ]
  },
  {
   "cell_type": "code",
   "execution_count": null,
   "metadata": {
    "scrolled": true
   },
   "outputs": [],
   "source": [
    "mos_imp_feat(fet_imp, 281)"
   ]
  },
  {
   "cell_type": "markdown",
   "metadata": {},
   "source": [
    "*** Middle schools ***"
   ]
  },
  {
   "cell_type": "code",
   "execution_count": 69,
   "metadata": {},
   "outputs": [
    {
     "name": "stdout",
     "output_type": "stream",
     "text": [
      "{'max_depth': 9, 'max_leaf_nodes': 12, 'min_samples_leaf': 2}\n",
      "ROC AUC:  0.853571428571\n"
     ]
    }
   ],
   "source": [
    "#y = elem['ENRNUMAFM_cluster']\n",
    "\n",
    "X_train,X_test,y_train,y_test=train_test_split(MidX, MidY, test_size=0.3, random_state=999, stratify=MidY)\n",
    "X_train,X_val,y_train,y_val=train_test_split(X_train, y_train, test_size=0.3, random_state=111, stratify=y_train)\n",
    "\n",
    "X_train, y_train = class_upp_samp(X_train,y_train)\n",
    "\n",
    "hypertuner(X_train, y_train, X_val, y_val)"
   ]
  },
  {
   "cell_type": "code",
   "execution_count": 70,
   "metadata": {},
   "outputs": [
    {
     "name": "stdout",
     "output_type": "stream",
     "text": [
      "Random Forest Classifier Results: \n",
      "In sample accuracy: 1.0\n",
      "Out of sample accuracy: 0.648148148148\n",
      "ROC Score:  0.591964285714\n"
     ]
    }
   ],
   "source": [
    "rf = RandomForestClassifier(n_jobs=-1,min_samples_leaf=2, \n",
    "                            max_depth=9, max_leaf_nodes=12)\n",
    "rf.fit(X_train, y_train)\n",
    "pred=rf.predict_proba(X_test)[:,1]\n",
    "\n",
    "print ('Random Forest Classifier Results: ')\n",
    "print ('In sample accuracy:',rf.score(X_train,y_train))\n",
    "\n",
    "# out of sample accuracy\n",
    "print ('Out of sample accuracy:',rf.score(X_test,y_test))\n",
    "print ('ROC Score: ', roc_auc_score(np.array(y_test),pred))"
   ]
  },
  {
   "cell_type": "code",
   "execution_count": 71,
   "metadata": {
    "scrolled": false
   },
   "outputs": [
    {
     "data": {
      "image/png": "[encoded data removed]",
      "text/plain": [
       "<matplotlib.figure.Figure at 0x1c0ddec978>"
      ]
     },
     "metadata": {},
     "output_type": "display_data"
    }
   ],
   "source": [
    "fet_imp = feat_imp(X_train, rf)"
   ]
  },
  {
   "cell_type": "code",
   "execution_count": 72,
   "metadata": {
    "scrolled": false
   },
   "outputs": [
    {
     "data": {
      "text/html": [
       "<div>\n",
       "<style>\n",
       "    .dataframe thead tr:only-child th {\n",
       "        text-align: right;\n",
       "    }\n",
       "\n",
       "    .dataframe thead th {\n",
       "        text-align: left;\n",
       "    }\n",
       "\n",
       "    .dataframe tbody tr th {\n",
       "        vertical-align: top;\n",
       "    }\n",
       "</style>\n",
       "<table border=\"1\" class=\"dataframe\">\n",
       "  <thead>\n",
       "    <tr style=\"text-align: right;\">\n",
       "      <th></th>\n",
       "      <th>Variable</th>\n",
       "      <th>Importance</th>\n",
       "    </tr>\n",
       "  </thead>\n",
       "  <tbody>\n",
       "    <tr>\n",
       "      <th>15</th>\n",
       "      <td>CLSNUMGEN trend96_16</td>\n",
       "      <td>0.055825</td>\n",
       "    </tr>\n",
       "    <tr>\n",
       "      <th>224</th>\n",
       "      <td>ENRNUMHISpct std96_16</td>\n",
       "      <td>0.039902</td>\n",
       "    </tr>\n",
       "    <tr>\n",
       "      <th>190</th>\n",
       "      <td>CCDNUMFTE std96_16</td>\n",
       "      <td>0.038360</td>\n",
       "    </tr>\n",
       "    <tr>\n",
       "      <th>35</th>\n",
       "      <td>ENRNUMG08 trend96_16</td>\n",
       "      <td>0.034023</td>\n",
       "    </tr>\n",
       "    <tr>\n",
       "      <th>39</th>\n",
       "      <td>ENRNUMHIS trend96_16</td>\n",
       "      <td>0.027618</td>\n",
       "    </tr>\n",
       "  </tbody>\n",
       "</table>\n",
       "</div>"
      ],
      "text/plain": [
       "                  Variable  Importance\n",
       "15    CLSNUMGEN trend96_16    0.055825\n",
       "224  ENRNUMHISpct std96_16    0.039902\n",
       "190     CCDNUMFTE std96_16    0.038360\n",
       "35    ENRNUMG08 trend96_16    0.034023\n",
       "39    ENRNUMHIS trend96_16    0.027618"
      ]
     },
     "execution_count": 72,
     "metadata": {},
     "output_type": "execute_result"
    }
   ],
   "source": [
    "fet_imp.sort_values(by=['Importance'], ascending=False).iloc[:5]"
   ]
  },
  {
   "cell_type": "code",
   "execution_count": 74,
   "metadata": {
    "scrolled": true
   },
   "outputs": [
    {
     "data": {
      "image/png": "[encoded data removed]",
      "text/plain": [
       "<matplotlib.figure.Figure at 0x1c0e163748>"
      ]
     },
     "metadata": {},
     "output_type": "display_data"
    }
   ],
   "source": [
    "mos_imp_feat(fet_imp, 139)"
   ]
  },
  {
   "cell_type": "markdown",
   "metadata": {},
   "source": [
    "*** High Schools ***"
   ]
  },
  {
   "cell_type": "code",
   "execution_count": 73,
   "metadata": {},
   "outputs": [
    {
     "name": "stdout",
     "output_type": "stream",
     "text": [
      "{'max_depth': 17, 'max_leaf_nodes': 16, 'min_samples_leaf': 2}\n",
      "ROC AUC:  0.746268656716\n"
     ]
    }
   ],
   "source": [
    "#y = elem['ENRNUMAFM_cluster']\n",
    "\n",
    "X_train,X_test,y_train,y_test=train_test_split(HighX, HighY, test_size=0.3, random_state=999, stratify=HighY)\n",
    "X_train,X_val,y_train,y_val=train_test_split(X_train, y_train, test_size=0.3, random_state=111, stratify=y_train)\n",
    "\n",
    "X_train, y_train = class_upp_samp(X_train,y_train)\n",
    "\n",
    "hypertuner(X_train, y_train, X_val, y_val)"
   ]
  },
  {
   "cell_type": "code",
   "execution_count": 75,
   "metadata": {
    "scrolled": true
   },
   "outputs": [
    {
     "name": "stdout",
     "output_type": "stream",
     "text": [
      "Random Forest Classifier Results: \n",
      "In sample accuracy: 0.996732026144\n",
      "Out of sample accuracy: 0.789473684211\n",
      "ROC Score:  0.609141274238\n"
     ]
    }
   ],
   "source": [
    "rf = RandomForestClassifier(n_jobs=-1,min_samples_leaf=2, \n",
    "                            max_depth=17, max_leaf_nodes=16)\n",
    "rf.fit(X_train, y_train)\n",
    "pred=rf.predict_proba(X_test)[:,1]\n",
    "\n",
    "print ('Random Forest Classifier Results: ')\n",
    "print ('In sample accuracy:',rf.score(X_train,y_train))\n",
    "\n",
    "# out of sample accuracy\n",
    "print ('Out of sample accuracy:',rf.score(X_test,y_test))\n",
    "print ('ROC Score: ', roc_auc_score(np.array(y_test),pred))"
   ]
  },
  {
   "cell_type": "code",
   "execution_count": 76,
   "metadata": {
    "scrolled": false
   },
   "outputs": [
    {
     "data": {
      "image/png": "[encoded data removed]",
      "text/plain": [
       "<matplotlib.figure.Figure at 0x1c0dd82710>"
      ]
     },
     "metadata": {},
     "output_type": "display_data"
    }
   ],
   "source": [
    "fet_imp = feat_imp(X_train, rf)"
   ]
  },
  {
   "cell_type": "code",
   "execution_count": 77,
   "metadata": {
    "scrolled": false
   },
   "outputs": [
    {
     "data": {
      "text/html": [
       "<div>\n",
       "<style>\n",
       "    .dataframe thead tr:only-child th {\n",
       "        text-align: right;\n",
       "    }\n",
       "\n",
       "    .dataframe thead th {\n",
       "        text-align: left;\n",
       "    }\n",
       "\n",
       "    .dataframe tbody tr th {\n",
       "        vertical-align: top;\n",
       "    }\n",
       "</style>\n",
       "<table border=\"1\" class=\"dataframe\">\n",
       "  <thead>\n",
       "    <tr style=\"text-align: right;\">\n",
       "      <th></th>\n",
       "      <th>Variable</th>\n",
       "      <th>Importance</th>\n",
       "    </tr>\n",
       "  </thead>\n",
       "  <tbody>\n",
       "    <tr>\n",
       "      <th>192</th>\n",
       "      <td>PPEXPTOTLSV100 std96_16</td>\n",
       "      <td>0.040389</td>\n",
       "    </tr>\n",
       "    <tr>\n",
       "      <th>196</th>\n",
       "      <td>PPEXPTOTLSV600 std96_16</td>\n",
       "      <td>0.035131</td>\n",
       "    </tr>\n",
       "    <tr>\n",
       "      <th>44</th>\n",
       "      <td>PPEXPTOTLFN100 trend96_16</td>\n",
       "      <td>0.034966</td>\n",
       "    </tr>\n",
       "    <tr>\n",
       "      <th>185</th>\n",
       "      <td>PPEXPTOTL std96_16</td>\n",
       "      <td>0.034496</td>\n",
       "    </tr>\n",
       "    <tr>\n",
       "      <th>132</th>\n",
       "      <td>PPEXPTOTLSV735 mean96_16</td>\n",
       "      <td>0.023337</td>\n",
       "    </tr>\n",
       "  </tbody>\n",
       "</table>\n",
       "</div>"
      ],
      "text/plain": [
       "                      Variable  Importance\n",
       "192    PPEXPTOTLSV100 std96_16    0.040389\n",
       "196    PPEXPTOTLSV600 std96_16    0.035131\n",
       "44   PPEXPTOTLFN100 trend96_16    0.034966\n",
       "185         PPEXPTOTL std96_16    0.034496\n",
       "132   PPEXPTOTLSV735 mean96_16    0.023337"
      ]
     },
     "execution_count": 77,
     "metadata": {},
     "output_type": "execute_result"
    }
   ],
   "source": [
    "fet_imp.sort_values(by=['Importance'], ascending=False).iloc[:5]"
   ]
  },
  {
   "cell_type": "code",
   "execution_count": null,
   "metadata": {
    "scrolled": false
   },
   "outputs": [],
   "source": [
    "mos_imp_feat(fet_imp, 43)"
   ]
  },
  {
   "cell_type": "markdown",
   "metadata": {},
   "source": [
    "# Closed Schools"
   ]
  },
  {
   "cell_type": "code",
   "execution_count": 78,
   "metadata": {
    "collapsed": true
   },
   "outputs": [],
   "source": [
    "# Define Y for renewal\n",
    "HighY = Highdf.Closed\n",
    "MidY = Middf.Closed\n",
    "ElemY = Elemdf.Closed"
   ]
  },
  {
   "cell_type": "markdown",
   "metadata": {},
   "source": [
    "### Preliminary Analysis"
   ]
  },
  {
   "cell_type": "code",
   "execution_count": 79,
   "metadata": {
    "collapsed": true
   },
   "outputs": [],
   "source": [
    "# Define X for each data set\n",
    "HighX = Highdf.loc[:,'BNLONG':'DBN'].drop(['BNLONG','DBN'], axis=1)\n",
    "MidX = Middf.loc[:,'BNLONG':'DBN'].drop(['BNLONG','DBN'], axis=1)\n",
    "ElemX = Elemdf.loc[:,'BNLONG':'DBN'].drop(['BNLONG','DBN'], axis=1)"
   ]
  },
  {
   "cell_type": "code",
   "execution_count": 80,
   "metadata": {},
   "outputs": [
    {
     "name": "stdout",
     "output_type": "stream",
     "text": [
      "Decision Tree Classifier Results: \n",
      "In sample accuracy: 1.0\n",
      "Out of sample accuracy: 0.964912280702\n",
      "\n",
      "\n",
      "Average precision-recall score: 0.09\n",
      "\n",
      "\n",
      "Random Forest Classifier Results: \n",
      "In sample accuracy: 0.996212121212\n",
      "Out of sample accuracy: 0.982456140351\n",
      "\n",
      "\n",
      "Average precision-recall score: 0.07\n",
      "\n",
      "\n",
      "Extra Tree Classifier Results: \n",
      "In sample accuracy: 1.0\n",
      "Out of sample accuracy: 0.929824561404\n",
      "\n",
      "\n",
      "Average precision-recall score: 0.08\n"
     ]
    },
    {
     "data": {
      "image/png": "[encoded data removed]",
      "text/plain": [
       "<matplotlib.figure.Figure at 0x1c0dfaac18>"
      ]
     },
     "metadata": {},
     "output_type": "display_data"
    }
   ],
   "source": [
    "#HighX, HighY = class_upp_samp(HighX, HighY)\n",
    "tree_fits(HighX, HighY)"
   ]
  },
  {
   "cell_type": "code",
   "execution_count": null,
   "metadata": {
    "collapsed": true
   },
   "outputs": [],
   "source": []
  },
  {
   "cell_type": "markdown",
   "metadata": {},
   "source": [
    "### Understand Data Mixes\n",
    "(True, False)"
   ]
  },
  {
   "cell_type": "code",
   "execution_count": 81,
   "metadata": {},
   "outputs": [
    {
     "name": "stdout",
     "output_type": "stream",
     "text": [
      "True False\n",
      "51 327\n",
      "0 179\n",
      "0 631\n"
     ]
    }
   ],
   "source": [
    "# Down sampling of data\n",
    "print(True, False)\n",
    "print(Highdf[Highdf.Closed == 1].shape[0], Highdf[Highdf.Closed == 0].shape[0])\n",
    "print(Middf[Middf.Closed == 1].shape[0], Middf[Middf.Closed == 0].shape[0])\n",
    "print(Elemdf[Elemdf.Closed == 1].shape[0], Elemdf[Elemdf.Closed == 0].shape[0])"
   ]
  },
  {
   "cell_type": "markdown",
   "metadata": {},
   "source": [
    "No point running Elem and Mid - No CLosed Schools"
   ]
  },
  {
   "cell_type": "markdown",
   "metadata": {},
   "source": [
    "*** High Schools ***"
   ]
  },
  {
   "cell_type": "code",
   "execution_count": 82,
   "metadata": {},
   "outputs": [
    {
     "name": "stdout",
     "output_type": "stream",
     "text": [
      "{'max_depth': 13, 'max_leaf_nodes': 10, 'min_samples_leaf': 2}\n",
      "ROC AUC:  0.986824769433\n"
     ]
    }
   ],
   "source": [
    "#y = elem['ENRNUMAFM_cluster']\n",
    "\n",
    "X_train,X_test,y_train,y_test=train_test_split(HighX, HighY, \n",
    "                                               test_size=0.3, \n",
    "                                               random_state=999, \n",
    "                                              stratify=HighY)\n",
    "X_train,X_val,y_train,y_val=train_test_split(X_train, y_train, \n",
    "                                             test_size=0.3, \n",
    "                                             random_state=111,\n",
    "                                            stratify=y_train)\n",
    "\n",
    "X_train, y_train = class_upp_samp(X_train,y_train)\n",
    "\n",
    "hypertuner(X_train, y_train, X_val, y_val)"
   ]
  },
  {
   "cell_type": "code",
   "execution_count": 83,
   "metadata": {
    "scrolled": true
   },
   "outputs": [
    {
     "name": "stdout",
     "output_type": "stream",
     "text": [
      "Random Forest Classifier Results: \n",
      "In sample accuracy: 1.0\n",
      "Out of sample accuracy: 0.991228070175\n",
      "ROC Score:  0.998653198653\n"
     ]
    }
   ],
   "source": [
    "rf = RandomForestClassifier(n_jobs=-1,min_samples_leaf=2, \n",
    "                            max_depth=13, max_leaf_nodes=10)\n",
    "rf.fit(X_train, y_train)\n",
    "pred=rf.predict_proba(X_test)[:,1]\n",
    "\n",
    "print ('Random Forest Classifier Results: ')\n",
    "print ('In sample accuracy:',rf.score(X_train,y_train))\n",
    "\n",
    "# out of sample accuracy\n",
    "print ('Out of sample accuracy:',rf.score(X_test,y_test))\n",
    "print ('ROC Score: ', roc_auc_score(np.array(y_test),pred))"
   ]
  },
  {
   "cell_type": "code",
   "execution_count": 84,
   "metadata": {
    "scrolled": false
   },
   "outputs": [
    {
     "data": {
      "image/png": "[encoded data removed]",
      "text/plain": [
       "<matplotlib.figure.Figure at 0x1c0d346e48>"
      ]
     },
     "metadata": {},
     "output_type": "display_data"
    }
   ],
   "source": [
    "fet_imp = feat_imp(X_train, rf)"
   ]
  },
  {
   "cell_type": "code",
   "execution_count": 85,
   "metadata": {
    "scrolled": false
   },
   "outputs": [
    {
     "data": {
      "text/html": [
       "<div>\n",
       "<style>\n",
       "    .dataframe thead tr:only-child th {\n",
       "        text-align: right;\n",
       "    }\n",
       "\n",
       "    .dataframe thead th {\n",
       "        text-align: left;\n",
       "    }\n",
       "\n",
       "    .dataframe tbody tr th {\n",
       "        vertical-align: top;\n",
       "    }\n",
       "</style>\n",
       "<table border=\"1\" class=\"dataframe\">\n",
       "  <thead>\n",
       "    <tr style=\"text-align: right;\">\n",
       "      <th></th>\n",
       "      <th>Variable</th>\n",
       "      <th>Importance</th>\n",
       "    </tr>\n",
       "  </thead>\n",
       "  <tbody>\n",
       "    <tr>\n",
       "      <th>42</th>\n",
       "      <td>PPEXPPERS trend96_16</td>\n",
       "      <td>0.176657</td>\n",
       "    </tr>\n",
       "    <tr>\n",
       "      <th>43</th>\n",
       "      <td>PPEXPTOTL trend96_16</td>\n",
       "      <td>0.119826</td>\n",
       "    </tr>\n",
       "    <tr>\n",
       "      <th>185</th>\n",
       "      <td>PPEXPTOTL std96_16</td>\n",
       "      <td>0.096361</td>\n",
       "    </tr>\n",
       "    <tr>\n",
       "      <th>184</th>\n",
       "      <td>PPEXPPERS std96_16</td>\n",
       "      <td>0.087485</td>\n",
       "    </tr>\n",
       "    <tr>\n",
       "      <th>72</th>\n",
       "      <td>ATTPCTTOT mean96_16</td>\n",
       "      <td>0.076560</td>\n",
       "    </tr>\n",
       "  </tbody>\n",
       "</table>\n",
       "</div>"
      ],
      "text/plain": [
       "                 Variable  Importance\n",
       "42   PPEXPPERS trend96_16    0.176657\n",
       "43   PPEXPTOTL trend96_16    0.119826\n",
       "185    PPEXPTOTL std96_16    0.096361\n",
       "184    PPEXPPERS std96_16    0.087485\n",
       "72    ATTPCTTOT mean96_16    0.076560"
      ]
     },
     "execution_count": 85,
     "metadata": {},
     "output_type": "execute_result"
    }
   ],
   "source": [
    "fet_imp.sort_values(by=['Importance'], ascending=False).iloc[:5]"
   ]
  },
  {
   "cell_type": "code",
   "execution_count": 86,
   "metadata": {
    "scrolled": false
   },
   "outputs": [
    {
     "data": {
      "image/png": "[encoded data removed]",
      "text/plain": [
       "<matplotlib.figure.Figure at 0x1c18c0be48>"
      ]
     },
     "metadata": {},
     "output_type": "display_data"
    }
   ],
   "source": [
    "mos_imp_feat(fet_imp, 133)"
   ]
  },
  {
   "cell_type": "code",
   "execution_count": null,
   "metadata": {
    "collapsed": true
   },
   "outputs": [],
   "source": []
  }
 ],
 "metadata": {
  "kernelspec": {
   "display_name": "Python 3",
   "language": "python",
   "name": "python3"
  },
  "language_info": {
   "codemirror_mode": {
    "name": "ipython",
    "version": 3
   },
   "file_extension": ".py",
   "mimetype": "text/x-python",
   "name": "python",
   "nbconvert_exporter": "python",
   "pygments_lexer": "ipython3",
   "version": "3.6.2"
  }
 },
 "nbformat": 4,
 "nbformat_minor": 2
}
