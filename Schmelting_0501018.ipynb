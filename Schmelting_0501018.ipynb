{
 "cells": [
  {
   "cell_type": "code",
   "execution_count": 1,
   "metadata": {},
   "outputs": [
    {
     "name": "stdout",
     "output_type": "stream",
     "text": [
      "Populating the interactive namespace from numpy and matplotlib\n"
     ]
    },
    {
     "name": "stderr",
     "output_type": "stream",
     "text": [
      "/Users/baileygriswold/anaconda3/lib/python3.6/site-packages/IPython/core/magics/pylab.py:160: UserWarning: pylab import has clobbered these variables: ['plt']\n",
      "`%matplotlib` prevents importing * from pylab and numpy\n",
      "  \"\\n`%matplotlib` prevents importing * from pylab and numpy\"\n"
     ]
    }
   ],
   "source": [
    "import pandas as pd\n",
    "import numpy as np\n",
    "import matplotlib as plt\n",
    "import pylab as pl\n",
    "%pylab inline"
   ]
  },
  {
   "cell_type": "code",
   "execution_count": 2,
   "metadata": {},
   "outputs": [
    {
     "name": "stderr",
     "output_type": "stream",
     "text": [
      "/Users/baileygriswold/anaconda3/lib/python3.6/site-packages/IPython/core/interactiveshell.py:2698: DtypeWarning: Columns (124,125,126,148,149,150,183,220,221,222,226,227,230,231,232,234,235,247) have mixed types. Specify dtype option on import or set low_memory=False.\n",
      "  interactivity=interactivity, compiler=compiler, result=result)\n"
     ]
    },
    {
     "data": {
      "text/html": [
       "<div>\n",
       "<style>\n",
       "    .dataframe thead tr:only-child th {\n",
       "        text-align: right;\n",
       "    }\n",
       "\n",
       "    .dataframe thead th {\n",
       "        text-align: left;\n",
       "    }\n",
       "\n",
       "    .dataframe tbody tr th {\n",
       "        vertical-align: top;\n",
       "    }\n",
       "</style>\n",
       "<table border=\"1\" class=\"dataframe\">\n",
       "  <thead>\n",
       "    <tr style=\"text-align: right;\">\n",
       "      <th></th>\n",
       "      <th>DBN</th>\n",
       "      <th>SCHNAM</th>\n",
       "      <th>YEAR</th>\n",
       "      <th>SCHLEV</th>\n",
       "      <th>SCHLEV5</th>\n",
       "      <th>SCHS219962016</th>\n",
       "      <th>XDBN</th>\n",
       "      <th>XDBN_FLAG</th>\n",
       "      <th>ENRNUMPRK</th>\n",
       "      <th>ENRNUMKID</th>\n",
       "      <th>...</th>\n",
       "      <th>BNLONG_YRFIRST</th>\n",
       "      <th>BNLONG_YRLAST</th>\n",
       "      <th>BNLONG_TOTALYRS</th>\n",
       "      <th>BNLONG_PHASEDOUT19962016</th>\n",
       "      <th>BNLONG_PHASEDIN19962016</th>\n",
       "      <th>BNLONG_CONTOPERATE19962016</th>\n",
       "      <th>CBO</th>\n",
       "      <th>HSJHS</th>\n",
       "      <th>HSSCHSAMP2</th>\n",
       "      <th>SPECHS</th>\n",
       "    </tr>\n",
       "  </thead>\n",
       "  <tbody>\n",
       "    <tr>\n",
       "      <th>0</th>\n",
       "      <td>00M801</td>\n",
       "      <td>HUNTER SCHOOL</td>\n",
       "      <td>1996</td>\n",
       "      <td>NaN</td>\n",
       "      <td>NaN</td>\n",
       "      <td>NaN</td>\n",
       "      <td>00M801</td>\n",
       "      <td>0</td>\n",
       "      <td>16</td>\n",
       "      <td>48</td>\n",
       "      <td>...</td>\n",
       "      <td>1996</td>\n",
       "      <td>1998</td>\n",
       "      <td>3.0</td>\n",
       "      <td>1</td>\n",
       "      <td>0</td>\n",
       "      <td>0</td>\n",
       "      <td>0</td>\n",
       "      <td>NaN</td>\n",
       "      <td>6</td>\n",
       "      <td>0</td>\n",
       "    </tr>\n",
       "    <tr>\n",
       "      <th>1</th>\n",
       "      <td>00M802</td>\n",
       "      <td>HUNTER SCHOOL</td>\n",
       "      <td>1996</td>\n",
       "      <td>NaN</td>\n",
       "      <td>NaN</td>\n",
       "      <td>NaN</td>\n",
       "      <td>00M802</td>\n",
       "      <td>0</td>\n",
       "      <td>0</td>\n",
       "      <td>0</td>\n",
       "      <td>...</td>\n",
       "      <td>1996</td>\n",
       "      <td>1998</td>\n",
       "      <td>3.0</td>\n",
       "      <td>1</td>\n",
       "      <td>0</td>\n",
       "      <td>0</td>\n",
       "      <td>0</td>\n",
       "      <td>1.0</td>\n",
       "      <td>6</td>\n",
       "      <td>0</td>\n",
       "    </tr>\n",
       "    <tr>\n",
       "      <th>2</th>\n",
       "      <td>00M803</td>\n",
       "      <td>HUNTER SCHOOL</td>\n",
       "      <td>1996</td>\n",
       "      <td>NaN</td>\n",
       "      <td>NaN</td>\n",
       "      <td>NaN</td>\n",
       "      <td>00M803</td>\n",
       "      <td>0</td>\n",
       "      <td>0</td>\n",
       "      <td>0</td>\n",
       "      <td>...</td>\n",
       "      <td>1996</td>\n",
       "      <td>1998</td>\n",
       "      <td>3.0</td>\n",
       "      <td>1</td>\n",
       "      <td>0</td>\n",
       "      <td>0</td>\n",
       "      <td>0</td>\n",
       "      <td>0.0</td>\n",
       "      <td>6</td>\n",
       "      <td>0</td>\n",
       "    </tr>\n",
       "    <tr>\n",
       "      <th>3</th>\n",
       "      <td>01M015</td>\n",
       "      <td>ROBERTO CLEMENTE</td>\n",
       "      <td>1996</td>\n",
       "      <td>NaN</td>\n",
       "      <td>NaN</td>\n",
       "      <td>NaN</td>\n",
       "      <td>01M015</td>\n",
       "      <td>0</td>\n",
       "      <td>0</td>\n",
       "      <td>36</td>\n",
       "      <td>...</td>\n",
       "      <td>1996</td>\n",
       "      <td>2016</td>\n",
       "      <td>21.0</td>\n",
       "      <td>0</td>\n",
       "      <td>0</td>\n",
       "      <td>0</td>\n",
       "      <td>0</td>\n",
       "      <td>NaN</td>\n",
       "      <td>6</td>\n",
       "      <td>0</td>\n",
       "    </tr>\n",
       "    <tr>\n",
       "      <th>4</th>\n",
       "      <td>01M019</td>\n",
       "      <td>ASHER LEVY</td>\n",
       "      <td>1996</td>\n",
       "      <td>NaN</td>\n",
       "      <td>NaN</td>\n",
       "      <td>NaN</td>\n",
       "      <td>01M019</td>\n",
       "      <td>0</td>\n",
       "      <td>33</td>\n",
       "      <td>82</td>\n",
       "      <td>...</td>\n",
       "      <td>1996</td>\n",
       "      <td>2016</td>\n",
       "      <td>21.0</td>\n",
       "      <td>0</td>\n",
       "      <td>0</td>\n",
       "      <td>0</td>\n",
       "      <td>0</td>\n",
       "      <td>NaN</td>\n",
       "      <td>6</td>\n",
       "      <td>0</td>\n",
       "    </tr>\n",
       "  </tbody>\n",
       "</table>\n",
       "<p>5 rows × 270 columns</p>\n",
       "</div>"
      ],
      "text/plain": [
       "      DBN            SCHNAM  YEAR  SCHLEV  SCHLEV5  SCHS219962016    XDBN  \\\n",
       "0  00M801     HUNTER SCHOOL  1996     NaN      NaN            NaN  00M801   \n",
       "1  00M802     HUNTER SCHOOL  1996     NaN      NaN            NaN  00M802   \n",
       "2  00M803     HUNTER SCHOOL  1996     NaN      NaN            NaN  00M803   \n",
       "3  01M015  ROBERTO CLEMENTE  1996     NaN      NaN            NaN  01M015   \n",
       "4  01M019        ASHER LEVY  1996     NaN      NaN            NaN  01M019   \n",
       "\n",
       "   XDBN_FLAG  ENRNUMPRK  ENRNUMKID   ...    BNLONG_YRFIRST  BNLONG_YRLAST  \\\n",
       "0          0         16         48   ...              1996           1998   \n",
       "1          0          0          0   ...              1996           1998   \n",
       "2          0          0          0   ...              1996           1998   \n",
       "3          0          0         36   ...              1996           2016   \n",
       "4          0         33         82   ...              1996           2016   \n",
       "\n",
       "   BNLONG_TOTALYRS  BNLONG_PHASEDOUT19962016  BNLONG_PHASEDIN19962016  \\\n",
       "0              3.0                         1                        0   \n",
       "1              3.0                         1                        0   \n",
       "2              3.0                         1                        0   \n",
       "3             21.0                         0                        0   \n",
       "4             21.0                         0                        0   \n",
       "\n",
       "   BNLONG_CONTOPERATE19962016  CBO  HSJHS  HSSCHSAMP2  SPECHS  \n",
       "0                           0    0    NaN           6       0  \n",
       "1                           0    0    1.0           6       0  \n",
       "2                           0    0    0.0           6       0  \n",
       "3                           0    0    NaN           6       0  \n",
       "4                           0    0    NaN           6       0  \n",
       "\n",
       "[5 rows x 270 columns]"
      ]
     },
     "execution_count": 2,
     "metadata": {},
     "output_type": "execute_result"
    }
   ],
   "source": [
    "schma = pd.read_csv('./schma_data/schma19962016.csv')\n",
    "schma.head()"
   ]
  },
  {
   "cell_type": "code",
   "execution_count": 3,
   "metadata": {},
   "outputs": [
    {
     "data": {
      "text/plain": [
       "0       1239\n",
       "1         18\n",
       "2          3\n",
       "3          2\n",
       "7          1\n",
       "10         1\n",
       "14         1\n",
       "15         1\n",
       "17         2\n",
       "18         2\n",
       "19         2\n",
       "20         1\n",
       "21        10\n",
       "22         8\n",
       "23         4\n",
       "24         9\n",
       "25        10\n",
       "26         5\n",
       "27         6\n",
       "28         8\n",
       "29         4\n",
       "30        11\n",
       "31         7\n",
       "32         5\n",
       "33         6\n",
       "34         9\n",
       "35         7\n",
       "36         9\n",
       "37         5\n",
       "38         6\n",
       "        ... \n",
       "4172       1\n",
       "4216       1\n",
       "4240       1\n",
       "4262       1\n",
       "4266       1\n",
       "4291       1\n",
       "4292       1\n",
       "4296       2\n",
       "4345       1\n",
       "4412       1\n",
       "4442       1\n",
       "4456       1\n",
       "4468       1\n",
       "4469       1\n",
       "4477       1\n",
       "4519       1\n",
       "4573       1\n",
       "4614       1\n",
       "4662       1\n",
       "4678       1\n",
       "4750       1\n",
       "4853       1\n",
       "4947       1\n",
       "4957       1\n",
       "5140       1\n",
       "5332       1\n",
       "5426       1\n",
       "5451       1\n",
       "5458       1\n",
       "5512       1\n",
       "Name: ENRNUMGEN, Length: 2699, dtype: int64"
      ]
     },
     "execution_count": 3,
     "metadata": {},
     "output_type": "execute_result"
    }
   ],
   "source": [
    "schma['ENRNUMGEN'].value_counts().sort_index()"
   ]
  },
  {
   "cell_type": "code",
   "execution_count": 4,
   "metadata": {},
   "outputs": [
    {
     "data": {
      "text/html": [
       "<div>\n",
       "<style>\n",
       "    .dataframe thead tr:only-child th {\n",
       "        text-align: right;\n",
       "    }\n",
       "\n",
       "    .dataframe thead th {\n",
       "        text-align: left;\n",
       "    }\n",
       "\n",
       "    .dataframe tbody tr th {\n",
       "        vertical-align: top;\n",
       "    }\n",
       "</style>\n",
       "<table border=\"1\" class=\"dataframe\">\n",
       "  <thead>\n",
       "    <tr style=\"text-align: right;\">\n",
       "      <th></th>\n",
       "      <th>DBN</th>\n",
       "      <th>SCHNAM_RENEW</th>\n",
       "    </tr>\n",
       "  </thead>\n",
       "  <tbody>\n",
       "    <tr>\n",
       "      <th>0</th>\n",
       "      <td>18K566</td>\n",
       "      <td>Brooklyn Generation School</td>\n",
       "    </tr>\n",
       "    <tr>\n",
       "      <th>1</th>\n",
       "      <td>18K581</td>\n",
       "      <td>East Flatbush Community Research School</td>\n",
       "    </tr>\n",
       "    <tr>\n",
       "      <th>2</th>\n",
       "      <td>19K306</td>\n",
       "      <td>P.S. 306 Ethan Allen</td>\n",
       "    </tr>\n",
       "    <tr>\n",
       "      <th>3</th>\n",
       "      <td>19K328</td>\n",
       "      <td>P.S. 328 Phyllis Wheatley</td>\n",
       "    </tr>\n",
       "    <tr>\n",
       "      <th>4</th>\n",
       "      <td>19K583</td>\n",
       "      <td>Multicultural High School</td>\n",
       "    </tr>\n",
       "  </tbody>\n",
       "</table>\n",
       "</div>"
      ],
      "text/plain": [
       "      DBN                             SCHNAM_RENEW\n",
       "0  18K566               Brooklyn Generation School\n",
       "1  18K581  East Flatbush Community Research School\n",
       "2  19K306                     P.S. 306 Ethan Allen\n",
       "3  19K328                P.S. 328 Phyllis Wheatley\n",
       "4  19K583                Multicultural High School"
      ]
     },
     "execution_count": 4,
     "metadata": {},
     "output_type": "execute_result"
    }
   ],
   "source": [
    "df_rnsch = pd.read_csv('./data/renewalSchools.csv')\n",
    "df_rnsch.head()"
   ]
  },
  {
   "cell_type": "code",
   "execution_count": 5,
   "metadata": {
    "collapsed": true
   },
   "outputs": [],
   "source": [
    "df_ = pd.merge(schma[['DBN', 'SCHNAM', 'BNLONG', 'BN']], df_rnsch, on='DBN', how='left')"
   ]
  },
  {
   "cell_type": "code",
   "execution_count": 6,
   "metadata": {},
   "outputs": [
    {
     "data": {
      "text/plain": [
       "2145"
      ]
     },
     "execution_count": 6,
     "metadata": {},
     "output_type": "execute_result"
    }
   ],
   "source": [
    "len(df_[~df_.duplicated(subset=['DBN', 'BNLONG', 'BN'])])"
   ]
  },
  {
   "cell_type": "code",
   "execution_count": 7,
   "metadata": {},
   "outputs": [
    {
     "data": {
      "text/html": [
       "<div>\n",
       "<style>\n",
       "    .dataframe thead tr:only-child th {\n",
       "        text-align: right;\n",
       "    }\n",
       "\n",
       "    .dataframe thead th {\n",
       "        text-align: left;\n",
       "    }\n",
       "\n",
       "    .dataframe tbody tr th {\n",
       "        vertical-align: top;\n",
       "    }\n",
       "</style>\n",
       "<table border=\"1\" class=\"dataframe\">\n",
       "  <thead>\n",
       "    <tr style=\"text-align: right;\">\n",
       "      <th></th>\n",
       "      <th>DBN</th>\n",
       "      <th>SCHNAM</th>\n",
       "      <th>BNLONG</th>\n",
       "      <th>BN</th>\n",
       "      <th>SCHNAM_RENEW</th>\n",
       "    </tr>\n",
       "  </thead>\n",
       "  <tbody>\n",
       "    <tr>\n",
       "      <th>0</th>\n",
       "      <td>00M801</td>\n",
       "      <td>HUNTER SCHOOL</td>\n",
       "      <td>M801</td>\n",
       "      <td>M801</td>\n",
       "      <td>NaN</td>\n",
       "    </tr>\n",
       "    <tr>\n",
       "      <th>1</th>\n",
       "      <td>00M802</td>\n",
       "      <td>HUNTER SCHOOL</td>\n",
       "      <td>M802</td>\n",
       "      <td>M802</td>\n",
       "      <td>NaN</td>\n",
       "    </tr>\n",
       "    <tr>\n",
       "      <th>2</th>\n",
       "      <td>00M803</td>\n",
       "      <td>HUNTER SCHOOL</td>\n",
       "      <td>M803</td>\n",
       "      <td>M803</td>\n",
       "      <td>NaN</td>\n",
       "    </tr>\n",
       "    <tr>\n",
       "      <th>3</th>\n",
       "      <td>01M015</td>\n",
       "      <td>ROBERTO CLEMENTE</td>\n",
       "      <td>M015</td>\n",
       "      <td>M015</td>\n",
       "      <td>NaN</td>\n",
       "    </tr>\n",
       "    <tr>\n",
       "      <th>4</th>\n",
       "      <td>01M019</td>\n",
       "      <td>ASHER LEVY</td>\n",
       "      <td>M019</td>\n",
       "      <td>M019</td>\n",
       "      <td>NaN</td>\n",
       "    </tr>\n",
       "  </tbody>\n",
       "</table>\n",
       "</div>"
      ],
      "text/plain": [
       "      DBN            SCHNAM BNLONG    BN SCHNAM_RENEW\n",
       "0  00M801     HUNTER SCHOOL   M801  M801          NaN\n",
       "1  00M802     HUNTER SCHOOL   M802  M802          NaN\n",
       "2  00M803     HUNTER SCHOOL   M803  M803          NaN\n",
       "3  01M015  ROBERTO CLEMENTE   M015  M015          NaN\n",
       "4  01M019        ASHER LEVY   M019  M019          NaN"
      ]
     },
     "execution_count": 7,
     "metadata": {},
     "output_type": "execute_result"
    }
   ],
   "source": [
    "df_.head()"
   ]
  },
  {
   "cell_type": "code",
   "execution_count": 8,
   "metadata": {
    "collapsed": true
   },
   "outputs": [],
   "source": [
    "df_ = df_[~df_.duplicated(subset=['BNLONG'])]"
   ]
  },
  {
   "cell_type": "code",
   "execution_count": 9,
   "metadata": {},
   "outputs": [
    {
     "data": {
      "text/plain": [
       "2000"
      ]
     },
     "execution_count": 9,
     "metadata": {},
     "output_type": "execute_result"
    }
   ],
   "source": [
    "len(df_['SCHNAM_RENEW'])"
   ]
  },
  {
   "cell_type": "code",
   "execution_count": 10,
   "metadata": {},
   "outputs": [
    {
     "data": {
      "text/plain": [
       "24"
      ]
     },
     "execution_count": 10,
     "metadata": {},
     "output_type": "execute_result"
    }
   ],
   "source": [
    "len(df_['SCHNAM_RENEW']) - df_['SCHNAM_RENEW'].isnull().sum()"
   ]
  },
  {
   "cell_type": "code",
   "execution_count": 11,
   "metadata": {
    "collapsed": true
   },
   "outputs": [],
   "source": [
    "df_.loc[~df_.SCHNAM_RENEW.isnull(), 'RenewlSchl'] = int(1)"
   ]
  },
  {
   "cell_type": "code",
   "execution_count": 12,
   "metadata": {
    "collapsed": true
   },
   "outputs": [],
   "source": [
    "df_.loc[df_.SCHNAM_RENEW.isnull(), 'RenewlSchl'] = int(0)"
   ]
  },
  {
   "cell_type": "code",
   "execution_count": 13,
   "metadata": {},
   "outputs": [
    {
     "data": {
      "text/html": [
       "<div>\n",
       "<style>\n",
       "    .dataframe thead tr:only-child th {\n",
       "        text-align: right;\n",
       "    }\n",
       "\n",
       "    .dataframe thead th {\n",
       "        text-align: left;\n",
       "    }\n",
       "\n",
       "    .dataframe tbody tr th {\n",
       "        vertical-align: top;\n",
       "    }\n",
       "</style>\n",
       "<table border=\"1\" class=\"dataframe\">\n",
       "  <thead>\n",
       "    <tr style=\"text-align: right;\">\n",
       "      <th></th>\n",
       "      <th>DBN</th>\n",
       "      <th>SCHNAM</th>\n",
       "      <th>BNLONG</th>\n",
       "      <th>BN</th>\n",
       "      <th>SCHNAM_RENEW</th>\n",
       "      <th>RenewlSchl</th>\n",
       "    </tr>\n",
       "  </thead>\n",
       "  <tbody>\n",
       "    <tr>\n",
       "      <th>931</th>\n",
       "      <td>30Q450</td>\n",
       "      <td>LONG ISLAND CITY HIGH SCHOOL</td>\n",
       "      <td>Q450</td>\n",
       "      <td>Q450</td>\n",
       "      <td>Long Island City High School</td>\n",
       "      <td>1.0</td>\n",
       "    </tr>\n",
       "  </tbody>\n",
       "</table>\n",
       "</div>"
      ],
      "text/plain": [
       "        DBN                        SCHNAM BNLONG    BN  \\\n",
       "931  30Q450  LONG ISLAND CITY HIGH SCHOOL   Q450  Q450   \n",
       "\n",
       "                     SCHNAM_RENEW  RenewlSchl  \n",
       "931  Long Island City High School         1.0  "
      ]
     },
     "execution_count": 13,
     "metadata": {},
     "output_type": "execute_result"
    }
   ],
   "source": [
    "df_[df_.SCHNAM == 'LONG ISLAND CITY HIGH SCHOOL']"
   ]
  },
  {
   "cell_type": "code",
   "execution_count": 14,
   "metadata": {},
   "outputs": [
    {
     "data": {
      "text/plain": [
       "DBN                0\n",
       "SCHNAM            26\n",
       "BNLONG             1\n",
       "BN                 0\n",
       "SCHNAM_RENEW    1976\n",
       "RenewlSchl         0\n",
       "dtype: int64"
      ]
     },
     "execution_count": 14,
     "metadata": {},
     "output_type": "execute_result"
    }
   ],
   "source": [
    "df_.isnull().sum()"
   ]
  },
  {
   "cell_type": "markdown",
   "metadata": {},
   "source": [
    "*** Add in Commmunity Schools ***"
   ]
  },
  {
   "cell_type": "code",
   "execution_count": 15,
   "metadata": {},
   "outputs": [],
   "source": [
    "comm = pd.read_excel('./schma_data/NYC-Community-Schools.xlsx', header=2)"
   ]
  },
  {
   "cell_type": "code",
   "execution_count": 16,
   "metadata": {},
   "outputs": [],
   "source": [
    "comm['Community_Sch'] = int(1)"
   ]
  },
  {
   "cell_type": "code",
   "execution_count": 17,
   "metadata": {},
   "outputs": [],
   "source": [
    "comm.rename(columns={'Year Started': 'Comm_Start_yr'}, inplace=True)"
   ]
  },
  {
   "cell_type": "code",
   "execution_count": 18,
   "metadata": {},
   "outputs": [
    {
     "data": {
      "text/html": [
       "<div>\n",
       "<style>\n",
       "    .dataframe thead tr:only-child th {\n",
       "        text-align: right;\n",
       "    }\n",
       "\n",
       "    .dataframe thead th {\n",
       "        text-align: left;\n",
       "    }\n",
       "\n",
       "    .dataframe tbody tr th {\n",
       "        vertical-align: top;\n",
       "    }\n",
       "</style>\n",
       "<table border=\"1\" class=\"dataframe\">\n",
       "  <thead>\n",
       "    <tr style=\"text-align: right;\">\n",
       "      <th></th>\n",
       "      <th>DBN</th>\n",
       "      <th>School Name</th>\n",
       "      <th>Grade</th>\n",
       "      <th>Lead CBO</th>\n",
       "      <th>Comm_Start_yr</th>\n",
       "      <th>Community_Sch</th>\n",
       "    </tr>\n",
       "  </thead>\n",
       "  <tbody>\n",
       "    <tr>\n",
       "      <th>0</th>\n",
       "      <td>01M015</td>\n",
       "      <td>P.S. 015 Roberto Clemente</td>\n",
       "      <td>Elementary</td>\n",
       "      <td>Pathways to Leadership</td>\n",
       "      <td>2014-2015</td>\n",
       "      <td>1</td>\n",
       "    </tr>\n",
       "    <tr>\n",
       "      <th>1</th>\n",
       "      <td>01M064</td>\n",
       "      <td>P.S. 064 Robert Simon</td>\n",
       "      <td>Elementary</td>\n",
       "      <td>Educational Alliance</td>\n",
       "      <td>2017-2018</td>\n",
       "      <td>1</td>\n",
       "    </tr>\n",
       "    <tr>\n",
       "      <th>2</th>\n",
       "      <td>01M142</td>\n",
       "      <td>P.S. 142 Amalia Castro</td>\n",
       "      <td>Elementary</td>\n",
       "      <td>Educational Alliance</td>\n",
       "      <td>2017-2018</td>\n",
       "      <td>1</td>\n",
       "    </tr>\n",
       "    <tr>\n",
       "      <th>3</th>\n",
       "      <td>01M188</td>\n",
       "      <td>P.S. 188 The Island School</td>\n",
       "      <td>K-8</td>\n",
       "      <td>Educational Alliance</td>\n",
       "      <td>2014-2015</td>\n",
       "      <td>1</td>\n",
       "    </tr>\n",
       "    <tr>\n",
       "      <th>4</th>\n",
       "      <td>01M292</td>\n",
       "      <td>Orchard Collegiate Academy</td>\n",
       "      <td>High school</td>\n",
       "      <td>Henry Street Settlement</td>\n",
       "      <td>2015-2016</td>\n",
       "      <td>1</td>\n",
       "    </tr>\n",
       "  </tbody>\n",
       "</table>\n",
       "</div>"
      ],
      "text/plain": [
       "      DBN                 School Name       Grade                  Lead CBO  \\\n",
       "0  01M015   P.S. 015 Roberto Clemente   Elementary   Pathways to Leadership   \n",
       "1  01M064       P.S. 064 Robert Simon   Elementary     Educational Alliance   \n",
       "2  01M142      P.S. 142 Amalia Castro   Elementary     Educational Alliance   \n",
       "3  01M188  P.S. 188 The Island School          K-8     Educational Alliance   \n",
       "4  01M292  Orchard Collegiate Academy  High school  Henry Street Settlement   \n",
       "\n",
       "  Comm_Start_yr  Community_Sch  \n",
       "0     2014-2015              1  \n",
       "1     2017-2018              1  \n",
       "2     2017-2018              1  \n",
       "3     2014-2015              1  \n",
       "4     2015-2016              1  "
      ]
     },
     "execution_count": 18,
     "metadata": {},
     "output_type": "execute_result"
    }
   ],
   "source": [
    "comm.head()"
   ]
  },
  {
   "cell_type": "code",
   "execution_count": 19,
   "metadata": {},
   "outputs": [
    {
     "data": {
      "text/plain": [
       "227"
      ]
     },
     "execution_count": 19,
     "metadata": {},
     "output_type": "execute_result"
    }
   ],
   "source": [
    "len(comm)"
   ]
  },
  {
   "cell_type": "code",
   "execution_count": 20,
   "metadata": {},
   "outputs": [],
   "source": [
    "comm.DBN = [s.strip(' ') for s in comm.DBN]"
   ]
  },
  {
   "cell_type": "code",
   "execution_count": 21,
   "metadata": {
    "scrolled": true
   },
   "outputs": [
    {
     "data": {
      "text/html": [
       "<div>\n",
       "<style>\n",
       "    .dataframe thead tr:only-child th {\n",
       "        text-align: right;\n",
       "    }\n",
       "\n",
       "    .dataframe thead th {\n",
       "        text-align: left;\n",
       "    }\n",
       "\n",
       "    .dataframe tbody tr th {\n",
       "        vertical-align: top;\n",
       "    }\n",
       "</style>\n",
       "<table border=\"1\" class=\"dataframe\">\n",
       "  <thead>\n",
       "    <tr style=\"text-align: right;\">\n",
       "      <th></th>\n",
       "      <th>DBN</th>\n",
       "      <th>SCHNAM</th>\n",
       "      <th>BNLONG</th>\n",
       "      <th>BN</th>\n",
       "      <th>SCHNAM_RENEW</th>\n",
       "      <th>RenewlSchl</th>\n",
       "    </tr>\n",
       "  </thead>\n",
       "  <tbody>\n",
       "    <tr>\n",
       "      <th>0</th>\n",
       "      <td>00M801</td>\n",
       "      <td>HUNTER SCHOOL</td>\n",
       "      <td>M801</td>\n",
       "      <td>M801</td>\n",
       "      <td>NaN</td>\n",
       "      <td>0.0</td>\n",
       "    </tr>\n",
       "    <tr>\n",
       "      <th>1</th>\n",
       "      <td>00M802</td>\n",
       "      <td>HUNTER SCHOOL</td>\n",
       "      <td>M802</td>\n",
       "      <td>M802</td>\n",
       "      <td>NaN</td>\n",
       "      <td>0.0</td>\n",
       "    </tr>\n",
       "    <tr>\n",
       "      <th>2</th>\n",
       "      <td>00M803</td>\n",
       "      <td>HUNTER SCHOOL</td>\n",
       "      <td>M803</td>\n",
       "      <td>M803</td>\n",
       "      <td>NaN</td>\n",
       "      <td>0.0</td>\n",
       "    </tr>\n",
       "    <tr>\n",
       "      <th>3</th>\n",
       "      <td>01M015</td>\n",
       "      <td>ROBERTO CLEMENTE</td>\n",
       "      <td>M015</td>\n",
       "      <td>M015</td>\n",
       "      <td>NaN</td>\n",
       "      <td>0.0</td>\n",
       "    </tr>\n",
       "    <tr>\n",
       "      <th>4</th>\n",
       "      <td>01M019</td>\n",
       "      <td>ASHER LEVY</td>\n",
       "      <td>M019</td>\n",
       "      <td>M019</td>\n",
       "      <td>NaN</td>\n",
       "      <td>0.0</td>\n",
       "    </tr>\n",
       "  </tbody>\n",
       "</table>\n",
       "</div>"
      ],
      "text/plain": [
       "      DBN            SCHNAM BNLONG    BN SCHNAM_RENEW  RenewlSchl\n",
       "0  00M801     HUNTER SCHOOL   M801  M801          NaN         0.0\n",
       "1  00M802     HUNTER SCHOOL   M802  M802          NaN         0.0\n",
       "2  00M803     HUNTER SCHOOL   M803  M803          NaN         0.0\n",
       "3  01M015  ROBERTO CLEMENTE   M015  M015          NaN         0.0\n",
       "4  01M019        ASHER LEVY   M019  M019          NaN         0.0"
      ]
     },
     "execution_count": 21,
     "metadata": {},
     "output_type": "execute_result"
    }
   ],
   "source": [
    "df_.head()"
   ]
  },
  {
   "cell_type": "code",
   "execution_count": 22,
   "metadata": {},
   "outputs": [
    {
     "name": "stdout",
     "output_type": "stream",
     "text": [
      "2000\n",
      "227\n"
     ]
    },
    {
     "data": {
      "text/plain": [
       "217"
      ]
     },
     "execution_count": 22,
     "metadata": {},
     "output_type": "execute_result"
    }
   ],
   "source": [
    "print (len(df_))\n",
    "print (len(comm))\n",
    "len(pd.merge(df_, comm, on='DBN', how='inner'))"
   ]
  },
  {
   "cell_type": "markdown",
   "metadata": {},
   "source": [
    "There are 11 community schools not in the schma data?"
   ]
  },
  {
   "cell_type": "code",
   "execution_count": 23,
   "metadata": {},
   "outputs": [],
   "source": [
    "df_ = pd.merge(df_, comm, on='DBN', how='left')"
   ]
  },
  {
   "cell_type": "code",
   "execution_count": 24,
   "metadata": {},
   "outputs": [],
   "source": [
    "comm_sch = [s.upper() for s in comm.DBN.unique() if s not in df_.DBN.unique()]"
   ]
  },
  {
   "cell_type": "code",
   "execution_count": 25,
   "metadata": {},
   "outputs": [
    {
     "name": "stdout",
     "output_type": "stream",
     "text": [
      "X584\n",
      "X297\n",
      "X324\n",
      "X412\n",
      "X061\n",
      "X271\n",
      "K404\n",
      "K583\n",
      "Q540\n",
      "M522\n"
     ]
    }
   ],
   "source": [
    "for x in [x[2:] for x in comm_sch]:\n",
    "    print (x)"
   ]
  },
  {
   "cell_type": "code",
   "execution_count": 26,
   "metadata": {},
   "outputs": [],
   "source": [
    "for x in [x[2:] for x in comm_sch]:\n",
    "    df_.loc[df_.BN == x, 'Community_Sch'] = 1"
   ]
  },
  {
   "cell_type": "code",
   "execution_count": 27,
   "metadata": {},
   "outputs": [
    {
     "name": "stdout",
     "output_type": "stream",
     "text": [
      "Empty DataFrame\n",
      "Columns: [DBN, SCHNAM, BNLONG, BN, SCHNAM_RENEW, RenewlSchl, School Name, Grade , Lead CBO, Comm_Start_yr, Community_Sch]\n",
      "Index: []\n",
      "         DBN SCHNAM BNLONG    BN SCHNAM_RENEW  RenewlSchl School Name Grade   \\\n",
      "1498  12X297    NaN   X297  X297          NaN         0.0         NaN    NaN   \n",
      "\n",
      "     Lead CBO Comm_Start_yr  Community_Sch  \n",
      "1498      NaN           NaN            1.0  \n",
      "         DBN SCHNAM BNLONG    BN SCHNAM_RENEW  RenewlSchl School Name Grade   \\\n",
      "1613  10X324    NaN   X324  X324          NaN         0.0         NaN    NaN   \n",
      "\n",
      "     Lead CBO Comm_Start_yr  Community_Sch  \n",
      "1613      NaN           NaN            1.0  \n",
      "         DBN SCHNAM BNLONG    BN SCHNAM_RENEW  RenewlSchl School Name Grade   \\\n",
      "1331  10X412    NaN   X412  X412          NaN         0.0         NaN    NaN   \n",
      "\n",
      "     Lead CBO Comm_Start_yr  Community_Sch  \n",
      "1331      NaN           NaN            1.0  \n",
      "        DBN                      SCHNAM BNLONG    BN SCHNAM_RENEW  RenewlSchl  \\\n",
      "370  12X061  FRANCISCO OLLER - P.S. #61   X061  X061          NaN         0.0   \n",
      "\n",
      "    School Name Grade  Lead CBO Comm_Start_yr  Community_Sch  \n",
      "370         NaN    NaN      NaN           NaN            1.0  \n",
      "         DBN                          SCHNAM BNLONG    BN SCHNAM_RENEW  \\\n",
      "1489  11X271  EAST BRONX ACADEMY FOR THE FUT   X271  X271          NaN   \n",
      "\n",
      "      RenewlSchl School Name Grade  Lead CBO Comm_Start_yr  Community_Sch  \n",
      "1489         0.0         NaN    NaN      NaN           NaN            1.0  \n",
      "         DBN SCHNAM BNLONG    BN SCHNAM_RENEW  RenewlSchl School Name Grade   \\\n",
      "1621  14K404    NaN   K404  K404          NaN         0.0         NaN    NaN   \n",
      "\n",
      "     Lead CBO Comm_Start_yr  Community_Sch  \n",
      "1621      NaN           NaN            1.0  \n",
      "         DBN                     SCHNAM BNLONG    BN SCHNAM_RENEW  RenewlSchl  \\\n",
      "1667  14K583  MULTICULTURAL HIGH SCHOOL   K583  K583          NaN         0.0   \n",
      "\n",
      "     School Name Grade  Lead CBO Comm_Start_yr  Community_Sch  \n",
      "1667         NaN    NaN      NaN           NaN            1.0  \n",
      "         DBN                      SCHNAM BNLONG    BN SCHNAM_RENEW  \\\n",
      "1417  79Q540  QUEENS ACADEMY HIGH SCHOOL   Q540  Q540          NaN   \n",
      "\n",
      "      RenewlSchl School Name Grade  Lead CBO Comm_Start_yr  Community_Sch  \n",
      "1417         0.0         NaN    NaN      NaN           NaN            1.0  \n",
      "Empty DataFrame\n",
      "Columns: [DBN, SCHNAM, BNLONG, BN, SCHNAM_RENEW, RenewlSchl, School Name, Grade , Lead CBO, Comm_Start_yr, Community_Sch]\n",
      "Index: []\n"
     ]
    }
   ],
   "source": [
    "for x in [x[2:] for x in comm_sch]:\n",
    "    print (df_[df_.BN == x])"
   ]
  },
  {
   "cell_type": "code",
   "execution_count": 28,
   "metadata": {},
   "outputs": [],
   "source": [
    "df_.Community_Sch = df_.Community_Sch.fillna(0)"
   ]
  },
  {
   "cell_type": "markdown",
   "metadata": {},
   "source": [
    "*** Add in closed schools ***"
   ]
  },
  {
   "cell_type": "code",
   "execution_count": 29,
   "metadata": {},
   "outputs": [
    {
     "data": {
      "text/html": [
       "<div>\n",
       "<style>\n",
       "    .dataframe thead tr:only-child th {\n",
       "        text-align: right;\n",
       "    }\n",
       "\n",
       "    .dataframe thead th {\n",
       "        text-align: left;\n",
       "    }\n",
       "\n",
       "    .dataframe tbody tr th {\n",
       "        vertical-align: top;\n",
       "    }\n",
       "</style>\n",
       "<table border=\"1\" class=\"dataframe\">\n",
       "  <thead>\n",
       "    <tr style=\"text-align: right;\">\n",
       "      <th></th>\n",
       "      <th>BNLONG</th>\n",
       "      <th>MaxYear_x</th>\n",
       "      <th>MaxYear_y</th>\n",
       "      <th>Percentage</th>\n",
       "      <th>MaxYear</th>\n",
       "    </tr>\n",
       "  </thead>\n",
       "  <tbody>\n",
       "    <tr>\n",
       "      <th>0</th>\n",
       "      <td>M635</td>\n",
       "      <td>163</td>\n",
       "      <td>163</td>\n",
       "      <td>1.0</td>\n",
       "      <td>2013</td>\n",
       "    </tr>\n",
       "    <tr>\n",
       "      <th>1</th>\n",
       "      <td>K027</td>\n",
       "      <td>153</td>\n",
       "      <td>153</td>\n",
       "      <td>1.0</td>\n",
       "      <td>2011</td>\n",
       "    </tr>\n",
       "    <tr>\n",
       "      <th>2</th>\n",
       "      <td>K332</td>\n",
       "      <td>140</td>\n",
       "      <td>140</td>\n",
       "      <td>1.0</td>\n",
       "      <td>2014</td>\n",
       "    </tr>\n",
       "    <tr>\n",
       "      <th>3</th>\n",
       "      <td>Q225</td>\n",
       "      <td>140</td>\n",
       "      <td>140</td>\n",
       "      <td>1.0</td>\n",
       "      <td>2011</td>\n",
       "    </tr>\n",
       "    <tr>\n",
       "      <th>4</th>\n",
       "      <td>X156</td>\n",
       "      <td>139</td>\n",
       "      <td>139</td>\n",
       "      <td>1.0</td>\n",
       "      <td>2008</td>\n",
       "    </tr>\n",
       "  </tbody>\n",
       "</table>\n",
       "</div>"
      ],
      "text/plain": [
       "  BNLONG  MaxYear_x  MaxYear_y  Percentage  MaxYear\n",
       "0   M635        163        163         1.0     2013\n",
       "1   K027        153        153         1.0     2011\n",
       "2   K332        140        140         1.0     2014\n",
       "3   Q225        140        140         1.0     2011\n",
       "4   X156        139        139         1.0     2008"
      ]
     },
     "execution_count": 29,
     "metadata": {},
     "output_type": "execute_result"
    }
   ],
   "source": [
    "closed = pd.read_csv('./data/ClosedSchools.csv')\n",
    "closed.drop(['Unnamed: 0'], axis=1, inplace=True)\n",
    "closed.head()\n"
   ]
  },
  {
   "cell_type": "code",
   "execution_count": 30,
   "metadata": {
    "collapsed": true
   },
   "outputs": [],
   "source": [
    "closed.columns = ['BNLONG', 'MaxYear_x_cls', 'MaxYear_y_cls', 'Percentage', 'MaxYear_cls']"
   ]
  },
  {
   "cell_type": "code",
   "execution_count": 31,
   "metadata": {},
   "outputs": [],
   "source": [
    "closed['Closed'] = 1"
   ]
  },
  {
   "cell_type": "code",
   "execution_count": 32,
   "metadata": {
    "scrolled": true
   },
   "outputs": [
    {
     "data": {
      "text/plain": [
       "Index(['BNLONG', 'MaxYear_x_cls', 'MaxYear_y_cls', 'Percentage', 'MaxYear_cls',\n",
       "       'Closed'],\n",
       "      dtype='object')"
      ]
     },
     "execution_count": 32,
     "metadata": {},
     "output_type": "execute_result"
    }
   ],
   "source": [
    "closed.columns"
   ]
  },
  {
   "cell_type": "code",
   "execution_count": 33,
   "metadata": {
    "collapsed": true
   },
   "outputs": [],
   "source": [
    "closed.drop(['MaxYear_x_cls', 'MaxYear_y_cls', 'Percentage'], axis=1, inplace=True)"
   ]
  },
  {
   "cell_type": "code",
   "execution_count": 34,
   "metadata": {},
   "outputs": [
    {
     "name": "stdout",
     "output_type": "stream",
     "text": [
      "2000\n",
      "314\n"
     ]
    },
    {
     "data": {
      "text/plain": [
       "314"
      ]
     },
     "execution_count": 34,
     "metadata": {},
     "output_type": "execute_result"
    }
   ],
   "source": [
    "print (len(df_))\n",
    "print (len(closed))\n",
    "len(pd.merge(df_, closed, on='BNLONG', how='inner'))"
   ]
  },
  {
   "cell_type": "code",
   "execution_count": 35,
   "metadata": {
    "collapsed": true
   },
   "outputs": [],
   "source": [
    "df_ = pd.merge(df_, closed, on='BNLONG', how='left')"
   ]
  },
  {
   "cell_type": "markdown",
   "metadata": {},
   "source": [
    "*** add in the school type ***"
   ]
  },
  {
   "cell_type": "code",
   "execution_count": 36,
   "metadata": {},
   "outputs": [
    {
     "data": {
      "text/plain": [
       "2000"
      ]
     },
     "execution_count": 36,
     "metadata": {},
     "output_type": "execute_result"
    }
   ],
   "source": [
    "len(df_)"
   ]
  },
  {
   "cell_type": "code",
   "execution_count": 37,
   "metadata": {},
   "outputs": [
    {
     "data": {
      "text/plain": [
       "30345"
      ]
     },
     "execution_count": 37,
     "metadata": {},
     "output_type": "execute_result"
    }
   ],
   "source": [
    "len(schma)"
   ]
  },
  {
   "cell_type": "code",
   "execution_count": 38,
   "metadata": {
    "collapsed": true
   },
   "outputs": [],
   "source": [
    "sch_tmp = schma.sort_values(['BNLONG','LCGSCHCAT', 'LCGSCHTYP'])[['BNLONG','LCGSCHCAT', 'LCGSCHTYP', 'HSSCHSAMP2']]"
   ]
  },
  {
   "cell_type": "code",
   "execution_count": 39,
   "metadata": {
    "collapsed": true
   },
   "outputs": [],
   "source": [
    "sch_tmp = sch_tmp[~sch_tmp[['BNLONG']].duplicated()]"
   ]
  },
  {
   "cell_type": "code",
   "execution_count": 40,
   "metadata": {
    "collapsed": true
   },
   "outputs": [],
   "source": [
    "df_ = pd.merge(df_, sch_tmp, on='BNLONG', how='left')"
   ]
  },
  {
   "cell_type": "code",
   "execution_count": 41,
   "metadata": {},
   "outputs": [
    {
     "data": {
      "text/html": [
       "<div>\n",
       "<style>\n",
       "    .dataframe thead tr:only-child th {\n",
       "        text-align: right;\n",
       "    }\n",
       "\n",
       "    .dataframe thead th {\n",
       "        text-align: left;\n",
       "    }\n",
       "\n",
       "    .dataframe tbody tr th {\n",
       "        vertical-align: top;\n",
       "    }\n",
       "</style>\n",
       "<table border=\"1\" class=\"dataframe\">\n",
       "  <thead>\n",
       "    <tr style=\"text-align: right;\">\n",
       "      <th></th>\n",
       "      <th>DBN</th>\n",
       "      <th>SCHNAM</th>\n",
       "      <th>BNLONG</th>\n",
       "      <th>BN</th>\n",
       "      <th>SCHNAM_RENEW</th>\n",
       "      <th>RenewlSchl</th>\n",
       "      <th>School Name</th>\n",
       "      <th>Grade</th>\n",
       "      <th>Lead CBO</th>\n",
       "      <th>Comm_Start_yr</th>\n",
       "      <th>Community_Sch</th>\n",
       "      <th>MaxYear_cls</th>\n",
       "      <th>Closed</th>\n",
       "      <th>LCGSCHCAT</th>\n",
       "      <th>LCGSCHTYP</th>\n",
       "      <th>HSSCHSAMP2</th>\n",
       "    </tr>\n",
       "  </thead>\n",
       "  <tbody>\n",
       "    <tr>\n",
       "      <th>0</th>\n",
       "      <td>00M801</td>\n",
       "      <td>HUNTER SCHOOL</td>\n",
       "      <td>M801</td>\n",
       "      <td>M801</td>\n",
       "      <td>NaN</td>\n",
       "      <td>0.0</td>\n",
       "      <td>NaN</td>\n",
       "      <td>NaN</td>\n",
       "      <td>NaN</td>\n",
       "      <td>NaN</td>\n",
       "      <td>0.0</td>\n",
       "      <td>NaN</td>\n",
       "      <td>NaN</td>\n",
       "      <td>NaN</td>\n",
       "      <td>NaN</td>\n",
       "      <td>6</td>\n",
       "    </tr>\n",
       "    <tr>\n",
       "      <th>1</th>\n",
       "      <td>00M802</td>\n",
       "      <td>HUNTER SCHOOL</td>\n",
       "      <td>M802</td>\n",
       "      <td>M802</td>\n",
       "      <td>NaN</td>\n",
       "      <td>0.0</td>\n",
       "      <td>NaN</td>\n",
       "      <td>NaN</td>\n",
       "      <td>NaN</td>\n",
       "      <td>NaN</td>\n",
       "      <td>0.0</td>\n",
       "      <td>NaN</td>\n",
       "      <td>NaN</td>\n",
       "      <td>NaN</td>\n",
       "      <td>NaN</td>\n",
       "      <td>6</td>\n",
       "    </tr>\n",
       "    <tr>\n",
       "      <th>2</th>\n",
       "      <td>00M803</td>\n",
       "      <td>HUNTER SCHOOL</td>\n",
       "      <td>M803</td>\n",
       "      <td>M803</td>\n",
       "      <td>NaN</td>\n",
       "      <td>0.0</td>\n",
       "      <td>NaN</td>\n",
       "      <td>NaN</td>\n",
       "      <td>NaN</td>\n",
       "      <td>NaN</td>\n",
       "      <td>0.0</td>\n",
       "      <td>NaN</td>\n",
       "      <td>NaN</td>\n",
       "      <td>NaN</td>\n",
       "      <td>NaN</td>\n",
       "      <td>6</td>\n",
       "    </tr>\n",
       "    <tr>\n",
       "      <th>3</th>\n",
       "      <td>01M015</td>\n",
       "      <td>ROBERTO CLEMENTE</td>\n",
       "      <td>M015</td>\n",
       "      <td>M015</td>\n",
       "      <td>NaN</td>\n",
       "      <td>0.0</td>\n",
       "      <td>P.S. 015 Roberto Clemente</td>\n",
       "      <td>Elementary</td>\n",
       "      <td>Pathways to Leadership</td>\n",
       "      <td>2014-2015</td>\n",
       "      <td>1.0</td>\n",
       "      <td>NaN</td>\n",
       "      <td>NaN</td>\n",
       "      <td>ELEMENTARY</td>\n",
       "      <td>GENERAL ACADEMIC</td>\n",
       "      <td>7</td>\n",
       "    </tr>\n",
       "    <tr>\n",
       "      <th>4</th>\n",
       "      <td>01M019</td>\n",
       "      <td>ASHER LEVY</td>\n",
       "      <td>M019</td>\n",
       "      <td>M019</td>\n",
       "      <td>NaN</td>\n",
       "      <td>0.0</td>\n",
       "      <td>NaN</td>\n",
       "      <td>NaN</td>\n",
       "      <td>NaN</td>\n",
       "      <td>NaN</td>\n",
       "      <td>0.0</td>\n",
       "      <td>NaN</td>\n",
       "      <td>NaN</td>\n",
       "      <td>ELEMENTARY</td>\n",
       "      <td>GENERAL ACADEMIC</td>\n",
       "      <td>7</td>\n",
       "    </tr>\n",
       "  </tbody>\n",
       "</table>\n",
       "</div>"
      ],
      "text/plain": [
       "      DBN            SCHNAM BNLONG    BN SCHNAM_RENEW  RenewlSchl  \\\n",
       "0  00M801     HUNTER SCHOOL   M801  M801          NaN         0.0   \n",
       "1  00M802     HUNTER SCHOOL   M802  M802          NaN         0.0   \n",
       "2  00M803     HUNTER SCHOOL   M803  M803          NaN         0.0   \n",
       "3  01M015  ROBERTO CLEMENTE   M015  M015          NaN         0.0   \n",
       "4  01M019        ASHER LEVY   M019  M019          NaN         0.0   \n",
       "\n",
       "                 School Name      Grade                 Lead CBO  \\\n",
       "0                        NaN         NaN                     NaN   \n",
       "1                        NaN         NaN                     NaN   \n",
       "2                        NaN         NaN                     NaN   \n",
       "3  P.S. 015 Roberto Clemente  Elementary  Pathways to Leadership   \n",
       "4                        NaN         NaN                     NaN   \n",
       "\n",
       "  Comm_Start_yr  Community_Sch  MaxYear_cls  Closed   LCGSCHCAT  \\\n",
       "0           NaN            0.0          NaN     NaN         NaN   \n",
       "1           NaN            0.0          NaN     NaN         NaN   \n",
       "2           NaN            0.0          NaN     NaN         NaN   \n",
       "3     2014-2015            1.0          NaN     NaN  ELEMENTARY   \n",
       "4           NaN            0.0          NaN     NaN  ELEMENTARY   \n",
       "\n",
       "          LCGSCHTYP  HSSCHSAMP2  \n",
       "0               NaN           6  \n",
       "1               NaN           6  \n",
       "2               NaN           6  \n",
       "3  GENERAL ACADEMIC           7  \n",
       "4  GENERAL ACADEMIC           7  "
      ]
     },
     "execution_count": 41,
     "metadata": {},
     "output_type": "execute_result"
    }
   ],
   "source": [
    "df_.head()"
   ]
  },
  {
   "cell_type": "code",
   "execution_count": 42,
   "metadata": {},
   "outputs": [
    {
     "data": {
      "text/plain": [
       "2000"
      ]
     },
     "execution_count": 42,
     "metadata": {},
     "output_type": "execute_result"
    }
   ],
   "source": [
    "len(df_)"
   ]
  },
  {
   "cell_type": "code",
   "execution_count": 43,
   "metadata": {},
   "outputs": [
    {
     "data": {
      "text/plain": [
       "2000"
      ]
     },
     "execution_count": 43,
     "metadata": {},
     "output_type": "execute_result"
    }
   ],
   "source": [
    "len(df_.BNLONG.unique())"
   ]
  },
  {
   "cell_type": "code",
   "execution_count": 44,
   "metadata": {},
   "outputs": [
    {
     "data": {
      "text/html": [
       "<div>\n",
       "<style>\n",
       "    .dataframe thead tr:only-child th {\n",
       "        text-align: right;\n",
       "    }\n",
       "\n",
       "    .dataframe thead th {\n",
       "        text-align: left;\n",
       "    }\n",
       "\n",
       "    .dataframe tbody tr th {\n",
       "        vertical-align: top;\n",
       "    }\n",
       "</style>\n",
       "<table border=\"1\" class=\"dataframe\">\n",
       "  <thead>\n",
       "    <tr style=\"text-align: right;\">\n",
       "      <th></th>\n",
       "      <th>DBN</th>\n",
       "      <th>SCHNAM</th>\n",
       "      <th>BNLONG</th>\n",
       "      <th>BN</th>\n",
       "      <th>SCHNAM_RENEW</th>\n",
       "      <th>RenewlSchl</th>\n",
       "      <th>School Name</th>\n",
       "      <th>Grade</th>\n",
       "      <th>Lead CBO</th>\n",
       "      <th>Comm_Start_yr</th>\n",
       "      <th>Community_Sch</th>\n",
       "      <th>MaxYear_cls</th>\n",
       "      <th>Closed</th>\n",
       "      <th>LCGSCHCAT</th>\n",
       "      <th>LCGSCHTYP</th>\n",
       "      <th>HSSCHSAMP2</th>\n",
       "    </tr>\n",
       "  </thead>\n",
       "  <tbody>\n",
       "  </tbody>\n",
       "</table>\n",
       "</div>"
      ],
      "text/plain": [
       "Empty DataFrame\n",
       "Columns: [DBN, SCHNAM, BNLONG, BN, SCHNAM_RENEW, RenewlSchl, School Name, Grade , Lead CBO, Comm_Start_yr, Community_Sch, MaxYear_cls, Closed, LCGSCHCAT, LCGSCHTYP, HSSCHSAMP2]\n",
       "Index: []"
      ]
     },
     "execution_count": 44,
     "metadata": {},
     "output_type": "execute_result"
    }
   ],
   "source": [
    "df_[df_.duplicated(['BNLONG'], keep=False)].sort_values(['BNLONG'])"
   ]
  },
  {
   "cell_type": "markdown",
   "metadata": {},
   "source": [
    "*** Merge DBN, SCHNAM, BNLONG, BN, and SCHNAM_RENEW onto SCHMELTS ***"
   ]
  },
  {
   "cell_type": "markdown",
   "metadata": {},
   "source": [
    "schmelt05-16.csv  \n",
    "schmelt09-16.csv  \n",
    "schmelt11-15.csv  \n",
    "schmelt13-16.csv  \n",
    "schmelt96-16.csv  "
   ]
  },
  {
   "cell_type": "code",
   "execution_count": 45,
   "metadata": {
    "collapsed": true
   },
   "outputs": [],
   "source": [
    "schmelts = ['schmelt05-16.csv', 'schmelt09-16.csv', 'schmelt11-15.csv', \n",
    "            'schmelt13-16.csv', 'schmelt96-16.csv']"
   ]
  },
  {
   "cell_type": "code",
   "execution_count": 46,
   "metadata": {
    "collapsed": true
   },
   "outputs": [],
   "source": [
    "clust = pd.read_csv('./schma_data/clusterAssignments.csv')\n",
    "clust.drop(['Unnamed: 0'], axis=1, inplace=True)"
   ]
  },
  {
   "cell_type": "code",
   "execution_count": 47,
   "metadata": {
    "collapsed": true,
    "scrolled": true
   },
   "outputs": [],
   "source": [
    "for cv in schmelts:\n",
    "    dfsch = pd.read_csv('./schma_data/{}'.format(cv))\n",
    "    df_tmp = pd.merge(dfsch, df_, on='BNLONG', how='left')\n",
    "    df_tmp = pd.merge(df_tmp, clust, on='BNLONG', how='left')\n",
    "    df_tmp.to_csv('./schma_data/{}'.format(cv), index=False)"
   ]
  },
  {
   "cell_type": "code",
   "execution_count": null,
   "metadata": {
    "collapsed": true
   },
   "outputs": [],
   "source": []
  }
 ],
 "metadata": {
  "kernelspec": {
   "display_name": "Python 3",
   "language": "python",
   "name": "python3"
  },
  "language_info": {
   "codemirror_mode": {
    "name": "ipython",
    "version": 3
   },
   "file_extension": ".py",
   "mimetype": "text/x-python",
   "name": "python",
   "nbconvert_exporter": "python",
   "pygments_lexer": "ipython3",
   "version": "3.6.2"
  }
 },
 "nbformat": 4,
 "nbformat_minor": 2
}
